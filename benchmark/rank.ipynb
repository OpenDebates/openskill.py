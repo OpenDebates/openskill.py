{
 "cells": [
  {
   "cell_type": "markdown",
   "id": "74a03aae",
   "metadata": {
    "papermill": {
     "duration": 0.010552,
     "end_time": "2024-01-05T17:48:11.325694",
     "exception": false,
     "start_time": "2024-01-05T17:48:11.315142",
     "status": "completed"
    },
    "tags": []
   },
   "source": [
    "## Rank Accuracy Benchmarks\n",
    "This is a reproducible benchmark that checks the accuracy of [openskill.py](https://openskill.me/) against a large dataset of PUBG matches.\n",
    "\n",
    "Let's start by importing the necessary libraries:"
   ]
  },
  {
   "cell_type": "code",
   "execution_count": 1,
   "id": "e817211f",
   "metadata": {
    "execution": {
     "iopub.execute_input": "2024-01-05T17:48:11.348024Z",
     "iopub.status.busy": "2024-01-05T17:48:11.347570Z",
     "iopub.status.idle": "2024-01-05T17:48:28.890234Z",
     "shell.execute_reply": "2024-01-05T17:48:28.888528Z"
    },
    "papermill": {
     "duration": 17.556887,
     "end_time": "2024-01-05T17:48:28.892860",
     "exception": false,
     "start_time": "2024-01-05T17:48:11.335973",
     "status": "completed"
    },
    "tags": []
   },
   "outputs": [
    {
     "name": "stdout",
     "output_type": "stream",
     "text": [
      "Requirement already satisfied: polars in /opt/conda/lib/python3.10/site-packages (0.19.19)\r\n",
      "Collecting rbo\r\n",
      "  Downloading rbo-0.1.3-py3-none-any.whl (7.8 kB)\r\n",
      "Requirement already satisfied: rich in /opt/conda/lib/python3.10/site-packages (13.5.2)\r\n",
      "Requirement already satisfied: numpy in /opt/conda/lib/python3.10/site-packages (1.24.3)\r\n",
      "Requirement already satisfied: tqdm in /opt/conda/lib/python3.10/site-packages (4.66.1)\r\n",
      "Requirement already satisfied: pooch in /opt/conda/lib/python3.10/site-packages (1.8.0)\r\n",
      "Collecting openskill\r\n",
      "  Obtaining dependency information for openskill from https://files.pythonhosted.org/packages/11/af/083022f27cda2608c1ee8b32e759d813b056e1540269b0ae0bbc86226fcb/openskill-5.1.0-py3-none-any.whl.metadata\r\n",
      "  Downloading openskill-5.1.0-py3-none-any.whl.metadata (5.6 kB)\r\n",
      "Requirement already satisfied: ipywidgets in /opt/conda/lib/python3.10/site-packages (7.7.1)\r\n",
      "Requirement already satisfied: markdown-it-py>=2.2.0 in /opt/conda/lib/python3.10/site-packages (from rich) (3.0.0)\r\n",
      "Requirement already satisfied: pygments<3.0.0,>=2.13.0 in /opt/conda/lib/python3.10/site-packages (from rich) (2.16.1)\r\n",
      "Requirement already satisfied: platformdirs>=2.5.0 in /opt/conda/lib/python3.10/site-packages (from pooch) (4.1.0)\r\n",
      "Requirement already satisfied: packaging>=20.0 in /opt/conda/lib/python3.10/site-packages (from pooch) (21.3)\r\n",
      "Requirement already satisfied: requests>=2.19.0 in /opt/conda/lib/python3.10/site-packages (from pooch) (2.31.0)\r\n",
      "Requirement already satisfied: ipykernel>=4.5.1 in /opt/conda/lib/python3.10/site-packages (from ipywidgets) (6.25.1)\r\n",
      "Requirement already satisfied: ipython-genutils~=0.2.0 in /opt/conda/lib/python3.10/site-packages (from ipywidgets) (0.2.0)\r\n",
      "Requirement already satisfied: traitlets>=4.3.1 in /opt/conda/lib/python3.10/site-packages (from ipywidgets) (5.9.0)\r\n",
      "Requirement already satisfied: widgetsnbextension~=3.6.0 in /opt/conda/lib/python3.10/site-packages (from ipywidgets) (3.6.6)\r\n",
      "Requirement already satisfied: ipython>=4.0.0 in /opt/conda/lib/python3.10/site-packages (from ipywidgets) (8.14.0)\r\n",
      "Requirement already satisfied: jupyterlab-widgets>=1.0.0 in /opt/conda/lib/python3.10/site-packages (from ipywidgets) (3.0.8)\r\n",
      "Requirement already satisfied: comm>=0.1.1 in /opt/conda/lib/python3.10/site-packages (from ipykernel>=4.5.1->ipywidgets) (0.1.4)\r\n",
      "Requirement already satisfied: debugpy>=1.6.5 in /opt/conda/lib/python3.10/site-packages (from ipykernel>=4.5.1->ipywidgets) (1.6.7.post1)\r\n",
      "Requirement already satisfied: jupyter-client>=6.1.12 in /opt/conda/lib/python3.10/site-packages (from ipykernel>=4.5.1->ipywidgets) (7.4.9)\r\n",
      "Requirement already satisfied: jupyter-core!=5.0.*,>=4.12 in /opt/conda/lib/python3.10/site-packages (from ipykernel>=4.5.1->ipywidgets) (5.3.1)\r\n",
      "Requirement already satisfied: matplotlib-inline>=0.1 in /opt/conda/lib/python3.10/site-packages (from ipykernel>=4.5.1->ipywidgets) (0.1.6)\r\n",
      "Requirement already satisfied: nest-asyncio in /opt/conda/lib/python3.10/site-packages (from ipykernel>=4.5.1->ipywidgets) (1.5.6)\r\n",
      "Requirement already satisfied: psutil in /opt/conda/lib/python3.10/site-packages (from ipykernel>=4.5.1->ipywidgets) (5.9.3)\r\n",
      "Requirement already satisfied: pyzmq>=20 in /opt/conda/lib/python3.10/site-packages (from ipykernel>=4.5.1->ipywidgets) (24.0.1)\r\n",
      "Requirement already satisfied: tornado>=6.1 in /opt/conda/lib/python3.10/site-packages (from ipykernel>=4.5.1->ipywidgets) (6.3.3)\r\n",
      "Requirement already satisfied: backcall in /opt/conda/lib/python3.10/site-packages (from ipython>=4.0.0->ipywidgets) (0.2.0)\r\n",
      "Requirement already satisfied: decorator in /opt/conda/lib/python3.10/site-packages (from ipython>=4.0.0->ipywidgets) (5.1.1)\r\n",
      "Requirement already satisfied: jedi>=0.16 in /opt/conda/lib/python3.10/site-packages (from ipython>=4.0.0->ipywidgets) (0.19.0)\r\n",
      "Requirement already satisfied: pickleshare in /opt/conda/lib/python3.10/site-packages (from ipython>=4.0.0->ipywidgets) (0.7.5)\r\n",
      "Requirement already satisfied: prompt-toolkit!=3.0.37,<3.1.0,>=3.0.30 in /opt/conda/lib/python3.10/site-packages (from ipython>=4.0.0->ipywidgets) (3.0.39)\r\n",
      "Requirement already satisfied: stack-data in /opt/conda/lib/python3.10/site-packages (from ipython>=4.0.0->ipywidgets) (0.6.2)\r\n",
      "Requirement already satisfied: pexpect>4.3 in /opt/conda/lib/python3.10/site-packages (from ipython>=4.0.0->ipywidgets) (4.8.0)\r\n",
      "Requirement already satisfied: mdurl~=0.1 in /opt/conda/lib/python3.10/site-packages (from markdown-it-py>=2.2.0->rich) (0.1.2)\r\n",
      "Requirement already satisfied: pyparsing!=3.0.5,>=2.0.2 in /opt/conda/lib/python3.10/site-packages (from packaging>=20.0->pooch) (3.0.9)\r\n",
      "Requirement already satisfied: charset-normalizer<4,>=2 in /opt/conda/lib/python3.10/site-packages (from requests>=2.19.0->pooch) (3.2.0)\r\n",
      "Requirement already satisfied: idna<4,>=2.5 in /opt/conda/lib/python3.10/site-packages (from requests>=2.19.0->pooch) (3.4)\r\n",
      "Requirement already satisfied: urllib3<3,>=1.21.1 in /opt/conda/lib/python3.10/site-packages (from requests>=2.19.0->pooch) (1.26.15)\r\n",
      "Requirement already satisfied: certifi>=2017.4.17 in /opt/conda/lib/python3.10/site-packages (from requests>=2.19.0->pooch) (2023.11.17)\r\n",
      "Requirement already satisfied: notebook>=4.4.1 in /opt/conda/lib/python3.10/site-packages (from widgetsnbextension~=3.6.0->ipywidgets) (6.5.5)\r\n",
      "Requirement already satisfied: parso<0.9.0,>=0.8.3 in /opt/conda/lib/python3.10/site-packages (from jedi>=0.16->ipython>=4.0.0->ipywidgets) (0.8.3)\r\n",
      "Requirement already satisfied: entrypoints in /opt/conda/lib/python3.10/site-packages (from jupyter-client>=6.1.12->ipykernel>=4.5.1->ipywidgets) (0.4)\r\n",
      "Requirement already satisfied: python-dateutil>=2.8.2 in /opt/conda/lib/python3.10/site-packages (from jupyter-client>=6.1.12->ipykernel>=4.5.1->ipywidgets) (2.8.2)\r\n",
      "Requirement already satisfied: jinja2 in /opt/conda/lib/python3.10/site-packages (from notebook>=4.4.1->widgetsnbextension~=3.6.0->ipywidgets) (3.1.2)\r\n",
      "Requirement already satisfied: argon2-cffi in /opt/conda/lib/python3.10/site-packages (from notebook>=4.4.1->widgetsnbextension~=3.6.0->ipywidgets) (21.3.0)\r\n",
      "Requirement already satisfied: nbformat in /opt/conda/lib/python3.10/site-packages (from notebook>=4.4.1->widgetsnbextension~=3.6.0->ipywidgets) (5.9.2)\r\n",
      "Requirement already satisfied: nbconvert>=5 in /opt/conda/lib/python3.10/site-packages (from notebook>=4.4.1->widgetsnbextension~=3.6.0->ipywidgets) (6.4.5)\r\n",
      "Requirement already satisfied: Send2Trash>=1.8.0 in /opt/conda/lib/python3.10/site-packages (from notebook>=4.4.1->widgetsnbextension~=3.6.0->ipywidgets) (1.8.2)\r\n",
      "Requirement already satisfied: terminado>=0.8.3 in /opt/conda/lib/python3.10/site-packages (from notebook>=4.4.1->widgetsnbextension~=3.6.0->ipywidgets) (0.17.1)\r\n",
      "Requirement already satisfied: prometheus-client in /opt/conda/lib/python3.10/site-packages (from notebook>=4.4.1->widgetsnbextension~=3.6.0->ipywidgets) (0.17.1)\r\n",
      "Requirement already satisfied: nbclassic>=0.4.7 in /opt/conda/lib/python3.10/site-packages (from notebook>=4.4.1->widgetsnbextension~=3.6.0->ipywidgets) (1.0.0)\r\n",
      "Requirement already satisfied: ptyprocess>=0.5 in /opt/conda/lib/python3.10/site-packages (from pexpect>4.3->ipython>=4.0.0->ipywidgets) (0.7.0)\r\n",
      "Requirement already satisfied: wcwidth in /opt/conda/lib/python3.10/site-packages (from prompt-toolkit!=3.0.37,<3.1.0,>=3.0.30->ipython>=4.0.0->ipywidgets) (0.2.6)\r\n",
      "Requirement already satisfied: executing>=1.2.0 in /opt/conda/lib/python3.10/site-packages (from stack-data->ipython>=4.0.0->ipywidgets) (1.2.0)\r\n",
      "Requirement already satisfied: asttokens>=2.1.0 in /opt/conda/lib/python3.10/site-packages (from stack-data->ipython>=4.0.0->ipywidgets) (2.2.1)\r\n",
      "Requirement already satisfied: pure-eval in /opt/conda/lib/python3.10/site-packages (from stack-data->ipython>=4.0.0->ipywidgets) (0.2.2)\r\n",
      "Requirement already satisfied: six in /opt/conda/lib/python3.10/site-packages (from asttokens>=2.1.0->stack-data->ipython>=4.0.0->ipywidgets) (1.16.0)\r\n",
      "Requirement already satisfied: jupyter-server>=1.8 in /opt/conda/lib/python3.10/site-packages (from nbclassic>=0.4.7->notebook>=4.4.1->widgetsnbextension~=3.6.0->ipywidgets) (2.12.1)\r\n",
      "Requirement already satisfied: notebook-shim>=0.2.3 in /opt/conda/lib/python3.10/site-packages (from nbclassic>=0.4.7->notebook>=4.4.1->widgetsnbextension~=3.6.0->ipywidgets) (0.2.3)\r\n",
      "Requirement already satisfied: mistune<2,>=0.8.1 in /opt/conda/lib/python3.10/site-packages (from nbconvert>=5->notebook>=4.4.1->widgetsnbextension~=3.6.0->ipywidgets) (0.8.4)\r\n",
      "Requirement already satisfied: jupyterlab-pygments in /opt/conda/lib/python3.10/site-packages (from nbconvert>=5->notebook>=4.4.1->widgetsnbextension~=3.6.0->ipywidgets) (0.2.2)\r\n",
      "Requirement already satisfied: bleach in /opt/conda/lib/python3.10/site-packages (from nbconvert>=5->notebook>=4.4.1->widgetsnbextension~=3.6.0->ipywidgets) (6.0.0)\r\n",
      "Requirement already satisfied: pandocfilters>=1.4.1 in /opt/conda/lib/python3.10/site-packages (from nbconvert>=5->notebook>=4.4.1->widgetsnbextension~=3.6.0->ipywidgets) (1.5.0)\r\n",
      "Requirement already satisfied: testpath in /opt/conda/lib/python3.10/site-packages (from nbconvert>=5->notebook>=4.4.1->widgetsnbextension~=3.6.0->ipywidgets) (0.6.0)\r\n",
      "Requirement already satisfied: defusedxml in /opt/conda/lib/python3.10/site-packages (from nbconvert>=5->notebook>=4.4.1->widgetsnbextension~=3.6.0->ipywidgets) (0.7.1)\r\n",
      "Requirement already satisfied: beautifulsoup4 in /opt/conda/lib/python3.10/site-packages (from nbconvert>=5->notebook>=4.4.1->widgetsnbextension~=3.6.0->ipywidgets) (4.12.2)\r\n",
      "Requirement already satisfied: nbclient<0.6.0,>=0.5.0 in /opt/conda/lib/python3.10/site-packages (from nbconvert>=5->notebook>=4.4.1->widgetsnbextension~=3.6.0->ipywidgets) (0.5.13)\r\n",
      "Requirement already satisfied: MarkupSafe>=2.0 in /opt/conda/lib/python3.10/site-packages (from nbconvert>=5->notebook>=4.4.1->widgetsnbextension~=3.6.0->ipywidgets) (2.1.3)\r\n",
      "Requirement already satisfied: fastjsonschema in /opt/conda/lib/python3.10/site-packages (from nbformat->notebook>=4.4.1->widgetsnbextension~=3.6.0->ipywidgets) (2.18.0)\r\n",
      "Requirement already satisfied: jsonschema>=2.6 in /opt/conda/lib/python3.10/site-packages (from nbformat->notebook>=4.4.1->widgetsnbextension~=3.6.0->ipywidgets) (4.19.0)\r\n",
      "Requirement already satisfied: argon2-cffi-bindings in /opt/conda/lib/python3.10/site-packages (from argon2-cffi->notebook>=4.4.1->widgetsnbextension~=3.6.0->ipywidgets) (21.2.0)\r\n",
      "Requirement already satisfied: attrs>=22.2.0 in /opt/conda/lib/python3.10/site-packages (from jsonschema>=2.6->nbformat->notebook>=4.4.1->widgetsnbextension~=3.6.0->ipywidgets) (23.1.0)\r\n",
      "Requirement already satisfied: jsonschema-specifications>=2023.03.6 in /opt/conda/lib/python3.10/site-packages (from jsonschema>=2.6->nbformat->notebook>=4.4.1->widgetsnbextension~=3.6.0->ipywidgets) (2023.7.1)\r\n",
      "Requirement already satisfied: referencing>=0.28.4 in /opt/conda/lib/python3.10/site-packages (from jsonschema>=2.6->nbformat->notebook>=4.4.1->widgetsnbextension~=3.6.0->ipywidgets) (0.30.2)\r\n",
      "Requirement already satisfied: rpds-py>=0.7.1 in /opt/conda/lib/python3.10/site-packages (from jsonschema>=2.6->nbformat->notebook>=4.4.1->widgetsnbextension~=3.6.0->ipywidgets) (0.9.2)\r\n",
      "Requirement already satisfied: anyio>=3.1.0 in /opt/conda/lib/python3.10/site-packages (from jupyter-server>=1.8->nbclassic>=0.4.7->notebook>=4.4.1->widgetsnbextension~=3.6.0->ipywidgets) (3.7.1)\r\n",
      "Requirement already satisfied: jupyter-events>=0.9.0 in /opt/conda/lib/python3.10/site-packages (from jupyter-server>=1.8->nbclassic>=0.4.7->notebook>=4.4.1->widgetsnbextension~=3.6.0->ipywidgets) (0.9.0)\r\n",
      "Requirement already satisfied: jupyter-server-terminals in /opt/conda/lib/python3.10/site-packages (from jupyter-server>=1.8->nbclassic>=0.4.7->notebook>=4.4.1->widgetsnbextension~=3.6.0->ipywidgets) (0.4.4)\r\n",
      "Requirement already satisfied: overrides in /opt/conda/lib/python3.10/site-packages (from jupyter-server>=1.8->nbclassic>=0.4.7->notebook>=4.4.1->widgetsnbextension~=3.6.0->ipywidgets) (6.5.0)\r\n",
      "Requirement already satisfied: websocket-client in /opt/conda/lib/python3.10/site-packages (from jupyter-server>=1.8->nbclassic>=0.4.7->notebook>=4.4.1->widgetsnbextension~=3.6.0->ipywidgets) (1.6.2)\r\n",
      "Requirement already satisfied: cffi>=1.0.1 in /opt/conda/lib/python3.10/site-packages (from argon2-cffi-bindings->argon2-cffi->notebook>=4.4.1->widgetsnbextension~=3.6.0->ipywidgets) (1.15.1)\r\n",
      "Requirement already satisfied: soupsieve>1.2 in /opt/conda/lib/python3.10/site-packages (from beautifulsoup4->nbconvert>=5->notebook>=4.4.1->widgetsnbextension~=3.6.0->ipywidgets) (2.3.2.post1)\r\n",
      "Requirement already satisfied: webencodings in /opt/conda/lib/python3.10/site-packages (from bleach->nbconvert>=5->notebook>=4.4.1->widgetsnbextension~=3.6.0->ipywidgets) (0.5.1)\r\n",
      "Requirement already satisfied: sniffio>=1.1 in /opt/conda/lib/python3.10/site-packages (from anyio>=3.1.0->jupyter-server>=1.8->nbclassic>=0.4.7->notebook>=4.4.1->widgetsnbextension~=3.6.0->ipywidgets) (1.3.0)\r\n",
      "Requirement already satisfied: exceptiongroup in /opt/conda/lib/python3.10/site-packages (from anyio>=3.1.0->jupyter-server>=1.8->nbclassic>=0.4.7->notebook>=4.4.1->widgetsnbextension~=3.6.0->ipywidgets) (1.1.3)\r\n",
      "Requirement already satisfied: pycparser in /opt/conda/lib/python3.10/site-packages (from cffi>=1.0.1->argon2-cffi-bindings->argon2-cffi->notebook>=4.4.1->widgetsnbextension~=3.6.0->ipywidgets) (2.21)\r\n",
      "Requirement already satisfied: python-json-logger>=2.0.4 in /opt/conda/lib/python3.10/site-packages (from jupyter-events>=0.9.0->jupyter-server>=1.8->nbclassic>=0.4.7->notebook>=4.4.1->widgetsnbextension~=3.6.0->ipywidgets) (2.0.7)\r\n",
      "Requirement already satisfied: pyyaml>=5.3 in /opt/conda/lib/python3.10/site-packages (from jupyter-events>=0.9.0->jupyter-server>=1.8->nbclassic>=0.4.7->notebook>=4.4.1->widgetsnbextension~=3.6.0->ipywidgets) (6.0.1)\r\n",
      "Requirement already satisfied: rfc3339-validator in /opt/conda/lib/python3.10/site-packages (from jupyter-events>=0.9.0->jupyter-server>=1.8->nbclassic>=0.4.7->notebook>=4.4.1->widgetsnbextension~=3.6.0->ipywidgets) (0.1.4)\r\n",
      "Requirement already satisfied: rfc3986-validator>=0.1.1 in /opt/conda/lib/python3.10/site-packages (from jupyter-events>=0.9.0->jupyter-server>=1.8->nbclassic>=0.4.7->notebook>=4.4.1->widgetsnbextension~=3.6.0->ipywidgets) (0.1.1)\r\n",
      "Requirement already satisfied: fqdn in /opt/conda/lib/python3.10/site-packages (from jsonschema>=2.6->nbformat->notebook>=4.4.1->widgetsnbextension~=3.6.0->ipywidgets) (1.5.1)\r\n",
      "Requirement already satisfied: isoduration in /opt/conda/lib/python3.10/site-packages (from jsonschema>=2.6->nbformat->notebook>=4.4.1->widgetsnbextension~=3.6.0->ipywidgets) (20.11.0)\r\n",
      "Requirement already satisfied: jsonpointer>1.13 in /opt/conda/lib/python3.10/site-packages (from jsonschema>=2.6->nbformat->notebook>=4.4.1->widgetsnbextension~=3.6.0->ipywidgets) (2.0)\r\n",
      "Requirement already satisfied: uri-template in /opt/conda/lib/python3.10/site-packages (from jsonschema>=2.6->nbformat->notebook>=4.4.1->widgetsnbextension~=3.6.0->ipywidgets) (1.3.0)\r\n",
      "Requirement already satisfied: webcolors>=1.11 in /opt/conda/lib/python3.10/site-packages (from jsonschema>=2.6->nbformat->notebook>=4.4.1->widgetsnbextension~=3.6.0->ipywidgets) (1.13)\r\n",
      "Requirement already satisfied: arrow>=0.15.0 in /opt/conda/lib/python3.10/site-packages (from isoduration->jsonschema>=2.6->nbformat->notebook>=4.4.1->widgetsnbextension~=3.6.0->ipywidgets) (1.2.3)\r\n",
      "Downloading openskill-5.1.0-py3-none-any.whl (45 kB)\r\n",
      "\u001b[2K   \u001b[90m━━━━━━━━━━━━━━━━━━━━━━━━━━━━━━━━━━━━━━━━\u001b[0m \u001b[32m45.7/45.7 kB\u001b[0m \u001b[31m3.3 MB/s\u001b[0m eta \u001b[36m0:00:00\u001b[0m\r\n",
      "\u001b[?25hInstalling collected packages: rbo, openskill\r\n",
      "Successfully installed openskill-5.1.0 rbo-0.1.3\r\n",
      "Note: you may need to restart the kernel to use updated packages.\n"
     ]
    }
   ],
   "source": [
    "%pip install polars rbo rich numpy tqdm pooch openskill ipywidgets"
   ]
  },
  {
   "cell_type": "markdown",
   "id": "a40b0532",
   "metadata": {
    "papermill": {
     "duration": 0.013519,
     "end_time": "2024-01-05T17:48:28.919719",
     "exception": false,
     "start_time": "2024-01-05T17:48:28.906200",
     "status": "completed"
    },
    "tags": []
   },
   "source": [
    "## Import Libraries\n",
    "We going to import polars to do the data loading and rich to display things in user friendly format.\n",
    "We are also going to import ipywidget for native iteractivity within the browser."
   ]
  },
  {
   "cell_type": "code",
   "execution_count": 2,
   "id": "acd59230",
   "metadata": {
    "execution": {
     "iopub.execute_input": "2024-01-05T17:48:28.948853Z",
     "iopub.status.busy": "2024-01-05T17:48:28.948374Z",
     "iopub.status.idle": "2024-01-05T17:48:29.453132Z",
     "shell.execute_reply": "2024-01-05T17:48:29.451956Z"
    },
    "papermill": {
     "duration": 0.522727,
     "end_time": "2024-01-05T17:48:29.456244",
     "exception": false,
     "start_time": "2024-01-05T17:48:28.933517",
     "status": "completed"
    },
    "tags": []
   },
   "outputs": [],
   "source": [
    "import gc\n",
    "from dataclasses import dataclass\n",
    "from typing import Dict\n",
    "\n",
    "import ipywidgets as widgets\n",
    "import numpy as np\n",
    "import polars as pl\n",
    "import rich\n",
    "from rbo import rbo\n",
    "from rich.table import Table\n",
    "from tqdm.notebook import tqdm\n",
    "\n",
    "import openskill\n",
    "from openskill.models import (\n",
    "    BradleyTerryFull,\n",
    "    BradleyTerryPart,\n",
    "    PlackettLuce,\n",
    "    ThurstoneMostellerFull,\n",
    "    ThurstoneMostellerPart,\n",
    ")\n",
    "\n",
    "from pooch import DOIDownloader\n",
    "from pathlib import Path"
   ]
  },
  {
   "cell_type": "markdown",
   "id": "024963b5",
   "metadata": {
    "papermill": {
     "duration": 0.012766,
     "end_time": "2024-01-05T17:48:29.482568",
     "exception": false,
     "start_time": "2024-01-05T17:48:29.469802",
     "status": "completed"
    },
    "tags": []
   },
   "source": [
    "## Check OpenSkill Version"
   ]
  },
  {
   "cell_type": "code",
   "execution_count": 3,
   "id": "cd9f44b6",
   "metadata": {
    "execution": {
     "iopub.execute_input": "2024-01-05T17:48:29.510423Z",
     "iopub.status.busy": "2024-01-05T17:48:29.510005Z",
     "iopub.status.idle": "2024-01-05T17:48:29.516404Z",
     "shell.execute_reply": "2024-01-05T17:48:29.515140Z"
    },
    "papermill": {
     "duration": 0.023287,
     "end_time": "2024-01-05T17:48:29.518914",
     "exception": false,
     "start_time": "2024-01-05T17:48:29.495627",
     "status": "completed"
    },
    "tags": []
   },
   "outputs": [
    {
     "name": "stdout",
     "output_type": "stream",
     "text": [
      "5.1.0\n"
     ]
    }
   ],
   "source": [
    "print(openskill.__version__)"
   ]
  },
  {
   "cell_type": "markdown",
   "id": "247b227c",
   "metadata": {
    "papermill": {
     "duration": 0.012835,
     "end_time": "2024-01-05T17:48:29.545435",
     "exception": false,
     "start_time": "2024-01-05T17:48:29.532600",
     "status": "completed"
    },
    "tags": []
   },
   "source": [
    "## Download Data\n",
    "The data we need is not available, yet. So let's download it.\n",
    "It's available [here](https://zenodo.org/records/10342317).\n"
   ]
  },
  {
   "cell_type": "code",
   "execution_count": 4,
   "id": "c44c713c",
   "metadata": {
    "collapsed": false,
    "execution": {
     "iopub.execute_input": "2024-01-05T17:48:29.575001Z",
     "iopub.status.busy": "2024-01-05T17:48:29.574557Z",
     "iopub.status.idle": "2024-01-05T17:49:18.766080Z",
     "shell.execute_reply": "2024-01-05T17:49:18.764879Z"
    },
    "jupyter": {
     "outputs_hidden": false
    },
    "papermill": {
     "duration": 49.21061,
     "end_time": "2024-01-05T17:49:18.769359",
     "exception": false,
     "start_time": "2024-01-05T17:48:29.558749",
     "status": "completed"
    },
    "tags": []
   },
   "outputs": [
    {
     "name": "stderr",
     "output_type": "stream",
     "text": [
      "100%|█████████████████████████████████████| 1.64G/1.64G [00:00<00:00, 1.21TB/s]\n",
      "100%|████████████████████████████████████████| 369M/369M [00:00<00:00, 221GB/s]\n"
     ]
    }
   ],
   "source": [
    "downloader = DOIDownloader(progressbar=True)\n",
    "\n",
    "working_directory = Path.cwd()\n",
    "data_directory = Path(working_directory / Path(\"data\"))\n",
    "data_directory.mkdir(exist_ok=True)\n",
    "downloader(\n",
    "    url=\"doi:10.5281/zenodo.10342317/train.parquet\",\n",
    "    output_file=data_directory / \"train.parquet\",\n",
    "    pooch=None,\n",
    ")\n",
    "downloader(\n",
    "    url=\"doi:10.5281/zenodo.10342317/test.parquet\",\n",
    "    output_file=data_directory / \"test.parquet\",\n",
    "    pooch=None,\n",
    ")"
   ]
  },
  {
   "cell_type": "markdown",
   "id": "c192c14c",
   "metadata": {
    "papermill": {
     "duration": 0.054309,
     "end_time": "2024-01-05T17:49:18.879022",
     "exception": false,
     "start_time": "2024-01-05T17:49:18.824713",
     "status": "completed"
    },
    "tags": []
   },
   "source": [
    "## Define Data Containers\n",
    "We need to define some data container classes. We shall use dataclasses for this purpose with slots enabled."
   ]
  },
  {
   "cell_type": "code",
   "execution_count": 5,
   "id": "7bb7dfda",
   "metadata": {
    "execution": {
     "iopub.execute_input": "2024-01-05T17:49:18.992275Z",
     "iopub.status.busy": "2024-01-05T17:49:18.991890Z",
     "iopub.status.idle": "2024-01-05T17:49:19.000945Z",
     "shell.execute_reply": "2024-01-05T17:49:18.999573Z"
    },
    "papermill": {
     "duration": 0.068831,
     "end_time": "2024-01-05T17:49:19.003330",
     "exception": false,
     "start_time": "2024-01-05T17:49:18.934499",
     "status": "completed"
    },
    "tags": []
   },
   "outputs": [],
   "source": [
    "@dataclass(slots=True)\n",
    "class Player:\n",
    "    name: str\n",
    "    kill_ratio: float\n",
    "    assist_ratio: float\n",
    "\n",
    "\n",
    "@dataclass(slots=True)\n",
    "class Team:\n",
    "    id: int\n",
    "    match_id: str\n",
    "    rank: int\n",
    "    players: Dict[str, Player]\n",
    "\n",
    "\n",
    "@dataclass(slots=True)\n",
    "class Match:\n",
    "    id: str\n",
    "    teams: Dict[int, Team]"
   ]
  },
  {
   "cell_type": "markdown",
   "id": "444e165a",
   "metadata": {
    "papermill": {
     "duration": 0.117555,
     "end_time": "2024-01-05T17:49:19.178159",
     "exception": false,
     "start_time": "2024-01-05T17:49:19.060604",
     "status": "completed"
    },
    "tags": []
   },
   "source": [
    "## Select Model\n",
    "OpenSkill comes with 5 models. Let's pick one for this benchmark."
   ]
  },
  {
   "cell_type": "code",
   "execution_count": 6,
   "id": "33076efb",
   "metadata": {
    "execution": {
     "iopub.execute_input": "2024-01-05T17:49:19.290419Z",
     "iopub.status.busy": "2024-01-05T17:49:19.290025Z",
     "iopub.status.idle": "2024-01-05T17:49:19.302330Z",
     "shell.execute_reply": "2024-01-05T17:49:19.301125Z"
    },
    "papermill": {
     "duration": 0.072727,
     "end_time": "2024-01-05T17:49:19.306077",
     "exception": false,
     "start_time": "2024-01-05T17:49:19.233350",
     "status": "completed"
    },
    "tags": []
   },
   "outputs": [
    {
     "data": {
      "application/vnd.jupyter.widget-view+json": {
       "model_id": "fe3b31658a6244edb2e42ebe001d5635",
       "version_major": 2,
       "version_minor": 0
      },
      "text/plain": [
       "Select(description='Model:', index=2, options=('BradleyTerryFull', 'BradleyTerryPart', 'PlackettLuce', 'Thurst…"
      ]
     },
     "metadata": {},
     "output_type": "display_data"
    }
   ],
   "source": [
    "models = [\n",
    "    BradleyTerryFull,\n",
    "    BradleyTerryPart,\n",
    "    PlackettLuce,\n",
    "    ThurstoneMostellerFull,\n",
    "    ThurstoneMostellerPart,\n",
    "]\n",
    "\n",
    "widget = widgets.Select(\n",
    "    options=[m.__name__ for m in models],\n",
    "    value=PlackettLuce.__name__,\n",
    "    # rows=10,\n",
    "    description=\"Model:\",\n",
    "    disabled=False,\n",
    ")\n",
    "display(widget)"
   ]
  },
  {
   "cell_type": "markdown",
   "id": "dfbe5a2f",
   "metadata": {
    "papermill": {
     "duration": 0.05517,
     "end_time": "2024-01-05T17:49:19.417701",
     "exception": false,
     "start_time": "2024-01-05T17:49:19.362531",
     "status": "completed"
    },
    "tags": []
   },
   "source": [
    "## Initialize Model\n",
    "Let's call the constructor on the model."
   ]
  },
  {
   "cell_type": "code",
   "execution_count": 7,
   "id": "3e8680ee",
   "metadata": {
    "execution": {
     "iopub.execute_input": "2024-01-05T17:49:19.530933Z",
     "iopub.status.busy": "2024-01-05T17:49:19.530546Z",
     "iopub.status.idle": "2024-01-05T17:49:19.536080Z",
     "shell.execute_reply": "2024-01-05T17:49:19.535321Z"
    },
    "papermill": {
     "duration": 0.065809,
     "end_time": "2024-01-05T17:49:19.538989",
     "exception": false,
     "start_time": "2024-01-05T17:49:19.473180",
     "status": "completed"
    },
    "tags": []
   },
   "outputs": [
    {
     "name": "stdout",
     "output_type": "stream",
     "text": [
      "Plackett-Luce Model Parameters: \n",
      "\n",
      "mu: 25.0\n",
      "sigma: 8.333333333333334\n",
      "\n"
     ]
    }
   ],
   "source": [
    "widget.close()\n",
    "m = widget.value\n",
    "m = eval(m)\n",
    "model = m()\n",
    "print(str(model))"
   ]
  },
  {
   "cell_type": "markdown",
   "id": "763153c1",
   "metadata": {
    "papermill": {
     "duration": 0.055859,
     "end_time": "2024-01-05T17:49:19.651977",
     "exception": false,
     "start_time": "2024-01-05T17:49:19.596118",
     "status": "completed"
    },
    "tags": []
   },
   "source": [
    "## Load Data\n",
    "We are going to use the Polars library to lazily scan the parquet files."
   ]
  },
  {
   "cell_type": "code",
   "execution_count": 8,
   "id": "5474a2e5",
   "metadata": {
    "execution": {
     "iopub.execute_input": "2024-01-05T17:49:19.771319Z",
     "iopub.status.busy": "2024-01-05T17:49:19.770066Z",
     "iopub.status.idle": "2024-01-05T17:49:36.698328Z",
     "shell.execute_reply": "2024-01-05T17:49:36.697105Z"
    },
    "papermill": {
     "duration": 16.990606,
     "end_time": "2024-01-05T17:49:36.701748",
     "exception": false,
     "start_time": "2024-01-05T17:49:19.711142",
     "status": "completed"
    },
    "tags": []
   },
   "outputs": [],
   "source": [
    "# Load Data\n",
    "train = pl.scan_parquet(data_directory / \"train.parquet\")\n",
    "test = pl.scan_parquet(data_directory / \"test.parquet\")\n",
    "train = train.collect(streaming=True)"
   ]
  },
  {
   "cell_type": "markdown",
   "id": "c2c4d2ed",
   "metadata": {
    "papermill": {
     "duration": 0.05613,
     "end_time": "2024-01-05T17:49:36.814444",
     "exception": false,
     "start_time": "2024-01-05T17:49:36.758314",
     "status": "completed"
    },
    "tags": []
   },
   "source": [
    "## Optimize Dataframe\n",
    "Let's change the data types to reduce memory usage."
   ]
  },
  {
   "cell_type": "code",
   "execution_count": 9,
   "id": "a1e2f59d",
   "metadata": {
    "execution": {
     "iopub.execute_input": "2024-01-05T17:49:36.929434Z",
     "iopub.status.busy": "2024-01-05T17:49:36.929009Z",
     "iopub.status.idle": "2024-01-05T17:50:11.097296Z",
     "shell.execute_reply": "2024-01-05T17:50:11.095726Z"
    },
    "papermill": {
     "duration": 34.229341,
     "end_time": "2024-01-05T17:50:11.100240",
     "exception": false,
     "start_time": "2024-01-05T17:49:36.870899",
     "status": "completed"
    },
    "tags": []
   },
   "outputs": [
    {
     "name": "stdout",
     "output_type": "stream",
     "text": [
      "Memory usage of dataframe train is 13045.49 MB\n",
      "Memory usage of dataframe train became 3055.21 MB\n"
     ]
    }
   ],
   "source": [
    "def reduce_memory_usage_pl(df, name):\n",
    "    \"\"\"\n",
    "    Reduce memory usage by polars dataframe {df} with name {name} by changing its data types.\n",
    "    Original pandas version of this function:\n",
    "    https://www.kaggle.com/code/arjanso/reducing-dataframe-memory-size-by-65\n",
    "    \"\"\"\n",
    "    print(f\"Memory usage of dataframe {name} is {round(df.estimated_size('mb'), 2)} MB\")\n",
    "    Numeric_Int_types = [pl.Int8, pl.Int16, pl.Int32, pl.Int64]\n",
    "    Numeric_Float_types = [pl.Float32, pl.Float64]\n",
    "    for col in df.columns:\n",
    "        col_type = df[col].dtype\n",
    "        c_min = df[col].min()\n",
    "        c_max = df[col].max()\n",
    "        if col_type in Numeric_Int_types:\n",
    "            if c_min > np.iinfo(np.int8).min and c_max < np.iinfo(np.int8).max:\n",
    "                df = df.with_columns(df[col].cast(pl.Int8))\n",
    "            elif c_min > np.iinfo(np.int16).min and c_max < np.iinfo(np.int16).max:\n",
    "                df = df.with_columns(df[col].cast(pl.Int16))\n",
    "            elif c_min > np.iinfo(np.int32).min and c_max < np.iinfo(np.int32).max:\n",
    "                df = df.with_columns(df[col].cast(pl.Int32))\n",
    "            elif c_min > np.iinfo(np.int64).min and c_max < np.iinfo(np.int64).max:\n",
    "                df = df.with_columns(df[col].cast(pl.Int64))\n",
    "        elif col_type in Numeric_Float_types:\n",
    "            if c_min > np.finfo(np.float32).min and c_max < np.finfo(np.float32).max:\n",
    "                df = df.with_columns(df[col].cast(pl.Float32))\n",
    "            else:\n",
    "                pass\n",
    "        elif col_type == pl.Utf8:\n",
    "            df = df.with_columns(df[col].cast(pl.Categorical))\n",
    "        else:\n",
    "            pass\n",
    "    print(\n",
    "        f\"Memory usage of dataframe {name} became {round(df.estimated_size('mb'), 2)} MB\"\n",
    "    )\n",
    "    return df\n",
    "\n",
    "\n",
    "# Reduce Memory Usage\n",
    "train = reduce_memory_usage_pl(train, \"train\")\n",
    "_ = gc.collect()"
   ]
  },
  {
   "cell_type": "markdown",
   "id": "2cd07fa9",
   "metadata": {
    "papermill": {
     "duration": 0.056742,
     "end_time": "2024-01-05T17:50:11.213208",
     "exception": false,
     "start_time": "2024-01-05T17:50:11.156466",
     "status": "completed"
    },
    "tags": []
   },
   "source": [
    "Let's also hold all rating data in a single variable:"
   ]
  },
  {
   "cell_type": "code",
   "execution_count": 10,
   "id": "31797f91",
   "metadata": {
    "execution": {
     "iopub.execute_input": "2024-01-05T17:50:11.329879Z",
     "iopub.status.busy": "2024-01-05T17:50:11.328479Z",
     "iopub.status.idle": "2024-01-05T17:50:11.334303Z",
     "shell.execute_reply": "2024-01-05T17:50:11.333275Z"
    },
    "papermill": {
     "duration": 0.066249,
     "end_time": "2024-01-05T17:50:11.336587",
     "exception": false,
     "start_time": "2024-01-05T17:50:11.270338",
     "status": "completed"
    },
    "tags": []
   },
   "outputs": [],
   "source": [
    "# Data Container\n",
    "openskill_players = {}"
   ]
  },
  {
   "cell_type": "markdown",
   "id": "8d71c7ba",
   "metadata": {
    "papermill": {
     "duration": 0.056709,
     "end_time": "2024-01-05T17:50:11.449064",
     "exception": false,
     "start_time": "2024-01-05T17:50:11.392355",
     "status": "completed"
    },
    "tags": []
   },
   "source": [
    "## Parse Data for Training Set\n",
    "Let's now parse the training data and put it into our dataclasses."
   ]
  },
  {
   "cell_type": "code",
   "execution_count": 11,
   "id": "19d53e6e",
   "metadata": {
    "execution": {
     "iopub.execute_input": "2024-01-05T17:50:11.568596Z",
     "iopub.status.busy": "2024-01-05T17:50:11.567565Z",
     "iopub.status.idle": "2024-01-05T18:33:41.887049Z",
     "shell.execute_reply": "2024-01-05T18:33:41.885603Z"
    },
    "papermill": {
     "duration": 2610.384693,
     "end_time": "2024-01-05T18:33:41.891888",
     "exception": false,
     "start_time": "2024-01-05T17:50:11.507195",
     "status": "completed"
    },
    "tags": []
   },
   "outputs": [
    {
     "name": "stdout",
     "output_type": "stream",
     "text": [
      "Loading Raw Data from Training Set into Memory\n",
      "Parsing Training Data:\n"
     ]
    },
    {
     "data": {
      "application/vnd.jupyter.widget-view+json": {
       "model_id": "697ad4b76d9f45d5b07681916791d056",
       "version_major": 2,
       "version_minor": 0
      },
      "text/plain": [
       "  0%|          | 0/51704546 [00:00<?, ?it/s]"
      ]
     },
     "metadata": {},
     "output_type": "display_data"
    },
    {
     "name": "stdout",
     "output_type": "stream",
     "text": [
      "Parsed 583975 Training Matches\n"
     ]
    },
    {
     "data": {
      "text/plain": [
       "0"
      ]
     },
     "execution_count": 11,
     "metadata": {},
     "output_type": "execute_result"
    }
   ],
   "source": [
    "print(\"Loading Raw Data from Training Set into Memory\")\n",
    "\n",
    "# Parse Training Data\n",
    "print(\"Parsing Training Data:\")\n",
    "\n",
    "# Get Unique Matches for Training\n",
    "train_size = len(train)\n",
    "\n",
    "# Create a Progress Bar\n",
    "t = tqdm(total=train_size)\n",
    "\n",
    "# Training Data\n",
    "train_matches: Dict[str, Match] = {}\n",
    "\n",
    "for raw_player in train.iter_rows(named=True):\n",
    "    player = Player(\n",
    "        name=raw_player[\"player_name\"],\n",
    "        kill_ratio=raw_player[\"kill_ratio\"],\n",
    "        assist_ratio=raw_player[\"assist_ratio\"],\n",
    "    )\n",
    "\n",
    "    match_id = raw_player[\"match_id\"]\n",
    "    team_id = raw_player[\"team_id\"]\n",
    "    if match_id not in train_matches:\n",
    "        team = Team(\n",
    "            id=raw_player[\"team_id\"],\n",
    "            match_id=raw_player[\"match_id\"],\n",
    "            rank=raw_player[\"team_placement\"],\n",
    "            players={player.name: player},\n",
    "        )\n",
    "\n",
    "        match = Match(id=raw_player[\"match_id\"], teams={team.id: team})\n",
    "    else:\n",
    "        if team_id not in train_matches[match_id].teams:\n",
    "            match = train_matches[match_id]\n",
    "            team = Team(\n",
    "                id=raw_player[\"team_id\"],\n",
    "                match_id=raw_player[\"match_id\"],\n",
    "                rank=raw_player[\"team_placement\"],\n",
    "                players={player.name: player},\n",
    "            )\n",
    "            match.teams[team_id] = team\n",
    "        else:\n",
    "            match = train_matches[match_id]\n",
    "            match.teams[team_id].players[player.name] = player\n",
    "\n",
    "    train_matches[match_id] = match\n",
    "    t.update(1)\n",
    "\n",
    "print(f\"Parsed {len(train_matches)} Training Matches\")\n",
    "gc.collect()"
   ]
  },
  {
   "cell_type": "markdown",
   "id": "4fe1e648",
   "metadata": {
    "papermill": {
     "duration": 0.058576,
     "end_time": "2024-01-05T18:33:42.007870",
     "exception": false,
     "start_time": "2024-01-05T18:33:41.949294",
     "status": "completed"
    },
    "tags": []
   },
   "source": [
    "## Intialize OpenSkill Ratings for Train Set\n",
    "Next let's use the ``model.rating`` method to create new rating objects for each player in the training set."
   ]
  },
  {
   "cell_type": "code",
   "execution_count": 12,
   "id": "36da5e8f",
   "metadata": {
    "execution": {
     "iopub.execute_input": "2024-01-05T18:33:42.124867Z",
     "iopub.status.busy": "2024-01-05T18:33:42.124315Z",
     "iopub.status.idle": "2024-01-05T19:42:05.570392Z",
     "shell.execute_reply": "2024-01-05T19:42:05.568904Z"
    },
    "papermill": {
     "duration": 4103.564795,
     "end_time": "2024-01-05T19:42:05.630573",
     "exception": false,
     "start_time": "2024-01-05T18:33:42.065778",
     "status": "completed"
    },
    "tags": []
   },
   "outputs": [
    {
     "name": "stdout",
     "output_type": "stream",
     "text": [
      "Initializing Players for Training Set:\n"
     ]
    },
    {
     "data": {
      "application/vnd.jupyter.widget-view+json": {
       "model_id": "01125230efdd446e9eaa0114efa5ec76",
       "version_major": 2,
       "version_minor": 0
      },
      "text/plain": [
       "  0%|          | 0/51704546 [00:00<?, ?it/s]"
      ]
     },
     "metadata": {},
     "output_type": "display_data"
    },
    {
     "name": "stdout",
     "output_type": "stream",
     "text": [
      "Rate Training Matches:\n"
     ]
    },
    {
     "data": {
      "application/vnd.jupyter.widget-view+json": {
       "model_id": "a1b3539b889b4f4389593e8ad5e8a08c",
       "version_major": 2,
       "version_minor": 0
      },
      "text/plain": [
       "  0%|          | 0/583975 [00:00<?, ?it/s]"
      ]
     },
     "metadata": {},
     "output_type": "display_data"
    },
    {
     "data": {
      "text/plain": [
       "19"
      ]
     },
     "execution_count": 12,
     "metadata": {},
     "output_type": "execute_result"
    }
   ],
   "source": [
    "# Initialize OpenSkill Players for Training\n",
    "print(\"Initializing Players for Training Set:\")\n",
    "\n",
    "# Create a Progress Bar\n",
    "t = tqdm(total=train_size)\n",
    "\n",
    "for match_id, match in train_matches.items():\n",
    "    for team_id, team in match.teams.items():\n",
    "        for player_name, player in team.players.items():\n",
    "            player_rating = model.rating(name=player_name)\n",
    "            openskill_players[player_name] = player_rating\n",
    "            t.update(1)\n",
    "\n",
    "# Rate OpenSkill Players for Training\n",
    "print(\"Rate Training Matches:\")\n",
    "t = tqdm(total=len(train_matches))\n",
    "\n",
    "for match_id, match in train_matches.items():\n",
    "    teams_to_rate = []\n",
    "    ranks = []\n",
    "    for team_id, team in match.teams.items():\n",
    "        teams = []\n",
    "        ranks.append(team.rank)\n",
    "        for player_name, player in team.players.items():\n",
    "            player_rating = openskill_players[player_name]\n",
    "            teams.append(player_rating)\n",
    "        teams_to_rate.append(teams)\n",
    "\n",
    "    if len(teams_to_rate) > 1:\n",
    "        rated_teams = model.rate(teams=teams_to_rate, ranks=ranks)\n",
    "\n",
    "        for team in rated_teams:\n",
    "            for player in team:\n",
    "                openskill_players[player.name] = player\n",
    "    t.update(1)\n",
    "gc.collect()"
   ]
  },
  {
   "cell_type": "markdown",
   "id": "f8911eed",
   "metadata": {
    "papermill": {
     "duration": 0.058605,
     "end_time": "2024-01-05T19:42:05.747280",
     "exception": false,
     "start_time": "2024-01-05T19:42:05.688675",
     "status": "completed"
    },
    "tags": []
   },
   "source": [
    "## Clear Memory\n",
    "Let's delete some variables so we can save some memory and load the test set."
   ]
  },
  {
   "cell_type": "code",
   "execution_count": 13,
   "id": "de09ab1a",
   "metadata": {
    "execution": {
     "iopub.execute_input": "2024-01-05T19:42:05.868116Z",
     "iopub.status.busy": "2024-01-05T19:42:05.867575Z",
     "iopub.status.idle": "2024-01-05T19:42:45.655862Z",
     "shell.execute_reply": "2024-01-05T19:42:45.654699Z"
    },
    "papermill": {
     "duration": 39.907681,
     "end_time": "2024-01-05T19:42:45.714618",
     "exception": false,
     "start_time": "2024-01-05T19:42:05.806937",
     "status": "completed"
    },
    "tags": []
   },
   "outputs": [
    {
     "name": "stdout",
     "output_type": "stream",
     "text": [
      "Memory usage of dataframe test is 2898.45 MB\n",
      "Memory usage of dataframe test became 688.16 MB\n"
     ]
    },
    {
     "data": {
      "text/plain": [
       "0"
      ]
     },
     "execution_count": 13,
     "metadata": {},
     "output_type": "execute_result"
    }
   ],
   "source": [
    "del train\n",
    "del train_matches\n",
    "gc.collect()\n",
    "\n",
    "test = test.collect(streaming=True)\n",
    "test = reduce_memory_usage_pl(test, \"test\")\n",
    "gc.collect()"
   ]
  },
  {
   "cell_type": "markdown",
   "id": "8c087440",
   "metadata": {
    "papermill": {
     "duration": 0.056864,
     "end_time": "2024-01-05T19:42:45.830344",
     "exception": false,
     "start_time": "2024-01-05T19:42:45.773480",
     "status": "completed"
    },
    "tags": []
   },
   "source": [
    "## Parsing Test Set\n",
    "Now let's do the same thing for the test set and grab the matches."
   ]
  },
  {
   "cell_type": "code",
   "execution_count": 14,
   "id": "0e9d724c",
   "metadata": {
    "execution": {
     "iopub.execute_input": "2024-01-05T19:42:45.946506Z",
     "iopub.status.busy": "2024-01-05T19:42:45.946117Z",
     "iopub.status.idle": "2024-01-05T19:52:54.685613Z",
     "shell.execute_reply": "2024-01-05T19:52:54.684116Z"
    },
    "papermill": {
     "duration": 608.801362,
     "end_time": "2024-01-05T19:52:54.688516",
     "exception": false,
     "start_time": "2024-01-05T19:42:45.887154",
     "status": "completed"
    },
    "tags": []
   },
   "outputs": [
    {
     "name": "stdout",
     "output_type": "stream",
     "text": [
      "Loading Raw Data from Test Set into Memory\n",
      "Parsing Test Data:\n"
     ]
    },
    {
     "data": {
      "application/vnd.jupyter.widget-view+json": {
       "model_id": "8f1ae03d30fb4dfea5b1fee26d7ca3dc",
       "version_major": 2,
       "version_minor": 0
      },
      "text/plain": [
       "  0%|          | 0/11487236 [00:00<?, ?it/s]"
      ]
     },
     "metadata": {},
     "output_type": "display_data"
    }
   ],
   "source": [
    "# Get Unique Matches for Testing\n",
    "print(\"Loading Raw Data from Test Set into Memory\")\n",
    "\n",
    "test_size = len(test)\n",
    "\n",
    "# Parse Data\n",
    "print(\"Parsing Test Data:\")\n",
    "\n",
    "t = tqdm(total=test_size)\n",
    "\n",
    "# Test Data\n",
    "test_matches: Dict[str, Match] = {}\n",
    "\n",
    "for raw_player in test.iter_rows(named=True):\n",
    "    player = Player(\n",
    "        name=raw_player[\"player_name\"],\n",
    "        kill_ratio=raw_player[\"kill_ratio\"],\n",
    "        assist_ratio=raw_player[\"assist_ratio\"],\n",
    "    )\n",
    "\n",
    "    match_id = raw_player[\"match_id\"]\n",
    "    team_id = raw_player[\"team_id\"]\n",
    "    if match_id not in test_matches:\n",
    "        team = Team(\n",
    "            id=raw_player[\"team_id\"],\n",
    "            match_id=raw_player[\"match_id\"],\n",
    "            rank=raw_player[\"team_placement\"],\n",
    "            players={player.name: player},\n",
    "        )\n",
    "\n",
    "        match = Match(id=raw_player[\"match_id\"], teams={team.id: team})\n",
    "    else:\n",
    "        if team_id not in test_matches[match_id].teams:\n",
    "            match = test_matches[match_id]\n",
    "            team = Team(\n",
    "                id=raw_player[\"team_id\"],\n",
    "                match_id=raw_player[\"match_id\"],\n",
    "                rank=raw_player[\"team_placement\"],\n",
    "                players={player.name: player},\n",
    "            )\n",
    "            match.teams[team_id] = team\n",
    "        else:\n",
    "            match = test_matches[match_id]\n",
    "            match.teams[team_id].players[player.name] = player\n",
    "\n",
    "    test_matches[match_id] = match\n",
    "    t.update(1)"
   ]
  },
  {
   "cell_type": "markdown",
   "id": "13466fa8",
   "metadata": {
    "papermill": {
     "duration": 0.059763,
     "end_time": "2024-01-05T19:52:54.807780",
     "exception": false,
     "start_time": "2024-01-05T19:52:54.748017",
     "status": "completed"
    },
    "tags": []
   },
   "source": [
    "## Predict Test Set\n",
    "Let's use the data we trained on to try and predict the test set."
   ]
  },
  {
   "cell_type": "code",
   "execution_count": 15,
   "id": "57f4ef71",
   "metadata": {
    "execution": {
     "iopub.execute_input": "2024-01-05T19:52:54.927117Z",
     "iopub.status.busy": "2024-01-05T19:52:54.926627Z",
     "iopub.status.idle": "2024-01-05T20:09:41.924704Z",
     "shell.execute_reply": "2024-01-05T20:09:41.923414Z"
    },
    "papermill": {
     "duration": 1007.061134,
     "end_time": "2024-01-05T20:09:41.927604",
     "exception": false,
     "start_time": "2024-01-05T19:52:54.866470",
     "status": "completed"
    },
    "tags": []
   },
   "outputs": [
    {
     "name": "stdout",
     "output_type": "stream",
     "text": [
      "Predict Matches in Test Set using OpenSkill:\n"
     ]
    },
    {
     "data": {
      "application/vnd.jupyter.widget-view+json": {
       "model_id": "aa2da0aebf9c44a3ae7d77b596b7e2f7",
       "version_major": 2,
       "version_minor": 0
      },
      "text/plain": [
       "  0%|          | 0/145994 [00:00<?, ?it/s]"
      ]
     },
     "metadata": {},
     "output_type": "display_data"
    }
   ],
   "source": [
    "# Predict OpenSkill Matches\n",
    "print(\"Predict Matches in Test Set using OpenSkill:\")\n",
    "t = tqdm(total=len(test_matches))\n",
    "\n",
    "# Accuracy Trackers\n",
    "rbo_scores = []\n",
    "openskill_correct_predictions = 0\n",
    "openskill_incorrect_predictions = 0\n",
    "\n",
    "for match_id, match in test_matches.items():\n",
    "    teams_to_predict = []\n",
    "    actual_ranks = []\n",
    "    for team_id, team in match.teams.items():\n",
    "        teams = []\n",
    "        actual_ranks.append(team.rank)\n",
    "        for player_name, player in team.players.items():\n",
    "            if player_name in openskill_players:\n",
    "                player_rating = openskill_players[player_name]\n",
    "            else:\n",
    "                player_rating = model.rating(name=player_name)\n",
    "            teams.append(player_rating)\n",
    "        teams_to_predict.append(teams)\n",
    "\n",
    "    if len(teams_to_predict) > 1:\n",
    "        actual_ranks = {_[0]: _[1] for _ in zip(actual_ranks, teams_to_predict)}\n",
    "        predictions = [_[0] for _ in model.predict_rank(teams_to_predict)]\n",
    "        expected_ranks = {_[0]: _[1] for _ in zip(predictions, teams_to_predict)}\n",
    "\n",
    "        try:\n",
    "            actual_ranks = dict(\n",
    "                sorted(\n",
    "                    actual_ranks.items(),\n",
    "                    key=lambda x: [*expected_ranks.values()].index(x[1]),\n",
    "                )\n",
    "            )\n",
    "\n",
    "            ar_index = next(iter(actual_ranks))\n",
    "            er_index = next(iter(expected_ranks))\n",
    "\n",
    "            similarity = rbo.RankingSimilarity(\n",
    "                list(actual_ranks.keys()), list(expected_ranks.keys())\n",
    "            ).rbo_ext()\n",
    "            rbo_scores.append(similarity)\n",
    "\n",
    "            if actual_ranks[ar_index] == expected_ranks[er_index]:\n",
    "                openskill_correct_predictions += 1\n",
    "            else:\n",
    "                openskill_incorrect_predictions += 1\n",
    "        except ValueError:\n",
    "            pass\n",
    "    t.update(1)"
   ]
  },
  {
   "cell_type": "markdown",
   "id": "858f90b1",
   "metadata": {
    "papermill": {
     "duration": 0.058538,
     "end_time": "2024-01-05T20:09:42.045030",
     "exception": false,
     "start_time": "2024-01-05T20:09:41.986492",
     "status": "completed"
    },
    "tags": []
   },
   "source": [
    "## Results\n",
    "Let's print out the result and interpret it."
   ]
  },
  {
   "cell_type": "code",
   "execution_count": 16,
   "id": "5f56d130",
   "metadata": {
    "execution": {
     "iopub.execute_input": "2024-01-05T20:09:42.164718Z",
     "iopub.status.busy": "2024-01-05T20:09:42.164215Z",
     "iopub.status.idle": "2024-01-05T20:09:42.245623Z",
     "shell.execute_reply": "2024-01-05T20:09:42.244364Z"
    },
    "papermill": {
     "duration": 0.145259,
     "end_time": "2024-01-05T20:09:42.248265",
     "exception": false,
     "start_time": "2024-01-05T20:09:42.103006",
     "status": "completed"
    },
    "tags": []
   },
   "outputs": [
    {
     "data": {
      "text/html": [
       "<pre style=\"white-space:pre;overflow-x:auto;line-height:normal;font-family:Menlo,'DejaVu Sans Mono',consolas,'Courier New',monospace\"><span style=\"font-style: italic\">                   Benchmark Results                   </span>\n",
       "┏━━━━━━━━━━━━━━━━━━━━━━━━━━━━━┳━━━━━━━━━━━━━━━━━━━━━━━┓\n",
       "┃<span style=\"font-weight: bold\">                 Information </span>┃<span style=\"font-weight: bold\"> Value                 </span>┃\n",
       "┡━━━━━━━━━━━━━━━━━━━━━━━━━━━━━╇━━━━━━━━━━━━━━━━━━━━━━━┩\n",
       "│<span style=\"color: #008080; text-decoration-color: #008080\">           Available Matches </span>│<span style=\"color: #800080; text-decoration-color: #800080\"> 145994                </span>│\n",
       "│<span style=\"color: #008080; text-decoration-color: #008080\">       PlackettLuce Accuracy </span>│<span style=\"color: #800080; text-decoration-color: #800080\"> 112459/9744 [ 92.03%] </span>│\n",
       "│<span style=\"color: #008080; text-decoration-color: #008080\">  Rank-Biased Overlap Score: </span>│<span style=\"color: #800080; text-decoration-color: #800080\">  64.11                </span>│\n",
       "└─────────────────────────────┴───────────────────────┘\n",
       "</pre>\n"
      ],
      "text/plain": [
       "\u001b[3m                   Benchmark Results                   \u001b[0m\n",
       "┏━━━━━━━━━━━━━━━━━━━━━━━━━━━━━┳━━━━━━━━━━━━━━━━━━━━━━━┓\n",
       "┃\u001b[1m \u001b[0m\u001b[1m                Information\u001b[0m\u001b[1m \u001b[0m┃\u001b[1m \u001b[0m\u001b[1mValue                \u001b[0m\u001b[1m \u001b[0m┃\n",
       "┡━━━━━━━━━━━━━━━━━━━━━━━━━━━━━╇━━━━━━━━━━━━━━━━━━━━━━━┩\n",
       "│\u001b[36m \u001b[0m\u001b[36m          Available Matches\u001b[0m\u001b[36m \u001b[0m│\u001b[35m \u001b[0m\u001b[35m145994               \u001b[0m\u001b[35m \u001b[0m│\n",
       "│\u001b[36m \u001b[0m\u001b[36m      PlackettLuce Accuracy\u001b[0m\u001b[36m \u001b[0m│\u001b[35m \u001b[0m\u001b[35m112459/9744 [ 92.03%]\u001b[0m\u001b[35m \u001b[0m│\n",
       "│\u001b[36m \u001b[0m\u001b[36m Rank-Biased Overlap Score:\u001b[0m\u001b[36m \u001b[0m│\u001b[35m \u001b[0m\u001b[35m 64.11               \u001b[0m\u001b[35m \u001b[0m│\n",
       "└─────────────────────────────┴───────────────────────┘\n"
      ]
     },
     "metadata": {},
     "output_type": "display_data"
    }
   ],
   "source": [
    "table = Table(title=\"Benchmark Results\")\n",
    "table.add_column(\"Information\", justify=\"right\", style=\"cyan\", no_wrap=True)\n",
    "table.add_column(\"Value\", style=\"magenta\")\n",
    "\n",
    "table.add_row(\"Available Matches\", f\"{len(test_matches)}\")\n",
    "\n",
    "openskill_accuracy = round(\n",
    "    (\n",
    "        openskill_correct_predictions\n",
    "        / (openskill_incorrect_predictions + openskill_correct_predictions)\n",
    "    )\n",
    "    * 100,\n",
    "    2,\n",
    ")\n",
    "\n",
    "table.add_row(\n",
    "    f\"{model.__class__.__name__} Accuracy\",\n",
    "    f\"{openskill_correct_predictions}/\"\n",
    "    f\"{openskill_incorrect_predictions} \"\n",
    "    f\"[{openskill_accuracy: .2f}%]\",\n",
    ")\n",
    "rbo_score = (sum(rbo_scores) / len(rbo_scores)) * 100\n",
    "table.add_row(\"Rank-Biased Overlap Score: \", f\"{rbo_score: .2f}\")\n",
    "rich.print(table)"
   ]
  }
 ],
 "metadata": {
  "kaggle": {
   "accelerator": "none",
   "dataSources": [
    {
     "datasetId": 3738480,
     "sourceId": 7230866,
     "sourceType": "datasetVersion"
    }
   ],
   "dockerImageVersionId": 30615,
   "isGpuEnabled": false,
   "isInternetEnabled": true,
   "language": "python",
   "sourceType": "notebook"
  },
  "kernelspec": {
   "display_name": "Python 3",
   "language": "python",
   "name": "python3"
  },
  "language_info": {
   "codemirror_mode": {
    "name": "ipython",
    "version": 3
   },
   "file_extension": ".py",
   "mimetype": "text/x-python",
   "name": "python",
   "nbconvert_exporter": "python",
   "pygments_lexer": "ipython3",
   "version": "3.10.12"
  },
  "papermill": {
   "default_parameters": {},
   "duration": 8499.641296,
   "end_time": "2024-01-05T20:09:46.965860",
   "environment_variables": {},
   "exception": null,
   "input_path": "__notebook__.ipynb",
   "output_path": "__notebook__.ipynb",
   "parameters": {},
   "start_time": "2024-01-05T17:48:07.324564",
   "version": "2.4.0"
  },
  "widgets": {
   "application/vnd.jupyter.widget-state+json": {
    "state": {
     "0112187f669b41a299dd33d78a524d43": {
      "model_module": "@jupyter-widgets/controls",
      "model_module_version": "1.5.0",
      "model_name": "ProgressStyleModel",
      "state": {
       "_model_module": "@jupyter-widgets/controls",
       "_model_module_version": "1.5.0",
       "_model_name": "ProgressStyleModel",
       "_view_count": null,
       "_view_module": "@jupyter-widgets/base",
       "_view_module_version": "1.2.0",
       "_view_name": "StyleView",
       "bar_color": null,
       "description_width": ""
      }
     },
     "01125230efdd446e9eaa0114efa5ec76": {
      "model_module": "@jupyter-widgets/controls",
      "model_module_version": "1.5.0",
      "model_name": "HBoxModel",
      "state": {
       "_dom_classes": [],
       "_model_module": "@jupyter-widgets/controls",
       "_model_module_version": "1.5.0",
       "_model_name": "HBoxModel",
       "_view_count": null,
       "_view_module": "@jupyter-widgets/controls",
       "_view_module_version": "1.5.0",
       "_view_name": "HBoxView",
       "box_style": "",
       "children": [
        "IPY_MODEL_0cf9e46aaf8745248f98b3e50fbd607a",
        "IPY_MODEL_4368840a7265428bb78a78d67bc1e77e",
        "IPY_MODEL_97f7774bfd4944f8a23853059c115ef9"
       ],
       "layout": "IPY_MODEL_1a6329ad908140d39d1ccc2ac810ec5f"
      }
     },
     "0925e21b1d9e47cb80d9305dce4287a7": {
      "model_module": "@jupyter-widgets/controls",
      "model_module_version": "1.5.0",
      "model_name": "DescriptionStyleModel",
      "state": {
       "_model_module": "@jupyter-widgets/controls",
       "_model_module_version": "1.5.0",
       "_model_name": "DescriptionStyleModel",
       "_view_count": null,
       "_view_module": "@jupyter-widgets/base",
       "_view_module_version": "1.2.0",
       "_view_name": "StyleView",
       "description_width": ""
      }
     },
     "0cf9e46aaf8745248f98b3e50fbd607a": {
      "model_module": "@jupyter-widgets/controls",
      "model_module_version": "1.5.0",
      "model_name": "HTMLModel",
      "state": {
       "_dom_classes": [],
       "_model_module": "@jupyter-widgets/controls",
       "_model_module_version": "1.5.0",
       "_model_name": "HTMLModel",
       "_view_count": null,
       "_view_module": "@jupyter-widgets/controls",
       "_view_module_version": "1.5.0",
       "_view_name": "HTMLView",
       "description": "",
       "description_tooltip": null,
       "layout": "IPY_MODEL_e782412727be4f7d980e921277d67b1d",
       "placeholder": "​",
       "style": "IPY_MODEL_e60418c82a6b4fb28b8d1efd41c399c1",
       "value": "100%"
      }
     },
     "1a6329ad908140d39d1ccc2ac810ec5f": {
      "model_module": "@jupyter-widgets/base",
      "model_module_version": "1.2.0",
      "model_name": "LayoutModel",
      "state": {
       "_model_module": "@jupyter-widgets/base",
       "_model_module_version": "1.2.0",
       "_model_name": "LayoutModel",
       "_view_count": null,
       "_view_module": "@jupyter-widgets/base",
       "_view_module_version": "1.2.0",
       "_view_name": "LayoutView",
       "align_content": null,
       "align_items": null,
       "align_self": null,
       "border": null,
       "bottom": null,
       "display": null,
       "flex": null,
       "flex_flow": null,
       "grid_area": null,
       "grid_auto_columns": null,
       "grid_auto_flow": null,
       "grid_auto_rows": null,
       "grid_column": null,
       "grid_gap": null,
       "grid_row": null,
       "grid_template_areas": null,
       "grid_template_columns": null,
       "grid_template_rows": null,
       "height": null,
       "justify_content": null,
       "justify_items": null,
       "left": null,
       "margin": null,
       "max_height": null,
       "max_width": null,
       "min_height": null,
       "min_width": null,
       "object_fit": null,
       "object_position": null,
       "order": null,
       "overflow": null,
       "overflow_x": null,
       "overflow_y": null,
       "padding": null,
       "right": null,
       "top": null,
       "visibility": null,
       "width": null
      }
     },
     "1e20dbb231f744cc858e8818f8b831e7": {
      "model_module": "@jupyter-widgets/controls",
      "model_module_version": "1.5.0",
      "model_name": "FloatProgressModel",
      "state": {
       "_dom_classes": [],
       "_model_module": "@jupyter-widgets/controls",
       "_model_module_version": "1.5.0",
       "_model_name": "FloatProgressModel",
       "_view_count": null,
       "_view_module": "@jupyter-widgets/controls",
       "_view_module_version": "1.5.0",
       "_view_name": "ProgressView",
       "bar_style": "",
       "description": "",
       "description_tooltip": null,
       "layout": "IPY_MODEL_5025706f71be45e79c6040c41e7a138f",
       "max": 145994.0,
       "min": 0.0,
       "orientation": "horizontal",
       "style": "IPY_MODEL_21f0d557d3b54a299507a2ebf55b131d",
       "value": 145988.0
      }
     },
     "21f0d557d3b54a299507a2ebf55b131d": {
      "model_module": "@jupyter-widgets/controls",
      "model_module_version": "1.5.0",
      "model_name": "ProgressStyleModel",
      "state": {
       "_model_module": "@jupyter-widgets/controls",
       "_model_module_version": "1.5.0",
       "_model_name": "ProgressStyleModel",
       "_view_count": null,
       "_view_module": "@jupyter-widgets/base",
       "_view_module_version": "1.2.0",
       "_view_name": "StyleView",
       "bar_color": null,
       "description_width": ""
      }
     },
     "28fa2e753fed40968ea851ba3fa92c7d": {
      "model_module": "@jupyter-widgets/controls",
      "model_module_version": "1.5.0",
      "model_name": "HTMLModel",
      "state": {
       "_dom_classes": [],
       "_model_module": "@jupyter-widgets/controls",
       "_model_module_version": "1.5.0",
       "_model_name": "HTMLModel",
       "_view_count": null,
       "_view_module": "@jupyter-widgets/controls",
       "_view_module_version": "1.5.0",
       "_view_name": "HTMLView",
       "description": "",
       "description_tooltip": null,
       "layout": "IPY_MODEL_f27279747077438fbf8d8f5c1813e367",
       "placeholder": "​",
       "style": "IPY_MODEL_ced36b94b16e4f90acfd1055098fd80e",
       "value": "100%"
      }
     },
     "2b0cf71c6d2543199c3fdc95360886ac": {
      "model_module": "@jupyter-widgets/controls",
      "model_module_version": "1.5.0",
      "model_name": "ProgressStyleModel",
      "state": {
       "_model_module": "@jupyter-widgets/controls",
       "_model_module_version": "1.5.0",
       "_model_name": "ProgressStyleModel",
       "_view_count": null,
       "_view_module": "@jupyter-widgets/base",
       "_view_module_version": "1.2.0",
       "_view_name": "StyleView",
       "bar_color": null,
       "description_width": ""
      }
     },
     "3144cdf255f549299388c5db30a5dc83": {
      "model_module": "@jupyter-widgets/controls",
      "model_module_version": "1.5.0",
      "model_name": "HTMLModel",
      "state": {
       "_dom_classes": [],
       "_model_module": "@jupyter-widgets/controls",
       "_model_module_version": "1.5.0",
       "_model_name": "HTMLModel",
       "_view_count": null,
       "_view_module": "@jupyter-widgets/controls",
       "_view_module_version": "1.5.0",
       "_view_name": "HTMLView",
       "description": "",
       "description_tooltip": null,
       "layout": "IPY_MODEL_6dfedc40bce04a7396da5eaca16b35ab",
       "placeholder": "​",
       "style": "IPY_MODEL_0925e21b1d9e47cb80d9305dce4287a7",
       "value": "100%"
      }
     },
     "321ba72423854517a6faab53baad30b2": {
      "model_module": "@jupyter-widgets/base",
      "model_module_version": "1.2.0",
      "model_name": "LayoutModel",
      "state": {
       "_model_module": "@jupyter-widgets/base",
       "_model_module_version": "1.2.0",
       "_model_name": "LayoutModel",
       "_view_count": null,
       "_view_module": "@jupyter-widgets/base",
       "_view_module_version": "1.2.0",
       "_view_name": "LayoutView",
       "align_content": null,
       "align_items": null,
       "align_self": null,
       "border": null,
       "bottom": null,
       "display": null,
       "flex": null,
       "flex_flow": null,
       "grid_area": null,
       "grid_auto_columns": null,
       "grid_auto_flow": null,
       "grid_auto_rows": null,
       "grid_column": null,
       "grid_gap": null,
       "grid_row": null,
       "grid_template_areas": null,
       "grid_template_columns": null,
       "grid_template_rows": null,
       "height": null,
       "justify_content": null,
       "justify_items": null,
       "left": null,
       "margin": null,
       "max_height": null,
       "max_width": null,
       "min_height": null,
       "min_width": null,
       "object_fit": null,
       "object_position": null,
       "order": null,
       "overflow": null,
       "overflow_x": null,
       "overflow_y": null,
       "padding": null,
       "right": null,
       "top": null,
       "visibility": null,
       "width": null
      }
     },
     "355d9aee15664933be11b125d1510d71": {
      "model_module": "@jupyter-widgets/base",
      "model_module_version": "1.2.0",
      "model_name": "LayoutModel",
      "state": {
       "_model_module": "@jupyter-widgets/base",
       "_model_module_version": "1.2.0",
       "_model_name": "LayoutModel",
       "_view_count": null,
       "_view_module": "@jupyter-widgets/base",
       "_view_module_version": "1.2.0",
       "_view_name": "LayoutView",
       "align_content": null,
       "align_items": null,
       "align_self": null,
       "border": null,
       "bottom": null,
       "display": null,
       "flex": null,
       "flex_flow": null,
       "grid_area": null,
       "grid_auto_columns": null,
       "grid_auto_flow": null,
       "grid_auto_rows": null,
       "grid_column": null,
       "grid_gap": null,
       "grid_row": null,
       "grid_template_areas": null,
       "grid_template_columns": null,
       "grid_template_rows": null,
       "height": null,
       "justify_content": null,
       "justify_items": null,
       "left": null,
       "margin": null,
       "max_height": null,
       "max_width": null,
       "min_height": null,
       "min_width": null,
       "object_fit": null,
       "object_position": null,
       "order": null,
       "overflow": null,
       "overflow_x": null,
       "overflow_y": null,
       "padding": null,
       "right": null,
       "top": null,
       "visibility": null,
       "width": null
      }
     },
     "3e2ade6fb6d446c3b8a7790b765a6130": {
      "model_module": "@jupyter-widgets/controls",
      "model_module_version": "1.5.0",
      "model_name": "FloatProgressModel",
      "state": {
       "_dom_classes": [],
       "_model_module": "@jupyter-widgets/controls",
       "_model_module_version": "1.5.0",
       "_model_name": "FloatProgressModel",
       "_view_count": null,
       "_view_module": "@jupyter-widgets/controls",
       "_view_module_version": "1.5.0",
       "_view_name": "ProgressView",
       "bar_style": "success",
       "description": "",
       "description_tooltip": null,
       "layout": "IPY_MODEL_840b8d39a7514ada875294c18c8cb4ef",
       "max": 51704546.0,
       "min": 0.0,
       "orientation": "horizontal",
       "style": "IPY_MODEL_2b0cf71c6d2543199c3fdc95360886ac",
       "value": 51704546.0
      }
     },
     "3e6ead3f31114894a63b7d698ec8de34": {
      "model_module": "@jupyter-widgets/base",
      "model_module_version": "1.2.0",
      "model_name": "LayoutModel",
      "state": {
       "_model_module": "@jupyter-widgets/base",
       "_model_module_version": "1.2.0",
       "_model_name": "LayoutModel",
       "_view_count": null,
       "_view_module": "@jupyter-widgets/base",
       "_view_module_version": "1.2.0",
       "_view_name": "LayoutView",
       "align_content": null,
       "align_items": null,
       "align_self": null,
       "border": null,
       "bottom": null,
       "display": null,
       "flex": null,
       "flex_flow": null,
       "grid_area": null,
       "grid_auto_columns": null,
       "grid_auto_flow": null,
       "grid_auto_rows": null,
       "grid_column": null,
       "grid_gap": null,
       "grid_row": null,
       "grid_template_areas": null,
       "grid_template_columns": null,
       "grid_template_rows": null,
       "height": null,
       "justify_content": null,
       "justify_items": null,
       "left": null,
       "margin": null,
       "max_height": null,
       "max_width": null,
       "min_height": null,
       "min_width": null,
       "object_fit": null,
       "object_position": null,
       "order": null,
       "overflow": null,
       "overflow_x": null,
       "overflow_y": null,
       "padding": null,
       "right": null,
       "top": null,
       "visibility": null,
       "width": null
      }
     },
     "4368840a7265428bb78a78d67bc1e77e": {
      "model_module": "@jupyter-widgets/controls",
      "model_module_version": "1.5.0",
      "model_name": "FloatProgressModel",
      "state": {
       "_dom_classes": [],
       "_model_module": "@jupyter-widgets/controls",
       "_model_module_version": "1.5.0",
       "_model_name": "FloatProgressModel",
       "_view_count": null,
       "_view_module": "@jupyter-widgets/controls",
       "_view_module_version": "1.5.0",
       "_view_name": "ProgressView",
       "bar_style": "danger",
       "description": "",
       "description_tooltip": null,
       "layout": "IPY_MODEL_af3a33daf09a4948a01a9616402baf4a",
       "max": 51704546.0,
       "min": 0.0,
       "orientation": "horizontal",
       "style": "IPY_MODEL_a97d39b1a7164c21b734278755e0a480",
       "value": 51703476.0
      }
     },
     "46f2d20186374fb1a1d6b4f40fd3f14c": {
      "model_module": "@jupyter-widgets/controls",
      "model_module_version": "1.5.0",
      "model_name": "DescriptionStyleModel",
      "state": {
       "_model_module": "@jupyter-widgets/controls",
       "_model_module_version": "1.5.0",
       "_model_name": "DescriptionStyleModel",
       "_view_count": null,
       "_view_module": "@jupyter-widgets/base",
       "_view_module_version": "1.2.0",
       "_view_name": "StyleView",
       "description_width": ""
      }
     },
     "5025706f71be45e79c6040c41e7a138f": {
      "model_module": "@jupyter-widgets/base",
      "model_module_version": "1.2.0",
      "model_name": "LayoutModel",
      "state": {
       "_model_module": "@jupyter-widgets/base",
       "_model_module_version": "1.2.0",
       "_model_name": "LayoutModel",
       "_view_count": null,
       "_view_module": "@jupyter-widgets/base",
       "_view_module_version": "1.2.0",
       "_view_name": "LayoutView",
       "align_content": null,
       "align_items": null,
       "align_self": null,
       "border": null,
       "bottom": null,
       "display": null,
       "flex": null,
       "flex_flow": null,
       "grid_area": null,
       "grid_auto_columns": null,
       "grid_auto_flow": null,
       "grid_auto_rows": null,
       "grid_column": null,
       "grid_gap": null,
       "grid_row": null,
       "grid_template_areas": null,
       "grid_template_columns": null,
       "grid_template_rows": null,
       "height": null,
       "justify_content": null,
       "justify_items": null,
       "left": null,
       "margin": null,
       "max_height": null,
       "max_width": null,
       "min_height": null,
       "min_width": null,
       "object_fit": null,
       "object_position": null,
       "order": null,
       "overflow": null,
       "overflow_x": null,
       "overflow_y": null,
       "padding": null,
       "right": null,
       "top": null,
       "visibility": null,
       "width": null
      }
     },
     "59c832ef8d8f450a9c5a6baad8d8222c": {
      "model_module": "@jupyter-widgets/controls",
      "model_module_version": "1.5.0",
      "model_name": "HTMLModel",
      "state": {
       "_dom_classes": [],
       "_model_module": "@jupyter-widgets/controls",
       "_model_module_version": "1.5.0",
       "_model_name": "HTMLModel",
       "_view_count": null,
       "_view_module": "@jupyter-widgets/controls",
       "_view_module_version": "1.5.0",
       "_view_name": "HTMLView",
       "description": "",
       "description_tooltip": null,
       "layout": "IPY_MODEL_6f2eb55b2ca44493aec2d8322ffda77f",
       "placeholder": "​",
       "style": "IPY_MODEL_b5d0e1b7155942139a3a7da03aaa2731",
       "value": " 583975/583975 [54:14&lt;00:00, 198.02it/s]"
      }
     },
     "6071f96aca404601b2c2161363da6426": {
      "model_module": "@jupyter-widgets/controls",
      "model_module_version": "1.5.0",
      "model_name": "DescriptionStyleModel",
      "state": {
       "_model_module": "@jupyter-widgets/controls",
       "_model_module_version": "1.5.0",
       "_model_name": "DescriptionStyleModel",
       "_view_count": null,
       "_view_module": "@jupyter-widgets/base",
       "_view_module_version": "1.2.0",
       "_view_name": "StyleView",
       "description_width": ""
      }
     },
     "6198496d594d44e487a22a31256151ca": {
      "model_module": "@jupyter-widgets/base",
      "model_module_version": "1.2.0",
      "model_name": "LayoutModel",
      "state": {
       "_model_module": "@jupyter-widgets/base",
       "_model_module_version": "1.2.0",
       "_model_name": "LayoutModel",
       "_view_count": null,
       "_view_module": "@jupyter-widgets/base",
       "_view_module_version": "1.2.0",
       "_view_name": "LayoutView",
       "align_content": null,
       "align_items": null,
       "align_self": null,
       "border": null,
       "bottom": null,
       "display": null,
       "flex": null,
       "flex_flow": null,
       "grid_area": null,
       "grid_auto_columns": null,
       "grid_auto_flow": null,
       "grid_auto_rows": null,
       "grid_column": null,
       "grid_gap": null,
       "grid_row": null,
       "grid_template_areas": null,
       "grid_template_columns": null,
       "grid_template_rows": null,
       "height": null,
       "justify_content": null,
       "justify_items": null,
       "left": null,
       "margin": null,
       "max_height": null,
       "max_width": null,
       "min_height": null,
       "min_width": null,
       "object_fit": null,
       "object_position": null,
       "order": null,
       "overflow": null,
       "overflow_x": null,
       "overflow_y": null,
       "padding": null,
       "right": null,
       "top": null,
       "visibility": null,
       "width": null
      }
     },
     "67566208fadd44dca75c04b8966ba50c": {
      "model_module": "@jupyter-widgets/base",
      "model_module_version": "1.2.0",
      "model_name": "LayoutModel",
      "state": {
       "_model_module": "@jupyter-widgets/base",
       "_model_module_version": "1.2.0",
       "_model_name": "LayoutModel",
       "_view_count": null,
       "_view_module": "@jupyter-widgets/base",
       "_view_module_version": "1.2.0",
       "_view_name": "LayoutView",
       "align_content": null,
       "align_items": null,
       "align_self": null,
       "border": null,
       "bottom": null,
       "display": null,
       "flex": null,
       "flex_flow": null,
       "grid_area": null,
       "grid_auto_columns": null,
       "grid_auto_flow": null,
       "grid_auto_rows": null,
       "grid_column": null,
       "grid_gap": null,
       "grid_row": null,
       "grid_template_areas": null,
       "grid_template_columns": null,
       "grid_template_rows": null,
       "height": null,
       "justify_content": null,
       "justify_items": null,
       "left": null,
       "margin": null,
       "max_height": null,
       "max_width": null,
       "min_height": null,
       "min_width": null,
       "object_fit": null,
       "object_position": null,
       "order": null,
       "overflow": null,
       "overflow_x": null,
       "overflow_y": null,
       "padding": null,
       "right": null,
       "top": null,
       "visibility": null,
       "width": null
      }
     },
     "697ad4b76d9f45d5b07681916791d056": {
      "model_module": "@jupyter-widgets/controls",
      "model_module_version": "1.5.0",
      "model_name": "HBoxModel",
      "state": {
       "_dom_classes": [],
       "_model_module": "@jupyter-widgets/controls",
       "_model_module_version": "1.5.0",
       "_model_name": "HBoxModel",
       "_view_count": null,
       "_view_module": "@jupyter-widgets/controls",
       "_view_module_version": "1.5.0",
       "_view_name": "HBoxView",
       "box_style": "",
       "children": [
        "IPY_MODEL_e89bfbc353f7474190c8c02e92fe5a2d",
        "IPY_MODEL_3e2ade6fb6d446c3b8a7790b765a6130",
        "IPY_MODEL_db30564e0b4848b3bf9ec864a10623de"
       ],
       "layout": "IPY_MODEL_6198496d594d44e487a22a31256151ca"
      }
     },
     "6c4f9158775349a7aa7407a0ee6366c3": {
      "model_module": "@jupyter-widgets/base",
      "model_module_version": "1.2.0",
      "model_name": "LayoutModel",
      "state": {
       "_model_module": "@jupyter-widgets/base",
       "_model_module_version": "1.2.0",
       "_model_name": "LayoutModel",
       "_view_count": null,
       "_view_module": "@jupyter-widgets/base",
       "_view_module_version": "1.2.0",
       "_view_name": "LayoutView",
       "align_content": null,
       "align_items": null,
       "align_self": null,
       "border": null,
       "bottom": null,
       "display": null,
       "flex": null,
       "flex_flow": null,
       "grid_area": null,
       "grid_auto_columns": null,
       "grid_auto_flow": null,
       "grid_auto_rows": null,
       "grid_column": null,
       "grid_gap": null,
       "grid_row": null,
       "grid_template_areas": null,
       "grid_template_columns": null,
       "grid_template_rows": null,
       "height": null,
       "justify_content": null,
       "justify_items": null,
       "left": null,
       "margin": null,
       "max_height": null,
       "max_width": null,
       "min_height": null,
       "min_width": null,
       "object_fit": null,
       "object_position": null,
       "order": null,
       "overflow": null,
       "overflow_x": null,
       "overflow_y": null,
       "padding": null,
       "right": null,
       "top": null,
       "visibility": null,
       "width": null
      }
     },
     "6db217c257b149dea88d2f6be82adc40": {
      "model_module": "@jupyter-widgets/base",
      "model_module_version": "1.2.0",
      "model_name": "LayoutModel",
      "state": {
       "_model_module": "@jupyter-widgets/base",
       "_model_module_version": "1.2.0",
       "_model_name": "LayoutModel",
       "_view_count": null,
       "_view_module": "@jupyter-widgets/base",
       "_view_module_version": "1.2.0",
       "_view_name": "LayoutView",
       "align_content": null,
       "align_items": null,
       "align_self": null,
       "border": null,
       "bottom": null,
       "display": null,
       "flex": null,
       "flex_flow": null,
       "grid_area": null,
       "grid_auto_columns": null,
       "grid_auto_flow": null,
       "grid_auto_rows": null,
       "grid_column": null,
       "grid_gap": null,
       "grid_row": null,
       "grid_template_areas": null,
       "grid_template_columns": null,
       "grid_template_rows": null,
       "height": null,
       "justify_content": null,
       "justify_items": null,
       "left": null,
       "margin": null,
       "max_height": null,
       "max_width": null,
       "min_height": null,
       "min_width": null,
       "object_fit": null,
       "object_position": null,
       "order": null,
       "overflow": null,
       "overflow_x": null,
       "overflow_y": null,
       "padding": null,
       "right": null,
       "top": null,
       "visibility": null,
       "width": null
      }
     },
     "6dfedc40bce04a7396da5eaca16b35ab": {
      "model_module": "@jupyter-widgets/base",
      "model_module_version": "1.2.0",
      "model_name": "LayoutModel",
      "state": {
       "_model_module": "@jupyter-widgets/base",
       "_model_module_version": "1.2.0",
       "_model_name": "LayoutModel",
       "_view_count": null,
       "_view_module": "@jupyter-widgets/base",
       "_view_module_version": "1.2.0",
       "_view_name": "LayoutView",
       "align_content": null,
       "align_items": null,
       "align_self": null,
       "border": null,
       "bottom": null,
       "display": null,
       "flex": null,
       "flex_flow": null,
       "grid_area": null,
       "grid_auto_columns": null,
       "grid_auto_flow": null,
       "grid_auto_rows": null,
       "grid_column": null,
       "grid_gap": null,
       "grid_row": null,
       "grid_template_areas": null,
       "grid_template_columns": null,
       "grid_template_rows": null,
       "height": null,
       "justify_content": null,
       "justify_items": null,
       "left": null,
       "margin": null,
       "max_height": null,
       "max_width": null,
       "min_height": null,
       "min_width": null,
       "object_fit": null,
       "object_position": null,
       "order": null,
       "overflow": null,
       "overflow_x": null,
       "overflow_y": null,
       "padding": null,
       "right": null,
       "top": null,
       "visibility": null,
       "width": null
      }
     },
     "6f2eb55b2ca44493aec2d8322ffda77f": {
      "model_module": "@jupyter-widgets/base",
      "model_module_version": "1.2.0",
      "model_name": "LayoutModel",
      "state": {
       "_model_module": "@jupyter-widgets/base",
       "_model_module_version": "1.2.0",
       "_model_name": "LayoutModel",
       "_view_count": null,
       "_view_module": "@jupyter-widgets/base",
       "_view_module_version": "1.2.0",
       "_view_name": "LayoutView",
       "align_content": null,
       "align_items": null,
       "align_self": null,
       "border": null,
       "bottom": null,
       "display": null,
       "flex": null,
       "flex_flow": null,
       "grid_area": null,
       "grid_auto_columns": null,
       "grid_auto_flow": null,
       "grid_auto_rows": null,
       "grid_column": null,
       "grid_gap": null,
       "grid_row": null,
       "grid_template_areas": null,
       "grid_template_columns": null,
       "grid_template_rows": null,
       "height": null,
       "justify_content": null,
       "justify_items": null,
       "left": null,
       "margin": null,
       "max_height": null,
       "max_width": null,
       "min_height": null,
       "min_width": null,
       "object_fit": null,
       "object_position": null,
       "order": null,
       "overflow": null,
       "overflow_x": null,
       "overflow_y": null,
       "padding": null,
       "right": null,
       "top": null,
       "visibility": null,
       "width": null
      }
     },
     "7388c7b20fe041049bfdfdb327e2f70e": {
      "model_module": "@jupyter-widgets/controls",
      "model_module_version": "1.5.0",
      "model_name": "HTMLModel",
      "state": {
       "_dom_classes": [],
       "_model_module": "@jupyter-widgets/controls",
       "_model_module_version": "1.5.0",
       "_model_name": "HTMLModel",
       "_view_count": null,
       "_view_module": "@jupyter-widgets/controls",
       "_view_module_version": "1.5.0",
       "_view_name": "HTMLView",
       "description": "",
       "description_tooltip": null,
       "layout": "IPY_MODEL_ef84d83c087e4b7b878c2f8e6bc063e7",
       "placeholder": "​",
       "style": "IPY_MODEL_cc8b72e1946f4c2fa24f3d5b0238ff93",
       "value": " 11487236/11487236 [10:26&lt;00:00, 21262.09it/s]"
      }
     },
     "801cef4fc8594229a1cefc5d5b091b4d": {
      "model_module": "@jupyter-widgets/base",
      "model_module_version": "1.2.0",
      "model_name": "LayoutModel",
      "state": {
       "_model_module": "@jupyter-widgets/base",
       "_model_module_version": "1.2.0",
       "_model_name": "LayoutModel",
       "_view_count": null,
       "_view_module": "@jupyter-widgets/base",
       "_view_module_version": "1.2.0",
       "_view_name": "LayoutView",
       "align_content": null,
       "align_items": null,
       "align_self": null,
       "border": null,
       "bottom": null,
       "display": null,
       "flex": null,
       "flex_flow": null,
       "grid_area": null,
       "grid_auto_columns": null,
       "grid_auto_flow": null,
       "grid_auto_rows": null,
       "grid_column": null,
       "grid_gap": null,
       "grid_row": null,
       "grid_template_areas": null,
       "grid_template_columns": null,
       "grid_template_rows": null,
       "height": null,
       "justify_content": null,
       "justify_items": null,
       "left": null,
       "margin": null,
       "max_height": null,
       "max_width": null,
       "min_height": null,
       "min_width": null,
       "object_fit": null,
       "object_position": null,
       "order": null,
       "overflow": null,
       "overflow_x": null,
       "overflow_y": null,
       "padding": null,
       "right": null,
       "top": null,
       "visibility": null,
       "width": null
      }
     },
     "840b8d39a7514ada875294c18c8cb4ef": {
      "model_module": "@jupyter-widgets/base",
      "model_module_version": "1.2.0",
      "model_name": "LayoutModel",
      "state": {
       "_model_module": "@jupyter-widgets/base",
       "_model_module_version": "1.2.0",
       "_model_name": "LayoutModel",
       "_view_count": null,
       "_view_module": "@jupyter-widgets/base",
       "_view_module_version": "1.2.0",
       "_view_name": "LayoutView",
       "align_content": null,
       "align_items": null,
       "align_self": null,
       "border": null,
       "bottom": null,
       "display": null,
       "flex": null,
       "flex_flow": null,
       "grid_area": null,
       "grid_auto_columns": null,
       "grid_auto_flow": null,
       "grid_auto_rows": null,
       "grid_column": null,
       "grid_gap": null,
       "grid_row": null,
       "grid_template_areas": null,
       "grid_template_columns": null,
       "grid_template_rows": null,
       "height": null,
       "justify_content": null,
       "justify_items": null,
       "left": null,
       "margin": null,
       "max_height": null,
       "max_width": null,
       "min_height": null,
       "min_width": null,
       "object_fit": null,
       "object_position": null,
       "order": null,
       "overflow": null,
       "overflow_x": null,
       "overflow_y": null,
       "padding": null,
       "right": null,
       "top": null,
       "visibility": null,
       "width": null
      }
     },
     "86ff99fea6d9464e9011d0353d641ad9": {
      "model_module": "@jupyter-widgets/controls",
      "model_module_version": "1.5.0",
      "model_name": "DescriptionStyleModel",
      "state": {
       "_model_module": "@jupyter-widgets/controls",
       "_model_module_version": "1.5.0",
       "_model_name": "DescriptionStyleModel",
       "_view_count": null,
       "_view_module": "@jupyter-widgets/base",
       "_view_module_version": "1.2.0",
       "_view_name": "StyleView",
       "description_width": ""
      }
     },
     "8e79bb6c42bf46088661686f7694f1d9": {
      "model_module": "@jupyter-widgets/base",
      "model_module_version": "1.2.0",
      "model_name": "LayoutModel",
      "state": {
       "_model_module": "@jupyter-widgets/base",
       "_model_module_version": "1.2.0",
       "_model_name": "LayoutModel",
       "_view_count": null,
       "_view_module": "@jupyter-widgets/base",
       "_view_module_version": "1.2.0",
       "_view_name": "LayoutView",
       "align_content": null,
       "align_items": null,
       "align_self": null,
       "border": null,
       "bottom": null,
       "display": null,
       "flex": null,
       "flex_flow": null,
       "grid_area": null,
       "grid_auto_columns": null,
       "grid_auto_flow": null,
       "grid_auto_rows": null,
       "grid_column": null,
       "grid_gap": null,
       "grid_row": null,
       "grid_template_areas": null,
       "grid_template_columns": null,
       "grid_template_rows": null,
       "height": null,
       "justify_content": null,
       "justify_items": null,
       "left": null,
       "margin": null,
       "max_height": null,
       "max_width": null,
       "min_height": null,
       "min_width": null,
       "object_fit": null,
       "object_position": null,
       "order": null,
       "overflow": null,
       "overflow_x": null,
       "overflow_y": null,
       "padding": null,
       "right": null,
       "top": null,
       "visibility": null,
       "width": null
      }
     },
     "8f1ae03d30fb4dfea5b1fee26d7ca3dc": {
      "model_module": "@jupyter-widgets/controls",
      "model_module_version": "1.5.0",
      "model_name": "HBoxModel",
      "state": {
       "_dom_classes": [],
       "_model_module": "@jupyter-widgets/controls",
       "_model_module_version": "1.5.0",
       "_model_name": "HBoxModel",
       "_view_count": null,
       "_view_module": "@jupyter-widgets/controls",
       "_view_module_version": "1.5.0",
       "_view_name": "HBoxView",
       "box_style": "",
       "children": [
        "IPY_MODEL_28fa2e753fed40968ea851ba3fa92c7d",
        "IPY_MODEL_9c2fbf8ecbad4e7da0ac747ec947cfe5",
        "IPY_MODEL_7388c7b20fe041049bfdfdb327e2f70e"
       ],
       "layout": "IPY_MODEL_6db217c257b149dea88d2f6be82adc40"
      }
     },
     "97f7774bfd4944f8a23853059c115ef9": {
      "model_module": "@jupyter-widgets/controls",
      "model_module_version": "1.5.0",
      "model_name": "HTMLModel",
      "state": {
       "_dom_classes": [],
       "_model_module": "@jupyter-widgets/controls",
       "_model_module_version": "1.5.0",
       "_model_name": "HTMLModel",
       "_view_count": null,
       "_view_module": "@jupyter-widgets/controls",
       "_view_module_version": "1.5.0",
       "_view_name": "HTMLView",
       "description": "",
       "description_tooltip": null,
       "layout": "IPY_MODEL_f08b7bad7d8543ae95bcfa2cc64fae9d",
       "placeholder": "​",
       "style": "IPY_MODEL_c02f648a75594fcc8066c208e7897bcb",
       "value": " 51703476/51704546 [1:08:23&lt;00:00, 62415.36it/s]"
      }
     },
     "9c2fbf8ecbad4e7da0ac747ec947cfe5": {
      "model_module": "@jupyter-widgets/controls",
      "model_module_version": "1.5.0",
      "model_name": "FloatProgressModel",
      "state": {
       "_dom_classes": [],
       "_model_module": "@jupyter-widgets/controls",
       "_model_module_version": "1.5.0",
       "_model_name": "FloatProgressModel",
       "_view_count": null,
       "_view_module": "@jupyter-widgets/controls",
       "_view_module_version": "1.5.0",
       "_view_name": "ProgressView",
       "bar_style": "",
       "description": "",
       "description_tooltip": null,
       "layout": "IPY_MODEL_6c4f9158775349a7aa7407a0ee6366c3",
       "max": 11487236.0,
       "min": 0.0,
       "orientation": "horizontal",
       "style": "IPY_MODEL_0112187f669b41a299dd33d78a524d43",
       "value": 11487236.0
      }
     },
     "a1b3539b889b4f4389593e8ad5e8a08c": {
      "model_module": "@jupyter-widgets/controls",
      "model_module_version": "1.5.0",
      "model_name": "HBoxModel",
      "state": {
       "_dom_classes": [],
       "_model_module": "@jupyter-widgets/controls",
       "_model_module_version": "1.5.0",
       "_model_name": "HBoxModel",
       "_view_count": null,
       "_view_module": "@jupyter-widgets/controls",
       "_view_module_version": "1.5.0",
       "_view_name": "HBoxView",
       "box_style": "",
       "children": [
        "IPY_MODEL_3144cdf255f549299388c5db30a5dc83",
        "IPY_MODEL_f55e1b84904c43f88347490be535d116",
        "IPY_MODEL_59c832ef8d8f450a9c5a6baad8d8222c"
       ],
       "layout": "IPY_MODEL_321ba72423854517a6faab53baad30b2"
      }
     },
     "a274d1c1429a4ca0b3f52f0e3128c128": {
      "model_module": "@jupyter-widgets/controls",
      "model_module_version": "1.5.0",
      "model_name": "DescriptionStyleModel",
      "state": {
       "_model_module": "@jupyter-widgets/controls",
       "_model_module_version": "1.5.0",
       "_model_name": "DescriptionStyleModel",
       "_view_count": null,
       "_view_module": "@jupyter-widgets/base",
       "_view_module_version": "1.2.0",
       "_view_name": "StyleView",
       "description_width": ""
      }
     },
     "a97d39b1a7164c21b734278755e0a480": {
      "model_module": "@jupyter-widgets/controls",
      "model_module_version": "1.5.0",
      "model_name": "ProgressStyleModel",
      "state": {
       "_model_module": "@jupyter-widgets/controls",
       "_model_module_version": "1.5.0",
       "_model_name": "ProgressStyleModel",
       "_view_count": null,
       "_view_module": "@jupyter-widgets/base",
       "_view_module_version": "1.2.0",
       "_view_name": "StyleView",
       "bar_color": null,
       "description_width": ""
      }
     },
     "aa2da0aebf9c44a3ae7d77b596b7e2f7": {
      "model_module": "@jupyter-widgets/controls",
      "model_module_version": "1.5.0",
      "model_name": "HBoxModel",
      "state": {
       "_dom_classes": [],
       "_model_module": "@jupyter-widgets/controls",
       "_model_module_version": "1.5.0",
       "_model_name": "HBoxModel",
       "_view_count": null,
       "_view_module": "@jupyter-widgets/controls",
       "_view_module_version": "1.5.0",
       "_view_name": "HBoxView",
       "box_style": "",
       "children": [
        "IPY_MODEL_e1709d804dd6499eb63b94b33f4bdb8d",
        "IPY_MODEL_1e20dbb231f744cc858e8818f8b831e7",
        "IPY_MODEL_d1b29fbf775e48759e552fa09d92ab0d"
       ],
       "layout": "IPY_MODEL_355d9aee15664933be11b125d1510d71"
      }
     },
     "af3a33daf09a4948a01a9616402baf4a": {
      "model_module": "@jupyter-widgets/base",
      "model_module_version": "1.2.0",
      "model_name": "LayoutModel",
      "state": {
       "_model_module": "@jupyter-widgets/base",
       "_model_module_version": "1.2.0",
       "_model_name": "LayoutModel",
       "_view_count": null,
       "_view_module": "@jupyter-widgets/base",
       "_view_module_version": "1.2.0",
       "_view_name": "LayoutView",
       "align_content": null,
       "align_items": null,
       "align_self": null,
       "border": null,
       "bottom": null,
       "display": null,
       "flex": null,
       "flex_flow": null,
       "grid_area": null,
       "grid_auto_columns": null,
       "grid_auto_flow": null,
       "grid_auto_rows": null,
       "grid_column": null,
       "grid_gap": null,
       "grid_row": null,
       "grid_template_areas": null,
       "grid_template_columns": null,
       "grid_template_rows": null,
       "height": null,
       "justify_content": null,
       "justify_items": null,
       "left": null,
       "margin": null,
       "max_height": null,
       "max_width": null,
       "min_height": null,
       "min_width": null,
       "object_fit": null,
       "object_position": null,
       "order": null,
       "overflow": null,
       "overflow_x": null,
       "overflow_y": null,
       "padding": null,
       "right": null,
       "top": null,
       "visibility": null,
       "width": null
      }
     },
     "b5d0e1b7155942139a3a7da03aaa2731": {
      "model_module": "@jupyter-widgets/controls",
      "model_module_version": "1.5.0",
      "model_name": "DescriptionStyleModel",
      "state": {
       "_model_module": "@jupyter-widgets/controls",
       "_model_module_version": "1.5.0",
       "_model_name": "DescriptionStyleModel",
       "_view_count": null,
       "_view_module": "@jupyter-widgets/base",
       "_view_module_version": "1.2.0",
       "_view_name": "StyleView",
       "description_width": ""
      }
     },
     "c02f648a75594fcc8066c208e7897bcb": {
      "model_module": "@jupyter-widgets/controls",
      "model_module_version": "1.5.0",
      "model_name": "DescriptionStyleModel",
      "state": {
       "_model_module": "@jupyter-widgets/controls",
       "_model_module_version": "1.5.0",
       "_model_name": "DescriptionStyleModel",
       "_view_count": null,
       "_view_module": "@jupyter-widgets/base",
       "_view_module_version": "1.2.0",
       "_view_name": "StyleView",
       "description_width": ""
      }
     },
     "c16e4ed602ba443391272215c6a0ae05": {
      "model_module": "@jupyter-widgets/base",
      "model_module_version": "1.2.0",
      "model_name": "LayoutModel",
      "state": {
       "_model_module": "@jupyter-widgets/base",
       "_model_module_version": "1.2.0",
       "_model_name": "LayoutModel",
       "_view_count": null,
       "_view_module": "@jupyter-widgets/base",
       "_view_module_version": "1.2.0",
       "_view_name": "LayoutView",
       "align_content": null,
       "align_items": null,
       "align_self": null,
       "border": null,
       "bottom": null,
       "display": null,
       "flex": null,
       "flex_flow": null,
       "grid_area": null,
       "grid_auto_columns": null,
       "grid_auto_flow": null,
       "grid_auto_rows": null,
       "grid_column": null,
       "grid_gap": null,
       "grid_row": null,
       "grid_template_areas": null,
       "grid_template_columns": null,
       "grid_template_rows": null,
       "height": null,
       "justify_content": null,
       "justify_items": null,
       "left": null,
       "margin": null,
       "max_height": null,
       "max_width": null,
       "min_height": null,
       "min_width": null,
       "object_fit": null,
       "object_position": null,
       "order": null,
       "overflow": null,
       "overflow_x": null,
       "overflow_y": null,
       "padding": null,
       "right": null,
       "top": null,
       "visibility": null,
       "width": null
      }
     },
     "cc8b72e1946f4c2fa24f3d5b0238ff93": {
      "model_module": "@jupyter-widgets/controls",
      "model_module_version": "1.5.0",
      "model_name": "DescriptionStyleModel",
      "state": {
       "_model_module": "@jupyter-widgets/controls",
       "_model_module_version": "1.5.0",
       "_model_name": "DescriptionStyleModel",
       "_view_count": null,
       "_view_module": "@jupyter-widgets/base",
       "_view_module_version": "1.2.0",
       "_view_name": "StyleView",
       "description_width": ""
      }
     },
     "ced36b94b16e4f90acfd1055098fd80e": {
      "model_module": "@jupyter-widgets/controls",
      "model_module_version": "1.5.0",
      "model_name": "DescriptionStyleModel",
      "state": {
       "_model_module": "@jupyter-widgets/controls",
       "_model_module_version": "1.5.0",
       "_model_name": "DescriptionStyleModel",
       "_view_count": null,
       "_view_module": "@jupyter-widgets/base",
       "_view_module_version": "1.2.0",
       "_view_name": "StyleView",
       "description_width": ""
      }
     },
     "d1b29fbf775e48759e552fa09d92ab0d": {
      "model_module": "@jupyter-widgets/controls",
      "model_module_version": "1.5.0",
      "model_name": "HTMLModel",
      "state": {
       "_dom_classes": [],
       "_model_module": "@jupyter-widgets/controls",
       "_model_module_version": "1.5.0",
       "_model_name": "HTMLModel",
       "_view_count": null,
       "_view_module": "@jupyter-widgets/controls",
       "_view_module_version": "1.5.0",
       "_view_name": "HTMLView",
       "description": "",
       "description_tooltip": null,
       "layout": "IPY_MODEL_3e6ead3f31114894a63b7d698ec8de34",
       "placeholder": "​",
       "style": "IPY_MODEL_d69dbabfa3bf4978b047c9d4acd1dc17",
       "value": " 145988/145994 [16:46&lt;00:00, 169.81it/s]"
      }
     },
     "d69dbabfa3bf4978b047c9d4acd1dc17": {
      "model_module": "@jupyter-widgets/controls",
      "model_module_version": "1.5.0",
      "model_name": "DescriptionStyleModel",
      "state": {
       "_model_module": "@jupyter-widgets/controls",
       "_model_module_version": "1.5.0",
       "_model_name": "DescriptionStyleModel",
       "_view_count": null,
       "_view_module": "@jupyter-widgets/base",
       "_view_module_version": "1.2.0",
       "_view_name": "StyleView",
       "description_width": ""
      }
     },
     "db30564e0b4848b3bf9ec864a10623de": {
      "model_module": "@jupyter-widgets/controls",
      "model_module_version": "1.5.0",
      "model_name": "HTMLModel",
      "state": {
       "_dom_classes": [],
       "_model_module": "@jupyter-widgets/controls",
       "_model_module_version": "1.5.0",
       "_model_name": "HTMLModel",
       "_view_count": null,
       "_view_module": "@jupyter-widgets/controls",
       "_view_module_version": "1.5.0",
       "_view_name": "HTMLView",
       "description": "",
       "description_tooltip": null,
       "layout": "IPY_MODEL_67566208fadd44dca75c04b8966ba50c",
       "placeholder": "​",
       "style": "IPY_MODEL_6071f96aca404601b2c2161363da6426",
       "value": " 51704546/51704546 [51:37&lt;00:00, 19386.77it/s]"
      }
     },
     "e1709d804dd6499eb63b94b33f4bdb8d": {
      "model_module": "@jupyter-widgets/controls",
      "model_module_version": "1.5.0",
      "model_name": "HTMLModel",
      "state": {
       "_dom_classes": [],
       "_model_module": "@jupyter-widgets/controls",
       "_model_module_version": "1.5.0",
       "_model_name": "HTMLModel",
       "_view_count": null,
       "_view_module": "@jupyter-widgets/controls",
       "_view_module_version": "1.5.0",
       "_view_name": "HTMLView",
       "description": "",
       "description_tooltip": null,
       "layout": "IPY_MODEL_c16e4ed602ba443391272215c6a0ae05",
       "placeholder": "​",
       "style": "IPY_MODEL_86ff99fea6d9464e9011d0353d641ad9",
       "value": "100%"
      }
     },
     "e60418c82a6b4fb28b8d1efd41c399c1": {
      "model_module": "@jupyter-widgets/controls",
      "model_module_version": "1.5.0",
      "model_name": "DescriptionStyleModel",
      "state": {
       "_model_module": "@jupyter-widgets/controls",
       "_model_module_version": "1.5.0",
       "_model_name": "DescriptionStyleModel",
       "_view_count": null,
       "_view_module": "@jupyter-widgets/base",
       "_view_module_version": "1.2.0",
       "_view_name": "StyleView",
       "description_width": ""
      }
     },
     "e782412727be4f7d980e921277d67b1d": {
      "model_module": "@jupyter-widgets/base",
      "model_module_version": "1.2.0",
      "model_name": "LayoutModel",
      "state": {
       "_model_module": "@jupyter-widgets/base",
       "_model_module_version": "1.2.0",
       "_model_name": "LayoutModel",
       "_view_count": null,
       "_view_module": "@jupyter-widgets/base",
       "_view_module_version": "1.2.0",
       "_view_name": "LayoutView",
       "align_content": null,
       "align_items": null,
       "align_self": null,
       "border": null,
       "bottom": null,
       "display": null,
       "flex": null,
       "flex_flow": null,
       "grid_area": null,
       "grid_auto_columns": null,
       "grid_auto_flow": null,
       "grid_auto_rows": null,
       "grid_column": null,
       "grid_gap": null,
       "grid_row": null,
       "grid_template_areas": null,
       "grid_template_columns": null,
       "grid_template_rows": null,
       "height": null,
       "justify_content": null,
       "justify_items": null,
       "left": null,
       "margin": null,
       "max_height": null,
       "max_width": null,
       "min_height": null,
       "min_width": null,
       "object_fit": null,
       "object_position": null,
       "order": null,
       "overflow": null,
       "overflow_x": null,
       "overflow_y": null,
       "padding": null,
       "right": null,
       "top": null,
       "visibility": null,
       "width": null
      }
     },
     "e7b03ecccc44450e82ef1b77eeca31fa": {
      "model_module": "@jupyter-widgets/controls",
      "model_module_version": "1.5.0",
      "model_name": "ProgressStyleModel",
      "state": {
       "_model_module": "@jupyter-widgets/controls",
       "_model_module_version": "1.5.0",
       "_model_name": "ProgressStyleModel",
       "_view_count": null,
       "_view_module": "@jupyter-widgets/base",
       "_view_module_version": "1.2.0",
       "_view_name": "StyleView",
       "bar_color": null,
       "description_width": ""
      }
     },
     "e89bfbc353f7474190c8c02e92fe5a2d": {
      "model_module": "@jupyter-widgets/controls",
      "model_module_version": "1.5.0",
      "model_name": "HTMLModel",
      "state": {
       "_dom_classes": [],
       "_model_module": "@jupyter-widgets/controls",
       "_model_module_version": "1.5.0",
       "_model_name": "HTMLModel",
       "_view_count": null,
       "_view_module": "@jupyter-widgets/controls",
       "_view_module_version": "1.5.0",
       "_view_name": "HTMLView",
       "description": "",
       "description_tooltip": null,
       "layout": "IPY_MODEL_801cef4fc8594229a1cefc5d5b091b4d",
       "placeholder": "​",
       "style": "IPY_MODEL_a274d1c1429a4ca0b3f52f0e3128c128",
       "value": "100%"
      }
     },
     "ef84d83c087e4b7b878c2f8e6bc063e7": {
      "model_module": "@jupyter-widgets/base",
      "model_module_version": "1.2.0",
      "model_name": "LayoutModel",
      "state": {
       "_model_module": "@jupyter-widgets/base",
       "_model_module_version": "1.2.0",
       "_model_name": "LayoutModel",
       "_view_count": null,
       "_view_module": "@jupyter-widgets/base",
       "_view_module_version": "1.2.0",
       "_view_name": "LayoutView",
       "align_content": null,
       "align_items": null,
       "align_self": null,
       "border": null,
       "bottom": null,
       "display": null,
       "flex": null,
       "flex_flow": null,
       "grid_area": null,
       "grid_auto_columns": null,
       "grid_auto_flow": null,
       "grid_auto_rows": null,
       "grid_column": null,
       "grid_gap": null,
       "grid_row": null,
       "grid_template_areas": null,
       "grid_template_columns": null,
       "grid_template_rows": null,
       "height": null,
       "justify_content": null,
       "justify_items": null,
       "left": null,
       "margin": null,
       "max_height": null,
       "max_width": null,
       "min_height": null,
       "min_width": null,
       "object_fit": null,
       "object_position": null,
       "order": null,
       "overflow": null,
       "overflow_x": null,
       "overflow_y": null,
       "padding": null,
       "right": null,
       "top": null,
       "visibility": null,
       "width": null
      }
     },
     "f08b7bad7d8543ae95bcfa2cc64fae9d": {
      "model_module": "@jupyter-widgets/base",
      "model_module_version": "1.2.0",
      "model_name": "LayoutModel",
      "state": {
       "_model_module": "@jupyter-widgets/base",
       "_model_module_version": "1.2.0",
       "_model_name": "LayoutModel",
       "_view_count": null,
       "_view_module": "@jupyter-widgets/base",
       "_view_module_version": "1.2.0",
       "_view_name": "LayoutView",
       "align_content": null,
       "align_items": null,
       "align_self": null,
       "border": null,
       "bottom": null,
       "display": null,
       "flex": null,
       "flex_flow": null,
       "grid_area": null,
       "grid_auto_columns": null,
       "grid_auto_flow": null,
       "grid_auto_rows": null,
       "grid_column": null,
       "grid_gap": null,
       "grid_row": null,
       "grid_template_areas": null,
       "grid_template_columns": null,
       "grid_template_rows": null,
       "height": null,
       "justify_content": null,
       "justify_items": null,
       "left": null,
       "margin": null,
       "max_height": null,
       "max_width": null,
       "min_height": null,
       "min_width": null,
       "object_fit": null,
       "object_position": null,
       "order": null,
       "overflow": null,
       "overflow_x": null,
       "overflow_y": null,
       "padding": null,
       "right": null,
       "top": null,
       "visibility": null,
       "width": null
      }
     },
     "f24384b7b68e41bd84bea2f3a65c9932": {
      "model_module": "@jupyter-widgets/base",
      "model_module_version": "1.2.0",
      "model_name": "LayoutModel",
      "state": {
       "_model_module": "@jupyter-widgets/base",
       "_model_module_version": "1.2.0",
       "_model_name": "LayoutModel",
       "_view_count": null,
       "_view_module": "@jupyter-widgets/base",
       "_view_module_version": "1.2.0",
       "_view_name": "LayoutView",
       "align_content": null,
       "align_items": null,
       "align_self": null,
       "border": null,
       "bottom": null,
       "display": null,
       "flex": null,
       "flex_flow": null,
       "grid_area": null,
       "grid_auto_columns": null,
       "grid_auto_flow": null,
       "grid_auto_rows": null,
       "grid_column": null,
       "grid_gap": null,
       "grid_row": null,
       "grid_template_areas": null,
       "grid_template_columns": null,
       "grid_template_rows": null,
       "height": null,
       "justify_content": null,
       "justify_items": null,
       "left": null,
       "margin": null,
       "max_height": null,
       "max_width": null,
       "min_height": null,
       "min_width": null,
       "object_fit": null,
       "object_position": null,
       "order": null,
       "overflow": null,
       "overflow_x": null,
       "overflow_y": null,
       "padding": null,
       "right": null,
       "top": null,
       "visibility": null,
       "width": null
      }
     },
     "f27279747077438fbf8d8f5c1813e367": {
      "model_module": "@jupyter-widgets/base",
      "model_module_version": "1.2.0",
      "model_name": "LayoutModel",
      "state": {
       "_model_module": "@jupyter-widgets/base",
       "_model_module_version": "1.2.0",
       "_model_name": "LayoutModel",
       "_view_count": null,
       "_view_module": "@jupyter-widgets/base",
       "_view_module_version": "1.2.0",
       "_view_name": "LayoutView",
       "align_content": null,
       "align_items": null,
       "align_self": null,
       "border": null,
       "bottom": null,
       "display": null,
       "flex": null,
       "flex_flow": null,
       "grid_area": null,
       "grid_auto_columns": null,
       "grid_auto_flow": null,
       "grid_auto_rows": null,
       "grid_column": null,
       "grid_gap": null,
       "grid_row": null,
       "grid_template_areas": null,
       "grid_template_columns": null,
       "grid_template_rows": null,
       "height": null,
       "justify_content": null,
       "justify_items": null,
       "left": null,
       "margin": null,
       "max_height": null,
       "max_width": null,
       "min_height": null,
       "min_width": null,
       "object_fit": null,
       "object_position": null,
       "order": null,
       "overflow": null,
       "overflow_x": null,
       "overflow_y": null,
       "padding": null,
       "right": null,
       "top": null,
       "visibility": null,
       "width": null
      }
     },
     "f55e1b84904c43f88347490be535d116": {
      "model_module": "@jupyter-widgets/controls",
      "model_module_version": "1.5.0",
      "model_name": "FloatProgressModel",
      "state": {
       "_dom_classes": [],
       "_model_module": "@jupyter-widgets/controls",
       "_model_module_version": "1.5.0",
       "_model_name": "FloatProgressModel",
       "_view_count": null,
       "_view_module": "@jupyter-widgets/controls",
       "_view_module_version": "1.5.0",
       "_view_name": "ProgressView",
       "bar_style": "success",
       "description": "",
       "description_tooltip": null,
       "layout": "IPY_MODEL_8e79bb6c42bf46088661686f7694f1d9",
       "max": 583975.0,
       "min": 0.0,
       "orientation": "horizontal",
       "style": "IPY_MODEL_e7b03ecccc44450e82ef1b77eeca31fa",
       "value": 583975.0
      }
     },
     "fe3b31658a6244edb2e42ebe001d5635": {
      "model_module": "@jupyter-widgets/controls",
      "model_module_version": "1.5.0",
      "model_name": "SelectModel",
      "state": {
       "_dom_classes": [],
       "_model_module": "@jupyter-widgets/controls",
       "_model_module_version": "1.5.0",
       "_model_name": "SelectModel",
       "_options_labels": [
        "BradleyTerryFull",
        "BradleyTerryPart",
        "PlackettLuce",
        "ThurstoneMostellerFull",
        "ThurstoneMostellerPart"
       ],
       "_view_count": null,
       "_view_module": "@jupyter-widgets/controls",
       "_view_module_version": "1.5.0",
       "_view_name": "SelectView",
       "description": "Model:",
       "description_tooltip": null,
       "disabled": false,
       "index": 2,
       "layout": "IPY_MODEL_f24384b7b68e41bd84bea2f3a65c9932",
       "rows": 5,
       "style": "IPY_MODEL_46f2d20186374fb1a1d6b4f40fd3f14c"
      }
     }
    },
    "version_major": 2,
    "version_minor": 0
   }
  }
 },
 "nbformat": 4,
 "nbformat_minor": 5
}
