{
 "cells": [
  {
   "cell_type": "markdown",
   "id": "10667b8d",
   "metadata": {
    "papermill": {
     "duration": 0.009979,
     "end_time": "2023-12-10T23:17:13.152468",
     "exception": false,
     "start_time": "2023-12-10T23:17:13.142489",
     "status": "completed"
    },
    "tags": []
   },
   "source": [
    "## Rank Accuracy Benchmarks\n",
    "This is a reproducible benchmark that checks the accuracy of [openskill.py](https://openskill.me/) against a large dataset of PUBG matches.\n",
    "\n",
    "Let's start by importing the necessary libraries:"
   ]
  },
  {
   "cell_type": "code",
   "execution_count": 1,
   "id": "53ee272e",
   "metadata": {
    "execution": {
     "iopub.execute_input": "2023-12-10T23:17:13.174548Z",
     "iopub.status.busy": "2023-12-10T23:17:13.173319Z",
     "iopub.status.idle": "2023-12-10T23:17:29.747078Z",
     "shell.execute_reply": "2023-12-10T23:17:29.745408Z"
    },
    "papermill": {
     "duration": 16.588698,
     "end_time": "2023-12-10T23:17:29.750621",
     "exception": false,
     "start_time": "2023-12-10T23:17:13.161923",
     "status": "completed"
    },
    "tags": []
   },
   "outputs": [
    {
     "name": "stdout",
     "output_type": "stream",
     "text": [
      "Requirement already satisfied: polars in /opt/conda/lib/python3.10/site-packages (0.19.19)\r\n",
      "Collecting rbo\r\n",
      "  Downloading rbo-0.1.3-py3-none-any.whl (7.8 kB)\r\n",
      "Requirement already satisfied: rich in /opt/conda/lib/python3.10/site-packages (13.5.2)\r\n",
      "Requirement already satisfied: numpy in /opt/conda/lib/python3.10/site-packages (1.24.3)\r\n",
      "Requirement already satisfied: tqdm in /opt/conda/lib/python3.10/site-packages (4.66.1)\r\n",
      "Requirement already satisfied: pooch in /opt/conda/lib/python3.10/site-packages (1.8.0)\r\n",
      "Collecting openskill\r\n",
      "  Obtaining dependency information for openskill from https://files.pythonhosted.org/packages/11/af/083022f27cda2608c1ee8b32e759d813b056e1540269b0ae0bbc86226fcb/openskill-5.1.0-py3-none-any.whl.metadata\r\n",
      "  Downloading openskill-5.1.0-py3-none-any.whl.metadata (5.6 kB)\r\n",
      "Requirement already satisfied: markdown-it-py>=2.2.0 in /opt/conda/lib/python3.10/site-packages (from rich) (3.0.0)\r\n",
      "Requirement already satisfied: pygments<3.0.0,>=2.13.0 in /opt/conda/lib/python3.10/site-packages (from rich) (2.16.1)\r\n",
      "Requirement already satisfied: platformdirs>=2.5.0 in /opt/conda/lib/python3.10/site-packages (from pooch) (4.1.0)\r\n",
      "Requirement already satisfied: packaging>=20.0 in /opt/conda/lib/python3.10/site-packages (from pooch) (21.3)\r\n",
      "Requirement already satisfied: requests>=2.19.0 in /opt/conda/lib/python3.10/site-packages (from pooch) (2.31.0)\r\n",
      "Requirement already satisfied: mdurl~=0.1 in /opt/conda/lib/python3.10/site-packages (from markdown-it-py>=2.2.0->rich) (0.1.2)\r\n",
      "Requirement already satisfied: pyparsing!=3.0.5,>=2.0.2 in /opt/conda/lib/python3.10/site-packages (from packaging>=20.0->pooch) (3.0.9)\r\n",
      "Requirement already satisfied: charset-normalizer<4,>=2 in /opt/conda/lib/python3.10/site-packages (from requests>=2.19.0->pooch) (3.2.0)\r\n",
      "Requirement already satisfied: idna<4,>=2.5 in /opt/conda/lib/python3.10/site-packages (from requests>=2.19.0->pooch) (3.4)\r\n",
      "Requirement already satisfied: urllib3<3,>=1.21.1 in /opt/conda/lib/python3.10/site-packages (from requests>=2.19.0->pooch) (1.26.15)\r\n",
      "Requirement already satisfied: certifi>=2017.4.17 in /opt/conda/lib/python3.10/site-packages (from requests>=2.19.0->pooch) (2023.11.17)\r\n",
      "Downloading openskill-5.1.0-py3-none-any.whl (45 kB)\r\n",
      "\u001b[2K   \u001b[90m━━━━━━━━━━━━━━━━━━━━━━━━━━━━━━━━━━━━━━━━\u001b[0m \u001b[32m45.7/45.7 kB\u001b[0m \u001b[31m3.2 MB/s\u001b[0m eta \u001b[36m0:00:00\u001b[0m\r\n",
      "\u001b[?25hInstalling collected packages: rbo, openskill\r\n",
      "Successfully installed openskill-5.1.0 rbo-0.1.3\r\n",
      "Note: you may need to restart the kernel to use updated packages.\n"
     ]
    }
   ],
   "source": [
    "%pip install polars rbo rich numpy tqdm pooch openskill"
   ]
  },
  {
   "cell_type": "markdown",
   "id": "8e5ae8cc",
   "metadata": {
    "papermill": {
     "duration": 0.011133,
     "end_time": "2023-12-10T23:17:29.773594",
     "exception": false,
     "start_time": "2023-12-10T23:17:29.762461",
     "status": "completed"
    },
    "tags": []
   },
   "source": [
    "## Import Libraries\n",
    "We going to import polars to do the data loading and rich to display things in user friendly format.\n",
    "We are also going to import ipywidget for native iteractivity within the browser."
   ]
  },
  {
   "cell_type": "code",
   "execution_count": 2,
   "id": "16ac8231",
   "metadata": {
    "execution": {
     "iopub.execute_input": "2023-12-10T23:17:29.799023Z",
     "iopub.status.busy": "2023-12-10T23:17:29.798541Z",
     "iopub.status.idle": "2023-12-10T23:17:30.281327Z",
     "shell.execute_reply": "2023-12-10T23:17:30.279853Z"
    },
    "papermill": {
     "duration": 0.499526,
     "end_time": "2023-12-10T23:17:30.284515",
     "exception": false,
     "start_time": "2023-12-10T23:17:29.784989",
     "status": "completed"
    },
    "tags": []
   },
   "outputs": [],
   "source": [
    "import gc\n",
    "from dataclasses import dataclass\n",
    "from typing import Dict\n",
    "\n",
    "import ipywidgets as widgets\n",
    "import numpy as np\n",
    "import polars as pl\n",
    "import rich\n",
    "from rbo import rbo\n",
    "from rich.table import Table\n",
    "from tqdm.notebook import tqdm\n",
    "\n",
    "import openskill\n",
    "from openskill.models import (\n",
    "    BradleyTerryFull,\n",
    "    BradleyTerryPart,\n",
    "    PlackettLuce,\n",
    "    ThurstoneMostellerFull,\n",
    "    ThurstoneMostellerPart,\n",
    ")\n",
    "\n",
    "from pooch import DOIDownloader\n",
    "from pathlib import Path"
   ]
  },
  {
   "cell_type": "markdown",
   "id": "224c10fd",
   "metadata": {
    "papermill": {
     "duration": 0.011265,
     "end_time": "2023-12-10T23:17:30.307103",
     "exception": false,
     "start_time": "2023-12-10T23:17:30.295838",
     "status": "completed"
    },
    "tags": []
   },
   "source": [
    "## Check OpenSkill Version"
   ]
  },
  {
   "cell_type": "code",
   "execution_count": 3,
   "id": "57ad2778",
   "metadata": {
    "execution": {
     "iopub.execute_input": "2023-12-10T23:17:30.331561Z",
     "iopub.status.busy": "2023-12-10T23:17:30.331065Z",
     "iopub.status.idle": "2023-12-10T23:17:30.337939Z",
     "shell.execute_reply": "2023-12-10T23:17:30.336447Z"
    },
    "papermill": {
     "duration": 0.022609,
     "end_time": "2023-12-10T23:17:30.340889",
     "exception": false,
     "start_time": "2023-12-10T23:17:30.318280",
     "status": "completed"
    },
    "tags": []
   },
   "outputs": [
    {
     "name": "stdout",
     "output_type": "stream",
     "text": [
      "5.1.0\n"
     ]
    }
   ],
   "source": [
    "print(openskill.__version__)"
   ]
  },
  {
   "cell_type": "markdown",
   "id": "a95e4046",
   "metadata": {
    "papermill": {
     "duration": 0.011171,
     "end_time": "2023-12-10T23:17:30.363420",
     "exception": false,
     "start_time": "2023-12-10T23:17:30.352249",
     "status": "completed"
    },
    "tags": []
   },
   "source": [
    "## Download Data\n",
    "The data we need is not available, yet. So let's download it.\n",
    "It's available [here](https://zenodo.org/records/10342317).\n"
   ]
  },
  {
   "cell_type": "code",
   "execution_count": 4,
   "id": "06a254ad",
   "metadata": {
    "collapsed": false,
    "execution": {
     "iopub.execute_input": "2023-12-10T23:17:30.387995Z",
     "iopub.status.busy": "2023-12-10T23:17:30.387540Z",
     "iopub.status.idle": "2023-12-10T23:19:24.305077Z",
     "shell.execute_reply": "2023-12-10T23:19:24.304093Z"
    },
    "jupyter": {
     "outputs_hidden": false
    },
    "papermill": {
     "duration": 113.933155,
     "end_time": "2023-12-10T23:19:24.307867",
     "exception": false,
     "start_time": "2023-12-10T23:17:30.374712",
     "status": "completed"
    },
    "tags": []
   },
   "outputs": [
    {
     "name": "stderr",
     "output_type": "stream",
     "text": [
      "100%|██████████████████████████████████████| 1.64G/1.64G [00:00<00:00, 843GB/s]\n",
      "100%|████████████████████████████████████████| 369M/369M [00:00<00:00, 222GB/s]\n"
     ]
    }
   ],
   "source": [
    "downloader = DOIDownloader(progressbar=True)\n",
    "\n",
    "working_directory = Path.cwd()\n",
    "data_directory = Path(working_directory / Path(\"data\"))\n",
    "data_directory.mkdir(exist_ok=True)\n",
    "downloader(\n",
    "    url=\"doi:10.5281/zenodo.10342317/train.parquet\",\n",
    "    output_file=data_directory / \"train.parquet\",\n",
    "    pooch=None,\n",
    ")\n",
    "downloader(\n",
    "    url=\"doi:10.5281/zenodo.10342317/test.parquet\",\n",
    "    output_file=data_directory / \"test.parquet\",\n",
    "    pooch=None,\n",
    ")"
   ]
  },
  {
   "cell_type": "markdown",
   "id": "8f21d0ad",
   "metadata": {
    "papermill": {
     "duration": 0.160109,
     "end_time": "2023-12-10T23:19:24.551132",
     "exception": false,
     "start_time": "2023-12-10T23:19:24.391023",
     "status": "completed"
    },
    "tags": []
   },
   "source": [
    "## Define Data Containers\n",
    "We need to define some data container classes. We shall use dataclasses for this purpose with slots enabled."
   ]
  },
  {
   "cell_type": "code",
   "execution_count": 5,
   "id": "388a3312",
   "metadata": {
    "execution": {
     "iopub.execute_input": "2023-12-10T23:19:24.716697Z",
     "iopub.status.busy": "2023-12-10T23:19:24.716163Z",
     "iopub.status.idle": "2023-12-10T23:19:24.726068Z",
     "shell.execute_reply": "2023-12-10T23:19:24.724608Z"
    },
    "papermill": {
     "duration": 0.095731,
     "end_time": "2023-12-10T23:19:24.728515",
     "exception": false,
     "start_time": "2023-12-10T23:19:24.632784",
     "status": "completed"
    },
    "tags": []
   },
   "outputs": [],
   "source": [
    "@dataclass(slots=True)\n",
    "class Player:\n",
    "    name: str\n",
    "    kill_ratio: float\n",
    "    assist_ratio: float\n",
    "\n",
    "\n",
    "@dataclass(slots=True)\n",
    "class Team:\n",
    "    id: int\n",
    "    match_id: str\n",
    "    rank: int\n",
    "    players: Dict[str, Player]\n",
    "\n",
    "\n",
    "@dataclass(slots=True)\n",
    "class Match:\n",
    "    id: str\n",
    "    teams: Dict[int, Team]"
   ]
  },
  {
   "cell_type": "markdown",
   "id": "7364018d",
   "metadata": {
    "papermill": {
     "duration": 0.082684,
     "end_time": "2023-12-10T23:19:24.894869",
     "exception": false,
     "start_time": "2023-12-10T23:19:24.812185",
     "status": "completed"
    },
    "tags": []
   },
   "source": [
    "## Select Model\n",
    "OpenSkill comes with 5 models. Let's pick one for this benchmark."
   ]
  },
  {
   "cell_type": "code",
   "execution_count": 6,
   "id": "a45d24a3",
   "metadata": {
    "execution": {
     "iopub.execute_input": "2023-12-10T23:19:25.063601Z",
     "iopub.status.busy": "2023-12-10T23:19:25.062840Z",
     "iopub.status.idle": "2023-12-10T23:19:25.075584Z",
     "shell.execute_reply": "2023-12-10T23:19:25.074417Z"
    },
    "papermill": {
     "duration": 0.100639,
     "end_time": "2023-12-10T23:19:25.077902",
     "exception": false,
     "start_time": "2023-12-10T23:19:24.977263",
     "status": "completed"
    },
    "tags": []
   },
   "outputs": [
    {
     "data": {
      "application/vnd.jupyter.widget-view+json": {
       "model_id": "48bd97570e384edc9294c213c76816f3",
       "version_major": 2,
       "version_minor": 0
      },
      "text/plain": [
       "Select(description='Model:', index=2, options=('BradleyTerryFull', 'BradleyTerryPart', 'PlackettLuce', 'Thurst…"
      ]
     },
     "metadata": {},
     "output_type": "display_data"
    }
   ],
   "source": [
    "models = [\n",
    "    BradleyTerryFull,\n",
    "    BradleyTerryPart,\n",
    "    PlackettLuce,\n",
    "    ThurstoneMostellerFull,\n",
    "    ThurstoneMostellerPart,\n",
    "]\n",
    "\n",
    "widget = widgets.Select(\n",
    "    options=[m.__name__ for m in models],\n",
    "    value=PlackettLuce.__name__,\n",
    "    # rows=10,\n",
    "    description=\"Model:\",\n",
    "    disabled=False,\n",
    ")\n",
    "display(widget)"
   ]
  },
  {
   "cell_type": "markdown",
   "id": "7a6f1716",
   "metadata": {
    "papermill": {
     "duration": 0.083606,
     "end_time": "2023-12-10T23:19:25.244850",
     "exception": false,
     "start_time": "2023-12-10T23:19:25.161244",
     "status": "completed"
    },
    "tags": []
   },
   "source": [
    "## Initialize Model\n",
    "Let's call the constructor on the model."
   ]
  },
  {
   "cell_type": "code",
   "execution_count": 7,
   "id": "5b5397a9",
   "metadata": {
    "execution": {
     "iopub.execute_input": "2023-12-10T23:19:25.415713Z",
     "iopub.status.busy": "2023-12-10T23:19:25.414864Z",
     "iopub.status.idle": "2023-12-10T23:19:25.421383Z",
     "shell.execute_reply": "2023-12-10T23:19:25.420290Z"
    },
    "papermill": {
     "duration": 0.096655,
     "end_time": "2023-12-10T23:19:25.424466",
     "exception": false,
     "start_time": "2023-12-10T23:19:25.327811",
     "status": "completed"
    },
    "tags": []
   },
   "outputs": [
    {
     "name": "stdout",
     "output_type": "stream",
     "text": [
      "Plackett-Luce Model Parameters: \n",
      "\n",
      "mu: 25.0\n",
      "sigma: 8.333333333333334\n",
      "\n"
     ]
    }
   ],
   "source": [
    "widget.close()\n",
    "m = widget.value\n",
    "m = eval(m)\n",
    "model = m()\n",
    "print(str(model))"
   ]
  },
  {
   "cell_type": "markdown",
   "id": "601aaddb",
   "metadata": {
    "papermill": {
     "duration": 0.083171,
     "end_time": "2023-12-10T23:19:25.592640",
     "exception": false,
     "start_time": "2023-12-10T23:19:25.509469",
     "status": "completed"
    },
    "tags": []
   },
   "source": [
    "## Load Data\n",
    "We are going to use the Polars library to lazily scan the parquet files."
   ]
  },
  {
   "cell_type": "code",
   "execution_count": 8,
   "id": "3833da22",
   "metadata": {
    "execution": {
     "iopub.execute_input": "2023-12-10T23:19:25.762053Z",
     "iopub.status.busy": "2023-12-10T23:19:25.761355Z",
     "iopub.status.idle": "2023-12-10T23:19:45.443648Z",
     "shell.execute_reply": "2023-12-10T23:19:45.442330Z"
    },
    "papermill": {
     "duration": 19.770675,
     "end_time": "2023-12-10T23:19:45.446857",
     "exception": false,
     "start_time": "2023-12-10T23:19:25.676182",
     "status": "completed"
    },
    "tags": []
   },
   "outputs": [],
   "source": [
    "# Load Data\n",
    "train = pl.scan_parquet(data_directory / \"train.parquet\")\n",
    "test = pl.scan_parquet(data_directory / \"test.parquet\")\n",
    "train = train.collect(streaming=True)"
   ]
  },
  {
   "cell_type": "markdown",
   "id": "88a1ee4c",
   "metadata": {
    "papermill": {
     "duration": 0.08251,
     "end_time": "2023-12-10T23:19:45.613293",
     "exception": false,
     "start_time": "2023-12-10T23:19:45.530783",
     "status": "completed"
    },
    "tags": []
   },
   "source": [
    "## Optimize Dataframe\n",
    "Let's change the data types to reduce memory usage."
   ]
  },
  {
   "cell_type": "code",
   "execution_count": 9,
   "id": "72e945d0",
   "metadata": {
    "execution": {
     "iopub.execute_input": "2023-12-10T23:19:45.781070Z",
     "iopub.status.busy": "2023-12-10T23:19:45.780336Z",
     "iopub.status.idle": "2023-12-10T23:20:25.384614Z",
     "shell.execute_reply": "2023-12-10T23:20:25.383042Z"
    },
    "papermill": {
     "duration": 39.776047,
     "end_time": "2023-12-10T23:20:25.472061",
     "exception": false,
     "start_time": "2023-12-10T23:19:45.696014",
     "status": "completed"
    },
    "tags": []
   },
   "outputs": [
    {
     "name": "stdout",
     "output_type": "stream",
     "text": [
      "Memory usage of dataframe train is 13045.49 MB\n",
      "Memory usage of dataframe train became 3055.21 MB\n"
     ]
    }
   ],
   "source": [
    "def reduce_memory_usage_pl(df, name):\n",
    "    \"\"\"\n",
    "    Reduce memory usage by polars dataframe {df} with name {name} by changing its data types.\n",
    "    Original pandas version of this function:\n",
    "    https://www.kaggle.com/code/arjanso/reducing-dataframe-memory-size-by-65\n",
    "    \"\"\"\n",
    "    print(f\"Memory usage of dataframe {name} is {round(df.estimated_size('mb'), 2)} MB\")\n",
    "    Numeric_Int_types = [pl.Int8, pl.Int16, pl.Int32, pl.Int64]\n",
    "    Numeric_Float_types = [pl.Float32, pl.Float64]\n",
    "    for col in df.columns:\n",
    "        col_type = df[col].dtype\n",
    "        c_min = df[col].min()\n",
    "        c_max = df[col].max()\n",
    "        if col_type in Numeric_Int_types:\n",
    "            if c_min > np.iinfo(np.int8).min and c_max < np.iinfo(np.int8).max:\n",
    "                df = df.with_columns(df[col].cast(pl.Int8))\n",
    "            elif c_min > np.iinfo(np.int16).min and c_max < np.iinfo(np.int16).max:\n",
    "                df = df.with_columns(df[col].cast(pl.Int16))\n",
    "            elif c_min > np.iinfo(np.int32).min and c_max < np.iinfo(np.int32).max:\n",
    "                df = df.with_columns(df[col].cast(pl.Int32))\n",
    "            elif c_min > np.iinfo(np.int64).min and c_max < np.iinfo(np.int64).max:\n",
    "                df = df.with_columns(df[col].cast(pl.Int64))\n",
    "        elif col_type in Numeric_Float_types:\n",
    "            if c_min > np.finfo(np.float32).min and c_max < np.finfo(np.float32).max:\n",
    "                df = df.with_columns(df[col].cast(pl.Float32))\n",
    "            else:\n",
    "                pass\n",
    "        elif col_type == pl.Utf8:\n",
    "            df = df.with_columns(df[col].cast(pl.Categorical))\n",
    "        else:\n",
    "            pass\n",
    "    print(\n",
    "        f\"Memory usage of dataframe {name} became {round(df.estimated_size('mb'), 2)} MB\"\n",
    "    )\n",
    "    return df\n",
    "\n",
    "\n",
    "# Reduce Memory Usage\n",
    "train = reduce_memory_usage_pl(train, \"train\")\n",
    "_ = gc.collect()"
   ]
  },
  {
   "cell_type": "markdown",
   "id": "a6a1d748",
   "metadata": {
    "papermill": {
     "duration": 0.084078,
     "end_time": "2023-12-10T23:20:25.641542",
     "exception": false,
     "start_time": "2023-12-10T23:20:25.557464",
     "status": "completed"
    },
    "tags": []
   },
   "source": [
    "Let's also hold all rating data in a single variable:"
   ]
  },
  {
   "cell_type": "code",
   "execution_count": 10,
   "id": "496146a9",
   "metadata": {
    "execution": {
     "iopub.execute_input": "2023-12-10T23:20:25.814117Z",
     "iopub.status.busy": "2023-12-10T23:20:25.813645Z",
     "iopub.status.idle": "2023-12-10T23:20:25.819289Z",
     "shell.execute_reply": "2023-12-10T23:20:25.817645Z"
    },
    "papermill": {
     "duration": 0.095718,
     "end_time": "2023-12-10T23:20:25.822043",
     "exception": false,
     "start_time": "2023-12-10T23:20:25.726325",
     "status": "completed"
    },
    "tags": []
   },
   "outputs": [],
   "source": [
    "# Data Container\n",
    "openskill_players = {}"
   ]
  },
  {
   "cell_type": "markdown",
   "id": "99b633a4",
   "metadata": {
    "papermill": {
     "duration": 0.083998,
     "end_time": "2023-12-10T23:20:25.991317",
     "exception": false,
     "start_time": "2023-12-10T23:20:25.907319",
     "status": "completed"
    },
    "tags": []
   },
   "source": [
    "## Parse Data for Training Set\n",
    "Let's now parse the training data and put it into our dataclasses."
   ]
  },
  {
   "cell_type": "code",
   "execution_count": 11,
   "id": "f7ffa9b5",
   "metadata": {
    "execution": {
     "iopub.execute_input": "2023-12-10T23:20:26.163982Z",
     "iopub.status.busy": "2023-12-10T23:20:26.163533Z",
     "iopub.status.idle": "2023-12-11T00:04:49.951139Z",
     "shell.execute_reply": "2023-12-11T00:04:49.949870Z"
    },
    "papermill": {
     "duration": 2663.95943,
     "end_time": "2023-12-11T00:04:50.034982",
     "exception": false,
     "start_time": "2023-12-10T23:20:26.075552",
     "status": "completed"
    },
    "tags": []
   },
   "outputs": [
    {
     "name": "stdout",
     "output_type": "stream",
     "text": [
      "Loading Raw Data from Training Set into Memory\n",
      "Parsing Training Data:\n"
     ]
    },
    {
     "data": {
      "application/vnd.jupyter.widget-view+json": {
       "model_id": "341eaf8af1f348e7992bba4894976cbe",
       "version_major": 2,
       "version_minor": 0
      },
      "text/plain": [
       "  0%|          | 0/51704546 [00:00<?, ?it/s]"
      ]
     },
     "metadata": {},
     "output_type": "display_data"
    },
    {
     "name": "stdout",
     "output_type": "stream",
     "text": [
      "Parsed 583975 Training Matches\n"
     ]
    },
    {
     "data": {
      "text/plain": [
       "0"
      ]
     },
     "execution_count": 11,
     "metadata": {},
     "output_type": "execute_result"
    }
   ],
   "source": [
    "print(\"Loading Raw Data from Training Set into Memory\")\n",
    "\n",
    "# Parse Training Data\n",
    "print(\"Parsing Training Data:\")\n",
    "\n",
    "# Get Unique Matches for Training\n",
    "train_size = len(train)\n",
    "\n",
    "# Create a Progress Bar\n",
    "t = tqdm(total=train_size)\n",
    "\n",
    "# Training Data\n",
    "train_matches: Dict[str, Match] = {}\n",
    "\n",
    "for raw_player in train.iter_rows(named=True):\n",
    "    player = Player(\n",
    "        name=raw_player[\"player_name\"],\n",
    "        kill_ratio=raw_player[\"kill_ratio\"],\n",
    "        assist_ratio=raw_player[\"assist_ratio\"],\n",
    "    )\n",
    "\n",
    "    match_id = raw_player[\"match_id\"]\n",
    "    team_id = raw_player[\"team_id\"]\n",
    "    if match_id not in train_matches:\n",
    "        team = Team(\n",
    "            id=raw_player[\"team_id\"],\n",
    "            match_id=raw_player[\"match_id\"],\n",
    "            rank=raw_player[\"team_placement\"],\n",
    "            players={player.name: player},\n",
    "        )\n",
    "\n",
    "        match = Match(id=raw_player[\"match_id\"], teams={team.id: team})\n",
    "    else:\n",
    "        if team_id not in train_matches[match_id].teams:\n",
    "            match = train_matches[match_id]\n",
    "            team = Team(\n",
    "                id=raw_player[\"team_id\"],\n",
    "                match_id=raw_player[\"match_id\"],\n",
    "                rank=raw_player[\"team_placement\"],\n",
    "                players={player.name: player},\n",
    "            )\n",
    "            match.teams[team_id] = team\n",
    "        else:\n",
    "            match = train_matches[match_id]\n",
    "            match.teams[team_id].players[player.name] = player\n",
    "\n",
    "    train_matches[match_id] = match\n",
    "    t.update(1)\n",
    "\n",
    "print(f\"Parsed {len(train_matches)} Training Matches\")\n",
    "gc.collect()"
   ]
  },
  {
   "cell_type": "markdown",
   "id": "f7d5add0",
   "metadata": {
    "papermill": {
     "duration": 0.083696,
     "end_time": "2023-12-11T00:04:50.202438",
     "exception": false,
     "start_time": "2023-12-11T00:04:50.118742",
     "status": "completed"
    },
    "tags": []
   },
   "source": [
    "## Intialize OpenSkill Ratings for Train Set\n",
    "Next let's use the ``model.rating`` method to create new rating objects for each player in the training set."
   ]
  },
  {
   "cell_type": "code",
   "execution_count": 12,
   "id": "f3eb18ca",
   "metadata": {
    "execution": {
     "iopub.execute_input": "2023-12-11T00:04:50.369801Z",
     "iopub.status.busy": "2023-12-11T00:04:50.369075Z",
     "iopub.status.idle": "2023-12-11T01:18:12.435576Z",
     "shell.execute_reply": "2023-12-11T01:18:12.434120Z"
    },
    "papermill": {
     "duration": 4402.239175,
     "end_time": "2023-12-11T01:18:12.523276",
     "exception": false,
     "start_time": "2023-12-11T00:04:50.284101",
     "status": "completed"
    },
    "tags": []
   },
   "outputs": [
    {
     "name": "stdout",
     "output_type": "stream",
     "text": [
      "Initializing Players for Training Set:\n"
     ]
    },
    {
     "data": {
      "application/vnd.jupyter.widget-view+json": {
       "model_id": "e166babd3698417fbdaaaca8da8d1bec",
       "version_major": 2,
       "version_minor": 0
      },
      "text/plain": [
       "  0%|          | 0/51704546 [00:00<?, ?it/s]"
      ]
     },
     "metadata": {},
     "output_type": "display_data"
    },
    {
     "name": "stdout",
     "output_type": "stream",
     "text": [
      "Rate Training Matches:\n"
     ]
    },
    {
     "data": {
      "application/vnd.jupyter.widget-view+json": {
       "model_id": "e8b3ba9fd8f84975862a5446fec6d9ba",
       "version_major": 2,
       "version_minor": 0
      },
      "text/plain": [
       "  0%|          | 0/583975 [00:00<?, ?it/s]"
      ]
     },
     "metadata": {},
     "output_type": "display_data"
    },
    {
     "data": {
      "text/plain": [
       "19"
      ]
     },
     "execution_count": 12,
     "metadata": {},
     "output_type": "execute_result"
    }
   ],
   "source": [
    "# Initialize OpenSkill Players for Training\n",
    "print(\"Initializing Players for Training Set:\")\n",
    "\n",
    "# Create a Progress Bar\n",
    "t = tqdm(total=train_size)\n",
    "\n",
    "for match_id, match in train_matches.items():\n",
    "    for team_id, team in match.teams.items():\n",
    "        for player_name, player in team.players.items():\n",
    "            player_rating = model.rating(name=player_name)\n",
    "            openskill_players[player_name] = player_rating\n",
    "            t.update(1)\n",
    "\n",
    "# Rate OpenSkill Players for Training\n",
    "print(\"Rate Training Matches:\")\n",
    "t = tqdm(total=len(train_matches))\n",
    "\n",
    "for match_id, match in train_matches.items():\n",
    "    teams_to_rate = []\n",
    "    ranks = []\n",
    "    for team_id, team in match.teams.items():\n",
    "        teams = []\n",
    "        ranks.append(team.rank)\n",
    "        for player_name, player in team.players.items():\n",
    "            player_rating = openskill_players[player_name]\n",
    "            teams.append(player_rating)\n",
    "        teams_to_rate.append(teams)\n",
    "\n",
    "    if len(teams_to_rate) > 1:\n",
    "        rated_teams = model.rate(teams=teams_to_rate, ranks=ranks)\n",
    "\n",
    "        for team in rated_teams:\n",
    "            for player in team:\n",
    "                openskill_players[player.name] = player\n",
    "    t.update(1)\n",
    "gc.collect()"
   ]
  },
  {
   "cell_type": "markdown",
   "id": "abd3b6d0",
   "metadata": {
    "papermill": {
     "duration": 0.086927,
     "end_time": "2023-12-11T01:18:12.695911",
     "exception": false,
     "start_time": "2023-12-11T01:18:12.608984",
     "status": "completed"
    },
    "tags": []
   },
   "source": [
    "## Clear Memory\n",
    "Let's delete some variables so we can save some memory and load the test set."
   ]
  },
  {
   "cell_type": "code",
   "execution_count": 13,
   "id": "1163b034",
   "metadata": {
    "execution": {
     "iopub.execute_input": "2023-12-11T01:18:12.871987Z",
     "iopub.status.busy": "2023-12-11T01:18:12.870937Z",
     "iopub.status.idle": "2023-12-11T01:19:03.081915Z",
     "shell.execute_reply": "2023-12-11T01:19:03.080720Z"
    },
    "papermill": {
     "duration": 50.39865,
     "end_time": "2023-12-11T01:19:03.181228",
     "exception": false,
     "start_time": "2023-12-11T01:18:12.782578",
     "status": "completed"
    },
    "tags": []
   },
   "outputs": [
    {
     "name": "stdout",
     "output_type": "stream",
     "text": [
      "Memory usage of dataframe test is 2898.45 MB\n",
      "Memory usage of dataframe test became 688.16 MB\n"
     ]
    },
    {
     "data": {
      "text/plain": [
       "0"
      ]
     },
     "execution_count": 13,
     "metadata": {},
     "output_type": "execute_result"
    }
   ],
   "source": [
    "del train\n",
    "del train_matches\n",
    "gc.collect()\n",
    "\n",
    "test = test.collect(streaming=True)\n",
    "test = reduce_memory_usage_pl(test, \"test\")\n",
    "gc.collect()"
   ]
  },
  {
   "cell_type": "markdown",
   "id": "8823dc03",
   "metadata": {
    "papermill": {
     "duration": 0.086142,
     "end_time": "2023-12-11T01:19:03.353295",
     "exception": false,
     "start_time": "2023-12-11T01:19:03.267153",
     "status": "completed"
    },
    "tags": []
   },
   "source": [
    "## Parsing Test Set\n",
    "Now let's do the same thing for the test set and grab the matches."
   ]
  },
  {
   "cell_type": "code",
   "execution_count": 14,
   "id": "6d71b992",
   "metadata": {
    "execution": {
     "iopub.execute_input": "2023-12-11T01:19:03.526559Z",
     "iopub.status.busy": "2023-12-11T01:19:03.525524Z",
     "iopub.status.idle": "2023-12-11T01:29:50.886585Z",
     "shell.execute_reply": "2023-12-11T01:29:50.884643Z"
    },
    "papermill": {
     "duration": 647.451373,
     "end_time": "2023-12-11T01:29:50.890036",
     "exception": false,
     "start_time": "2023-12-11T01:19:03.438663",
     "status": "completed"
    },
    "tags": []
   },
   "outputs": [
    {
     "name": "stdout",
     "output_type": "stream",
     "text": [
      "Loading Raw Data from Test Set into Memory\n",
      "Parsing Test Data:\n"
     ]
    },
    {
     "data": {
      "application/vnd.jupyter.widget-view+json": {
       "model_id": "95dabc13232a44cd9f6ac2591b7d15f0",
       "version_major": 2,
       "version_minor": 0
      },
      "text/plain": [
       "  0%|          | 0/11487236 [00:00<?, ?it/s]"
      ]
     },
     "metadata": {},
     "output_type": "display_data"
    }
   ],
   "source": [
    "# Get Unique Matches for Testing\n",
    "print(\"Loading Raw Data from Test Set into Memory\")\n",
    "\n",
    "test_size = len(test)\n",
    "\n",
    "# Parse Data\n",
    "print(\"Parsing Test Data:\")\n",
    "\n",
    "t = tqdm(total=test_size)\n",
    "\n",
    "# Test Data\n",
    "test_matches: Dict[str, Match] = {}\n",
    "\n",
    "for raw_player in test.iter_rows(named=True):\n",
    "    player = Player(\n",
    "        name=raw_player[\"player_name\"],\n",
    "        kill_ratio=raw_player[\"kill_ratio\"],\n",
    "        assist_ratio=raw_player[\"assist_ratio\"],\n",
    "    )\n",
    "\n",
    "    match_id = raw_player[\"match_id\"]\n",
    "    team_id = raw_player[\"team_id\"]\n",
    "    if match_id not in test_matches:\n",
    "        team = Team(\n",
    "            id=raw_player[\"team_id\"],\n",
    "            match_id=raw_player[\"match_id\"],\n",
    "            rank=raw_player[\"team_placement\"],\n",
    "            players={player.name: player},\n",
    "        )\n",
    "\n",
    "        match = Match(id=raw_player[\"match_id\"], teams={team.id: team})\n",
    "    else:\n",
    "        if team_id not in test_matches[match_id].teams:\n",
    "            match = test_matches[match_id]\n",
    "            team = Team(\n",
    "                id=raw_player[\"team_id\"],\n",
    "                match_id=raw_player[\"match_id\"],\n",
    "                rank=raw_player[\"team_placement\"],\n",
    "                players={player.name: player},\n",
    "            )\n",
    "            match.teams[team_id] = team\n",
    "        else:\n",
    "            match = test_matches[match_id]\n",
    "            match.teams[team_id].players[player.name] = player\n",
    "\n",
    "    test_matches[match_id] = match\n",
    "    t.update(1)"
   ]
  },
  {
   "cell_type": "markdown",
   "id": "ed4157ca",
   "metadata": {
    "papermill": {
     "duration": 0.084092,
     "end_time": "2023-12-11T01:29:51.058680",
     "exception": false,
     "start_time": "2023-12-11T01:29:50.974588",
     "status": "completed"
    },
    "tags": []
   },
   "source": [
    "## Predict Test Set\n",
    "Let's use the data we trained on to try and predict the test set."
   ]
  },
  {
   "cell_type": "code",
   "execution_count": 15,
   "id": "da3cb1f5",
   "metadata": {
    "execution": {
     "iopub.execute_input": "2023-12-11T01:29:51.235703Z",
     "iopub.status.busy": "2023-12-11T01:29:51.235087Z",
     "iopub.status.idle": "2023-12-11T01:46:58.885290Z",
     "shell.execute_reply": "2023-12-11T01:46:58.883798Z"
    },
    "papermill": {
     "duration": 1027.742871,
     "end_time": "2023-12-11T01:46:58.888326",
     "exception": false,
     "start_time": "2023-12-11T01:29:51.145455",
     "status": "completed"
    },
    "tags": []
   },
   "outputs": [
    {
     "name": "stdout",
     "output_type": "stream",
     "text": [
      "Predict Matches in Test Set using OpenSkill:\n"
     ]
    },
    {
     "data": {
      "application/vnd.jupyter.widget-view+json": {
       "model_id": "fc9f7d39ccef46d594e0ea6a76c9b3ec",
       "version_major": 2,
       "version_minor": 0
      },
      "text/plain": [
       "  0%|          | 0/145994 [00:00<?, ?it/s]"
      ]
     },
     "metadata": {},
     "output_type": "display_data"
    }
   ],
   "source": [
    "# Predict OpenSkill Matches\n",
    "print(\"Predict Matches in Test Set using OpenSkill:\")\n",
    "t = tqdm(total=len(test_matches))\n",
    "\n",
    "# Accuracy Trackers\n",
    "rbo_scores = []\n",
    "openskill_correct_predictions = 0\n",
    "openskill_incorrect_predictions = 0\n",
    "\n",
    "for match_id, match in test_matches.items():\n",
    "    teams_to_predict = []\n",
    "    actual_ranks = []\n",
    "    for team_id, team in match.teams.items():\n",
    "        teams = []\n",
    "        actual_ranks.append(team.rank)\n",
    "        for player_name, player in team.players.items():\n",
    "            if player_name in openskill_players:\n",
    "                player_rating = openskill_players[player_name]\n",
    "            else:\n",
    "                player_rating = model.rating(name=player_name)\n",
    "            teams.append(player_rating)\n",
    "        teams_to_predict.append(teams)\n",
    "\n",
    "    if len(teams_to_predict) > 1:\n",
    "        actual_ranks = {_[0]: _[1] for _ in zip(actual_ranks, teams_to_predict)}\n",
    "        predictions = [_[0] for _ in model.predict_rank(teams_to_predict)]\n",
    "        expected_ranks = {_[0]: _[1] for _ in zip(predictions, teams_to_predict)}\n",
    "\n",
    "        try:\n",
    "            actual_ranks = dict(\n",
    "                sorted(\n",
    "                    actual_ranks.items(),\n",
    "                    key=lambda x: [*expected_ranks.values()].index(x[1]),\n",
    "                )\n",
    "            )\n",
    "\n",
    "            ar_index = next(iter(actual_ranks))\n",
    "            er_index = next(iter(expected_ranks))\n",
    "\n",
    "            similarity = rbo.RankingSimilarity(\n",
    "                list(actual_ranks.keys()), list(expected_ranks.keys())\n",
    "            ).rbo_ext()\n",
    "            rbo_scores.append(similarity)\n",
    "\n",
    "            if actual_ranks[ar_index] == expected_ranks[er_index]:\n",
    "                openskill_correct_predictions += 1\n",
    "            else:\n",
    "                openskill_incorrect_predictions += 1\n",
    "        except ValueError:\n",
    "            pass\n",
    "    t.update(1)"
   ]
  },
  {
   "cell_type": "markdown",
   "id": "970765e7",
   "metadata": {
    "papermill": {
     "duration": 0.088212,
     "end_time": "2023-12-11T01:46:59.061934",
     "exception": false,
     "start_time": "2023-12-11T01:46:58.973722",
     "status": "completed"
    },
    "tags": []
   },
   "source": [
    "## Results\n",
    "Let's print out the result and interpret it."
   ]
  },
  {
   "cell_type": "code",
   "execution_count": 16,
   "id": "74589996",
   "metadata": {
    "execution": {
     "iopub.execute_input": "2023-12-11T01:46:59.238575Z",
     "iopub.status.busy": "2023-12-11T01:46:59.238090Z",
     "iopub.status.idle": "2023-12-11T01:46:59.331355Z",
     "shell.execute_reply": "2023-12-11T01:46:59.329810Z"
    },
    "papermill": {
     "duration": 0.186476,
     "end_time": "2023-12-11T01:46:59.334492",
     "exception": false,
     "start_time": "2023-12-11T01:46:59.148016",
     "status": "completed"
    },
    "tags": []
   },
   "outputs": [
    {
     "data": {
      "text/html": [
       "<pre style=\"white-space:pre;overflow-x:auto;line-height:normal;font-family:Menlo,'DejaVu Sans Mono',consolas,'Courier New',monospace\"><span style=\"font-style: italic\">                   Benchmark Results                   </span>\n",
       "┏━━━━━━━━━━━━━━━━━━━━━━━━━━━━━┳━━━━━━━━━━━━━━━━━━━━━━━┓\n",
       "┃<span style=\"font-weight: bold\">                 Information </span>┃<span style=\"font-weight: bold\"> Value                 </span>┃\n",
       "┡━━━━━━━━━━━━━━━━━━━━━━━━━━━━━╇━━━━━━━━━━━━━━━━━━━━━━━┩\n",
       "│<span style=\"color: #008080; text-decoration-color: #008080\">           Available Matches </span>│<span style=\"color: #800080; text-decoration-color: #800080\"> 145994                </span>│\n",
       "│<span style=\"color: #008080; text-decoration-color: #008080\">       PlackettLuce Accuracy </span>│<span style=\"color: #800080; text-decoration-color: #800080\"> 112459/9744 [ 92.03%] </span>│\n",
       "│<span style=\"color: #008080; text-decoration-color: #008080\">  Rank-Biased Overlap Score: </span>│<span style=\"color: #800080; text-decoration-color: #800080\">  64.11                </span>│\n",
       "└─────────────────────────────┴───────────────────────┘\n",
       "</pre>\n"
      ],
      "text/plain": [
       "\u001b[3m                   Benchmark Results                   \u001b[0m\n",
       "┏━━━━━━━━━━━━━━━━━━━━━━━━━━━━━┳━━━━━━━━━━━━━━━━━━━━━━━┓\n",
       "┃\u001b[1m \u001b[0m\u001b[1m                Information\u001b[0m\u001b[1m \u001b[0m┃\u001b[1m \u001b[0m\u001b[1mValue                \u001b[0m\u001b[1m \u001b[0m┃\n",
       "┡━━━━━━━━━━━━━━━━━━━━━━━━━━━━━╇━━━━━━━━━━━━━━━━━━━━━━━┩\n",
       "│\u001b[36m \u001b[0m\u001b[36m          Available Matches\u001b[0m\u001b[36m \u001b[0m│\u001b[35m \u001b[0m\u001b[35m145994               \u001b[0m\u001b[35m \u001b[0m│\n",
       "│\u001b[36m \u001b[0m\u001b[36m      PlackettLuce Accuracy\u001b[0m\u001b[36m \u001b[0m│\u001b[35m \u001b[0m\u001b[35m112459/9744 [ 92.03%]\u001b[0m\u001b[35m \u001b[0m│\n",
       "│\u001b[36m \u001b[0m\u001b[36m Rank-Biased Overlap Score:\u001b[0m\u001b[36m \u001b[0m│\u001b[35m \u001b[0m\u001b[35m 64.11               \u001b[0m\u001b[35m \u001b[0m│\n",
       "└─────────────────────────────┴───────────────────────┘\n"
      ]
     },
     "metadata": {},
     "output_type": "display_data"
    }
   ],
   "source": [
    "table = Table(title=\"Benchmark Results\")\n",
    "table.add_column(\"Information\", justify=\"right\", style=\"cyan\", no_wrap=True)\n",
    "table.add_column(\"Value\", style=\"magenta\")\n",
    "\n",
    "table.add_row(\"Available Matches\", f\"{len(test_matches)}\")\n",
    "\n",
    "openskill_accuracy = round(\n",
    "    (\n",
    "        openskill_correct_predictions\n",
    "        / (openskill_incorrect_predictions + openskill_correct_predictions)\n",
    "    )\n",
    "    * 100,\n",
    "    2,\n",
    ")\n",
    "\n",
    "table.add_row(\n",
    "    f\"{model.__class__.__name__} Accuracy\",\n",
    "    f\"{openskill_correct_predictions}/\"\n",
    "    f\"{openskill_incorrect_predictions} \"\n",
    "    f\"[{openskill_accuracy: .2f}%]\",\n",
    ")\n",
    "rbo_score = (sum(rbo_scores) / len(rbo_scores)) * 100\n",
    "table.add_row(\"Rank-Biased Overlap Score: \", f\"{rbo_score: .2f}\")\n",
    "rich.print(table)"
   ]
  }
 ],
 "metadata": {
  "kaggle": {
   "accelerator": "none",
   "dataSources": [],
   "dockerImageVersionId": 30615,
   "isGpuEnabled": false,
   "isInternetEnabled": true,
   "language": "python",
   "sourceType": "notebook"
  },
  "kernelspec": {
   "display_name": "Python 3",
   "language": "python",
   "name": "python3"
  },
  "language_info": {
   "codemirror_mode": {
    "name": "ipython",
    "version": 3
   },
   "file_extension": ".py",
   "mimetype": "text/x-python",
   "name": "python",
   "nbconvert_exporter": "python",
   "pygments_lexer": "ipython3",
   "version": "3.10.12"
  },
  "papermill": {
   "default_parameters": {},
   "duration": 8995.906383,
   "end_time": "2023-12-11T01:47:05.244027",
   "environment_variables": {},
   "exception": null,
   "input_path": "__notebook__.ipynb",
   "output_path": "__notebook__.ipynb",
   "parameters": {},
   "start_time": "2023-12-10T23:17:09.337644",
   "version": "2.4.0"
  },
  "widgets": {
   "application/vnd.jupyter.widget-state+json": {
    "state": {
     "0541c4b436ba4011a7349997978f2a14": {
      "model_module": "@jupyter-widgets/base",
      "model_module_version": "1.2.0",
      "model_name": "LayoutModel",
      "state": {
       "_model_module": "@jupyter-widgets/base",
       "_model_module_version": "1.2.0",
       "_model_name": "LayoutModel",
       "_view_count": null,
       "_view_module": "@jupyter-widgets/base",
       "_view_module_version": "1.2.0",
       "_view_name": "LayoutView",
       "align_content": null,
       "align_items": null,
       "align_self": null,
       "border": null,
       "bottom": null,
       "display": null,
       "flex": null,
       "flex_flow": null,
       "grid_area": null,
       "grid_auto_columns": null,
       "grid_auto_flow": null,
       "grid_auto_rows": null,
       "grid_column": null,
       "grid_gap": null,
       "grid_row": null,
       "grid_template_areas": null,
       "grid_template_columns": null,
       "grid_template_rows": null,
       "height": null,
       "justify_content": null,
       "justify_items": null,
       "left": null,
       "margin": null,
       "max_height": null,
       "max_width": null,
       "min_height": null,
       "min_width": null,
       "object_fit": null,
       "object_position": null,
       "order": null,
       "overflow": null,
       "overflow_x": null,
       "overflow_y": null,
       "padding": null,
       "right": null,
       "top": null,
       "visibility": null,
       "width": null
      }
     },
     "05b7af68378d417d8cd304f2db6b8a85": {
      "model_module": "@jupyter-widgets/base",
      "model_module_version": "1.2.0",
      "model_name": "LayoutModel",
      "state": {
       "_model_module": "@jupyter-widgets/base",
       "_model_module_version": "1.2.0",
       "_model_name": "LayoutModel",
       "_view_count": null,
       "_view_module": "@jupyter-widgets/base",
       "_view_module_version": "1.2.0",
       "_view_name": "LayoutView",
       "align_content": null,
       "align_items": null,
       "align_self": null,
       "border": null,
       "bottom": null,
       "display": null,
       "flex": null,
       "flex_flow": null,
       "grid_area": null,
       "grid_auto_columns": null,
       "grid_auto_flow": null,
       "grid_auto_rows": null,
       "grid_column": null,
       "grid_gap": null,
       "grid_row": null,
       "grid_template_areas": null,
       "grid_template_columns": null,
       "grid_template_rows": null,
       "height": null,
       "justify_content": null,
       "justify_items": null,
       "left": null,
       "margin": null,
       "max_height": null,
       "max_width": null,
       "min_height": null,
       "min_width": null,
       "object_fit": null,
       "object_position": null,
       "order": null,
       "overflow": null,
       "overflow_x": null,
       "overflow_y": null,
       "padding": null,
       "right": null,
       "top": null,
       "visibility": null,
       "width": null
      }
     },
     "0ef2bf053aaa437c988abdd500639ba9": {
      "model_module": "@jupyter-widgets/base",
      "model_module_version": "1.2.0",
      "model_name": "LayoutModel",
      "state": {
       "_model_module": "@jupyter-widgets/base",
       "_model_module_version": "1.2.0",
       "_model_name": "LayoutModel",
       "_view_count": null,
       "_view_module": "@jupyter-widgets/base",
       "_view_module_version": "1.2.0",
       "_view_name": "LayoutView",
       "align_content": null,
       "align_items": null,
       "align_self": null,
       "border": null,
       "bottom": null,
       "display": null,
       "flex": null,
       "flex_flow": null,
       "grid_area": null,
       "grid_auto_columns": null,
       "grid_auto_flow": null,
       "grid_auto_rows": null,
       "grid_column": null,
       "grid_gap": null,
       "grid_row": null,
       "grid_template_areas": null,
       "grid_template_columns": null,
       "grid_template_rows": null,
       "height": null,
       "justify_content": null,
       "justify_items": null,
       "left": null,
       "margin": null,
       "max_height": null,
       "max_width": null,
       "min_height": null,
       "min_width": null,
       "object_fit": null,
       "object_position": null,
       "order": null,
       "overflow": null,
       "overflow_x": null,
       "overflow_y": null,
       "padding": null,
       "right": null,
       "top": null,
       "visibility": null,
       "width": null
      }
     },
     "218f3b869b2140e58a5814d1d3ac0737": {
      "model_module": "@jupyter-widgets/base",
      "model_module_version": "1.2.0",
      "model_name": "LayoutModel",
      "state": {
       "_model_module": "@jupyter-widgets/base",
       "_model_module_version": "1.2.0",
       "_model_name": "LayoutModel",
       "_view_count": null,
       "_view_module": "@jupyter-widgets/base",
       "_view_module_version": "1.2.0",
       "_view_name": "LayoutView",
       "align_content": null,
       "align_items": null,
       "align_self": null,
       "border": null,
       "bottom": null,
       "display": null,
       "flex": null,
       "flex_flow": null,
       "grid_area": null,
       "grid_auto_columns": null,
       "grid_auto_flow": null,
       "grid_auto_rows": null,
       "grid_column": null,
       "grid_gap": null,
       "grid_row": null,
       "grid_template_areas": null,
       "grid_template_columns": null,
       "grid_template_rows": null,
       "height": null,
       "justify_content": null,
       "justify_items": null,
       "left": null,
       "margin": null,
       "max_height": null,
       "max_width": null,
       "min_height": null,
       "min_width": null,
       "object_fit": null,
       "object_position": null,
       "order": null,
       "overflow": null,
       "overflow_x": null,
       "overflow_y": null,
       "padding": null,
       "right": null,
       "top": null,
       "visibility": null,
       "width": null
      }
     },
     "23ac4211e67548cfacffab69a2a18305": {
      "model_module": "@jupyter-widgets/controls",
      "model_module_version": "1.5.0",
      "model_name": "FloatProgressModel",
      "state": {
       "_dom_classes": [],
       "_model_module": "@jupyter-widgets/controls",
       "_model_module_version": "1.5.0",
       "_model_name": "FloatProgressModel",
       "_view_count": null,
       "_view_module": "@jupyter-widgets/controls",
       "_view_module_version": "1.5.0",
       "_view_name": "ProgressView",
       "bar_style": "",
       "description": "",
       "description_tooltip": null,
       "layout": "IPY_MODEL_0541c4b436ba4011a7349997978f2a14",
       "max": 145994.0,
       "min": 0.0,
       "orientation": "horizontal",
       "style": "IPY_MODEL_7e859550eee84f89b250efd4c08e2ac3",
       "value": 145985.0
      }
     },
     "249a5f5753c04ee8bd506c09ca3d979e": {
      "model_module": "@jupyter-widgets/controls",
      "model_module_version": "1.5.0",
      "model_name": "HTMLModel",
      "state": {
       "_dom_classes": [],
       "_model_module": "@jupyter-widgets/controls",
       "_model_module_version": "1.5.0",
       "_model_name": "HTMLModel",
       "_view_count": null,
       "_view_module": "@jupyter-widgets/controls",
       "_view_module_version": "1.5.0",
       "_view_name": "HTMLView",
       "description": "",
       "description_tooltip": null,
       "layout": "IPY_MODEL_218f3b869b2140e58a5814d1d3ac0737",
       "placeholder": "​",
       "style": "IPY_MODEL_c3c8fd035cfd4065909a45e46289bba8",
       "value": " 11487236/11487236 [11:03&lt;00:00, 21427.53it/s]"
      }
     },
     "2a89dd42d06d4d028e5d6405276cf8eb": {
      "model_module": "@jupyter-widgets/controls",
      "model_module_version": "1.5.0",
      "model_name": "FloatProgressModel",
      "state": {
       "_dom_classes": [],
       "_model_module": "@jupyter-widgets/controls",
       "_model_module_version": "1.5.0",
       "_model_name": "FloatProgressModel",
       "_view_count": null,
       "_view_module": "@jupyter-widgets/controls",
       "_view_module_version": "1.5.0",
       "_view_name": "ProgressView",
       "bar_style": "danger",
       "description": "",
       "description_tooltip": null,
       "layout": "IPY_MODEL_8f86df4204bf4eff9bc94dc300f5149a",
       "max": 51704546.0,
       "min": 0.0,
       "orientation": "horizontal",
       "style": "IPY_MODEL_89b6e70a9d1349838daa7fcc8bdc6fc2",
       "value": 51703476.0
      }
     },
     "341315b9bdbc42369cc670f9d1334001": {
      "model_module": "@jupyter-widgets/controls",
      "model_module_version": "1.5.0",
      "model_name": "DescriptionStyleModel",
      "state": {
       "_model_module": "@jupyter-widgets/controls",
       "_model_module_version": "1.5.0",
       "_model_name": "DescriptionStyleModel",
       "_view_count": null,
       "_view_module": "@jupyter-widgets/base",
       "_view_module_version": "1.2.0",
       "_view_name": "StyleView",
       "description_width": ""
      }
     },
     "341eaf8af1f348e7992bba4894976cbe": {
      "model_module": "@jupyter-widgets/controls",
      "model_module_version": "1.5.0",
      "model_name": "HBoxModel",
      "state": {
       "_dom_classes": [],
       "_model_module": "@jupyter-widgets/controls",
       "_model_module_version": "1.5.0",
       "_model_name": "HBoxModel",
       "_view_count": null,
       "_view_module": "@jupyter-widgets/controls",
       "_view_module_version": "1.5.0",
       "_view_name": "HBoxView",
       "box_style": "",
       "children": [
        "IPY_MODEL_ca3afe19e2224856afe7a67abf809901",
        "IPY_MODEL_d34c760569254bf3a33059f01a9d3d10",
        "IPY_MODEL_fd101f9062564ed796e65e341f35c058"
       ],
       "layout": "IPY_MODEL_5728264ed46a429eb206b7252cc0fac6"
      }
     },
     "3e44ec0b428a4506a786c108ff131a5f": {
      "model_module": "@jupyter-widgets/controls",
      "model_module_version": "1.5.0",
      "model_name": "HTMLModel",
      "state": {
       "_dom_classes": [],
       "_model_module": "@jupyter-widgets/controls",
       "_model_module_version": "1.5.0",
       "_model_name": "HTMLModel",
       "_view_count": null,
       "_view_module": "@jupyter-widgets/controls",
       "_view_module_version": "1.5.0",
       "_view_name": "HTMLView",
       "description": "",
       "description_tooltip": null,
       "layout": "IPY_MODEL_d07717742cc64979866cc2384cd066e2",
       "placeholder": "​",
       "style": "IPY_MODEL_bca0587b301f475fb1e60297f6c8925a",
       "value": "100%"
      }
     },
     "48bd97570e384edc9294c213c76816f3": {
      "model_module": "@jupyter-widgets/controls",
      "model_module_version": "1.5.0",
      "model_name": "SelectModel",
      "state": {
       "_dom_classes": [],
       "_model_module": "@jupyter-widgets/controls",
       "_model_module_version": "1.5.0",
       "_model_name": "SelectModel",
       "_options_labels": [
        "BradleyTerryFull",
        "BradleyTerryPart",
        "PlackettLuce",
        "ThurstoneMostellerFull",
        "ThurstoneMostellerPart"
       ],
       "_view_count": null,
       "_view_module": "@jupyter-widgets/controls",
       "_view_module_version": "1.5.0",
       "_view_name": "SelectView",
       "description": "Model:",
       "description_tooltip": null,
       "disabled": false,
       "index": 2,
       "layout": "IPY_MODEL_c8c52ad88f09425da2e4d74fa90c6648",
       "rows": 5,
       "style": "IPY_MODEL_ee2f52723bd744e480d37c7a721eb223"
      }
     },
     "4a9f8160c4994ff69c4bf944c56276a6": {
      "model_module": "@jupyter-widgets/controls",
      "model_module_version": "1.5.0",
      "model_name": "HTMLModel",
      "state": {
       "_dom_classes": [],
       "_model_module": "@jupyter-widgets/controls",
       "_model_module_version": "1.5.0",
       "_model_name": "HTMLModel",
       "_view_count": null,
       "_view_module": "@jupyter-widgets/controls",
       "_view_module_version": "1.5.0",
       "_view_name": "HTMLView",
       "description": "",
       "description_tooltip": null,
       "layout": "IPY_MODEL_9d5ede2566cd48f89da052a2d7c4d671",
       "placeholder": "​",
       "style": "IPY_MODEL_8f156a38884d4392aee403cd93df759c",
       "value": " 583975/583975 [58:00&lt;00:00, 170.72it/s]"
      }
     },
     "55e968c5ea724f0597d033aaef58f97f": {
      "model_module": "@jupyter-widgets/controls",
      "model_module_version": "1.5.0",
      "model_name": "HTMLModel",
      "state": {
       "_dom_classes": [],
       "_model_module": "@jupyter-widgets/controls",
       "_model_module_version": "1.5.0",
       "_model_name": "HTMLModel",
       "_view_count": null,
       "_view_module": "@jupyter-widgets/controls",
       "_view_module_version": "1.5.0",
       "_view_name": "HTMLView",
       "description": "",
       "description_tooltip": null,
       "layout": "IPY_MODEL_8aa15c412f524dc0910267dc47b9470b",
       "placeholder": "​",
       "style": "IPY_MODEL_a90e2a3dc245409da16b3492ce98de7b",
       "value": " 51703476/51704546 [1:13:22&lt;00:00, 57124.61it/s]"
      }
     },
     "571db5bb69d2433eb45bb971a48d3c3a": {
      "model_module": "@jupyter-widgets/base",
      "model_module_version": "1.2.0",
      "model_name": "LayoutModel",
      "state": {
       "_model_module": "@jupyter-widgets/base",
       "_model_module_version": "1.2.0",
       "_model_name": "LayoutModel",
       "_view_count": null,
       "_view_module": "@jupyter-widgets/base",
       "_view_module_version": "1.2.0",
       "_view_name": "LayoutView",
       "align_content": null,
       "align_items": null,
       "align_self": null,
       "border": null,
       "bottom": null,
       "display": null,
       "flex": null,
       "flex_flow": null,
       "grid_area": null,
       "grid_auto_columns": null,
       "grid_auto_flow": null,
       "grid_auto_rows": null,
       "grid_column": null,
       "grid_gap": null,
       "grid_row": null,
       "grid_template_areas": null,
       "grid_template_columns": null,
       "grid_template_rows": null,
       "height": null,
       "justify_content": null,
       "justify_items": null,
       "left": null,
       "margin": null,
       "max_height": null,
       "max_width": null,
       "min_height": null,
       "min_width": null,
       "object_fit": null,
       "object_position": null,
       "order": null,
       "overflow": null,
       "overflow_x": null,
       "overflow_y": null,
       "padding": null,
       "right": null,
       "top": null,
       "visibility": null,
       "width": null
      }
     },
     "5728264ed46a429eb206b7252cc0fac6": {
      "model_module": "@jupyter-widgets/base",
      "model_module_version": "1.2.0",
      "model_name": "LayoutModel",
      "state": {
       "_model_module": "@jupyter-widgets/base",
       "_model_module_version": "1.2.0",
       "_model_name": "LayoutModel",
       "_view_count": null,
       "_view_module": "@jupyter-widgets/base",
       "_view_module_version": "1.2.0",
       "_view_name": "LayoutView",
       "align_content": null,
       "align_items": null,
       "align_self": null,
       "border": null,
       "bottom": null,
       "display": null,
       "flex": null,
       "flex_flow": null,
       "grid_area": null,
       "grid_auto_columns": null,
       "grid_auto_flow": null,
       "grid_auto_rows": null,
       "grid_column": null,
       "grid_gap": null,
       "grid_row": null,
       "grid_template_areas": null,
       "grid_template_columns": null,
       "grid_template_rows": null,
       "height": null,
       "justify_content": null,
       "justify_items": null,
       "left": null,
       "margin": null,
       "max_height": null,
       "max_width": null,
       "min_height": null,
       "min_width": null,
       "object_fit": null,
       "object_position": null,
       "order": null,
       "overflow": null,
       "overflow_x": null,
       "overflow_y": null,
       "padding": null,
       "right": null,
       "top": null,
       "visibility": null,
       "width": null
      }
     },
     "60963fbc39f04983a2283a61a0396626": {
      "model_module": "@jupyter-widgets/base",
      "model_module_version": "1.2.0",
      "model_name": "LayoutModel",
      "state": {
       "_model_module": "@jupyter-widgets/base",
       "_model_module_version": "1.2.0",
       "_model_name": "LayoutModel",
       "_view_count": null,
       "_view_module": "@jupyter-widgets/base",
       "_view_module_version": "1.2.0",
       "_view_name": "LayoutView",
       "align_content": null,
       "align_items": null,
       "align_self": null,
       "border": null,
       "bottom": null,
       "display": null,
       "flex": null,
       "flex_flow": null,
       "grid_area": null,
       "grid_auto_columns": null,
       "grid_auto_flow": null,
       "grid_auto_rows": null,
       "grid_column": null,
       "grid_gap": null,
       "grid_row": null,
       "grid_template_areas": null,
       "grid_template_columns": null,
       "grid_template_rows": null,
       "height": null,
       "justify_content": null,
       "justify_items": null,
       "left": null,
       "margin": null,
       "max_height": null,
       "max_width": null,
       "min_height": null,
       "min_width": null,
       "object_fit": null,
       "object_position": null,
       "order": null,
       "overflow": null,
       "overflow_x": null,
       "overflow_y": null,
       "padding": null,
       "right": null,
       "top": null,
       "visibility": null,
       "width": null
      }
     },
     "64edced825174b00ab195b88d1641bb2": {
      "model_module": "@jupyter-widgets/controls",
      "model_module_version": "1.5.0",
      "model_name": "ProgressStyleModel",
      "state": {
       "_model_module": "@jupyter-widgets/controls",
       "_model_module_version": "1.5.0",
       "_model_name": "ProgressStyleModel",
       "_view_count": null,
       "_view_module": "@jupyter-widgets/base",
       "_view_module_version": "1.2.0",
       "_view_name": "StyleView",
       "bar_color": null,
       "description_width": ""
      }
     },
     "6c9713b38d004960876b37aee7e11c12": {
      "model_module": "@jupyter-widgets/base",
      "model_module_version": "1.2.0",
      "model_name": "LayoutModel",
      "state": {
       "_model_module": "@jupyter-widgets/base",
       "_model_module_version": "1.2.0",
       "_model_name": "LayoutModel",
       "_view_count": null,
       "_view_module": "@jupyter-widgets/base",
       "_view_module_version": "1.2.0",
       "_view_name": "LayoutView",
       "align_content": null,
       "align_items": null,
       "align_self": null,
       "border": null,
       "bottom": null,
       "display": null,
       "flex": null,
       "flex_flow": null,
       "grid_area": null,
       "grid_auto_columns": null,
       "grid_auto_flow": null,
       "grid_auto_rows": null,
       "grid_column": null,
       "grid_gap": null,
       "grid_row": null,
       "grid_template_areas": null,
       "grid_template_columns": null,
       "grid_template_rows": null,
       "height": null,
       "justify_content": null,
       "justify_items": null,
       "left": null,
       "margin": null,
       "max_height": null,
       "max_width": null,
       "min_height": null,
       "min_width": null,
       "object_fit": null,
       "object_position": null,
       "order": null,
       "overflow": null,
       "overflow_x": null,
       "overflow_y": null,
       "padding": null,
       "right": null,
       "top": null,
       "visibility": null,
       "width": null
      }
     },
     "6edd20e03bbb42459cdf82f7fbd585bf": {
      "model_module": "@jupyter-widgets/controls",
      "model_module_version": "1.5.0",
      "model_name": "DescriptionStyleModel",
      "state": {
       "_model_module": "@jupyter-widgets/controls",
       "_model_module_version": "1.5.0",
       "_model_name": "DescriptionStyleModel",
       "_view_count": null,
       "_view_module": "@jupyter-widgets/base",
       "_view_module_version": "1.2.0",
       "_view_name": "StyleView",
       "description_width": ""
      }
     },
     "70e2a022042d425f9e9ba62ff4e55a5c": {
      "model_module": "@jupyter-widgets/controls",
      "model_module_version": "1.5.0",
      "model_name": "FloatProgressModel",
      "state": {
       "_dom_classes": [],
       "_model_module": "@jupyter-widgets/controls",
       "_model_module_version": "1.5.0",
       "_model_name": "FloatProgressModel",
       "_view_count": null,
       "_view_module": "@jupyter-widgets/controls",
       "_view_module_version": "1.5.0",
       "_view_name": "ProgressView",
       "bar_style": "",
       "description": "",
       "description_tooltip": null,
       "layout": "IPY_MODEL_c3d806e93da043d79a32f3a74bc3da4f",
       "max": 11487236.0,
       "min": 0.0,
       "orientation": "horizontal",
       "style": "IPY_MODEL_64edced825174b00ab195b88d1641bb2",
       "value": 11487236.0
      }
     },
     "7e859550eee84f89b250efd4c08e2ac3": {
      "model_module": "@jupyter-widgets/controls",
      "model_module_version": "1.5.0",
      "model_name": "ProgressStyleModel",
      "state": {
       "_model_module": "@jupyter-widgets/controls",
       "_model_module_version": "1.5.0",
       "_model_name": "ProgressStyleModel",
       "_view_count": null,
       "_view_module": "@jupyter-widgets/base",
       "_view_module_version": "1.2.0",
       "_view_name": "StyleView",
       "bar_color": null,
       "description_width": ""
      }
     },
     "8054dfbd6edf4b7ca0ac9c31d5e229e3": {
      "model_module": "@jupyter-widgets/base",
      "model_module_version": "1.2.0",
      "model_name": "LayoutModel",
      "state": {
       "_model_module": "@jupyter-widgets/base",
       "_model_module_version": "1.2.0",
       "_model_name": "LayoutModel",
       "_view_count": null,
       "_view_module": "@jupyter-widgets/base",
       "_view_module_version": "1.2.0",
       "_view_name": "LayoutView",
       "align_content": null,
       "align_items": null,
       "align_self": null,
       "border": null,
       "bottom": null,
       "display": null,
       "flex": null,
       "flex_flow": null,
       "grid_area": null,
       "grid_auto_columns": null,
       "grid_auto_flow": null,
       "grid_auto_rows": null,
       "grid_column": null,
       "grid_gap": null,
       "grid_row": null,
       "grid_template_areas": null,
       "grid_template_columns": null,
       "grid_template_rows": null,
       "height": null,
       "justify_content": null,
       "justify_items": null,
       "left": null,
       "margin": null,
       "max_height": null,
       "max_width": null,
       "min_height": null,
       "min_width": null,
       "object_fit": null,
       "object_position": null,
       "order": null,
       "overflow": null,
       "overflow_x": null,
       "overflow_y": null,
       "padding": null,
       "right": null,
       "top": null,
       "visibility": null,
       "width": null
      }
     },
     "863d016e10534a29b1e4ea8e4b22517a": {
      "model_module": "@jupyter-widgets/controls",
      "model_module_version": "1.5.0",
      "model_name": "HTMLModel",
      "state": {
       "_dom_classes": [],
       "_model_module": "@jupyter-widgets/controls",
       "_model_module_version": "1.5.0",
       "_model_name": "HTMLModel",
       "_view_count": null,
       "_view_module": "@jupyter-widgets/controls",
       "_view_module_version": "1.5.0",
       "_view_name": "HTMLView",
       "description": "",
       "description_tooltip": null,
       "layout": "IPY_MODEL_9e7f5bcf962c47f48d0175ea381870af",
       "placeholder": "​",
       "style": "IPY_MODEL_f02e94211f6e4646b79aeecddf01aaea",
       "value": " 145985/145994 [17:07&lt;00:00, 163.52it/s]"
      }
     },
     "89b6e70a9d1349838daa7fcc8bdc6fc2": {
      "model_module": "@jupyter-widgets/controls",
      "model_module_version": "1.5.0",
      "model_name": "ProgressStyleModel",
      "state": {
       "_model_module": "@jupyter-widgets/controls",
       "_model_module_version": "1.5.0",
       "_model_name": "ProgressStyleModel",
       "_view_count": null,
       "_view_module": "@jupyter-widgets/base",
       "_view_module_version": "1.2.0",
       "_view_name": "StyleView",
       "bar_color": null,
       "description_width": ""
      }
     },
     "8aa15c412f524dc0910267dc47b9470b": {
      "model_module": "@jupyter-widgets/base",
      "model_module_version": "1.2.0",
      "model_name": "LayoutModel",
      "state": {
       "_model_module": "@jupyter-widgets/base",
       "_model_module_version": "1.2.0",
       "_model_name": "LayoutModel",
       "_view_count": null,
       "_view_module": "@jupyter-widgets/base",
       "_view_module_version": "1.2.0",
       "_view_name": "LayoutView",
       "align_content": null,
       "align_items": null,
       "align_self": null,
       "border": null,
       "bottom": null,
       "display": null,
       "flex": null,
       "flex_flow": null,
       "grid_area": null,
       "grid_auto_columns": null,
       "grid_auto_flow": null,
       "grid_auto_rows": null,
       "grid_column": null,
       "grid_gap": null,
       "grid_row": null,
       "grid_template_areas": null,
       "grid_template_columns": null,
       "grid_template_rows": null,
       "height": null,
       "justify_content": null,
       "justify_items": null,
       "left": null,
       "margin": null,
       "max_height": null,
       "max_width": null,
       "min_height": null,
       "min_width": null,
       "object_fit": null,
       "object_position": null,
       "order": null,
       "overflow": null,
       "overflow_x": null,
       "overflow_y": null,
       "padding": null,
       "right": null,
       "top": null,
       "visibility": null,
       "width": null
      }
     },
     "8d48313e35c945f3999cc2a87d411be2": {
      "model_module": "@jupyter-widgets/controls",
      "model_module_version": "1.5.0",
      "model_name": "HTMLModel",
      "state": {
       "_dom_classes": [],
       "_model_module": "@jupyter-widgets/controls",
       "_model_module_version": "1.5.0",
       "_model_name": "HTMLModel",
       "_view_count": null,
       "_view_module": "@jupyter-widgets/controls",
       "_view_module_version": "1.5.0",
       "_view_name": "HTMLView",
       "description": "",
       "description_tooltip": null,
       "layout": "IPY_MODEL_6c9713b38d004960876b37aee7e11c12",
       "placeholder": "​",
       "style": "IPY_MODEL_8f3095becf044163a7f4699ba28a1da5",
       "value": "100%"
      }
     },
     "8f156a38884d4392aee403cd93df759c": {
      "model_module": "@jupyter-widgets/controls",
      "model_module_version": "1.5.0",
      "model_name": "DescriptionStyleModel",
      "state": {
       "_model_module": "@jupyter-widgets/controls",
       "_model_module_version": "1.5.0",
       "_model_name": "DescriptionStyleModel",
       "_view_count": null,
       "_view_module": "@jupyter-widgets/base",
       "_view_module_version": "1.2.0",
       "_view_name": "StyleView",
       "description_width": ""
      }
     },
     "8f3095becf044163a7f4699ba28a1da5": {
      "model_module": "@jupyter-widgets/controls",
      "model_module_version": "1.5.0",
      "model_name": "DescriptionStyleModel",
      "state": {
       "_model_module": "@jupyter-widgets/controls",
       "_model_module_version": "1.5.0",
       "_model_name": "DescriptionStyleModel",
       "_view_count": null,
       "_view_module": "@jupyter-widgets/base",
       "_view_module_version": "1.2.0",
       "_view_name": "StyleView",
       "description_width": ""
      }
     },
     "8f86df4204bf4eff9bc94dc300f5149a": {
      "model_module": "@jupyter-widgets/base",
      "model_module_version": "1.2.0",
      "model_name": "LayoutModel",
      "state": {
       "_model_module": "@jupyter-widgets/base",
       "_model_module_version": "1.2.0",
       "_model_name": "LayoutModel",
       "_view_count": null,
       "_view_module": "@jupyter-widgets/base",
       "_view_module_version": "1.2.0",
       "_view_name": "LayoutView",
       "align_content": null,
       "align_items": null,
       "align_self": null,
       "border": null,
       "bottom": null,
       "display": null,
       "flex": null,
       "flex_flow": null,
       "grid_area": null,
       "grid_auto_columns": null,
       "grid_auto_flow": null,
       "grid_auto_rows": null,
       "grid_column": null,
       "grid_gap": null,
       "grid_row": null,
       "grid_template_areas": null,
       "grid_template_columns": null,
       "grid_template_rows": null,
       "height": null,
       "justify_content": null,
       "justify_items": null,
       "left": null,
       "margin": null,
       "max_height": null,
       "max_width": null,
       "min_height": null,
       "min_width": null,
       "object_fit": null,
       "object_position": null,
       "order": null,
       "overflow": null,
       "overflow_x": null,
       "overflow_y": null,
       "padding": null,
       "right": null,
       "top": null,
       "visibility": null,
       "width": null
      }
     },
     "95dabc13232a44cd9f6ac2591b7d15f0": {
      "model_module": "@jupyter-widgets/controls",
      "model_module_version": "1.5.0",
      "model_name": "HBoxModel",
      "state": {
       "_dom_classes": [],
       "_model_module": "@jupyter-widgets/controls",
       "_model_module_version": "1.5.0",
       "_model_name": "HBoxModel",
       "_view_count": null,
       "_view_module": "@jupyter-widgets/controls",
       "_view_module_version": "1.5.0",
       "_view_name": "HBoxView",
       "box_style": "",
       "children": [
        "IPY_MODEL_3e44ec0b428a4506a786c108ff131a5f",
        "IPY_MODEL_70e2a022042d425f9e9ba62ff4e55a5c",
        "IPY_MODEL_249a5f5753c04ee8bd506c09ca3d979e"
       ],
       "layout": "IPY_MODEL_9815020c99784a6689b2912ad5ce5ae5"
      }
     },
     "9815020c99784a6689b2912ad5ce5ae5": {
      "model_module": "@jupyter-widgets/base",
      "model_module_version": "1.2.0",
      "model_name": "LayoutModel",
      "state": {
       "_model_module": "@jupyter-widgets/base",
       "_model_module_version": "1.2.0",
       "_model_name": "LayoutModel",
       "_view_count": null,
       "_view_module": "@jupyter-widgets/base",
       "_view_module_version": "1.2.0",
       "_view_name": "LayoutView",
       "align_content": null,
       "align_items": null,
       "align_self": null,
       "border": null,
       "bottom": null,
       "display": null,
       "flex": null,
       "flex_flow": null,
       "grid_area": null,
       "grid_auto_columns": null,
       "grid_auto_flow": null,
       "grid_auto_rows": null,
       "grid_column": null,
       "grid_gap": null,
       "grid_row": null,
       "grid_template_areas": null,
       "grid_template_columns": null,
       "grid_template_rows": null,
       "height": null,
       "justify_content": null,
       "justify_items": null,
       "left": null,
       "margin": null,
       "max_height": null,
       "max_width": null,
       "min_height": null,
       "min_width": null,
       "object_fit": null,
       "object_position": null,
       "order": null,
       "overflow": null,
       "overflow_x": null,
       "overflow_y": null,
       "padding": null,
       "right": null,
       "top": null,
       "visibility": null,
       "width": null
      }
     },
     "9820461feb0b41b88a47a95699e4ca56": {
      "model_module": "@jupyter-widgets/controls",
      "model_module_version": "1.5.0",
      "model_name": "DescriptionStyleModel",
      "state": {
       "_model_module": "@jupyter-widgets/controls",
       "_model_module_version": "1.5.0",
       "_model_name": "DescriptionStyleModel",
       "_view_count": null,
       "_view_module": "@jupyter-widgets/base",
       "_view_module_version": "1.2.0",
       "_view_name": "StyleView",
       "description_width": ""
      }
     },
     "99a94b217d8540e9b7a50c5c1016111c": {
      "model_module": "@jupyter-widgets/controls",
      "model_module_version": "1.5.0",
      "model_name": "ProgressStyleModel",
      "state": {
       "_model_module": "@jupyter-widgets/controls",
       "_model_module_version": "1.5.0",
       "_model_name": "ProgressStyleModel",
       "_view_count": null,
       "_view_module": "@jupyter-widgets/base",
       "_view_module_version": "1.2.0",
       "_view_name": "StyleView",
       "bar_color": null,
       "description_width": ""
      }
     },
     "9d5ede2566cd48f89da052a2d7c4d671": {
      "model_module": "@jupyter-widgets/base",
      "model_module_version": "1.2.0",
      "model_name": "LayoutModel",
      "state": {
       "_model_module": "@jupyter-widgets/base",
       "_model_module_version": "1.2.0",
       "_model_name": "LayoutModel",
       "_view_count": null,
       "_view_module": "@jupyter-widgets/base",
       "_view_module_version": "1.2.0",
       "_view_name": "LayoutView",
       "align_content": null,
       "align_items": null,
       "align_self": null,
       "border": null,
       "bottom": null,
       "display": null,
       "flex": null,
       "flex_flow": null,
       "grid_area": null,
       "grid_auto_columns": null,
       "grid_auto_flow": null,
       "grid_auto_rows": null,
       "grid_column": null,
       "grid_gap": null,
       "grid_row": null,
       "grid_template_areas": null,
       "grid_template_columns": null,
       "grid_template_rows": null,
       "height": null,
       "justify_content": null,
       "justify_items": null,
       "left": null,
       "margin": null,
       "max_height": null,
       "max_width": null,
       "min_height": null,
       "min_width": null,
       "object_fit": null,
       "object_position": null,
       "order": null,
       "overflow": null,
       "overflow_x": null,
       "overflow_y": null,
       "padding": null,
       "right": null,
       "top": null,
       "visibility": null,
       "width": null
      }
     },
     "9e7f5bcf962c47f48d0175ea381870af": {
      "model_module": "@jupyter-widgets/base",
      "model_module_version": "1.2.0",
      "model_name": "LayoutModel",
      "state": {
       "_model_module": "@jupyter-widgets/base",
       "_model_module_version": "1.2.0",
       "_model_name": "LayoutModel",
       "_view_count": null,
       "_view_module": "@jupyter-widgets/base",
       "_view_module_version": "1.2.0",
       "_view_name": "LayoutView",
       "align_content": null,
       "align_items": null,
       "align_self": null,
       "border": null,
       "bottom": null,
       "display": null,
       "flex": null,
       "flex_flow": null,
       "grid_area": null,
       "grid_auto_columns": null,
       "grid_auto_flow": null,
       "grid_auto_rows": null,
       "grid_column": null,
       "grid_gap": null,
       "grid_row": null,
       "grid_template_areas": null,
       "grid_template_columns": null,
       "grid_template_rows": null,
       "height": null,
       "justify_content": null,
       "justify_items": null,
       "left": null,
       "margin": null,
       "max_height": null,
       "max_width": null,
       "min_height": null,
       "min_width": null,
       "object_fit": null,
       "object_position": null,
       "order": null,
       "overflow": null,
       "overflow_x": null,
       "overflow_y": null,
       "padding": null,
       "right": null,
       "top": null,
       "visibility": null,
       "width": null
      }
     },
     "a70289bd51d74100bc0a0341e96c2710": {
      "model_module": "@jupyter-widgets/base",
      "model_module_version": "1.2.0",
      "model_name": "LayoutModel",
      "state": {
       "_model_module": "@jupyter-widgets/base",
       "_model_module_version": "1.2.0",
       "_model_name": "LayoutModel",
       "_view_count": null,
       "_view_module": "@jupyter-widgets/base",
       "_view_module_version": "1.2.0",
       "_view_name": "LayoutView",
       "align_content": null,
       "align_items": null,
       "align_self": null,
       "border": null,
       "bottom": null,
       "display": null,
       "flex": null,
       "flex_flow": null,
       "grid_area": null,
       "grid_auto_columns": null,
       "grid_auto_flow": null,
       "grid_auto_rows": null,
       "grid_column": null,
       "grid_gap": null,
       "grid_row": null,
       "grid_template_areas": null,
       "grid_template_columns": null,
       "grid_template_rows": null,
       "height": null,
       "justify_content": null,
       "justify_items": null,
       "left": null,
       "margin": null,
       "max_height": null,
       "max_width": null,
       "min_height": null,
       "min_width": null,
       "object_fit": null,
       "object_position": null,
       "order": null,
       "overflow": null,
       "overflow_x": null,
       "overflow_y": null,
       "padding": null,
       "right": null,
       "top": null,
       "visibility": null,
       "width": null
      }
     },
     "a90e2a3dc245409da16b3492ce98de7b": {
      "model_module": "@jupyter-widgets/controls",
      "model_module_version": "1.5.0",
      "model_name": "DescriptionStyleModel",
      "state": {
       "_model_module": "@jupyter-widgets/controls",
       "_model_module_version": "1.5.0",
       "_model_name": "DescriptionStyleModel",
       "_view_count": null,
       "_view_module": "@jupyter-widgets/base",
       "_view_module_version": "1.2.0",
       "_view_name": "StyleView",
       "description_width": ""
      }
     },
     "aea07eefa4ab4943822abc1349fb2cc6": {
      "model_module": "@jupyter-widgets/base",
      "model_module_version": "1.2.0",
      "model_name": "LayoutModel",
      "state": {
       "_model_module": "@jupyter-widgets/base",
       "_model_module_version": "1.2.0",
       "_model_name": "LayoutModel",
       "_view_count": null,
       "_view_module": "@jupyter-widgets/base",
       "_view_module_version": "1.2.0",
       "_view_name": "LayoutView",
       "align_content": null,
       "align_items": null,
       "align_self": null,
       "border": null,
       "bottom": null,
       "display": null,
       "flex": null,
       "flex_flow": null,
       "grid_area": null,
       "grid_auto_columns": null,
       "grid_auto_flow": null,
       "grid_auto_rows": null,
       "grid_column": null,
       "grid_gap": null,
       "grid_row": null,
       "grid_template_areas": null,
       "grid_template_columns": null,
       "grid_template_rows": null,
       "height": null,
       "justify_content": null,
       "justify_items": null,
       "left": null,
       "margin": null,
       "max_height": null,
       "max_width": null,
       "min_height": null,
       "min_width": null,
       "object_fit": null,
       "object_position": null,
       "order": null,
       "overflow": null,
       "overflow_x": null,
       "overflow_y": null,
       "padding": null,
       "right": null,
       "top": null,
       "visibility": null,
       "width": null
      }
     },
     "b0bacc3c19e64dec8c451b099f8ce1af": {
      "model_module": "@jupyter-widgets/controls",
      "model_module_version": "1.5.0",
      "model_name": "HTMLModel",
      "state": {
       "_dom_classes": [],
       "_model_module": "@jupyter-widgets/controls",
       "_model_module_version": "1.5.0",
       "_model_name": "HTMLModel",
       "_view_count": null,
       "_view_module": "@jupyter-widgets/controls",
       "_view_module_version": "1.5.0",
       "_view_name": "HTMLView",
       "description": "",
       "description_tooltip": null,
       "layout": "IPY_MODEL_c083344a97d640bba760ee4861597fa9",
       "placeholder": "​",
       "style": "IPY_MODEL_baadc0f29ffc4098a728ab6873425961",
       "value": "100%"
      }
     },
     "baadc0f29ffc4098a728ab6873425961": {
      "model_module": "@jupyter-widgets/controls",
      "model_module_version": "1.5.0",
      "model_name": "DescriptionStyleModel",
      "state": {
       "_model_module": "@jupyter-widgets/controls",
       "_model_module_version": "1.5.0",
       "_model_name": "DescriptionStyleModel",
       "_view_count": null,
       "_view_module": "@jupyter-widgets/base",
       "_view_module_version": "1.2.0",
       "_view_name": "StyleView",
       "description_width": ""
      }
     },
     "bc19db1720554cb4ac51691914e87b86": {
      "model_module": "@jupyter-widgets/controls",
      "model_module_version": "1.5.0",
      "model_name": "HTMLModel",
      "state": {
       "_dom_classes": [],
       "_model_module": "@jupyter-widgets/controls",
       "_model_module_version": "1.5.0",
       "_model_name": "HTMLModel",
       "_view_count": null,
       "_view_module": "@jupyter-widgets/controls",
       "_view_module_version": "1.5.0",
       "_view_name": "HTMLView",
       "description": "",
       "description_tooltip": null,
       "layout": "IPY_MODEL_aea07eefa4ab4943822abc1349fb2cc6",
       "placeholder": "​",
       "style": "IPY_MODEL_6edd20e03bbb42459cdf82f7fbd585bf",
       "value": "100%"
      }
     },
     "bca0587b301f475fb1e60297f6c8925a": {
      "model_module": "@jupyter-widgets/controls",
      "model_module_version": "1.5.0",
      "model_name": "DescriptionStyleModel",
      "state": {
       "_model_module": "@jupyter-widgets/controls",
       "_model_module_version": "1.5.0",
       "_model_name": "DescriptionStyleModel",
       "_view_count": null,
       "_view_module": "@jupyter-widgets/base",
       "_view_module_version": "1.2.0",
       "_view_name": "StyleView",
       "description_width": ""
      }
     },
     "c083344a97d640bba760ee4861597fa9": {
      "model_module": "@jupyter-widgets/base",
      "model_module_version": "1.2.0",
      "model_name": "LayoutModel",
      "state": {
       "_model_module": "@jupyter-widgets/base",
       "_model_module_version": "1.2.0",
       "_model_name": "LayoutModel",
       "_view_count": null,
       "_view_module": "@jupyter-widgets/base",
       "_view_module_version": "1.2.0",
       "_view_name": "LayoutView",
       "align_content": null,
       "align_items": null,
       "align_self": null,
       "border": null,
       "bottom": null,
       "display": null,
       "flex": null,
       "flex_flow": null,
       "grid_area": null,
       "grid_auto_columns": null,
       "grid_auto_flow": null,
       "grid_auto_rows": null,
       "grid_column": null,
       "grid_gap": null,
       "grid_row": null,
       "grid_template_areas": null,
       "grid_template_columns": null,
       "grid_template_rows": null,
       "height": null,
       "justify_content": null,
       "justify_items": null,
       "left": null,
       "margin": null,
       "max_height": null,
       "max_width": null,
       "min_height": null,
       "min_width": null,
       "object_fit": null,
       "object_position": null,
       "order": null,
       "overflow": null,
       "overflow_x": null,
       "overflow_y": null,
       "padding": null,
       "right": null,
       "top": null,
       "visibility": null,
       "width": null
      }
     },
     "c3c8fd035cfd4065909a45e46289bba8": {
      "model_module": "@jupyter-widgets/controls",
      "model_module_version": "1.5.0",
      "model_name": "DescriptionStyleModel",
      "state": {
       "_model_module": "@jupyter-widgets/controls",
       "_model_module_version": "1.5.0",
       "_model_name": "DescriptionStyleModel",
       "_view_count": null,
       "_view_module": "@jupyter-widgets/base",
       "_view_module_version": "1.2.0",
       "_view_name": "StyleView",
       "description_width": ""
      }
     },
     "c3d806e93da043d79a32f3a74bc3da4f": {
      "model_module": "@jupyter-widgets/base",
      "model_module_version": "1.2.0",
      "model_name": "LayoutModel",
      "state": {
       "_model_module": "@jupyter-widgets/base",
       "_model_module_version": "1.2.0",
       "_model_name": "LayoutModel",
       "_view_count": null,
       "_view_module": "@jupyter-widgets/base",
       "_view_module_version": "1.2.0",
       "_view_name": "LayoutView",
       "align_content": null,
       "align_items": null,
       "align_self": null,
       "border": null,
       "bottom": null,
       "display": null,
       "flex": null,
       "flex_flow": null,
       "grid_area": null,
       "grid_auto_columns": null,
       "grid_auto_flow": null,
       "grid_auto_rows": null,
       "grid_column": null,
       "grid_gap": null,
       "grid_row": null,
       "grid_template_areas": null,
       "grid_template_columns": null,
       "grid_template_rows": null,
       "height": null,
       "justify_content": null,
       "justify_items": null,
       "left": null,
       "margin": null,
       "max_height": null,
       "max_width": null,
       "min_height": null,
       "min_width": null,
       "object_fit": null,
       "object_position": null,
       "order": null,
       "overflow": null,
       "overflow_x": null,
       "overflow_y": null,
       "padding": null,
       "right": null,
       "top": null,
       "visibility": null,
       "width": null
      }
     },
     "c8c52ad88f09425da2e4d74fa90c6648": {
      "model_module": "@jupyter-widgets/base",
      "model_module_version": "1.2.0",
      "model_name": "LayoutModel",
      "state": {
       "_model_module": "@jupyter-widgets/base",
       "_model_module_version": "1.2.0",
       "_model_name": "LayoutModel",
       "_view_count": null,
       "_view_module": "@jupyter-widgets/base",
       "_view_module_version": "1.2.0",
       "_view_name": "LayoutView",
       "align_content": null,
       "align_items": null,
       "align_self": null,
       "border": null,
       "bottom": null,
       "display": null,
       "flex": null,
       "flex_flow": null,
       "grid_area": null,
       "grid_auto_columns": null,
       "grid_auto_flow": null,
       "grid_auto_rows": null,
       "grid_column": null,
       "grid_gap": null,
       "grid_row": null,
       "grid_template_areas": null,
       "grid_template_columns": null,
       "grid_template_rows": null,
       "height": null,
       "justify_content": null,
       "justify_items": null,
       "left": null,
       "margin": null,
       "max_height": null,
       "max_width": null,
       "min_height": null,
       "min_width": null,
       "object_fit": null,
       "object_position": null,
       "order": null,
       "overflow": null,
       "overflow_x": null,
       "overflow_y": null,
       "padding": null,
       "right": null,
       "top": null,
       "visibility": null,
       "width": null
      }
     },
     "c9db04c9cdd540f48faaec754e0c478f": {
      "model_module": "@jupyter-widgets/base",
      "model_module_version": "1.2.0",
      "model_name": "LayoutModel",
      "state": {
       "_model_module": "@jupyter-widgets/base",
       "_model_module_version": "1.2.0",
       "_model_name": "LayoutModel",
       "_view_count": null,
       "_view_module": "@jupyter-widgets/base",
       "_view_module_version": "1.2.0",
       "_view_name": "LayoutView",
       "align_content": null,
       "align_items": null,
       "align_self": null,
       "border": null,
       "bottom": null,
       "display": null,
       "flex": null,
       "flex_flow": null,
       "grid_area": null,
       "grid_auto_columns": null,
       "grid_auto_flow": null,
       "grid_auto_rows": null,
       "grid_column": null,
       "grid_gap": null,
       "grid_row": null,
       "grid_template_areas": null,
       "grid_template_columns": null,
       "grid_template_rows": null,
       "height": null,
       "justify_content": null,
       "justify_items": null,
       "left": null,
       "margin": null,
       "max_height": null,
       "max_width": null,
       "min_height": null,
       "min_width": null,
       "object_fit": null,
       "object_position": null,
       "order": null,
       "overflow": null,
       "overflow_x": null,
       "overflow_y": null,
       "padding": null,
       "right": null,
       "top": null,
       "visibility": null,
       "width": null
      }
     },
     "ca3afe19e2224856afe7a67abf809901": {
      "model_module": "@jupyter-widgets/controls",
      "model_module_version": "1.5.0",
      "model_name": "HTMLModel",
      "state": {
       "_dom_classes": [],
       "_model_module": "@jupyter-widgets/controls",
       "_model_module_version": "1.5.0",
       "_model_name": "HTMLModel",
       "_view_count": null,
       "_view_module": "@jupyter-widgets/controls",
       "_view_module_version": "1.5.0",
       "_view_name": "HTMLView",
       "description": "",
       "description_tooltip": null,
       "layout": "IPY_MODEL_c9db04c9cdd540f48faaec754e0c478f",
       "placeholder": "​",
       "style": "IPY_MODEL_341315b9bdbc42369cc670f9d1334001",
       "value": "100%"
      }
     },
     "d07717742cc64979866cc2384cd066e2": {
      "model_module": "@jupyter-widgets/base",
      "model_module_version": "1.2.0",
      "model_name": "LayoutModel",
      "state": {
       "_model_module": "@jupyter-widgets/base",
       "_model_module_version": "1.2.0",
       "_model_name": "LayoutModel",
       "_view_count": null,
       "_view_module": "@jupyter-widgets/base",
       "_view_module_version": "1.2.0",
       "_view_name": "LayoutView",
       "align_content": null,
       "align_items": null,
       "align_self": null,
       "border": null,
       "bottom": null,
       "display": null,
       "flex": null,
       "flex_flow": null,
       "grid_area": null,
       "grid_auto_columns": null,
       "grid_auto_flow": null,
       "grid_auto_rows": null,
       "grid_column": null,
       "grid_gap": null,
       "grid_row": null,
       "grid_template_areas": null,
       "grid_template_columns": null,
       "grid_template_rows": null,
       "height": null,
       "justify_content": null,
       "justify_items": null,
       "left": null,
       "margin": null,
       "max_height": null,
       "max_width": null,
       "min_height": null,
       "min_width": null,
       "object_fit": null,
       "object_position": null,
       "order": null,
       "overflow": null,
       "overflow_x": null,
       "overflow_y": null,
       "padding": null,
       "right": null,
       "top": null,
       "visibility": null,
       "width": null
      }
     },
     "d34c760569254bf3a33059f01a9d3d10": {
      "model_module": "@jupyter-widgets/controls",
      "model_module_version": "1.5.0",
      "model_name": "FloatProgressModel",
      "state": {
       "_dom_classes": [],
       "_model_module": "@jupyter-widgets/controls",
       "_model_module_version": "1.5.0",
       "_model_name": "FloatProgressModel",
       "_view_count": null,
       "_view_module": "@jupyter-widgets/controls",
       "_view_module_version": "1.5.0",
       "_view_name": "ProgressView",
       "bar_style": "success",
       "description": "",
       "description_tooltip": null,
       "layout": "IPY_MODEL_60963fbc39f04983a2283a61a0396626",
       "max": 51704546.0,
       "min": 0.0,
       "orientation": "horizontal",
       "style": "IPY_MODEL_99a94b217d8540e9b7a50c5c1016111c",
       "value": 51704546.0
      }
     },
     "dcf29c8226004b2e8f8f55713521145a": {
      "model_module": "@jupyter-widgets/controls",
      "model_module_version": "1.5.0",
      "model_name": "FloatProgressModel",
      "state": {
       "_dom_classes": [],
       "_model_module": "@jupyter-widgets/controls",
       "_model_module_version": "1.5.0",
       "_model_name": "FloatProgressModel",
       "_view_count": null,
       "_view_module": "@jupyter-widgets/controls",
       "_view_module_version": "1.5.0",
       "_view_name": "ProgressView",
       "bar_style": "success",
       "description": "",
       "description_tooltip": null,
       "layout": "IPY_MODEL_a70289bd51d74100bc0a0341e96c2710",
       "max": 583975.0,
       "min": 0.0,
       "orientation": "horizontal",
       "style": "IPY_MODEL_e634ad008e8642709aee5f5f28f12b78",
       "value": 583975.0
      }
     },
     "e166babd3698417fbdaaaca8da8d1bec": {
      "model_module": "@jupyter-widgets/controls",
      "model_module_version": "1.5.0",
      "model_name": "HBoxModel",
      "state": {
       "_dom_classes": [],
       "_model_module": "@jupyter-widgets/controls",
       "_model_module_version": "1.5.0",
       "_model_name": "HBoxModel",
       "_view_count": null,
       "_view_module": "@jupyter-widgets/controls",
       "_view_module_version": "1.5.0",
       "_view_name": "HBoxView",
       "box_style": "",
       "children": [
        "IPY_MODEL_bc19db1720554cb4ac51691914e87b86",
        "IPY_MODEL_2a89dd42d06d4d028e5d6405276cf8eb",
        "IPY_MODEL_55e968c5ea724f0597d033aaef58f97f"
       ],
       "layout": "IPY_MODEL_0ef2bf053aaa437c988abdd500639ba9"
      }
     },
     "e634ad008e8642709aee5f5f28f12b78": {
      "model_module": "@jupyter-widgets/controls",
      "model_module_version": "1.5.0",
      "model_name": "ProgressStyleModel",
      "state": {
       "_model_module": "@jupyter-widgets/controls",
       "_model_module_version": "1.5.0",
       "_model_name": "ProgressStyleModel",
       "_view_count": null,
       "_view_module": "@jupyter-widgets/base",
       "_view_module_version": "1.2.0",
       "_view_name": "StyleView",
       "bar_color": null,
       "description_width": ""
      }
     },
     "e8b3ba9fd8f84975862a5446fec6d9ba": {
      "model_module": "@jupyter-widgets/controls",
      "model_module_version": "1.5.0",
      "model_name": "HBoxModel",
      "state": {
       "_dom_classes": [],
       "_model_module": "@jupyter-widgets/controls",
       "_model_module_version": "1.5.0",
       "_model_name": "HBoxModel",
       "_view_count": null,
       "_view_module": "@jupyter-widgets/controls",
       "_view_module_version": "1.5.0",
       "_view_name": "HBoxView",
       "box_style": "",
       "children": [
        "IPY_MODEL_8d48313e35c945f3999cc2a87d411be2",
        "IPY_MODEL_dcf29c8226004b2e8f8f55713521145a",
        "IPY_MODEL_4a9f8160c4994ff69c4bf944c56276a6"
       ],
       "layout": "IPY_MODEL_8054dfbd6edf4b7ca0ac9c31d5e229e3"
      }
     },
     "ee2f52723bd744e480d37c7a721eb223": {
      "model_module": "@jupyter-widgets/controls",
      "model_module_version": "1.5.0",
      "model_name": "DescriptionStyleModel",
      "state": {
       "_model_module": "@jupyter-widgets/controls",
       "_model_module_version": "1.5.0",
       "_model_name": "DescriptionStyleModel",
       "_view_count": null,
       "_view_module": "@jupyter-widgets/base",
       "_view_module_version": "1.2.0",
       "_view_name": "StyleView",
       "description_width": ""
      }
     },
     "f02e94211f6e4646b79aeecddf01aaea": {
      "model_module": "@jupyter-widgets/controls",
      "model_module_version": "1.5.0",
      "model_name": "DescriptionStyleModel",
      "state": {
       "_model_module": "@jupyter-widgets/controls",
       "_model_module_version": "1.5.0",
       "_model_name": "DescriptionStyleModel",
       "_view_count": null,
       "_view_module": "@jupyter-widgets/base",
       "_view_module_version": "1.2.0",
       "_view_name": "StyleView",
       "description_width": ""
      }
     },
     "fc9f7d39ccef46d594e0ea6a76c9b3ec": {
      "model_module": "@jupyter-widgets/controls",
      "model_module_version": "1.5.0",
      "model_name": "HBoxModel",
      "state": {
       "_dom_classes": [],
       "_model_module": "@jupyter-widgets/controls",
       "_model_module_version": "1.5.0",
       "_model_name": "HBoxModel",
       "_view_count": null,
       "_view_module": "@jupyter-widgets/controls",
       "_view_module_version": "1.5.0",
       "_view_name": "HBoxView",
       "box_style": "",
       "children": [
        "IPY_MODEL_b0bacc3c19e64dec8c451b099f8ce1af",
        "IPY_MODEL_23ac4211e67548cfacffab69a2a18305",
        "IPY_MODEL_863d016e10534a29b1e4ea8e4b22517a"
       ],
       "layout": "IPY_MODEL_05b7af68378d417d8cd304f2db6b8a85"
      }
     },
     "fd101f9062564ed796e65e341f35c058": {
      "model_module": "@jupyter-widgets/controls",
      "model_module_version": "1.5.0",
      "model_name": "HTMLModel",
      "state": {
       "_dom_classes": [],
       "_model_module": "@jupyter-widgets/controls",
       "_model_module_version": "1.5.0",
       "_model_name": "HTMLModel",
       "_view_count": null,
       "_view_module": "@jupyter-widgets/controls",
       "_view_module_version": "1.5.0",
       "_view_name": "HTMLView",
       "description": "",
       "description_tooltip": null,
       "layout": "IPY_MODEL_571db5bb69d2433eb45bb971a48d3c3a",
       "placeholder": "​",
       "style": "IPY_MODEL_9820461feb0b41b88a47a95699e4ca56",
       "value": " 51704546/51704546 [53:18&lt;00:00, 19090.74it/s]"
      }
     }
    },
    "version_major": 2,
    "version_minor": 0
   }
  }
 },
 "nbformat": 4,
 "nbformat_minor": 5
}
