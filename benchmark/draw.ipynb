{
 "cells": [
  {
   "cell_type": "markdown",
   "id": "cc7d9cd1",
   "metadata": {
    "papermill": {
     "duration": 0.009057,
     "end_time": "2023-12-11T20:24:24.621788",
     "exception": false,
     "start_time": "2023-12-11T20:24:24.612731",
     "status": "completed"
    },
    "tags": []
   },
   "source": [
    "## Draw Accuracy Benchmarks\n",
    "This is a reproducible benchmark that checks the accuracy of [openskill.py](https://openskill.me/) against a small dataset of chess matches.\n",
    "\n",
    "Let's start by importing the necessary libraries:"
   ]
  },
  {
   "cell_type": "code",
   "execution_count": 1,
   "id": "9ca6b7e6",
   "metadata": {
    "_kg_hide-output": false,
    "execution": {
     "iopub.execute_input": "2023-12-11T20:24:24.641636Z",
     "iopub.status.busy": "2023-12-11T20:24:24.640944Z",
     "iopub.status.idle": "2023-12-11T20:24:40.249391Z",
     "shell.execute_reply": "2023-12-11T20:24:40.248003Z"
    },
    "papermill": {
     "duration": 15.622032,
     "end_time": "2023-12-11T20:24:40.252475",
     "exception": false,
     "start_time": "2023-12-11T20:24:24.630443",
     "status": "completed"
    },
    "tags": []
   },
   "outputs": [
    {
     "name": "stdout",
     "output_type": "stream",
     "text": [
      "Requirement already satisfied: pandas in /opt/conda/lib/python3.10/site-packages (2.0.3)\r\n",
      "Collecting rbo\r\n",
      "  Downloading rbo-0.1.3-py3-none-any.whl (7.8 kB)\r\n",
      "Requirement already satisfied: rich in /opt/conda/lib/python3.10/site-packages (13.5.2)\r\n",
      "Requirement already satisfied: numpy in /opt/conda/lib/python3.10/site-packages (1.24.3)\r\n",
      "Requirement already satisfied: scikit-learn in /opt/conda/lib/python3.10/site-packages (1.2.2)\r\n",
      "Requirement already satisfied: tqdm in /opt/conda/lib/python3.10/site-packages (4.66.1)\r\n",
      "Requirement already satisfied: pooch in /opt/conda/lib/python3.10/site-packages (1.8.0)\r\n",
      "Collecting openskill\r\n",
      "  Obtaining dependency information for openskill from https://files.pythonhosted.org/packages/11/af/083022f27cda2608c1ee8b32e759d813b056e1540269b0ae0bbc86226fcb/openskill-5.1.0-py3-none-any.whl.metadata\r\n",
      "  Downloading openskill-5.1.0-py3-none-any.whl.metadata (5.6 kB)\r\n",
      "Requirement already satisfied: python-dateutil>=2.8.2 in /opt/conda/lib/python3.10/site-packages (from pandas) (2.8.2)\r\n",
      "Requirement already satisfied: pytz>=2020.1 in /opt/conda/lib/python3.10/site-packages (from pandas) (2023.3)\r\n",
      "Requirement already satisfied: tzdata>=2022.1 in /opt/conda/lib/python3.10/site-packages (from pandas) (2023.3)\r\n",
      "Requirement already satisfied: markdown-it-py>=2.2.0 in /opt/conda/lib/python3.10/site-packages (from rich) (3.0.0)\r\n",
      "Requirement already satisfied: pygments<3.0.0,>=2.13.0 in /opt/conda/lib/python3.10/site-packages (from rich) (2.16.1)\r\n",
      "Requirement already satisfied: scipy>=1.3.2 in /opt/conda/lib/python3.10/site-packages (from scikit-learn) (1.11.4)\r\n",
      "Requirement already satisfied: joblib>=1.1.1 in /opt/conda/lib/python3.10/site-packages (from scikit-learn) (1.3.2)\r\n",
      "Requirement already satisfied: threadpoolctl>=2.0.0 in /opt/conda/lib/python3.10/site-packages (from scikit-learn) (3.2.0)\r\n",
      "Requirement already satisfied: platformdirs>=2.5.0 in /opt/conda/lib/python3.10/site-packages (from pooch) (4.1.0)\r\n",
      "Requirement already satisfied: packaging>=20.0 in /opt/conda/lib/python3.10/site-packages (from pooch) (21.3)\r\n",
      "Requirement already satisfied: requests>=2.19.0 in /opt/conda/lib/python3.10/site-packages (from pooch) (2.31.0)\r\n",
      "Requirement already satisfied: mdurl~=0.1 in /opt/conda/lib/python3.10/site-packages (from markdown-it-py>=2.2.0->rich) (0.1.2)\r\n",
      "Requirement already satisfied: pyparsing!=3.0.5,>=2.0.2 in /opt/conda/lib/python3.10/site-packages (from packaging>=20.0->pooch) (3.0.9)\r\n",
      "Requirement already satisfied: six>=1.5 in /opt/conda/lib/python3.10/site-packages (from python-dateutil>=2.8.2->pandas) (1.16.0)\r\n",
      "Requirement already satisfied: charset-normalizer<4,>=2 in /opt/conda/lib/python3.10/site-packages (from requests>=2.19.0->pooch) (3.2.0)\r\n",
      "Requirement already satisfied: idna<4,>=2.5 in /opt/conda/lib/python3.10/site-packages (from requests>=2.19.0->pooch) (3.4)\r\n",
      "Requirement already satisfied: urllib3<3,>=1.21.1 in /opt/conda/lib/python3.10/site-packages (from requests>=2.19.0->pooch) (1.26.15)\r\n",
      "Requirement already satisfied: certifi>=2017.4.17 in /opt/conda/lib/python3.10/site-packages (from requests>=2.19.0->pooch) (2023.11.17)\r\n",
      "Downloading openskill-5.1.0-py3-none-any.whl (45 kB)\r\n",
      "\u001b[2K   \u001b[90m━━━━━━━━━━━━━━━━━━━━━━━━━━━━━━━━━━━━━━━━\u001b[0m \u001b[32m45.7/45.7 kB\u001b[0m \u001b[31m1.8 MB/s\u001b[0m eta \u001b[36m0:00:00\u001b[0m\r\n",
      "\u001b[?25hInstalling collected packages: rbo, openskill\r\n",
      "Successfully installed openskill-5.1.0 rbo-0.1.3\r\n",
      "Note: you may need to restart the kernel to use updated packages.\n"
     ]
    }
   ],
   "source": [
    "%pip install pandas rbo rich numpy scikit-learn tqdm pooch openskill"
   ]
  },
  {
   "cell_type": "markdown",
   "id": "3e44a6bc",
   "metadata": {
    "papermill": {
     "duration": 0.00992,
     "end_time": "2023-12-11T20:24:40.272748",
     "exception": false,
     "start_time": "2023-12-11T20:24:40.262828",
     "status": "completed"
    },
    "tags": []
   },
   "source": [
    "## Import Libraries\n",
    "We going to import polars to do the data loading and rich to display things in user friendly format.\n",
    "We are also going to import ipywidget for native iteractivity within the browser."
   ]
  },
  {
   "cell_type": "code",
   "execution_count": 2,
   "id": "7633315b",
   "metadata": {
    "execution": {
     "iopub.execute_input": "2023-12-11T20:24:40.296319Z",
     "iopub.status.busy": "2023-12-11T20:24:40.295089Z",
     "iopub.status.idle": "2023-12-11T20:24:42.263647Z",
     "shell.execute_reply": "2023-12-11T20:24:42.262638Z"
    },
    "papermill": {
     "duration": 1.983486,
     "end_time": "2023-12-11T20:24:42.266531",
     "exception": false,
     "start_time": "2023-12-11T20:24:40.283045",
     "status": "completed"
    },
    "tags": []
   },
   "outputs": [],
   "source": [
    "import gc\n",
    "from dataclasses import dataclass\n",
    "from enum import Enum\n",
    "from pathlib import Path\n",
    "from typing import Dict, List\n",
    "\n",
    "import ipywidgets as widgets\n",
    "import pandas as pd\n",
    "import rich\n",
    "from pooch import DOIDownloader\n",
    "from rich.table import Table\n",
    "from sklearn.model_selection import train_test_split\n",
    "from tqdm.notebook import tqdm\n",
    "\n",
    "import openskill\n",
    "from openskill.models import (\n",
    "    BradleyTerryFull,\n",
    "    BradleyTerryPart,\n",
    "    PlackettLuce,\n",
    "    ThurstoneMostellerFull,\n",
    "    ThurstoneMostellerPart,\n",
    ")"
   ]
  },
  {
   "cell_type": "markdown",
   "id": "4361d9af",
   "metadata": {
    "papermill": {
     "duration": 0.009856,
     "end_time": "2023-12-11T20:24:42.286589",
     "exception": false,
     "start_time": "2023-12-11T20:24:42.276733",
     "status": "completed"
    },
    "tags": []
   },
   "source": [
    "## Check OpenSkill Version"
   ]
  },
  {
   "cell_type": "code",
   "execution_count": 3,
   "id": "4ed23ca8",
   "metadata": {
    "execution": {
     "iopub.execute_input": "2023-12-11T20:24:42.308559Z",
     "iopub.status.busy": "2023-12-11T20:24:42.308050Z",
     "iopub.status.idle": "2023-12-11T20:24:42.313306Z",
     "shell.execute_reply": "2023-12-11T20:24:42.312145Z"
    },
    "papermill": {
     "duration": 0.020162,
     "end_time": "2023-12-11T20:24:42.316756",
     "exception": false,
     "start_time": "2023-12-11T20:24:42.296594",
     "status": "completed"
    },
    "tags": []
   },
   "outputs": [
    {
     "name": "stdout",
     "output_type": "stream",
     "text": [
      "5.1.0\n"
     ]
    }
   ],
   "source": [
    "print(openskill.__version__)"
   ]
  },
  {
   "cell_type": "markdown",
   "id": "150e57b0",
   "metadata": {
    "papermill": {
     "duration": 0.009726,
     "end_time": "2023-12-11T20:24:42.336598",
     "exception": false,
     "start_time": "2023-12-11T20:24:42.326872",
     "status": "completed"
    },
    "tags": []
   },
   "source": [
    "## Download Data\n",
    "The data we need is not available, yet. So let's download it."
   ]
  },
  {
   "cell_type": "code",
   "execution_count": 4,
   "id": "4f6ce4fd",
   "metadata": {
    "collapsed": false,
    "execution": {
     "iopub.execute_input": "2023-12-11T20:24:42.358480Z",
     "iopub.status.busy": "2023-12-11T20:24:42.358093Z",
     "iopub.status.idle": "2023-12-11T20:24:49.487037Z",
     "shell.execute_reply": "2023-12-11T20:24:49.485432Z"
    },
    "papermill": {
     "duration": 7.142785,
     "end_time": "2023-12-11T20:24:49.489413",
     "exception": false,
     "start_time": "2023-12-11T20:24:42.346628",
     "status": "completed"
    },
    "tags": []
   },
   "outputs": [
    {
     "name": "stderr",
     "output_type": "stream",
     "text": [
      "0.00B [00:00, ?B/s]\n"
     ]
    }
   ],
   "source": [
    "downloader = DOIDownloader(progressbar=True)\n",
    "\n",
    "working_directory = Path.cwd()\n",
    "data_directory = Path(working_directory / Path(\"data\"))\n",
    "data_directory.mkdir(exist_ok=True)\n",
    "downloader(\n",
    "    url=\"doi:10.5281/zenodo.10344773/chess.csv\",\n",
    "    output_file=data_directory / \"chess.csv\",\n",
    "    pooch=None,\n",
    ")"
   ]
  },
  {
   "cell_type": "code",
   "execution_count": 5,
   "id": "c6e7c377",
   "metadata": {
    "execution": {
     "iopub.execute_input": "2023-12-11T20:24:49.513800Z",
     "iopub.status.busy": "2023-12-11T20:24:49.513406Z",
     "iopub.status.idle": "2023-12-11T20:24:49.521306Z",
     "shell.execute_reply": "2023-12-11T20:24:49.520103Z"
    },
    "papermill": {
     "duration": 0.022741,
     "end_time": "2023-12-11T20:24:49.523556",
     "exception": false,
     "start_time": "2023-12-11T20:24:49.500815",
     "status": "completed"
    },
    "tags": []
   },
   "outputs": [],
   "source": [
    "class Result(Enum):\n",
    "    WHITE_WINS = 1\n",
    "    BLACK_WINS = 2\n",
    "    STALEMATE = 3\n",
    "\n",
    "\n",
    "@dataclass(slots=True)\n",
    "class Player:\n",
    "    name: str\n",
    "\n",
    "\n",
    "@dataclass(slots=True)\n",
    "class Match:\n",
    "    result: Result\n",
    "    players: Dict[str, Player]"
   ]
  },
  {
   "cell_type": "markdown",
   "id": "84f6e33c",
   "metadata": {
    "papermill": {
     "duration": 0.01135,
     "end_time": "2023-12-11T20:24:49.545911",
     "exception": false,
     "start_time": "2023-12-11T20:24:49.534561",
     "status": "completed"
    },
    "tags": []
   },
   "source": [
    "## Select Model\n",
    "OpenSkill comes with 5 models. Let's pick one for this benchmark."
   ]
  },
  {
   "cell_type": "code",
   "execution_count": 6,
   "id": "cdaf917d",
   "metadata": {
    "execution": {
     "iopub.execute_input": "2023-12-11T20:24:49.569943Z",
     "iopub.status.busy": "2023-12-11T20:24:49.569544Z",
     "iopub.status.idle": "2023-12-11T20:24:49.581840Z",
     "shell.execute_reply": "2023-12-11T20:24:49.580759Z"
    },
    "papermill": {
     "duration": 0.028606,
     "end_time": "2023-12-11T20:24:49.585763",
     "exception": false,
     "start_time": "2023-12-11T20:24:49.557157",
     "status": "completed"
    },
    "tags": []
   },
   "outputs": [
    {
     "data": {
      "application/vnd.jupyter.widget-view+json": {
       "model_id": "90813dd62a904f1d9c376f651dc1c99e",
       "version_major": 2,
       "version_minor": 0
      },
      "text/plain": [
       "Select(description='Model:', index=2, options=('BradleyTerryFull', 'BradleyTerryPart', 'PlackettLuce', 'Thurst…"
      ]
     },
     "metadata": {},
     "output_type": "display_data"
    }
   ],
   "source": [
    "models = [\n",
    "    BradleyTerryFull,\n",
    "    BradleyTerryPart,\n",
    "    PlackettLuce,\n",
    "    ThurstoneMostellerFull,\n",
    "    ThurstoneMostellerPart,\n",
    "]\n",
    "\n",
    "widget = widgets.Select(\n",
    "    options=[m.__name__ for m in models],\n",
    "    value=PlackettLuce.__name__,\n",
    "    # rows=10,\n",
    "    description=\"Model:\",\n",
    "    disabled=False,\n",
    ")\n",
    "display(widget)"
   ]
  },
  {
   "cell_type": "markdown",
   "id": "75794abf",
   "metadata": {
    "papermill": {
     "duration": 0.010919,
     "end_time": "2023-12-11T20:24:49.608002",
     "exception": false,
     "start_time": "2023-12-11T20:24:49.597083",
     "status": "completed"
    },
    "tags": []
   },
   "source": [
    "## Initialize Model\n",
    "Let's call the constructor on the model."
   ]
  },
  {
   "cell_type": "code",
   "execution_count": 7,
   "id": "5571eea4",
   "metadata": {
    "execution": {
     "iopub.execute_input": "2023-12-11T20:24:49.632293Z",
     "iopub.status.busy": "2023-12-11T20:24:49.631894Z",
     "iopub.status.idle": "2023-12-11T20:24:49.638188Z",
     "shell.execute_reply": "2023-12-11T20:24:49.636940Z"
    },
    "papermill": {
     "duration": 0.022267,
     "end_time": "2023-12-11T20:24:49.641550",
     "exception": false,
     "start_time": "2023-12-11T20:24:49.619283",
     "status": "completed"
    },
    "tags": []
   },
   "outputs": [
    {
     "name": "stdout",
     "output_type": "stream",
     "text": [
      "Plackett-Luce Model Parameters: \n",
      "\n",
      "mu: 25.0\n",
      "sigma: 8.333333333333334\n"
     ]
    }
   ],
   "source": [
    "widget.close()\n",
    "m = widget.value\n",
    "m = eval(m)\n",
    "model = m()\n",
    "print(str(model))"
   ]
  },
  {
   "cell_type": "markdown",
   "id": "428947c3",
   "metadata": {
    "papermill": {
     "duration": 0.01107,
     "end_time": "2023-12-11T20:24:49.664198",
     "exception": false,
     "start_time": "2023-12-11T20:24:49.653128",
     "status": "completed"
    },
    "tags": []
   },
   "source": [
    "## Load Data\n",
    "We are going to use the Pandas to load the CSV file."
   ]
  },
  {
   "cell_type": "code",
   "execution_count": 8,
   "id": "234a88da",
   "metadata": {
    "execution": {
     "iopub.execute_input": "2023-12-11T20:24:49.688895Z",
     "iopub.status.busy": "2023-12-11T20:24:49.688491Z",
     "iopub.status.idle": "2023-12-11T20:24:49.817597Z",
     "shell.execute_reply": "2023-12-11T20:24:49.816433Z"
    },
    "papermill": {
     "duration": 0.145154,
     "end_time": "2023-12-11T20:24:49.820621",
     "exception": false,
     "start_time": "2023-12-11T20:24:49.675467",
     "status": "completed"
    },
    "tags": []
   },
   "outputs": [],
   "source": [
    "# Load Data\n",
    "df = pd.read_csv(data_directory / \"chess.csv\", index_col=0)\n",
    "\n",
    "# Split Data\n",
    "train, test = train_test_split(df, test_size=0.3)"
   ]
  },
  {
   "cell_type": "markdown",
   "id": "029e73e7",
   "metadata": {
    "papermill": {
     "duration": 0.011188,
     "end_time": "2023-12-11T20:24:49.843162",
     "exception": false,
     "start_time": "2023-12-11T20:24:49.831974",
     "status": "completed"
    },
    "tags": []
   },
   "source": [
    "Let's also hold all rating data in a single variable:"
   ]
  },
  {
   "cell_type": "code",
   "execution_count": 9,
   "id": "477d012f",
   "metadata": {
    "execution": {
     "iopub.execute_input": "2023-12-11T20:24:49.867328Z",
     "iopub.status.busy": "2023-12-11T20:24:49.866934Z",
     "iopub.status.idle": "2023-12-11T20:24:49.871672Z",
     "shell.execute_reply": "2023-12-11T20:24:49.870588Z"
    },
    "papermill": {
     "duration": 0.019664,
     "end_time": "2023-12-11T20:24:49.874050",
     "exception": false,
     "start_time": "2023-12-11T20:24:49.854386",
     "status": "completed"
    },
    "tags": []
   },
   "outputs": [],
   "source": [
    "# Data Container\n",
    "openskill_players = {}"
   ]
  },
  {
   "cell_type": "markdown",
   "id": "c5bcd7f5",
   "metadata": {
    "papermill": {
     "duration": 0.011072,
     "end_time": "2023-12-11T20:24:49.896707",
     "exception": false,
     "start_time": "2023-12-11T20:24:49.885635",
     "status": "completed"
    },
    "tags": []
   },
   "source": [
    "## Parse Data for Training Set\n",
    "Let's now parse the training data and put it into our dataclasses."
   ]
  },
  {
   "cell_type": "code",
   "execution_count": 10,
   "id": "75c1b17a",
   "metadata": {
    "execution": {
     "iopub.execute_input": "2023-12-11T20:24:49.921451Z",
     "iopub.status.busy": "2023-12-11T20:24:49.921074Z",
     "iopub.status.idle": "2023-12-11T20:24:55.331676Z",
     "shell.execute_reply": "2023-12-11T20:24:55.330495Z"
    },
    "papermill": {
     "duration": 5.426537,
     "end_time": "2023-12-11T20:24:55.334699",
     "exception": false,
     "start_time": "2023-12-11T20:24:49.908162",
     "status": "completed"
    },
    "tags": []
   },
   "outputs": [
    {
     "name": "stdout",
     "output_type": "stream",
     "text": [
      "Loading Raw Data from Training Set into Memory\n",
      "Parsing Training Data:\n"
     ]
    },
    {
     "data": {
      "application/vnd.jupyter.widget-view+json": {
       "model_id": "62f417d602c046edb2606261886914d5",
       "version_major": 2,
       "version_minor": 0
      },
      "text/plain": [
       "  0%|          | 0/46815 [00:00<?, ?it/s]"
      ]
     },
     "metadata": {},
     "output_type": "display_data"
    },
    {
     "name": "stdout",
     "output_type": "stream",
     "text": [
      "Parsed 46815 Training Matches\n"
     ]
    }
   ],
   "source": [
    "print(\"Loading Raw Data from Training Set into Memory\")\n",
    "\n",
    "# Parse Training Data\n",
    "print(\"Parsing Training Data:\")\n",
    "\n",
    "# Get Unique Matches for Training\n",
    "train_size = len(train)\n",
    "\n",
    "# Create a Progress Bar\n",
    "t = tqdm(total=train_size)\n",
    "\n",
    "# Training Data\n",
    "train_matches: List[Match] = []\n",
    "\n",
    "for match_index, row in train.iterrows():\n",
    "    white_player = Player(name=row[\"white_username\"])\n",
    "    black_player = Player(name=row[\"black_username\"])\n",
    "    players = {row[\"white_username\"]: white_player, row[\"black_username\"]: black_player}\n",
    "\n",
    "    white_result = row[\"white_result\"]\n",
    "    black_result = row[\"black_result\"]\n",
    "\n",
    "    if white_result == \"win\":\n",
    "        match = Match(result=Result.WHITE_WINS, players=players)\n",
    "    elif black_result == \"win\":\n",
    "        match = Match(result=Result.BLACK_WINS, players=players)\n",
    "    else:\n",
    "        match = Match(result=Result.STALEMATE, players=players)\n",
    "\n",
    "    train_matches.append(match)\n",
    "    t.update(1)\n",
    "\n",
    "print(f\"Parsed {len(train_matches)} Training Matches\")\n",
    "_ = gc.collect()"
   ]
  },
  {
   "cell_type": "markdown",
   "id": "bc8cc4fd",
   "metadata": {
    "papermill": {
     "duration": 0.011513,
     "end_time": "2023-12-11T20:24:55.358142",
     "exception": false,
     "start_time": "2023-12-11T20:24:55.346629",
     "status": "completed"
    },
    "tags": []
   },
   "source": [
    "## Intialize OpenSkill Ratings for Train Set\n",
    "Next let's use the ``model.rating`` method to create new rating objects for each player in the training set."
   ]
  },
  {
   "cell_type": "code",
   "execution_count": 11,
   "id": "35d1fbe6",
   "metadata": {
    "execution": {
     "iopub.execute_input": "2023-12-11T20:24:55.384353Z",
     "iopub.status.busy": "2023-12-11T20:24:55.383935Z",
     "iopub.status.idle": "2023-12-11T20:25:02.252072Z",
     "shell.execute_reply": "2023-12-11T20:25:02.250928Z"
    },
    "papermill": {
     "duration": 6.886504,
     "end_time": "2023-12-11T20:25:02.256933",
     "exception": false,
     "start_time": "2023-12-11T20:24:55.370429",
     "status": "completed"
    },
    "tags": []
   },
   "outputs": [
    {
     "name": "stdout",
     "output_type": "stream",
     "text": [
      "Initializing Players for Training Set:\n"
     ]
    },
    {
     "data": {
      "application/vnd.jupyter.widget-view+json": {
       "model_id": "19bb0f2c92f84811bfe0b97aa8393474",
       "version_major": 2,
       "version_minor": 0
      },
      "text/plain": [
       "  0%|          | 0/46815 [00:00<?, ?it/s]"
      ]
     },
     "metadata": {},
     "output_type": "display_data"
    },
    {
     "name": "stdout",
     "output_type": "stream",
     "text": [
      "Rate Training Matches:\n"
     ]
    },
    {
     "data": {
      "application/vnd.jupyter.widget-view+json": {
       "model_id": "03d2687c2b3044f9bfb9e540eba85c2b",
       "version_major": 2,
       "version_minor": 0
      },
      "text/plain": [
       "  0%|          | 0/46815 [00:00<?, ?it/s]"
      ]
     },
     "metadata": {},
     "output_type": "display_data"
    }
   ],
   "source": [
    "# Initialize OpenSkill Players for Training\n",
    "print(\"Initializing Players for Training Set:\")\n",
    "\n",
    "# Create a Progress Bar\n",
    "t = tqdm(total=train_size)\n",
    "\n",
    "for match in train_matches:\n",
    "    for player_name, player in match.players.items():\n",
    "        player_rating = model.rating(name=player_name)\n",
    "        openskill_players[player_name] = player_rating\n",
    "    t.update(1)\n",
    "\n",
    "# Rate OpenSkill Players for Training\n",
    "print(\"Rate Training Matches:\")\n",
    "t = tqdm(total=len(train_matches))\n",
    "\n",
    "for match in train_matches:\n",
    "    player_1, player_2 = match.players.keys()\n",
    "    player_1_rating = openskill_players[player_1]\n",
    "    player_2_rating = openskill_players[player_2]\n",
    "    team_1 = [player_1_rating]\n",
    "    team_2 = [player_2_rating]\n",
    "\n",
    "    if match.result == Result.WHITE_WINS:\n",
    "        ranks = [1, 2]\n",
    "    elif match.result == Result.BLACK_WINS:\n",
    "        ranks = [2, 1]\n",
    "    else:\n",
    "        ranks = [1, 1]\n",
    "\n",
    "    rated_teams = model.rate(teams=[team_1, team_2], ranks=ranks)\n",
    "\n",
    "    for team in rated_teams:\n",
    "        for player in team:\n",
    "            openskill_players[player.name] = player\n",
    "\n",
    "    t.update(1)\n",
    "\n",
    "_ = gc.collect()"
   ]
  },
  {
   "cell_type": "markdown",
   "id": "8d2accdb",
   "metadata": {
    "papermill": {
     "duration": 0.011887,
     "end_time": "2023-12-11T20:25:02.281286",
     "exception": false,
     "start_time": "2023-12-11T20:25:02.269399",
     "status": "completed"
    },
    "tags": []
   },
   "source": [
    "## Clear Memory\n",
    "Let's delete some variables so we can save some memory."
   ]
  },
  {
   "cell_type": "code",
   "execution_count": 12,
   "id": "9d765ac3",
   "metadata": {
    "execution": {
     "iopub.execute_input": "2023-12-11T20:25:02.307445Z",
     "iopub.status.busy": "2023-12-11T20:25:02.307040Z",
     "iopub.status.idle": "2023-12-11T20:25:02.425422Z",
     "shell.execute_reply": "2023-12-11T20:25:02.424357Z"
    },
    "papermill": {
     "duration": 0.134342,
     "end_time": "2023-12-11T20:25:02.427812",
     "exception": false,
     "start_time": "2023-12-11T20:25:02.293470",
     "status": "completed"
    },
    "tags": []
   },
   "outputs": [],
   "source": [
    "del train\n",
    "del train_matches\n",
    "_ = gc.collect()"
   ]
  },
  {
   "cell_type": "markdown",
   "id": "3afdc6e9",
   "metadata": {
    "papermill": {
     "duration": 0.012108,
     "end_time": "2023-12-11T20:25:02.452600",
     "exception": false,
     "start_time": "2023-12-11T20:25:02.440492",
     "status": "completed"
    },
    "tags": []
   },
   "source": [
    "## Parsing Test Set\n",
    "Now let's do the same thing for the test set and grab the matches."
   ]
  },
  {
   "cell_type": "code",
   "execution_count": 13,
   "id": "48896a54",
   "metadata": {
    "execution": {
     "iopub.execute_input": "2023-12-11T20:25:02.479231Z",
     "iopub.status.busy": "2023-12-11T20:25:02.478822Z",
     "iopub.status.idle": "2023-12-11T20:25:04.644498Z",
     "shell.execute_reply": "2023-12-11T20:25:04.643324Z"
    },
    "papermill": {
     "duration": 2.181878,
     "end_time": "2023-12-11T20:25:04.646948",
     "exception": false,
     "start_time": "2023-12-11T20:25:02.465070",
     "status": "completed"
    },
    "tags": []
   },
   "outputs": [
    {
     "name": "stdout",
     "output_type": "stream",
     "text": [
      "Loading Raw Data from Test Set into Memory\n",
      "Parsing Test Data:\n"
     ]
    },
    {
     "data": {
      "application/vnd.jupyter.widget-view+json": {
       "model_id": "7c2ed95dc2f74ac08608507f4e9f6dc8",
       "version_major": 2,
       "version_minor": 0
      },
      "text/plain": [
       "  0%|          | 0/20064 [00:00<?, ?it/s]"
      ]
     },
     "metadata": {},
     "output_type": "display_data"
    }
   ],
   "source": [
    "# Get Unique Matches for Testing\n",
    "print(\"Loading Raw Data from Test Set into Memory\")\n",
    "\n",
    "test_size = len(test)\n",
    "\n",
    "# Parse Data\n",
    "print(\"Parsing Test Data:\")\n",
    "\n",
    "t = tqdm(total=test_size)\n",
    "\n",
    "# Test Data\n",
    "test_matches: List[Match] = []\n",
    "\n",
    "for match_index, row in test.iterrows():\n",
    "    white_player = Player(name=row[\"white_username\"])\n",
    "    black_player = Player(name=row[\"black_username\"])\n",
    "    players = {row[\"white_username\"]: white_player, row[\"black_username\"]: black_player}\n",
    "\n",
    "    white_result = row[\"white_result\"]\n",
    "    black_result = row[\"black_result\"]\n",
    "\n",
    "    if white_result == \"win\":\n",
    "        match = Match(result=Result.WHITE_WINS, players=players)\n",
    "    elif black_result == \"win\":\n",
    "        match = Match(result=Result.BLACK_WINS, players=players)\n",
    "    else:\n",
    "        match = Match(result=Result.STALEMATE, players=players)\n",
    "\n",
    "    test_matches.append(match)\n",
    "    t.update(1)"
   ]
  },
  {
   "cell_type": "markdown",
   "id": "8a997473",
   "metadata": {
    "papermill": {
     "duration": 0.012338,
     "end_time": "2023-12-11T20:25:04.672186",
     "exception": false,
     "start_time": "2023-12-11T20:25:04.659848",
     "status": "completed"
    },
    "tags": []
   },
   "source": [
    "## Predict Test Set\n",
    "Let's use the data we trained on to try and predict the test set."
   ]
  },
  {
   "cell_type": "code",
   "execution_count": 14,
   "id": "53be5128",
   "metadata": {
    "execution": {
     "iopub.execute_input": "2023-12-11T20:25:04.699529Z",
     "iopub.status.busy": "2023-12-11T20:25:04.699143Z",
     "iopub.status.idle": "2023-12-11T20:25:05.649044Z",
     "shell.execute_reply": "2023-12-11T20:25:05.647970Z"
    },
    "papermill": {
     "duration": 0.967209,
     "end_time": "2023-12-11T20:25:05.651969",
     "exception": false,
     "start_time": "2023-12-11T20:25:04.684760",
     "status": "completed"
    },
    "tags": []
   },
   "outputs": [
    {
     "name": "stdout",
     "output_type": "stream",
     "text": [
      "Predict Matches in Test Set using OpenSkill:\n"
     ]
    },
    {
     "data": {
      "application/vnd.jupyter.widget-view+json": {
       "model_id": "23ee1a377af84f5d8d2d6ca714156f65",
       "version_major": 2,
       "version_minor": 0
      },
      "text/plain": [
       "  0%|          | 0/20064 [00:00<?, ?it/s]"
      ]
     },
     "metadata": {},
     "output_type": "display_data"
    }
   ],
   "source": [
    "# Predict OpenSkill Matches\n",
    "print(\"Predict Matches in Test Set using OpenSkill:\")\n",
    "t = tqdm(total=len(test_matches))\n",
    "\n",
    "# Accuracy Trackers\n",
    "openskill_correct_predictions = 0\n",
    "openskill_incorrect_predictions = 0\n",
    "\n",
    "for match in test_matches:\n",
    "    actual_result = match.result\n",
    "    if actual_result == Result.STALEMATE:\n",
    "        draw = True\n",
    "    else:\n",
    "        draw = False\n",
    "\n",
    "    player_1, player_2 = match.players.keys()\n",
    "\n",
    "    if player_1 in openskill_players:\n",
    "        player_1_rating = openskill_players[player_1]\n",
    "    else:\n",
    "        player_1_rating = model.rating(name=player_1)\n",
    "\n",
    "    if player_2 in openskill_players:\n",
    "        player_2_rating = openskill_players[player_2]\n",
    "    else:\n",
    "        player_2_rating = model.rating(name=player_2)\n",
    "\n",
    "    teams = [[player_1_rating], [player_2_rating]]\n",
    "\n",
    "    white_win_probability, black_win_probability = model.predict_win(teams)\n",
    "    draw_probability = model.predict_draw(teams)\n",
    "\n",
    "    if draw_probability > (white_win_probability + black_win_probability):\n",
    "        if draw:\n",
    "            openskill_correct_predictions += 1\n",
    "        else:\n",
    "            openskill_incorrect_predictions += 1\n",
    "    else:\n",
    "        if not draw:\n",
    "            openskill_correct_predictions += 1\n",
    "        else:\n",
    "            openskill_incorrect_predictions += 1\n",
    "\n",
    "    t.update(1)"
   ]
  },
  {
   "cell_type": "markdown",
   "id": "7186f843",
   "metadata": {
    "papermill": {
     "duration": 0.074516,
     "end_time": "2023-12-11T20:25:05.739887",
     "exception": false,
     "start_time": "2023-12-11T20:25:05.665371",
     "status": "completed"
    },
    "tags": []
   },
   "source": [
    "## Results\n",
    "Let's print out the result and interpret it."
   ]
  },
  {
   "cell_type": "code",
   "execution_count": 15,
   "id": "c1b1ac68",
   "metadata": {
    "execution": {
     "iopub.execute_input": "2023-12-11T20:25:05.769173Z",
     "iopub.status.busy": "2023-12-11T20:25:05.768463Z",
     "iopub.status.idle": "2023-12-11T20:25:05.825967Z",
     "shell.execute_reply": "2023-12-11T20:25:05.825219Z"
    },
    "papermill": {
     "duration": 0.07428,
     "end_time": "2023-12-11T20:25:05.827983",
     "exception": false,
     "start_time": "2023-12-11T20:25:05.753703",
     "status": "completed"
    },
    "tags": []
   },
   "outputs": [
    {
     "data": {
      "text/html": [
       "<pre style=\"white-space:pre;overflow-x:auto;line-height:normal;font-family:Menlo,'DejaVu Sans Mono',consolas,'Courier New',monospace\"><span style=\"font-style: italic\">               Benchmark Results               </span>\n",
       "┏━━━━━━━━━━━━━━━━━━━━━━━┳━━━━━━━━━━━━━━━━━━━━━┓\n",
       "┃<span style=\"font-weight: bold\">           Information </span>┃<span style=\"font-weight: bold\"> Value               </span>┃\n",
       "┡━━━━━━━━━━━━━━━━━━━━━━━╇━━━━━━━━━━━━━━━━━━━━━┩\n",
       "│<span style=\"color: #008080; text-decoration-color: #008080\">     Available Matches </span>│<span style=\"color: #800080; text-decoration-color: #800080\"> 20064               </span>│\n",
       "│<span style=\"color: #008080; text-decoration-color: #008080\"> PlackettLuce Accuracy </span>│<span style=\"color: #800080; text-decoration-color: #800080\"> 19347/717 [ 96.43%] </span>│\n",
       "└───────────────────────┴─────────────────────┘\n",
       "</pre>\n"
      ],
      "text/plain": [
       "\u001b[3m               Benchmark Results               \u001b[0m\n",
       "┏━━━━━━━━━━━━━━━━━━━━━━━┳━━━━━━━━━━━━━━━━━━━━━┓\n",
       "┃\u001b[1m \u001b[0m\u001b[1m          Information\u001b[0m\u001b[1m \u001b[0m┃\u001b[1m \u001b[0m\u001b[1mValue              \u001b[0m\u001b[1m \u001b[0m┃\n",
       "┡━━━━━━━━━━━━━━━━━━━━━━━╇━━━━━━━━━━━━━━━━━━━━━┩\n",
       "│\u001b[36m \u001b[0m\u001b[36m    Available Matches\u001b[0m\u001b[36m \u001b[0m│\u001b[35m \u001b[0m\u001b[35m20064              \u001b[0m\u001b[35m \u001b[0m│\n",
       "│\u001b[36m \u001b[0m\u001b[36mPlackettLuce Accuracy\u001b[0m\u001b[36m \u001b[0m│\u001b[35m \u001b[0m\u001b[35m19347/717 [ 96.43%]\u001b[0m\u001b[35m \u001b[0m│\n",
       "└───────────────────────┴─────────────────────┘\n"
      ]
     },
     "metadata": {},
     "output_type": "display_data"
    }
   ],
   "source": [
    "table = Table(title=\"Benchmark Results\")\n",
    "table.add_column(\"Information\", justify=\"right\", style=\"cyan\", no_wrap=True)\n",
    "table.add_column(\"Value\", style=\"magenta\")\n",
    "\n",
    "table.add_row(\"Available Matches\", f\"{len(test_matches)}\")\n",
    "\n",
    "openskill_accuracy = round(\n",
    "    (\n",
    "        openskill_correct_predictions\n",
    "        / (openskill_incorrect_predictions + openskill_correct_predictions)\n",
    "    )\n",
    "    * 100,\n",
    "    2,\n",
    ")\n",
    "\n",
    "table.add_row(\n",
    "    f\"{model.__class__.__name__} Accuracy\",\n",
    "    f\"{openskill_correct_predictions}/\"\n",
    "    f\"{openskill_incorrect_predictions} \"\n",
    "    f\"[{openskill_accuracy: .2f}%]\",\n",
    ")\n",
    "rich.print(table)"
   ]
  }
 ],
 "metadata": {
  "kaggle": {
   "accelerator": "none",
   "dataSources": [],
   "dockerImageVersionId": 30615,
   "isGpuEnabled": false,
   "isInternetEnabled": true,
   "language": "python",
   "sourceType": "notebook"
  },
  "kernelspec": {
   "display_name": "Python 3",
   "language": "python",
   "name": "python3"
  },
  "language_info": {
   "codemirror_mode": {
    "name": "ipython",
    "version": 3
   },
   "file_extension": ".py",
   "mimetype": "text/x-python",
   "name": "python",
   "nbconvert_exporter": "python",
   "pygments_lexer": "ipython3",
   "version": "3.10.12"
  },
  "papermill": {
   "default_parameters": {},
   "duration": 45.347918,
   "end_time": "2023-12-11T20:25:06.564279",
   "environment_variables": {},
   "exception": null,
   "input_path": "__notebook__.ipynb",
   "output_path": "__notebook__.ipynb",
   "parameters": {},
   "start_time": "2023-12-11T20:24:21.216361",
   "version": "2.4.0"
  },
  "widgets": {
   "application/vnd.jupyter.widget-state+json": {
    "state": {
     "0181824304024f1e9e1079fcf0493b7d": {
      "model_module": "@jupyter-widgets/controls",
      "model_module_version": "1.5.0",
      "model_name": "DescriptionStyleModel",
      "state": {
       "_model_module": "@jupyter-widgets/controls",
       "_model_module_version": "1.5.0",
       "_model_name": "DescriptionStyleModel",
       "_view_count": null,
       "_view_module": "@jupyter-widgets/base",
       "_view_module_version": "1.2.0",
       "_view_name": "StyleView",
       "description_width": ""
      }
     },
     "03d2687c2b3044f9bfb9e540eba85c2b": {
      "model_module": "@jupyter-widgets/controls",
      "model_module_version": "1.5.0",
      "model_name": "HBoxModel",
      "state": {
       "_dom_classes": [],
       "_model_module": "@jupyter-widgets/controls",
       "_model_module_version": "1.5.0",
       "_model_name": "HBoxModel",
       "_view_count": null,
       "_view_module": "@jupyter-widgets/controls",
       "_view_module_version": "1.5.0",
       "_view_name": "HBoxView",
       "box_style": "",
       "children": [
        "IPY_MODEL_bdeef1b0dd8049438f725be82937fa34",
        "IPY_MODEL_e49a81c917e94907bbd622e94fa4fc64",
        "IPY_MODEL_7ad176fa018c4b6f9b7046e942dbbcb8"
       ],
       "layout": "IPY_MODEL_40be0b38789e44209e6fea112c847486"
      }
     },
     "07687cb5e76246bfb75599785999c1ad": {
      "model_module": "@jupyter-widgets/base",
      "model_module_version": "1.2.0",
      "model_name": "LayoutModel",
      "state": {
       "_model_module": "@jupyter-widgets/base",
       "_model_module_version": "1.2.0",
       "_model_name": "LayoutModel",
       "_view_count": null,
       "_view_module": "@jupyter-widgets/base",
       "_view_module_version": "1.2.0",
       "_view_name": "LayoutView",
       "align_content": null,
       "align_items": null,
       "align_self": null,
       "border": null,
       "bottom": null,
       "display": null,
       "flex": null,
       "flex_flow": null,
       "grid_area": null,
       "grid_auto_columns": null,
       "grid_auto_flow": null,
       "grid_auto_rows": null,
       "grid_column": null,
       "grid_gap": null,
       "grid_row": null,
       "grid_template_areas": null,
       "grid_template_columns": null,
       "grid_template_rows": null,
       "height": null,
       "justify_content": null,
       "justify_items": null,
       "left": null,
       "margin": null,
       "max_height": null,
       "max_width": null,
       "min_height": null,
       "min_width": null,
       "object_fit": null,
       "object_position": null,
       "order": null,
       "overflow": null,
       "overflow_x": null,
       "overflow_y": null,
       "padding": null,
       "right": null,
       "top": null,
       "visibility": null,
       "width": null
      }
     },
     "0d5e86f909974b11848426cffcb02a6b": {
      "model_module": "@jupyter-widgets/controls",
      "model_module_version": "1.5.0",
      "model_name": "ProgressStyleModel",
      "state": {
       "_model_module": "@jupyter-widgets/controls",
       "_model_module_version": "1.5.0",
       "_model_name": "ProgressStyleModel",
       "_view_count": null,
       "_view_module": "@jupyter-widgets/base",
       "_view_module_version": "1.2.0",
       "_view_name": "StyleView",
       "bar_color": null,
       "description_width": ""
      }
     },
     "141edbfa0e464c66be9369fac75995f0": {
      "model_module": "@jupyter-widgets/base",
      "model_module_version": "1.2.0",
      "model_name": "LayoutModel",
      "state": {
       "_model_module": "@jupyter-widgets/base",
       "_model_module_version": "1.2.0",
       "_model_name": "LayoutModel",
       "_view_count": null,
       "_view_module": "@jupyter-widgets/base",
       "_view_module_version": "1.2.0",
       "_view_name": "LayoutView",
       "align_content": null,
       "align_items": null,
       "align_self": null,
       "border": null,
       "bottom": null,
       "display": null,
       "flex": null,
       "flex_flow": null,
       "grid_area": null,
       "grid_auto_columns": null,
       "grid_auto_flow": null,
       "grid_auto_rows": null,
       "grid_column": null,
       "grid_gap": null,
       "grid_row": null,
       "grid_template_areas": null,
       "grid_template_columns": null,
       "grid_template_rows": null,
       "height": null,
       "justify_content": null,
       "justify_items": null,
       "left": null,
       "margin": null,
       "max_height": null,
       "max_width": null,
       "min_height": null,
       "min_width": null,
       "object_fit": null,
       "object_position": null,
       "order": null,
       "overflow": null,
       "overflow_x": null,
       "overflow_y": null,
       "padding": null,
       "right": null,
       "top": null,
       "visibility": null,
       "width": null
      }
     },
     "19bb0f2c92f84811bfe0b97aa8393474": {
      "model_module": "@jupyter-widgets/controls",
      "model_module_version": "1.5.0",
      "model_name": "HBoxModel",
      "state": {
       "_dom_classes": [],
       "_model_module": "@jupyter-widgets/controls",
       "_model_module_version": "1.5.0",
       "_model_name": "HBoxModel",
       "_view_count": null,
       "_view_module": "@jupyter-widgets/controls",
       "_view_module_version": "1.5.0",
       "_view_name": "HBoxView",
       "box_style": "",
       "children": [
        "IPY_MODEL_cfbcc6bd4d254838b4a550c7a5bbfa54",
        "IPY_MODEL_9546c1c21d8b4b62b1e81d24c2f63ead",
        "IPY_MODEL_454392ded9094cb884eba2a3fe8fe494"
       ],
       "layout": "IPY_MODEL_74872741d26a4459821c972a9906a916"
      }
     },
     "23ee1a377af84f5d8d2d6ca714156f65": {
      "model_module": "@jupyter-widgets/controls",
      "model_module_version": "1.5.0",
      "model_name": "HBoxModel",
      "state": {
       "_dom_classes": [],
       "_model_module": "@jupyter-widgets/controls",
       "_model_module_version": "1.5.0",
       "_model_name": "HBoxModel",
       "_view_count": null,
       "_view_module": "@jupyter-widgets/controls",
       "_view_module_version": "1.5.0",
       "_view_name": "HBoxView",
       "box_style": "",
       "children": [
        "IPY_MODEL_53860539567742aa9ffd20f1d8c5b0d6",
        "IPY_MODEL_ffaf04774155403eb62df1a5c3c3351b",
        "IPY_MODEL_4da8c7315e654ab5bfcd67dc556d283c"
       ],
       "layout": "IPY_MODEL_b9b1bee2401446f3ae0c5c7a191cae8d"
      }
     },
     "36abbd312eef480c8c2b8a725688237a": {
      "model_module": "@jupyter-widgets/controls",
      "model_module_version": "1.5.0",
      "model_name": "DescriptionStyleModel",
      "state": {
       "_model_module": "@jupyter-widgets/controls",
       "_model_module_version": "1.5.0",
       "_model_name": "DescriptionStyleModel",
       "_view_count": null,
       "_view_module": "@jupyter-widgets/base",
       "_view_module_version": "1.2.0",
       "_view_name": "StyleView",
       "description_width": ""
      }
     },
     "398617a304ba48ff9b324c53c2aab9b6": {
      "model_module": "@jupyter-widgets/base",
      "model_module_version": "1.2.0",
      "model_name": "LayoutModel",
      "state": {
       "_model_module": "@jupyter-widgets/base",
       "_model_module_version": "1.2.0",
       "_model_name": "LayoutModel",
       "_view_count": null,
       "_view_module": "@jupyter-widgets/base",
       "_view_module_version": "1.2.0",
       "_view_name": "LayoutView",
       "align_content": null,
       "align_items": null,
       "align_self": null,
       "border": null,
       "bottom": null,
       "display": null,
       "flex": null,
       "flex_flow": null,
       "grid_area": null,
       "grid_auto_columns": null,
       "grid_auto_flow": null,
       "grid_auto_rows": null,
       "grid_column": null,
       "grid_gap": null,
       "grid_row": null,
       "grid_template_areas": null,
       "grid_template_columns": null,
       "grid_template_rows": null,
       "height": null,
       "justify_content": null,
       "justify_items": null,
       "left": null,
       "margin": null,
       "max_height": null,
       "max_width": null,
       "min_height": null,
       "min_width": null,
       "object_fit": null,
       "object_position": null,
       "order": null,
       "overflow": null,
       "overflow_x": null,
       "overflow_y": null,
       "padding": null,
       "right": null,
       "top": null,
       "visibility": null,
       "width": null
      }
     },
     "40be0b38789e44209e6fea112c847486": {
      "model_module": "@jupyter-widgets/base",
      "model_module_version": "1.2.0",
      "model_name": "LayoutModel",
      "state": {
       "_model_module": "@jupyter-widgets/base",
       "_model_module_version": "1.2.0",
       "_model_name": "LayoutModel",
       "_view_count": null,
       "_view_module": "@jupyter-widgets/base",
       "_view_module_version": "1.2.0",
       "_view_name": "LayoutView",
       "align_content": null,
       "align_items": null,
       "align_self": null,
       "border": null,
       "bottom": null,
       "display": null,
       "flex": null,
       "flex_flow": null,
       "grid_area": null,
       "grid_auto_columns": null,
       "grid_auto_flow": null,
       "grid_auto_rows": null,
       "grid_column": null,
       "grid_gap": null,
       "grid_row": null,
       "grid_template_areas": null,
       "grid_template_columns": null,
       "grid_template_rows": null,
       "height": null,
       "justify_content": null,
       "justify_items": null,
       "left": null,
       "margin": null,
       "max_height": null,
       "max_width": null,
       "min_height": null,
       "min_width": null,
       "object_fit": null,
       "object_position": null,
       "order": null,
       "overflow": null,
       "overflow_x": null,
       "overflow_y": null,
       "padding": null,
       "right": null,
       "top": null,
       "visibility": null,
       "width": null
      }
     },
     "4429583c14374a858ce670d60aaf7a1c": {
      "model_module": "@jupyter-widgets/controls",
      "model_module_version": "1.5.0",
      "model_name": "DescriptionStyleModel",
      "state": {
       "_model_module": "@jupyter-widgets/controls",
       "_model_module_version": "1.5.0",
       "_model_name": "DescriptionStyleModel",
       "_view_count": null,
       "_view_module": "@jupyter-widgets/base",
       "_view_module_version": "1.2.0",
       "_view_name": "StyleView",
       "description_width": ""
      }
     },
     "454392ded9094cb884eba2a3fe8fe494": {
      "model_module": "@jupyter-widgets/controls",
      "model_module_version": "1.5.0",
      "model_name": "HTMLModel",
      "state": {
       "_dom_classes": [],
       "_model_module": "@jupyter-widgets/controls",
       "_model_module_version": "1.5.0",
       "_model_name": "HTMLModel",
       "_view_count": null,
       "_view_module": "@jupyter-widgets/controls",
       "_view_module_version": "1.5.0",
       "_view_name": "HTMLView",
       "description": "",
       "description_tooltip": null,
       "layout": "IPY_MODEL_141edbfa0e464c66be9369fac75995f0",
       "placeholder": "​",
       "style": "IPY_MODEL_8c5b0fc2a33f4e1aa6dae978cfe97e60",
       "value": " 46815/46815 [00:06&lt;00:00, 38813.29it/s]"
      }
     },
     "45b0326d5e1e419e91d0cd31f272b3fd": {
      "model_module": "@jupyter-widgets/controls",
      "model_module_version": "1.5.0",
      "model_name": "DescriptionStyleModel",
      "state": {
       "_model_module": "@jupyter-widgets/controls",
       "_model_module_version": "1.5.0",
       "_model_name": "DescriptionStyleModel",
       "_view_count": null,
       "_view_module": "@jupyter-widgets/base",
       "_view_module_version": "1.2.0",
       "_view_name": "StyleView",
       "description_width": ""
      }
     },
     "483b1e1094ec43b9bad2d14d4ae8a3e5": {
      "model_module": "@jupyter-widgets/base",
      "model_module_version": "1.2.0",
      "model_name": "LayoutModel",
      "state": {
       "_model_module": "@jupyter-widgets/base",
       "_model_module_version": "1.2.0",
       "_model_name": "LayoutModel",
       "_view_count": null,
       "_view_module": "@jupyter-widgets/base",
       "_view_module_version": "1.2.0",
       "_view_name": "LayoutView",
       "align_content": null,
       "align_items": null,
       "align_self": null,
       "border": null,
       "bottom": null,
       "display": null,
       "flex": null,
       "flex_flow": null,
       "grid_area": null,
       "grid_auto_columns": null,
       "grid_auto_flow": null,
       "grid_auto_rows": null,
       "grid_column": null,
       "grid_gap": null,
       "grid_row": null,
       "grid_template_areas": null,
       "grid_template_columns": null,
       "grid_template_rows": null,
       "height": null,
       "justify_content": null,
       "justify_items": null,
       "left": null,
       "margin": null,
       "max_height": null,
       "max_width": null,
       "min_height": null,
       "min_width": null,
       "object_fit": null,
       "object_position": null,
       "order": null,
       "overflow": null,
       "overflow_x": null,
       "overflow_y": null,
       "padding": null,
       "right": null,
       "top": null,
       "visibility": null,
       "width": null
      }
     },
     "4adfa8c86fe4414f9d3b4d63554da4d0": {
      "model_module": "@jupyter-widgets/base",
      "model_module_version": "1.2.0",
      "model_name": "LayoutModel",
      "state": {
       "_model_module": "@jupyter-widgets/base",
       "_model_module_version": "1.2.0",
       "_model_name": "LayoutModel",
       "_view_count": null,
       "_view_module": "@jupyter-widgets/base",
       "_view_module_version": "1.2.0",
       "_view_name": "LayoutView",
       "align_content": null,
       "align_items": null,
       "align_self": null,
       "border": null,
       "bottom": null,
       "display": null,
       "flex": null,
       "flex_flow": null,
       "grid_area": null,
       "grid_auto_columns": null,
       "grid_auto_flow": null,
       "grid_auto_rows": null,
       "grid_column": null,
       "grid_gap": null,
       "grid_row": null,
       "grid_template_areas": null,
       "grid_template_columns": null,
       "grid_template_rows": null,
       "height": null,
       "justify_content": null,
       "justify_items": null,
       "left": null,
       "margin": null,
       "max_height": null,
       "max_width": null,
       "min_height": null,
       "min_width": null,
       "object_fit": null,
       "object_position": null,
       "order": null,
       "overflow": null,
       "overflow_x": null,
       "overflow_y": null,
       "padding": null,
       "right": null,
       "top": null,
       "visibility": null,
       "width": null
      }
     },
     "4bc9ac015a724c56b6a8281b1ad94bd0": {
      "model_module": "@jupyter-widgets/base",
      "model_module_version": "1.2.0",
      "model_name": "LayoutModel",
      "state": {
       "_model_module": "@jupyter-widgets/base",
       "_model_module_version": "1.2.0",
       "_model_name": "LayoutModel",
       "_view_count": null,
       "_view_module": "@jupyter-widgets/base",
       "_view_module_version": "1.2.0",
       "_view_name": "LayoutView",
       "align_content": null,
       "align_items": null,
       "align_self": null,
       "border": null,
       "bottom": null,
       "display": null,
       "flex": null,
       "flex_flow": null,
       "grid_area": null,
       "grid_auto_columns": null,
       "grid_auto_flow": null,
       "grid_auto_rows": null,
       "grid_column": null,
       "grid_gap": null,
       "grid_row": null,
       "grid_template_areas": null,
       "grid_template_columns": null,
       "grid_template_rows": null,
       "height": null,
       "justify_content": null,
       "justify_items": null,
       "left": null,
       "margin": null,
       "max_height": null,
       "max_width": null,
       "min_height": null,
       "min_width": null,
       "object_fit": null,
       "object_position": null,
       "order": null,
       "overflow": null,
       "overflow_x": null,
       "overflow_y": null,
       "padding": null,
       "right": null,
       "top": null,
       "visibility": null,
       "width": null
      }
     },
     "4da8c7315e654ab5bfcd67dc556d283c": {
      "model_module": "@jupyter-widgets/controls",
      "model_module_version": "1.5.0",
      "model_name": "HTMLModel",
      "state": {
       "_dom_classes": [],
       "_model_module": "@jupyter-widgets/controls",
       "_model_module_version": "1.5.0",
       "_model_name": "HTMLModel",
       "_view_count": null,
       "_view_module": "@jupyter-widgets/controls",
       "_view_module_version": "1.5.0",
       "_view_name": "HTMLView",
       "description": "",
       "description_tooltip": null,
       "layout": "IPY_MODEL_e8cbd4b7db4c421bbd5c00fe4eb84a71",
       "placeholder": "​",
       "style": "IPY_MODEL_45b0326d5e1e419e91d0cd31f272b3fd",
       "value": " 19257/20064 [00:00&lt;00:00, 21849.19it/s]"
      }
     },
     "53342e5d86d141deab423f9daa5514bd": {
      "model_module": "@jupyter-widgets/controls",
      "model_module_version": "1.5.0",
      "model_name": "DescriptionStyleModel",
      "state": {
       "_model_module": "@jupyter-widgets/controls",
       "_model_module_version": "1.5.0",
       "_model_name": "DescriptionStyleModel",
       "_view_count": null,
       "_view_module": "@jupyter-widgets/base",
       "_view_module_version": "1.2.0",
       "_view_name": "StyleView",
       "description_width": ""
      }
     },
     "536242bff89b4f03bd4d089726c0ba15": {
      "model_module": "@jupyter-widgets/base",
      "model_module_version": "1.2.0",
      "model_name": "LayoutModel",
      "state": {
       "_model_module": "@jupyter-widgets/base",
       "_model_module_version": "1.2.0",
       "_model_name": "LayoutModel",
       "_view_count": null,
       "_view_module": "@jupyter-widgets/base",
       "_view_module_version": "1.2.0",
       "_view_name": "LayoutView",
       "align_content": null,
       "align_items": null,
       "align_self": null,
       "border": null,
       "bottom": null,
       "display": null,
       "flex": null,
       "flex_flow": null,
       "grid_area": null,
       "grid_auto_columns": null,
       "grid_auto_flow": null,
       "grid_auto_rows": null,
       "grid_column": null,
       "grid_gap": null,
       "grid_row": null,
       "grid_template_areas": null,
       "grid_template_columns": null,
       "grid_template_rows": null,
       "height": null,
       "justify_content": null,
       "justify_items": null,
       "left": null,
       "margin": null,
       "max_height": null,
       "max_width": null,
       "min_height": null,
       "min_width": null,
       "object_fit": null,
       "object_position": null,
       "order": null,
       "overflow": null,
       "overflow_x": null,
       "overflow_y": null,
       "padding": null,
       "right": null,
       "top": null,
       "visibility": null,
       "width": null
      }
     },
     "53860539567742aa9ffd20f1d8c5b0d6": {
      "model_module": "@jupyter-widgets/controls",
      "model_module_version": "1.5.0",
      "model_name": "HTMLModel",
      "state": {
       "_dom_classes": [],
       "_model_module": "@jupyter-widgets/controls",
       "_model_module_version": "1.5.0",
       "_model_name": "HTMLModel",
       "_view_count": null,
       "_view_module": "@jupyter-widgets/controls",
       "_view_module_version": "1.5.0",
       "_view_name": "HTMLView",
       "description": "",
       "description_tooltip": null,
       "layout": "IPY_MODEL_c21cddf6e4154f80b2a5920bcf959ff8",
       "placeholder": "​",
       "style": "IPY_MODEL_0181824304024f1e9e1079fcf0493b7d",
       "value": " 96%"
      }
     },
     "53915f94795b4f9eb5d8fa04c4f1155e": {
      "model_module": "@jupyter-widgets/base",
      "model_module_version": "1.2.0",
      "model_name": "LayoutModel",
      "state": {
       "_model_module": "@jupyter-widgets/base",
       "_model_module_version": "1.2.0",
       "_model_name": "LayoutModel",
       "_view_count": null,
       "_view_module": "@jupyter-widgets/base",
       "_view_module_version": "1.2.0",
       "_view_name": "LayoutView",
       "align_content": null,
       "align_items": null,
       "align_self": null,
       "border": null,
       "bottom": null,
       "display": null,
       "flex": null,
       "flex_flow": null,
       "grid_area": null,
       "grid_auto_columns": null,
       "grid_auto_flow": null,
       "grid_auto_rows": null,
       "grid_column": null,
       "grid_gap": null,
       "grid_row": null,
       "grid_template_areas": null,
       "grid_template_columns": null,
       "grid_template_rows": null,
       "height": null,
       "justify_content": null,
       "justify_items": null,
       "left": null,
       "margin": null,
       "max_height": null,
       "max_width": null,
       "min_height": null,
       "min_width": null,
       "object_fit": null,
       "object_position": null,
       "order": null,
       "overflow": null,
       "overflow_x": null,
       "overflow_y": null,
       "padding": null,
       "right": null,
       "top": null,
       "visibility": null,
       "width": null
      }
     },
     "5b268f5d0730405cbb6bca366cf1f233": {
      "model_module": "@jupyter-widgets/controls",
      "model_module_version": "1.5.0",
      "model_name": "DescriptionStyleModel",
      "state": {
       "_model_module": "@jupyter-widgets/controls",
       "_model_module_version": "1.5.0",
       "_model_name": "DescriptionStyleModel",
       "_view_count": null,
       "_view_module": "@jupyter-widgets/base",
       "_view_module_version": "1.2.0",
       "_view_name": "StyleView",
       "description_width": ""
      }
     },
     "62f417d602c046edb2606261886914d5": {
      "model_module": "@jupyter-widgets/controls",
      "model_module_version": "1.5.0",
      "model_name": "HBoxModel",
      "state": {
       "_dom_classes": [],
       "_model_module": "@jupyter-widgets/controls",
       "_model_module_version": "1.5.0",
       "_model_name": "HBoxModel",
       "_view_count": null,
       "_view_module": "@jupyter-widgets/controls",
       "_view_module_version": "1.5.0",
       "_view_name": "HBoxView",
       "box_style": "",
       "children": [
        "IPY_MODEL_c9795ce26517437798d5bdeef4f5d89a",
        "IPY_MODEL_6a2163190d284579a6443a910f0a7147",
        "IPY_MODEL_a649f7c339284f4d926cf0d6f07a34ad"
       ],
       "layout": "IPY_MODEL_86197bb7d2be4886bc5ed63e626f07ab"
      }
     },
     "64633ce4c2a24a1eb7d303bb1a24a05c": {
      "model_module": "@jupyter-widgets/controls",
      "model_module_version": "1.5.0",
      "model_name": "ProgressStyleModel",
      "state": {
       "_model_module": "@jupyter-widgets/controls",
       "_model_module_version": "1.5.0",
       "_model_name": "ProgressStyleModel",
       "_view_count": null,
       "_view_module": "@jupyter-widgets/base",
       "_view_module_version": "1.2.0",
       "_view_name": "StyleView",
       "bar_color": null,
       "description_width": ""
      }
     },
     "6a2163190d284579a6443a910f0a7147": {
      "model_module": "@jupyter-widgets/controls",
      "model_module_version": "1.5.0",
      "model_name": "FloatProgressModel",
      "state": {
       "_dom_classes": [],
       "_model_module": "@jupyter-widgets/controls",
       "_model_module_version": "1.5.0",
       "_model_name": "FloatProgressModel",
       "_view_count": null,
       "_view_module": "@jupyter-widgets/controls",
       "_view_module_version": "1.5.0",
       "_view_name": "ProgressView",
       "bar_style": "success",
       "description": "",
       "description_tooltip": null,
       "layout": "IPY_MODEL_9d2b79ffc29c4c7290538bf50665203b",
       "max": 46815.0,
       "min": 0.0,
       "orientation": "horizontal",
       "style": "IPY_MODEL_0d5e86f909974b11848426cffcb02a6b",
       "value": 46815.0
      }
     },
     "6a56c0ed51174916bb4699b931fa8ee8": {
      "model_module": "@jupyter-widgets/controls",
      "model_module_version": "1.5.0",
      "model_name": "ProgressStyleModel",
      "state": {
       "_model_module": "@jupyter-widgets/controls",
       "_model_module_version": "1.5.0",
       "_model_name": "ProgressStyleModel",
       "_view_count": null,
       "_view_module": "@jupyter-widgets/base",
       "_view_module_version": "1.2.0",
       "_view_name": "StyleView",
       "bar_color": null,
       "description_width": ""
      }
     },
     "74872741d26a4459821c972a9906a916": {
      "model_module": "@jupyter-widgets/base",
      "model_module_version": "1.2.0",
      "model_name": "LayoutModel",
      "state": {
       "_model_module": "@jupyter-widgets/base",
       "_model_module_version": "1.2.0",
       "_model_name": "LayoutModel",
       "_view_count": null,
       "_view_module": "@jupyter-widgets/base",
       "_view_module_version": "1.2.0",
       "_view_name": "LayoutView",
       "align_content": null,
       "align_items": null,
       "align_self": null,
       "border": null,
       "bottom": null,
       "display": null,
       "flex": null,
       "flex_flow": null,
       "grid_area": null,
       "grid_auto_columns": null,
       "grid_auto_flow": null,
       "grid_auto_rows": null,
       "grid_column": null,
       "grid_gap": null,
       "grid_row": null,
       "grid_template_areas": null,
       "grid_template_columns": null,
       "grid_template_rows": null,
       "height": null,
       "justify_content": null,
       "justify_items": null,
       "left": null,
       "margin": null,
       "max_height": null,
       "max_width": null,
       "min_height": null,
       "min_width": null,
       "object_fit": null,
       "object_position": null,
       "order": null,
       "overflow": null,
       "overflow_x": null,
       "overflow_y": null,
       "padding": null,
       "right": null,
       "top": null,
       "visibility": null,
       "width": null
      }
     },
     "7ad176fa018c4b6f9b7046e942dbbcb8": {
      "model_module": "@jupyter-widgets/controls",
      "model_module_version": "1.5.0",
      "model_name": "HTMLModel",
      "state": {
       "_dom_classes": [],
       "_model_module": "@jupyter-widgets/controls",
       "_model_module_version": "1.5.0",
       "_model_name": "HTMLModel",
       "_view_count": null,
       "_view_module": "@jupyter-widgets/controls",
       "_view_module_version": "1.5.0",
       "_view_name": "HTMLView",
       "description": "",
       "description_tooltip": null,
       "layout": "IPY_MODEL_a4d9ae07303a4340a6bd0fcc5093ac40",
       "placeholder": "​",
       "style": "IPY_MODEL_cd4909d9589d42b9a46ffc84cbd27e1b",
       "value": " 46282/46815 [00:05&lt;00:00, 8492.13it/s]"
      }
     },
     "7c2ed95dc2f74ac08608507f4e9f6dc8": {
      "model_module": "@jupyter-widgets/controls",
      "model_module_version": "1.5.0",
      "model_name": "HBoxModel",
      "state": {
       "_dom_classes": [],
       "_model_module": "@jupyter-widgets/controls",
       "_model_module_version": "1.5.0",
       "_model_name": "HBoxModel",
       "_view_count": null,
       "_view_module": "@jupyter-widgets/controls",
       "_view_module_version": "1.5.0",
       "_view_name": "HBoxView",
       "box_style": "",
       "children": [
        "IPY_MODEL_cbe24ec663384e869fffdd8937041512",
        "IPY_MODEL_ae02e9cd53be4207bdb91c3a14b79c4b",
        "IPY_MODEL_e083a13d70ce4191bdd6bfd4fecb3107"
       ],
       "layout": "IPY_MODEL_fee02892d821472585e2f4347809fc42"
      }
     },
     "7e1bb245a07d47deb276895defa7b2cf": {
      "model_module": "@jupyter-widgets/controls",
      "model_module_version": "1.5.0",
      "model_name": "ProgressStyleModel",
      "state": {
       "_model_module": "@jupyter-widgets/controls",
       "_model_module_version": "1.5.0",
       "_model_name": "ProgressStyleModel",
       "_view_count": null,
       "_view_module": "@jupyter-widgets/base",
       "_view_module_version": "1.2.0",
       "_view_name": "StyleView",
       "bar_color": null,
       "description_width": ""
      }
     },
     "86197bb7d2be4886bc5ed63e626f07ab": {
      "model_module": "@jupyter-widgets/base",
      "model_module_version": "1.2.0",
      "model_name": "LayoutModel",
      "state": {
       "_model_module": "@jupyter-widgets/base",
       "_model_module_version": "1.2.0",
       "_model_name": "LayoutModel",
       "_view_count": null,
       "_view_module": "@jupyter-widgets/base",
       "_view_module_version": "1.2.0",
       "_view_name": "LayoutView",
       "align_content": null,
       "align_items": null,
       "align_self": null,
       "border": null,
       "bottom": null,
       "display": null,
       "flex": null,
       "flex_flow": null,
       "grid_area": null,
       "grid_auto_columns": null,
       "grid_auto_flow": null,
       "grid_auto_rows": null,
       "grid_column": null,
       "grid_gap": null,
       "grid_row": null,
       "grid_template_areas": null,
       "grid_template_columns": null,
       "grid_template_rows": null,
       "height": null,
       "justify_content": null,
       "justify_items": null,
       "left": null,
       "margin": null,
       "max_height": null,
       "max_width": null,
       "min_height": null,
       "min_width": null,
       "object_fit": null,
       "object_position": null,
       "order": null,
       "overflow": null,
       "overflow_x": null,
       "overflow_y": null,
       "padding": null,
       "right": null,
       "top": null,
       "visibility": null,
       "width": null
      }
     },
     "887d5280347d4976bdbedca89a4c6067": {
      "model_module": "@jupyter-widgets/base",
      "model_module_version": "1.2.0",
      "model_name": "LayoutModel",
      "state": {
       "_model_module": "@jupyter-widgets/base",
       "_model_module_version": "1.2.0",
       "_model_name": "LayoutModel",
       "_view_count": null,
       "_view_module": "@jupyter-widgets/base",
       "_view_module_version": "1.2.0",
       "_view_name": "LayoutView",
       "align_content": null,
       "align_items": null,
       "align_self": null,
       "border": null,
       "bottom": null,
       "display": null,
       "flex": null,
       "flex_flow": null,
       "grid_area": null,
       "grid_auto_columns": null,
       "grid_auto_flow": null,
       "grid_auto_rows": null,
       "grid_column": null,
       "grid_gap": null,
       "grid_row": null,
       "grid_template_areas": null,
       "grid_template_columns": null,
       "grid_template_rows": null,
       "height": null,
       "justify_content": null,
       "justify_items": null,
       "left": null,
       "margin": null,
       "max_height": null,
       "max_width": null,
       "min_height": null,
       "min_width": null,
       "object_fit": null,
       "object_position": null,
       "order": null,
       "overflow": null,
       "overflow_x": null,
       "overflow_y": null,
       "padding": null,
       "right": null,
       "top": null,
       "visibility": null,
       "width": null
      }
     },
     "8c5b0fc2a33f4e1aa6dae978cfe97e60": {
      "model_module": "@jupyter-widgets/controls",
      "model_module_version": "1.5.0",
      "model_name": "DescriptionStyleModel",
      "state": {
       "_model_module": "@jupyter-widgets/controls",
       "_model_module_version": "1.5.0",
       "_model_name": "DescriptionStyleModel",
       "_view_count": null,
       "_view_module": "@jupyter-widgets/base",
       "_view_module_version": "1.2.0",
       "_view_name": "StyleView",
       "description_width": ""
      }
     },
     "90813dd62a904f1d9c376f651dc1c99e": {
      "model_module": "@jupyter-widgets/controls",
      "model_module_version": "1.5.0",
      "model_name": "SelectModel",
      "state": {
       "_dom_classes": [],
       "_model_module": "@jupyter-widgets/controls",
       "_model_module_version": "1.5.0",
       "_model_name": "SelectModel",
       "_options_labels": [
        "BradleyTerryFull",
        "BradleyTerryPart",
        "PlackettLuce",
        "ThurstoneMostellerFull",
        "ThurstoneMostellerPart"
       ],
       "_view_count": null,
       "_view_module": "@jupyter-widgets/controls",
       "_view_module_version": "1.5.0",
       "_view_name": "SelectView",
       "description": "Model:",
       "description_tooltip": null,
       "disabled": false,
       "index": 2,
       "layout": "IPY_MODEL_bfe809efa5c44fbaa20fc2f8605bc1d6",
       "rows": 5,
       "style": "IPY_MODEL_4429583c14374a858ce670d60aaf7a1c"
      }
     },
     "9546c1c21d8b4b62b1e81d24c2f63ead": {
      "model_module": "@jupyter-widgets/controls",
      "model_module_version": "1.5.0",
      "model_name": "FloatProgressModel",
      "state": {
       "_dom_classes": [],
       "_model_module": "@jupyter-widgets/controls",
       "_model_module_version": "1.5.0",
       "_model_name": "FloatProgressModel",
       "_view_count": null,
       "_view_module": "@jupyter-widgets/controls",
       "_view_module_version": "1.5.0",
       "_view_name": "ProgressView",
       "bar_style": "success",
       "description": "",
       "description_tooltip": null,
       "layout": "IPY_MODEL_398617a304ba48ff9b324c53c2aab9b6",
       "max": 46815.0,
       "min": 0.0,
       "orientation": "horizontal",
       "style": "IPY_MODEL_64633ce4c2a24a1eb7d303bb1a24a05c",
       "value": 46815.0
      }
     },
     "956d90741579478bab3cc6ec4e012b1e": {
      "model_module": "@jupyter-widgets/base",
      "model_module_version": "1.2.0",
      "model_name": "LayoutModel",
      "state": {
       "_model_module": "@jupyter-widgets/base",
       "_model_module_version": "1.2.0",
       "_model_name": "LayoutModel",
       "_view_count": null,
       "_view_module": "@jupyter-widgets/base",
       "_view_module_version": "1.2.0",
       "_view_name": "LayoutView",
       "align_content": null,
       "align_items": null,
       "align_self": null,
       "border": null,
       "bottom": null,
       "display": null,
       "flex": null,
       "flex_flow": null,
       "grid_area": null,
       "grid_auto_columns": null,
       "grid_auto_flow": null,
       "grid_auto_rows": null,
       "grid_column": null,
       "grid_gap": null,
       "grid_row": null,
       "grid_template_areas": null,
       "grid_template_columns": null,
       "grid_template_rows": null,
       "height": null,
       "justify_content": null,
       "justify_items": null,
       "left": null,
       "margin": null,
       "max_height": null,
       "max_width": null,
       "min_height": null,
       "min_width": null,
       "object_fit": null,
       "object_position": null,
       "order": null,
       "overflow": null,
       "overflow_x": null,
       "overflow_y": null,
       "padding": null,
       "right": null,
       "top": null,
       "visibility": null,
       "width": null
      }
     },
     "9d2b79ffc29c4c7290538bf50665203b": {
      "model_module": "@jupyter-widgets/base",
      "model_module_version": "1.2.0",
      "model_name": "LayoutModel",
      "state": {
       "_model_module": "@jupyter-widgets/base",
       "_model_module_version": "1.2.0",
       "_model_name": "LayoutModel",
       "_view_count": null,
       "_view_module": "@jupyter-widgets/base",
       "_view_module_version": "1.2.0",
       "_view_name": "LayoutView",
       "align_content": null,
       "align_items": null,
       "align_self": null,
       "border": null,
       "bottom": null,
       "display": null,
       "flex": null,
       "flex_flow": null,
       "grid_area": null,
       "grid_auto_columns": null,
       "grid_auto_flow": null,
       "grid_auto_rows": null,
       "grid_column": null,
       "grid_gap": null,
       "grid_row": null,
       "grid_template_areas": null,
       "grid_template_columns": null,
       "grid_template_rows": null,
       "height": null,
       "justify_content": null,
       "justify_items": null,
       "left": null,
       "margin": null,
       "max_height": null,
       "max_width": null,
       "min_height": null,
       "min_width": null,
       "object_fit": null,
       "object_position": null,
       "order": null,
       "overflow": null,
       "overflow_x": null,
       "overflow_y": null,
       "padding": null,
       "right": null,
       "top": null,
       "visibility": null,
       "width": null
      }
     },
     "a4d9ae07303a4340a6bd0fcc5093ac40": {
      "model_module": "@jupyter-widgets/base",
      "model_module_version": "1.2.0",
      "model_name": "LayoutModel",
      "state": {
       "_model_module": "@jupyter-widgets/base",
       "_model_module_version": "1.2.0",
       "_model_name": "LayoutModel",
       "_view_count": null,
       "_view_module": "@jupyter-widgets/base",
       "_view_module_version": "1.2.0",
       "_view_name": "LayoutView",
       "align_content": null,
       "align_items": null,
       "align_self": null,
       "border": null,
       "bottom": null,
       "display": null,
       "flex": null,
       "flex_flow": null,
       "grid_area": null,
       "grid_auto_columns": null,
       "grid_auto_flow": null,
       "grid_auto_rows": null,
       "grid_column": null,
       "grid_gap": null,
       "grid_row": null,
       "grid_template_areas": null,
       "grid_template_columns": null,
       "grid_template_rows": null,
       "height": null,
       "justify_content": null,
       "justify_items": null,
       "left": null,
       "margin": null,
       "max_height": null,
       "max_width": null,
       "min_height": null,
       "min_width": null,
       "object_fit": null,
       "object_position": null,
       "order": null,
       "overflow": null,
       "overflow_x": null,
       "overflow_y": null,
       "padding": null,
       "right": null,
       "top": null,
       "visibility": null,
       "width": null
      }
     },
     "a649f7c339284f4d926cf0d6f07a34ad": {
      "model_module": "@jupyter-widgets/controls",
      "model_module_version": "1.5.0",
      "model_name": "HTMLModel",
      "state": {
       "_dom_classes": [],
       "_model_module": "@jupyter-widgets/controls",
       "_model_module_version": "1.5.0",
       "_model_name": "HTMLModel",
       "_view_count": null,
       "_view_module": "@jupyter-widgets/controls",
       "_view_module_version": "1.5.0",
       "_view_name": "HTMLView",
       "description": "",
       "description_tooltip": null,
       "layout": "IPY_MODEL_ae11bba90ea146cb8bb97fc527820bb4",
       "placeholder": "​",
       "style": "IPY_MODEL_d4719b04810e4d4fb1877c41f908a39d",
       "value": " 46815/46815 [00:12&lt;00:00, 8848.54it/s]"
      }
     },
     "aa8c1667da1c4d62aae8993abb45e243": {
      "model_module": "@jupyter-widgets/controls",
      "model_module_version": "1.5.0",
      "model_name": "DescriptionStyleModel",
      "state": {
       "_model_module": "@jupyter-widgets/controls",
       "_model_module_version": "1.5.0",
       "_model_name": "DescriptionStyleModel",
       "_view_count": null,
       "_view_module": "@jupyter-widgets/base",
       "_view_module_version": "1.2.0",
       "_view_name": "StyleView",
       "description_width": ""
      }
     },
     "ae02e9cd53be4207bdb91c3a14b79c4b": {
      "model_module": "@jupyter-widgets/controls",
      "model_module_version": "1.5.0",
      "model_name": "FloatProgressModel",
      "state": {
       "_dom_classes": [],
       "_model_module": "@jupyter-widgets/controls",
       "_model_module_version": "1.5.0",
       "_model_name": "FloatProgressModel",
       "_view_count": null,
       "_view_module": "@jupyter-widgets/controls",
       "_view_module_version": "1.5.0",
       "_view_name": "ProgressView",
       "bar_style": "",
       "description": "",
       "description_tooltip": null,
       "layout": "IPY_MODEL_4bc9ac015a724c56b6a8281b1ad94bd0",
       "max": 20064.0,
       "min": 0.0,
       "orientation": "horizontal",
       "style": "IPY_MODEL_e0740f6fca6b43f495ee6635e434cf1e",
       "value": 19622.0
      }
     },
     "ae11bba90ea146cb8bb97fc527820bb4": {
      "model_module": "@jupyter-widgets/base",
      "model_module_version": "1.2.0",
      "model_name": "LayoutModel",
      "state": {
       "_model_module": "@jupyter-widgets/base",
       "_model_module_version": "1.2.0",
       "_model_name": "LayoutModel",
       "_view_count": null,
       "_view_module": "@jupyter-widgets/base",
       "_view_module_version": "1.2.0",
       "_view_name": "LayoutView",
       "align_content": null,
       "align_items": null,
       "align_self": null,
       "border": null,
       "bottom": null,
       "display": null,
       "flex": null,
       "flex_flow": null,
       "grid_area": null,
       "grid_auto_columns": null,
       "grid_auto_flow": null,
       "grid_auto_rows": null,
       "grid_column": null,
       "grid_gap": null,
       "grid_row": null,
       "grid_template_areas": null,
       "grid_template_columns": null,
       "grid_template_rows": null,
       "height": null,
       "justify_content": null,
       "justify_items": null,
       "left": null,
       "margin": null,
       "max_height": null,
       "max_width": null,
       "min_height": null,
       "min_width": null,
       "object_fit": null,
       "object_position": null,
       "order": null,
       "overflow": null,
       "overflow_x": null,
       "overflow_y": null,
       "padding": null,
       "right": null,
       "top": null,
       "visibility": null,
       "width": null
      }
     },
     "b6e9949c1501460fb841e9d9c3414538": {
      "model_module": "@jupyter-widgets/controls",
      "model_module_version": "1.5.0",
      "model_name": "DescriptionStyleModel",
      "state": {
       "_model_module": "@jupyter-widgets/controls",
       "_model_module_version": "1.5.0",
       "_model_name": "DescriptionStyleModel",
       "_view_count": null,
       "_view_module": "@jupyter-widgets/base",
       "_view_module_version": "1.2.0",
       "_view_name": "StyleView",
       "description_width": ""
      }
     },
     "b9b1bee2401446f3ae0c5c7a191cae8d": {
      "model_module": "@jupyter-widgets/base",
      "model_module_version": "1.2.0",
      "model_name": "LayoutModel",
      "state": {
       "_model_module": "@jupyter-widgets/base",
       "_model_module_version": "1.2.0",
       "_model_name": "LayoutModel",
       "_view_count": null,
       "_view_module": "@jupyter-widgets/base",
       "_view_module_version": "1.2.0",
       "_view_name": "LayoutView",
       "align_content": null,
       "align_items": null,
       "align_self": null,
       "border": null,
       "bottom": null,
       "display": null,
       "flex": null,
       "flex_flow": null,
       "grid_area": null,
       "grid_auto_columns": null,
       "grid_auto_flow": null,
       "grid_auto_rows": null,
       "grid_column": null,
       "grid_gap": null,
       "grid_row": null,
       "grid_template_areas": null,
       "grid_template_columns": null,
       "grid_template_rows": null,
       "height": null,
       "justify_content": null,
       "justify_items": null,
       "left": null,
       "margin": null,
       "max_height": null,
       "max_width": null,
       "min_height": null,
       "min_width": null,
       "object_fit": null,
       "object_position": null,
       "order": null,
       "overflow": null,
       "overflow_x": null,
       "overflow_y": null,
       "padding": null,
       "right": null,
       "top": null,
       "visibility": null,
       "width": null
      }
     },
     "bdeef1b0dd8049438f725be82937fa34": {
      "model_module": "@jupyter-widgets/controls",
      "model_module_version": "1.5.0",
      "model_name": "HTMLModel",
      "state": {
       "_dom_classes": [],
       "_model_module": "@jupyter-widgets/controls",
       "_model_module_version": "1.5.0",
       "_model_name": "HTMLModel",
       "_view_count": null,
       "_view_module": "@jupyter-widgets/controls",
       "_view_module_version": "1.5.0",
       "_view_name": "HTMLView",
       "description": "",
       "description_tooltip": null,
       "layout": "IPY_MODEL_536242bff89b4f03bd4d089726c0ba15",
       "placeholder": "​",
       "style": "IPY_MODEL_aa8c1667da1c4d62aae8993abb45e243",
       "value": " 99%"
      }
     },
     "bfe809efa5c44fbaa20fc2f8605bc1d6": {
      "model_module": "@jupyter-widgets/base",
      "model_module_version": "1.2.0",
      "model_name": "LayoutModel",
      "state": {
       "_model_module": "@jupyter-widgets/base",
       "_model_module_version": "1.2.0",
       "_model_name": "LayoutModel",
       "_view_count": null,
       "_view_module": "@jupyter-widgets/base",
       "_view_module_version": "1.2.0",
       "_view_name": "LayoutView",
       "align_content": null,
       "align_items": null,
       "align_self": null,
       "border": null,
       "bottom": null,
       "display": null,
       "flex": null,
       "flex_flow": null,
       "grid_area": null,
       "grid_auto_columns": null,
       "grid_auto_flow": null,
       "grid_auto_rows": null,
       "grid_column": null,
       "grid_gap": null,
       "grid_row": null,
       "grid_template_areas": null,
       "grid_template_columns": null,
       "grid_template_rows": null,
       "height": null,
       "justify_content": null,
       "justify_items": null,
       "left": null,
       "margin": null,
       "max_height": null,
       "max_width": null,
       "min_height": null,
       "min_width": null,
       "object_fit": null,
       "object_position": null,
       "order": null,
       "overflow": null,
       "overflow_x": null,
       "overflow_y": null,
       "padding": null,
       "right": null,
       "top": null,
       "visibility": null,
       "width": null
      }
     },
     "c21cddf6e4154f80b2a5920bcf959ff8": {
      "model_module": "@jupyter-widgets/base",
      "model_module_version": "1.2.0",
      "model_name": "LayoutModel",
      "state": {
       "_model_module": "@jupyter-widgets/base",
       "_model_module_version": "1.2.0",
       "_model_name": "LayoutModel",
       "_view_count": null,
       "_view_module": "@jupyter-widgets/base",
       "_view_module_version": "1.2.0",
       "_view_name": "LayoutView",
       "align_content": null,
       "align_items": null,
       "align_self": null,
       "border": null,
       "bottom": null,
       "display": null,
       "flex": null,
       "flex_flow": null,
       "grid_area": null,
       "grid_auto_columns": null,
       "grid_auto_flow": null,
       "grid_auto_rows": null,
       "grid_column": null,
       "grid_gap": null,
       "grid_row": null,
       "grid_template_areas": null,
       "grid_template_columns": null,
       "grid_template_rows": null,
       "height": null,
       "justify_content": null,
       "justify_items": null,
       "left": null,
       "margin": null,
       "max_height": null,
       "max_width": null,
       "min_height": null,
       "min_width": null,
       "object_fit": null,
       "object_position": null,
       "order": null,
       "overflow": null,
       "overflow_x": null,
       "overflow_y": null,
       "padding": null,
       "right": null,
       "top": null,
       "visibility": null,
       "width": null
      }
     },
     "c9795ce26517437798d5bdeef4f5d89a": {
      "model_module": "@jupyter-widgets/controls",
      "model_module_version": "1.5.0",
      "model_name": "HTMLModel",
      "state": {
       "_dom_classes": [],
       "_model_module": "@jupyter-widgets/controls",
       "_model_module_version": "1.5.0",
       "_model_name": "HTMLModel",
       "_view_count": null,
       "_view_module": "@jupyter-widgets/controls",
       "_view_module_version": "1.5.0",
       "_view_name": "HTMLView",
       "description": "",
       "description_tooltip": null,
       "layout": "IPY_MODEL_483b1e1094ec43b9bad2d14d4ae8a3e5",
       "placeholder": "​",
       "style": "IPY_MODEL_53342e5d86d141deab423f9daa5514bd",
       "value": "100%"
      }
     },
     "cbe24ec663384e869fffdd8937041512": {
      "model_module": "@jupyter-widgets/controls",
      "model_module_version": "1.5.0",
      "model_name": "HTMLModel",
      "state": {
       "_dom_classes": [],
       "_model_module": "@jupyter-widgets/controls",
       "_model_module_version": "1.5.0",
       "_model_name": "HTMLModel",
       "_view_count": null,
       "_view_module": "@jupyter-widgets/controls",
       "_view_module_version": "1.5.0",
       "_view_name": "HTMLView",
       "description": "",
       "description_tooltip": null,
       "layout": "IPY_MODEL_4adfa8c86fe4414f9d3b4d63554da4d0",
       "placeholder": "​",
       "style": "IPY_MODEL_b6e9949c1501460fb841e9d9c3414538",
       "value": " 98%"
      }
     },
     "cd4909d9589d42b9a46ffc84cbd27e1b": {
      "model_module": "@jupyter-widgets/controls",
      "model_module_version": "1.5.0",
      "model_name": "DescriptionStyleModel",
      "state": {
       "_model_module": "@jupyter-widgets/controls",
       "_model_module_version": "1.5.0",
       "_model_name": "DescriptionStyleModel",
       "_view_count": null,
       "_view_module": "@jupyter-widgets/base",
       "_view_module_version": "1.2.0",
       "_view_name": "StyleView",
       "description_width": ""
      }
     },
     "cfbcc6bd4d254838b4a550c7a5bbfa54": {
      "model_module": "@jupyter-widgets/controls",
      "model_module_version": "1.5.0",
      "model_name": "HTMLModel",
      "state": {
       "_dom_classes": [],
       "_model_module": "@jupyter-widgets/controls",
       "_model_module_version": "1.5.0",
       "_model_name": "HTMLModel",
       "_view_count": null,
       "_view_module": "@jupyter-widgets/controls",
       "_view_module_version": "1.5.0",
       "_view_name": "HTMLView",
       "description": "",
       "description_tooltip": null,
       "layout": "IPY_MODEL_887d5280347d4976bdbedca89a4c6067",
       "placeholder": "​",
       "style": "IPY_MODEL_36abbd312eef480c8c2b8a725688237a",
       "value": "100%"
      }
     },
     "d4719b04810e4d4fb1877c41f908a39d": {
      "model_module": "@jupyter-widgets/controls",
      "model_module_version": "1.5.0",
      "model_name": "DescriptionStyleModel",
      "state": {
       "_model_module": "@jupyter-widgets/controls",
       "_model_module_version": "1.5.0",
       "_model_name": "DescriptionStyleModel",
       "_view_count": null,
       "_view_module": "@jupyter-widgets/base",
       "_view_module_version": "1.2.0",
       "_view_name": "StyleView",
       "description_width": ""
      }
     },
     "e0740f6fca6b43f495ee6635e434cf1e": {
      "model_module": "@jupyter-widgets/controls",
      "model_module_version": "1.5.0",
      "model_name": "ProgressStyleModel",
      "state": {
       "_model_module": "@jupyter-widgets/controls",
       "_model_module_version": "1.5.0",
       "_model_name": "ProgressStyleModel",
       "_view_count": null,
       "_view_module": "@jupyter-widgets/base",
       "_view_module_version": "1.2.0",
       "_view_name": "StyleView",
       "bar_color": null,
       "description_width": ""
      }
     },
     "e083a13d70ce4191bdd6bfd4fecb3107": {
      "model_module": "@jupyter-widgets/controls",
      "model_module_version": "1.5.0",
      "model_name": "HTMLModel",
      "state": {
       "_dom_classes": [],
       "_model_module": "@jupyter-widgets/controls",
       "_model_module_version": "1.5.0",
       "_model_name": "HTMLModel",
       "_view_count": null,
       "_view_module": "@jupyter-widgets/controls",
       "_view_module_version": "1.5.0",
       "_view_name": "HTMLView",
       "description": "",
       "description_tooltip": null,
       "layout": "IPY_MODEL_07687cb5e76246bfb75599785999c1ad",
       "placeholder": "​",
       "style": "IPY_MODEL_5b268f5d0730405cbb6bca366cf1f233",
       "value": " 19622/20064 [00:02&lt;00:00, 9428.49it/s]"
      }
     },
     "e49a81c917e94907bbd622e94fa4fc64": {
      "model_module": "@jupyter-widgets/controls",
      "model_module_version": "1.5.0",
      "model_name": "FloatProgressModel",
      "state": {
       "_dom_classes": [],
       "_model_module": "@jupyter-widgets/controls",
       "_model_module_version": "1.5.0",
       "_model_name": "FloatProgressModel",
       "_view_count": null,
       "_view_module": "@jupyter-widgets/controls",
       "_view_module_version": "1.5.0",
       "_view_name": "ProgressView",
       "bar_style": "",
       "description": "",
       "description_tooltip": null,
       "layout": "IPY_MODEL_53915f94795b4f9eb5d8fa04c4f1155e",
       "max": 46815.0,
       "min": 0.0,
       "orientation": "horizontal",
       "style": "IPY_MODEL_7e1bb245a07d47deb276895defa7b2cf",
       "value": 46282.0
      }
     },
     "e8cbd4b7db4c421bbd5c00fe4eb84a71": {
      "model_module": "@jupyter-widgets/base",
      "model_module_version": "1.2.0",
      "model_name": "LayoutModel",
      "state": {
       "_model_module": "@jupyter-widgets/base",
       "_model_module_version": "1.2.0",
       "_model_name": "LayoutModel",
       "_view_count": null,
       "_view_module": "@jupyter-widgets/base",
       "_view_module_version": "1.2.0",
       "_view_name": "LayoutView",
       "align_content": null,
       "align_items": null,
       "align_self": null,
       "border": null,
       "bottom": null,
       "display": null,
       "flex": null,
       "flex_flow": null,
       "grid_area": null,
       "grid_auto_columns": null,
       "grid_auto_flow": null,
       "grid_auto_rows": null,
       "grid_column": null,
       "grid_gap": null,
       "grid_row": null,
       "grid_template_areas": null,
       "grid_template_columns": null,
       "grid_template_rows": null,
       "height": null,
       "justify_content": null,
       "justify_items": null,
       "left": null,
       "margin": null,
       "max_height": null,
       "max_width": null,
       "min_height": null,
       "min_width": null,
       "object_fit": null,
       "object_position": null,
       "order": null,
       "overflow": null,
       "overflow_x": null,
       "overflow_y": null,
       "padding": null,
       "right": null,
       "top": null,
       "visibility": null,
       "width": null
      }
     },
     "fee02892d821472585e2f4347809fc42": {
      "model_module": "@jupyter-widgets/base",
      "model_module_version": "1.2.0",
      "model_name": "LayoutModel",
      "state": {
       "_model_module": "@jupyter-widgets/base",
       "_model_module_version": "1.2.0",
       "_model_name": "LayoutModel",
       "_view_count": null,
       "_view_module": "@jupyter-widgets/base",
       "_view_module_version": "1.2.0",
       "_view_name": "LayoutView",
       "align_content": null,
       "align_items": null,
       "align_self": null,
       "border": null,
       "bottom": null,
       "display": null,
       "flex": null,
       "flex_flow": null,
       "grid_area": null,
       "grid_auto_columns": null,
       "grid_auto_flow": null,
       "grid_auto_rows": null,
       "grid_column": null,
       "grid_gap": null,
       "grid_row": null,
       "grid_template_areas": null,
       "grid_template_columns": null,
       "grid_template_rows": null,
       "height": null,
       "justify_content": null,
       "justify_items": null,
       "left": null,
       "margin": null,
       "max_height": null,
       "max_width": null,
       "min_height": null,
       "min_width": null,
       "object_fit": null,
       "object_position": null,
       "order": null,
       "overflow": null,
       "overflow_x": null,
       "overflow_y": null,
       "padding": null,
       "right": null,
       "top": null,
       "visibility": null,
       "width": null
      }
     },
     "ffaf04774155403eb62df1a5c3c3351b": {
      "model_module": "@jupyter-widgets/controls",
      "model_module_version": "1.5.0",
      "model_name": "FloatProgressModel",
      "state": {
       "_dom_classes": [],
       "_model_module": "@jupyter-widgets/controls",
       "_model_module_version": "1.5.0",
       "_model_name": "FloatProgressModel",
       "_view_count": null,
       "_view_module": "@jupyter-widgets/controls",
       "_view_module_version": "1.5.0",
       "_view_name": "ProgressView",
       "bar_style": "",
       "description": "",
       "description_tooltip": null,
       "layout": "IPY_MODEL_956d90741579478bab3cc6ec4e012b1e",
       "max": 20064.0,
       "min": 0.0,
       "orientation": "horizontal",
       "style": "IPY_MODEL_6a56c0ed51174916bb4699b931fa8ee8",
       "value": 19257.0
      }
     }
    },
    "version_major": 2,
    "version_minor": 0
   }
  }
 },
 "nbformat": 4,
 "nbformat_minor": 5
}
