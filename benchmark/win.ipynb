{
 "cells": [
  {
   "cell_type": "markdown",
   "id": "0de364e7",
   "metadata": {
    "papermill": {
     "duration": 0.023988,
     "end_time": "2023-12-11T22:18:53.804550",
     "exception": false,
     "start_time": "2023-12-11T22:18:53.780562",
     "status": "completed"
    },
    "tags": []
   },
   "source": [
    "## Win Accuracy Benchmarks\n",
    "This is a reproducible benchmark that checks the accuracy of [openskill.py](https://openskill.me/) against a dataset of OverWatch matches.\n",
    "\n",
    "Let's start by importing the necessary libraries:"
   ]
  },
  {
   "cell_type": "code",
   "execution_count": 1,
   "id": "198e4b1e",
   "metadata": {
    "execution": {
     "iopub.execute_input": "2023-12-11T22:18:53.854400Z",
     "iopub.status.busy": "2023-12-11T22:18:53.853224Z",
     "iopub.status.idle": "2023-12-11T22:19:10.437521Z",
     "shell.execute_reply": "2023-12-11T22:19:10.435318Z"
    },
    "papermill": {
     "duration": 16.613027,
     "end_time": "2023-12-11T22:19:10.441048",
     "exception": false,
     "start_time": "2023-12-11T22:18:53.828021",
     "status": "completed"
    },
    "tags": []
   },
   "outputs": [
    {
     "name": "stdout",
     "output_type": "stream",
     "text": [
      "Collecting rbo\r\n",
      "  Downloading rbo-0.1.3-py3-none-any.whl (7.8 kB)\r\n",
      "Requirement already satisfied: rich in /opt/conda/lib/python3.10/site-packages (13.5.2)\r\n",
      "Requirement already satisfied: numpy in /opt/conda/lib/python3.10/site-packages (1.24.3)\r\n",
      "Requirement already satisfied: tqdm in /opt/conda/lib/python3.10/site-packages (4.66.1)\r\n",
      "Requirement already satisfied: pooch in /opt/conda/lib/python3.10/site-packages (1.8.0)\r\n",
      "Collecting jsonlines\r\n",
      "  Obtaining dependency information for jsonlines from https://files.pythonhosted.org/packages/f8/62/d9ba6323b9202dd2fe166beab8a86d29465c41a0288cbe229fac60c1ab8d/jsonlines-4.0.0-py3-none-any.whl.metadata\r\n",
      "  Downloading jsonlines-4.0.0-py3-none-any.whl.metadata (1.6 kB)\r\n",
      "Collecting openskill\r\n",
      "  Obtaining dependency information for openskill from https://files.pythonhosted.org/packages/11/af/083022f27cda2608c1ee8b32e759d813b056e1540269b0ae0bbc86226fcb/openskill-5.1.0-py3-none-any.whl.metadata\r\n",
      "  Downloading openskill-5.1.0-py3-none-any.whl.metadata (5.6 kB)\r\n",
      "Requirement already satisfied: trueskill in /opt/conda/lib/python3.10/site-packages (0.4.5)\r\n",
      "Requirement already satisfied: scipy in /opt/conda/lib/python3.10/site-packages (1.11.4)\r\n",
      "Requirement already satisfied: markdown-it-py>=2.2.0 in /opt/conda/lib/python3.10/site-packages (from rich) (3.0.0)\r\n",
      "Requirement already satisfied: pygments<3.0.0,>=2.13.0 in /opt/conda/lib/python3.10/site-packages (from rich) (2.16.1)\r\n",
      "Requirement already satisfied: platformdirs>=2.5.0 in /opt/conda/lib/python3.10/site-packages (from pooch) (4.1.0)\r\n",
      "Requirement already satisfied: packaging>=20.0 in /opt/conda/lib/python3.10/site-packages (from pooch) (21.3)\r\n",
      "Requirement already satisfied: requests>=2.19.0 in /opt/conda/lib/python3.10/site-packages (from pooch) (2.31.0)\r\n",
      "Requirement already satisfied: attrs>=19.2.0 in /opt/conda/lib/python3.10/site-packages (from jsonlines) (23.1.0)\r\n",
      "Requirement already satisfied: six in /opt/conda/lib/python3.10/site-packages (from trueskill) (1.16.0)\r\n",
      "Requirement already satisfied: mdurl~=0.1 in /opt/conda/lib/python3.10/site-packages (from markdown-it-py>=2.2.0->rich) (0.1.2)\r\n",
      "Requirement already satisfied: pyparsing!=3.0.5,>=2.0.2 in /opt/conda/lib/python3.10/site-packages (from packaging>=20.0->pooch) (3.0.9)\r\n",
      "Requirement already satisfied: charset-normalizer<4,>=2 in /opt/conda/lib/python3.10/site-packages (from requests>=2.19.0->pooch) (3.2.0)\r\n",
      "Requirement already satisfied: idna<4,>=2.5 in /opt/conda/lib/python3.10/site-packages (from requests>=2.19.0->pooch) (3.4)\r\n",
      "Requirement already satisfied: urllib3<3,>=1.21.1 in /opt/conda/lib/python3.10/site-packages (from requests>=2.19.0->pooch) (1.26.15)\r\n",
      "Requirement already satisfied: certifi>=2017.4.17 in /opt/conda/lib/python3.10/site-packages (from requests>=2.19.0->pooch) (2023.11.17)\r\n",
      "Downloading jsonlines-4.0.0-py3-none-any.whl (8.7 kB)\r\n",
      "Downloading openskill-5.1.0-py3-none-any.whl (45 kB)\r\n",
      "\u001b[2K   \u001b[90m━━━━━━━━━━━━━━━━━━━━━━━━━━━━━━━━━━━━━━━━\u001b[0m \u001b[32m45.7/45.7 kB\u001b[0m \u001b[31m3.2 MB/s\u001b[0m eta \u001b[36m0:00:00\u001b[0m\r\n",
      "\u001b[?25hInstalling collected packages: rbo, openskill, jsonlines\r\n",
      "Successfully installed jsonlines-4.0.0 openskill-5.1.0 rbo-0.1.3\r\n",
      "Note: you may need to restart the kernel to use updated packages.\n"
     ]
    }
   ],
   "source": [
    "%pip install rbo rich numpy tqdm pooch jsonlines openskill trueskill scipy"
   ]
  },
  {
   "cell_type": "markdown",
   "id": "7f2f665a",
   "metadata": {
    "papermill": {
     "duration": 0.026437,
     "end_time": "2023-12-11T22:19:10.493498",
     "exception": false,
     "start_time": "2023-12-11T22:19:10.467061",
     "status": "completed"
    },
    "tags": []
   },
   "source": [
    "## Import Libraries\n",
    "We going to import jsonlines to do the data loading and rich to display things in user friendly format.\n",
    "We are also going to import ipywidget for native iteractivity within the browser."
   ]
  },
  {
   "cell_type": "code",
   "execution_count": 2,
   "id": "9cb5d763",
   "metadata": {
    "execution": {
     "iopub.execute_input": "2023-12-11T22:19:10.550305Z",
     "iopub.status.busy": "2023-12-11T22:19:10.549879Z",
     "iopub.status.idle": "2023-12-11T22:19:12.462030Z",
     "shell.execute_reply": "2023-12-11T22:19:12.460531Z"
    },
    "papermill": {
     "duration": 1.944391,
     "end_time": "2023-12-11T22:19:12.465360",
     "exception": false,
     "start_time": "2023-12-11T22:19:10.520969",
     "status": "completed"
    },
    "tags": []
   },
   "outputs": [],
   "source": [
    "import gc\n",
    "import itertools\n",
    "import math\n",
    "import time\n",
    "from pathlib import Path\n",
    "\n",
    "import ipywidgets as widgets\n",
    "import jsonlines\n",
    "import rich\n",
    "import trueskill\n",
    "from pooch import DOIDownloader\n",
    "from rich.table import Table\n",
    "from sklearn.model_selection import train_test_split\n",
    "from tqdm.notebook import tqdm\n",
    "from trueskill import TrueSkill\n",
    "\n",
    "import openskill\n",
    "from openskill.models import (\n",
    "    BradleyTerryFull,\n",
    "    BradleyTerryPart,\n",
    "    PlackettLuce,\n",
    "    ThurstoneMostellerFull,\n",
    "    ThurstoneMostellerPart,\n",
    ")"
   ]
  },
  {
   "cell_type": "markdown",
   "id": "a7d194f5",
   "metadata": {
    "papermill": {
     "duration": 0.025754,
     "end_time": "2023-12-11T22:19:12.516915",
     "exception": false,
     "start_time": "2023-12-11T22:19:12.491161",
     "status": "completed"
    },
    "tags": []
   },
   "source": [
    "## Check OpenSkill Version"
   ]
  },
  {
   "cell_type": "code",
   "execution_count": 3,
   "id": "046d6e7a",
   "metadata": {
    "execution": {
     "iopub.execute_input": "2023-12-11T22:19:12.571206Z",
     "iopub.status.busy": "2023-12-11T22:19:12.570401Z",
     "iopub.status.idle": "2023-12-11T22:19:12.576980Z",
     "shell.execute_reply": "2023-12-11T22:19:12.575364Z"
    },
    "papermill": {
     "duration": 0.038202,
     "end_time": "2023-12-11T22:19:12.581057",
     "exception": false,
     "start_time": "2023-12-11T22:19:12.542855",
     "status": "completed"
    },
    "tags": []
   },
   "outputs": [
    {
     "name": "stdout",
     "output_type": "stream",
     "text": [
      "5.1.0\n"
     ]
    }
   ],
   "source": [
    "print(openskill.__version__)"
   ]
  },
  {
   "cell_type": "markdown",
   "id": "51eba77f",
   "metadata": {
    "papermill": {
     "duration": 0.025205,
     "end_time": "2023-12-11T22:19:12.632337",
     "exception": false,
     "start_time": "2023-12-11T22:19:12.607132",
     "status": "completed"
    },
    "tags": []
   },
   "source": [
    "## Download Data\n",
    "The data we need is not available, yet. So let's download it.\n",
    "It's available [here](https://zenodo.org/records/10342317).\n"
   ]
  },
  {
   "cell_type": "code",
   "execution_count": 4,
   "id": "56657f9c",
   "metadata": {
    "collapsed": false,
    "execution": {
     "iopub.execute_input": "2023-12-11T22:19:12.685256Z",
     "iopub.status.busy": "2023-12-11T22:19:12.684480Z",
     "iopub.status.idle": "2023-12-11T22:19:21.457183Z",
     "shell.execute_reply": "2023-12-11T22:19:21.455864Z"
    },
    "papermill": {
     "duration": 8.803075,
     "end_time": "2023-12-11T22:19:21.460535",
     "exception": false,
     "start_time": "2023-12-11T22:19:12.657460",
     "status": "completed"
    },
    "tags": []
   },
   "outputs": [
    {
     "name": "stderr",
     "output_type": "stream",
     "text": [
      "100%|█████████████████████████████████████| 63.6M/63.6M [00:00<00:00, 29.1GB/s]\n"
     ]
    }
   ],
   "source": [
    "downloader = DOIDownloader(progressbar=True)\n",
    "\n",
    "working_directory = Path.cwd()\n",
    "data_directory = Path(working_directory / Path(\"data\"))\n",
    "data_directory.mkdir(exist_ok=True)\n",
    "downloader(\n",
    "    url=\"doi:10.5281/zenodo.10359600/overwatch.jsonl\",\n",
    "    output_file=data_directory / \"overwatch.jsonl\",\n",
    "    pooch=None,\n",
    ")"
   ]
  },
  {
   "cell_type": "markdown",
   "id": "c941ae0d",
   "metadata": {
    "papermill": {
     "duration": 0.028381,
     "end_time": "2023-12-11T22:19:21.518334",
     "exception": false,
     "start_time": "2023-12-11T22:19:21.489953",
     "status": "completed"
    },
    "tags": []
   },
   "source": [
    "## Select Model\n",
    "OpenSkill comes with 5 models. Let's pick one for this benchmark."
   ]
  },
  {
   "cell_type": "code",
   "execution_count": 5,
   "id": "21ff86ea",
   "metadata": {
    "execution": {
     "iopub.execute_input": "2023-12-11T22:19:21.577760Z",
     "iopub.status.busy": "2023-12-11T22:19:21.577225Z",
     "iopub.status.idle": "2023-12-11T22:19:21.592300Z",
     "shell.execute_reply": "2023-12-11T22:19:21.590835Z"
    },
    "papermill": {
     "duration": 0.048908,
     "end_time": "2023-12-11T22:19:21.595729",
     "exception": false,
     "start_time": "2023-12-11T22:19:21.546821",
     "status": "completed"
    },
    "tags": []
   },
   "outputs": [
    {
     "data": {
      "application/vnd.jupyter.widget-view+json": {
       "model_id": "d81b74a0950d4e869ef3e9efc03e1043",
       "version_major": 2,
       "version_minor": 0
      },
      "text/plain": [
       "Select(description='Model:', index=2, options=('BradleyTerryFull', 'BradleyTerryPart', 'PlackettLuce', 'Thurst…"
      ]
     },
     "metadata": {},
     "output_type": "display_data"
    }
   ],
   "source": [
    "models = [\n",
    "    BradleyTerryFull,\n",
    "    BradleyTerryPart,\n",
    "    PlackettLuce,\n",
    "    ThurstoneMostellerFull,\n",
    "    ThurstoneMostellerPart,\n",
    "]\n",
    "\n",
    "widget = widgets.Select(\n",
    "    options=[m.__name__ for m in models],\n",
    "    value=PlackettLuce.__name__,\n",
    "    # rows=10,\n",
    "    description=\"Model:\",\n",
    "    disabled=False,\n",
    ")\n",
    "display(widget)"
   ]
  },
  {
   "cell_type": "markdown",
   "id": "c3b57a0c",
   "metadata": {
    "papermill": {
     "duration": 0.029082,
     "end_time": "2023-12-11T22:19:21.725034",
     "exception": false,
     "start_time": "2023-12-11T22:19:21.695952",
     "status": "completed"
    },
    "tags": []
   },
   "source": [
    "## Initialize Model\n",
    "Let's call the constructor on the model."
   ]
  },
  {
   "cell_type": "code",
   "execution_count": 6,
   "id": "46277a0e",
   "metadata": {
    "execution": {
     "iopub.execute_input": "2023-12-11T22:19:21.785181Z",
     "iopub.status.busy": "2023-12-11T22:19:21.784705Z",
     "iopub.status.idle": "2023-12-11T22:19:21.792300Z",
     "shell.execute_reply": "2023-12-11T22:19:21.791010Z"
    },
    "papermill": {
     "duration": 0.041092,
     "end_time": "2023-12-11T22:19:21.795431",
     "exception": false,
     "start_time": "2023-12-11T22:19:21.754339",
     "status": "completed"
    },
    "tags": []
   },
   "outputs": [
    {
     "name": "stdout",
     "output_type": "stream",
     "text": [
      "Plackett-Luce Model Parameters: \n",
      "\n",
      "mu: 25.0\n",
      "sigma: 8.333333333333334\n"
     ]
    }
   ],
   "source": [
    "widget.close()\n",
    "m = widget.value\n",
    "m = eval(m)\n",
    "model = m()\n",
    "print(str(model))"
   ]
  },
  {
   "cell_type": "markdown",
   "id": "a36ba311",
   "metadata": {
    "papermill": {
     "duration": 0.029293,
     "end_time": "2023-12-11T22:19:21.854818",
     "exception": false,
     "start_time": "2023-12-11T22:19:21.825525",
     "status": "completed"
    },
    "tags": []
   },
   "source": [
    "## Load Data\n",
    "We are going to use the Polars library to lazily scan the parquet files."
   ]
  },
  {
   "cell_type": "code",
   "execution_count": 7,
   "id": "ed9cc651",
   "metadata": {
    "execution": {
     "iopub.execute_input": "2023-12-11T22:19:21.917234Z",
     "iopub.status.busy": "2023-12-11T22:19:21.916223Z",
     "iopub.status.idle": "2023-12-11T22:19:24.795374Z",
     "shell.execute_reply": "2023-12-11T22:19:24.793971Z"
    },
    "papermill": {
     "duration": 2.914148,
     "end_time": "2023-12-11T22:19:24.798659",
     "exception": false,
     "start_time": "2023-12-11T22:19:21.884511",
     "status": "completed"
    },
    "tags": []
   },
   "outputs": [],
   "source": [
    "# Load Data\n",
    "data = list(jsonlines.open(data_directory / \"overwatch.jsonl\").iter())"
   ]
  },
  {
   "cell_type": "markdown",
   "id": "b45249af",
   "metadata": {
    "papermill": {
     "duration": 0.031034,
     "end_time": "2023-12-11T22:19:24.858934",
     "exception": false,
     "start_time": "2023-12-11T22:19:24.827900",
     "status": "completed"
    },
    "tags": []
   },
   "source": [
    "Let's also hold all rating data in a single variable:"
   ]
  },
  {
   "cell_type": "code",
   "execution_count": 8,
   "id": "9f78c41b",
   "metadata": {
    "execution": {
     "iopub.execute_input": "2023-12-11T22:19:24.919527Z",
     "iopub.status.busy": "2023-12-11T22:19:24.919080Z",
     "iopub.status.idle": "2023-12-11T22:19:24.926499Z",
     "shell.execute_reply": "2023-12-11T22:19:24.925028Z"
    },
    "papermill": {
     "duration": 0.041047,
     "end_time": "2023-12-11T22:19:24.929122",
     "exception": false,
     "start_time": "2023-12-11T22:19:24.888075",
     "status": "completed"
    },
    "tags": []
   },
   "outputs": [],
   "source": [
    "# Data Container\n",
    "openskill_players = {}\n",
    "trueskill_players = {}\n",
    "\n",
    "verified_matches = []\n",
    "verified_test_set = []\n",
    "training_set = []\n",
    "test_set = []\n",
    "match_count = {}\n",
    "\n",
    "available_matches = 0\n",
    "valid_matches = 0\n",
    "openskill_correct_predictions = 0\n",
    "openskill_incorrect_predictions = 0\n",
    "trueskill_correct_predictions = 0\n",
    "trueskill_incorrect_predictions = 0\n",
    "\n",
    "openskill_time = None\n",
    "trueskill_time = None"
   ]
  },
  {
   "cell_type": "markdown",
   "id": "65e521f5",
   "metadata": {
    "papermill": {
     "duration": 0.02811,
     "end_time": "2023-12-11T22:19:24.985998",
     "exception": false,
     "start_time": "2023-12-11T22:19:24.957888",
     "status": "completed"
    },
    "tags": []
   },
   "source": [
    "# Constants\n",
    "Let's configure some settings."
   ]
  },
  {
   "cell_type": "code",
   "execution_count": 9,
   "id": "7414c59a",
   "metadata": {
    "execution": {
     "iopub.execute_input": "2023-12-11T22:19:25.046448Z",
     "iopub.status.busy": "2023-12-11T22:19:25.045961Z",
     "iopub.status.idle": "2023-12-11T22:19:25.052127Z",
     "shell.execute_reply": "2023-12-11T22:19:25.050669Z"
    },
    "papermill": {
     "duration": 0.039826,
     "end_time": "2023-12-11T22:19:25.054920",
     "exception": false,
     "start_time": "2023-12-11T22:19:25.015094",
     "status": "completed"
    },
    "tags": []
   },
   "outputs": [],
   "source": [
    "MINIMUM_MATCHES = 2\n",
    "SEED = 1"
   ]
  },
  {
   "cell_type": "markdown",
   "id": "07f60b3a",
   "metadata": {
    "papermill": {
     "duration": 0.028388,
     "end_time": "2023-12-11T22:19:25.112374",
     "exception": false,
     "start_time": "2023-12-11T22:19:25.083986",
     "status": "completed"
    },
    "tags": []
   },
   "source": [
    "## Process Data for Split\n",
    "Let's now process the data and split it."
   ]
  },
  {
   "cell_type": "code",
   "execution_count": 10,
   "id": "eb55a6f0",
   "metadata": {
    "execution": {
     "iopub.execute_input": "2023-12-11T22:19:25.172409Z",
     "iopub.status.busy": "2023-12-11T22:19:25.172001Z",
     "iopub.status.idle": "2023-12-11T22:19:26.948736Z",
     "shell.execute_reply": "2023-12-11T22:19:26.946827Z"
    },
    "papermill": {
     "duration": 1.810802,
     "end_time": "2023-12-11T22:19:26.951729",
     "exception": false,
     "start_time": "2023-12-11T22:19:25.140927",
     "status": "completed"
    },
    "tags": []
   },
   "outputs": [
    {
     "name": "stdout",
     "output_type": "stream",
     "text": [
      "Loading Raw Data into Memory\n",
      "Processing Data:\n"
     ]
    },
    {
     "data": {
      "application/vnd.jupyter.widget-view+json": {
       "model_id": "bca0363394da4b518a18fa61037eb19e",
       "version_major": 2,
       "version_minor": 0
      },
      "text/plain": [
       "  0%|          | 0/61867 [00:00<?, ?it/s]"
      ]
     },
     "metadata": {},
     "output_type": "display_data"
    },
    {
     "name": "stdout",
     "output_type": "stream",
     "text": [
      "Parsed 5661 Training Matches\n"
     ]
    }
   ],
   "source": [
    "print(\"Loading Raw Data into Memory\")\n",
    "\n",
    "# Process Data\n",
    "print(\"Processing Data:\")\n",
    "\n",
    "data_size = len(data)\n",
    "\n",
    "# Create a Progress Bar\n",
    "t = tqdm(total=data_size)\n",
    "\n",
    "\n",
    "for match in data:\n",
    "    # Check if match is valid and count matches\n",
    "    result = match.get(\"result\")\n",
    "    if result not in [\"WIN\", \"LOSS\"]:\n",
    "        continue\n",
    "\n",
    "    teams: dict = match.get(\"teams\")\n",
    "    if list(teams.keys()) != [\"blue\", \"red\"]:\n",
    "        continue\n",
    "\n",
    "    blue_team: dict = teams.get(\"blue\")\n",
    "    red_team: dict = teams.get(\"red\")\n",
    "\n",
    "    if len(blue_team) < 1 and len(red_team) < 1:\n",
    "        continue\n",
    "\n",
    "    for player in blue_team:\n",
    "        match_count[player] = match_count.get(player, 0) + 1\n",
    "\n",
    "    for player in red_team:\n",
    "        match_count[player] = match_count.get(player, 0) + 1\n",
    "\n",
    "\n",
    "for match in data:\n",
    "    # Throw out invalid matches\n",
    "    result = match.get(\"result\")\n",
    "    if result not in [\"WIN\", \"LOSS\"]:\n",
    "        continue\n",
    "\n",
    "    teams: dict = match.get(\"teams\")\n",
    "    if list(teams.keys()) != [\"blue\", \"red\"]:\n",
    "        continue\n",
    "\n",
    "    blue_team: dict = teams.get(\"blue\")\n",
    "    red_team: dict = teams.get(\"red\")\n",
    "\n",
    "    if len(blue_team) < 1 and len(red_team) < 1:\n",
    "        continue\n",
    "\n",
    "    invalid = False\n",
    "    for player in blue_team:\n",
    "        if match_count[player] < MINIMUM_MATCHES:\n",
    "            invalid = True\n",
    "\n",
    "    for player in red_team:\n",
    "        if match_count[player] < MINIMUM_MATCHES:\n",
    "            invalid = True\n",
    "\n",
    "    if invalid:\n",
    "        continue\n",
    "\n",
    "    available_matches += 1\n",
    "\n",
    "    verified_matches.append(match)\n",
    "\n",
    "    t.update(1)\n",
    "\n",
    "print(f\"Parsed {len(verified_matches)} Training Matches\")\n",
    "_ = gc.collect()"
   ]
  },
  {
   "cell_type": "markdown",
   "id": "fa91e054",
   "metadata": {
    "papermill": {
     "duration": 0.029923,
     "end_time": "2023-12-11T22:19:27.010994",
     "exception": false,
     "start_time": "2023-12-11T22:19:26.981071",
     "status": "completed"
    },
    "tags": []
   },
   "source": [
    "Now let's split the data."
   ]
  },
  {
   "cell_type": "code",
   "execution_count": 11,
   "id": "3b430b7c",
   "metadata": {
    "execution": {
     "iopub.execute_input": "2023-12-11T22:19:27.073375Z",
     "iopub.status.busy": "2023-12-11T22:19:27.072968Z",
     "iopub.status.idle": "2023-12-11T22:19:27.082827Z",
     "shell.execute_reply": "2023-12-11T22:19:27.081255Z"
    },
    "papermill": {
     "duration": 0.044428,
     "end_time": "2023-12-11T22:19:27.085538",
     "exception": false,
     "start_time": "2023-12-11T22:19:27.041110",
     "status": "completed"
    },
    "tags": []
   },
   "outputs": [],
   "source": [
    "# Split Data\n",
    "train, test = train_test_split(verified_matches, test_size=0.33, random_state=SEED)"
   ]
  },
  {
   "cell_type": "markdown",
   "id": "eb83098e",
   "metadata": {
    "papermill": {
     "duration": 0.02877,
     "end_time": "2023-12-11T22:19:27.143623",
     "exception": false,
     "start_time": "2023-12-11T22:19:27.114853",
     "status": "completed"
    },
    "tags": []
   },
   "source": [
    "# Parse Data for OpenSkill Training Set\n",
    "Let's now parse the training data for OpenSkill."
   ]
  },
  {
   "cell_type": "code",
   "execution_count": 12,
   "id": "8d393d68",
   "metadata": {
    "execution": {
     "iopub.execute_input": "2023-12-11T22:19:27.203573Z",
     "iopub.status.busy": "2023-12-11T22:19:27.203144Z",
     "iopub.status.idle": "2023-12-11T22:19:29.323119Z",
     "shell.execute_reply": "2023-12-11T22:19:29.321489Z"
    },
    "papermill": {
     "duration": 2.153397,
     "end_time": "2023-12-11T22:19:29.326022",
     "exception": false,
     "start_time": "2023-12-11T22:19:27.172625",
     "status": "completed"
    },
    "tags": []
   },
   "outputs": [
    {
     "name": "stdout",
     "output_type": "stream",
     "text": [
      "Loading Raw Data from Training Set into Memory\n",
      "Parsing Training Data:\n"
     ]
    },
    {
     "data": {
      "application/vnd.jupyter.widget-view+json": {
       "model_id": "6a9b50d97c4c4be8a7d846424ea835a5",
       "version_major": 2,
       "version_minor": 0
      },
      "text/plain": [
       "  0%|          | 0/3792 [00:00<?, ?it/s]"
      ]
     },
     "metadata": {},
     "output_type": "display_data"
    },
    {
     "name": "stdout",
     "output_type": "stream",
     "text": [
      "Parsed Training Matches\n"
     ]
    }
   ],
   "source": [
    "print(\"Loading Raw Data from Training Set into Memory\")\n",
    "\n",
    "# Parse Training Data\n",
    "print(\"Parsing Training Data:\")\n",
    "\n",
    "# Get Unique Matches for Training\n",
    "train_size = len(train)\n",
    "\n",
    "# Create a Progress Bar\n",
    "t = tqdm(total=train_size)\n",
    "\n",
    "os_process_time_start = time.time()\n",
    "\n",
    "for match in train:\n",
    "    result = match.get(\"result\")\n",
    "    won = True if result == \"WIN\" else False\n",
    "\n",
    "    teams: dict = match.get(\"teams\")\n",
    "    blue_team: dict = teams.get(\"blue\")\n",
    "    red_team: dict = teams.get(\"red\")\n",
    "\n",
    "    os_blue_players = {}\n",
    "    os_red_players = {}\n",
    "\n",
    "    m = model\n",
    "    r = m.rating\n",
    "\n",
    "    for player in blue_team:\n",
    "        os_blue_players[player] = r()\n",
    "\n",
    "    for player in red_team:\n",
    "        os_red_players[player] = r()\n",
    "\n",
    "    if won:\n",
    "        blue_team_result, red_team_result = m.rate(\n",
    "            [list(os_blue_players.values()), list(os_red_players.values())],\n",
    "            ranks=[0, 1],\n",
    "        )\n",
    "    else:\n",
    "        red_team_result, blue_team_result = m.rate(\n",
    "            [list(os_red_players.values()), list(os_blue_players.values())],\n",
    "            ranks=[0, 1],\n",
    "        )\n",
    "\n",
    "    os_blue_players = dict(zip(os_blue_players, blue_team_result))\n",
    "    os_red_players = dict(zip(os_red_players, red_team_result))\n",
    "\n",
    "    openskill_players.update(os_blue_players)\n",
    "    openskill_players.update(os_red_players)\n",
    "\n",
    "    t.update(1)\n",
    "\n",
    "os_process_time_stop = time.time()\n",
    "openskill_time = os_process_time_stop - os_process_time_start\n",
    "\n",
    "print(f\"Parsed Training Matches\")\n",
    "_ = gc.collect()"
   ]
  },
  {
   "cell_type": "markdown",
   "id": "7e63079b",
   "metadata": {
    "papermill": {
     "duration": 0.029879,
     "end_time": "2023-12-11T22:19:29.385962",
     "exception": false,
     "start_time": "2023-12-11T22:19:29.356083",
     "status": "completed"
    },
    "tags": []
   },
   "source": [
    "# Parse Data for TrueSkill Training Set\n",
    "Let's now parse the training data for TrueSkill."
   ]
  },
  {
   "cell_type": "code",
   "execution_count": 13,
   "id": "0ed4e334",
   "metadata": {
    "execution": {
     "iopub.execute_input": "2023-12-11T22:19:29.447533Z",
     "iopub.status.busy": "2023-12-11T22:19:29.447080Z",
     "iopub.status.idle": "2023-12-11T22:19:35.095005Z",
     "shell.execute_reply": "2023-12-11T22:19:35.093497Z"
    },
    "papermill": {
     "duration": 5.68409,
     "end_time": "2023-12-11T22:19:35.099954",
     "exception": false,
     "start_time": "2023-12-11T22:19:29.415864",
     "status": "completed"
    },
    "tags": []
   },
   "outputs": [
    {
     "name": "stdout",
     "output_type": "stream",
     "text": [
      "Loading Raw Data from Training Set into Memory\n",
      "Parsing Training Data:\n"
     ]
    },
    {
     "data": {
      "application/vnd.jupyter.widget-view+json": {
       "model_id": "7d15c5e51e0547a5b9b733f69b4d838b",
       "version_major": 2,
       "version_minor": 0
      },
      "text/plain": [
       "  0%|          | 0/3792 [00:00<?, ?it/s]"
      ]
     },
     "metadata": {},
     "output_type": "display_data"
    },
    {
     "name": "stdout",
     "output_type": "stream",
     "text": [
      "Parsed Training Matches\n"
     ]
    }
   ],
   "source": [
    "print(\"Loading Raw Data from Training Set into Memory\")\n",
    "\n",
    "# Parse Training Data\n",
    "print(\"Parsing Training Data:\")\n",
    "\n",
    "# Get Unique Matches for Training\n",
    "train_size = len(train)\n",
    "\n",
    "# Create a Progress Bar\n",
    "t = tqdm(total=train_size)\n",
    "\n",
    "ts_process_time_start = time.time()\n",
    "\n",
    "# Set backend here to test with scipy.\n",
    "TrueSkill = TrueSkill()\n",
    "\n",
    "for match in train:\n",
    "    result = match.get(\"result\")\n",
    "    won = True if result == \"WIN\" else False\n",
    "\n",
    "    teams: dict = match.get(\"teams\")\n",
    "    blue_team: dict = teams.get(\"blue\")\n",
    "    red_team: dict = teams.get(\"red\")\n",
    "\n",
    "    ts_blue_players = {}\n",
    "    ts_red_players = {}\n",
    "\n",
    "    for player in blue_team:\n",
    "        ts_blue_players[player] = trueskill.Rating()\n",
    "\n",
    "    for player in red_team:\n",
    "        ts_red_players[player] = trueskill.Rating()\n",
    "\n",
    "    if won:\n",
    "        blue_team_ratings, red_team_ratings = TrueSkill.rate(\n",
    "            [list(ts_blue_players.values()), list(ts_red_players.values())],\n",
    "        )\n",
    "    else:\n",
    "        red_team_ratings, blue_team_ratings = TrueSkill.rate(\n",
    "            [list(ts_red_players.values()), list(ts_blue_players.values())]\n",
    "        )\n",
    "\n",
    "    ts_blue_players = dict(zip(ts_blue_players, blue_team_ratings))\n",
    "    ts_red_players = dict(zip(ts_red_players, red_team_ratings))\n",
    "\n",
    "    trueskill_players.update(ts_blue_players)\n",
    "    trueskill_players.update(ts_red_players)\n",
    "\n",
    "    t.update(1)\n",
    "\n",
    "ts_process_time_stop = time.time()\n",
    "trueskill_time = ts_process_time_stop - ts_process_time_start\n",
    "\n",
    "print(f\"Parsed Training Matches\")\n",
    "_ = gc.collect()"
   ]
  },
  {
   "cell_type": "markdown",
   "id": "3ddc2b0c",
   "metadata": {
    "papermill": {
     "duration": 0.029496,
     "end_time": "2023-12-11T22:19:35.159309",
     "exception": false,
     "start_time": "2023-12-11T22:19:35.129813",
     "status": "completed"
    },
    "tags": []
   },
   "source": [
    "# Process Test Set\n",
    "We need to load only valid test tests."
   ]
  },
  {
   "cell_type": "code",
   "execution_count": 14,
   "id": "b78b73b6",
   "metadata": {
    "execution": {
     "iopub.execute_input": "2023-12-11T22:19:35.222418Z",
     "iopub.status.busy": "2023-12-11T22:19:35.222015Z",
     "iopub.status.idle": "2023-12-11T22:19:35.739494Z",
     "shell.execute_reply": "2023-12-11T22:19:35.738256Z"
    },
    "papermill": {
     "duration": 0.552712,
     "end_time": "2023-12-11T22:19:35.742387",
     "exception": false,
     "start_time": "2023-12-11T22:19:35.189675",
     "status": "completed"
    },
    "tags": []
   },
   "outputs": [
    {
     "name": "stdout",
     "output_type": "stream",
     "text": [
      "Loading Raw Data from Test Set into Memory\n",
      "Parsing Test Data:\n"
     ]
    },
    {
     "data": {
      "application/vnd.jupyter.widget-view+json": {
       "model_id": "5c1d3e83890e4c3faaa9be8002952607",
       "version_major": 2,
       "version_minor": 0
      },
      "text/plain": [
       "  0%|          | 0/1869 [00:00<?, ?it/s]"
      ]
     },
     "metadata": {},
     "output_type": "display_data"
    },
    {
     "name": "stdout",
     "output_type": "stream",
     "text": [
      "Parsed Test Matches\n"
     ]
    }
   ],
   "source": [
    "print(\"Loading Raw Data from Test Set into Memory\")\n",
    "\n",
    "# Parse Test Set\n",
    "print(\"Parsing Test Data:\")\n",
    "\n",
    "# Get Unique Matches for Training\n",
    "test_size = len(test)\n",
    "\n",
    "# Create a Progress Bar\n",
    "t = tqdm(total=test_size)\n",
    "\n",
    "for match in test:\n",
    "    teams: dict = match.get(\"teams\")\n",
    "    blue_team: dict = teams.get(\"blue\")\n",
    "    red_team: dict = teams.get(\"red\")\n",
    "\n",
    "    invalid = False\n",
    "    for player in blue_team:\n",
    "        if player not in openskill_players:\n",
    "            invalid = True\n",
    "\n",
    "    for player in red_team:\n",
    "        if player not in openskill_players:\n",
    "            invalid = True\n",
    "\n",
    "    if invalid:\n",
    "        continue\n",
    "\n",
    "    verified_test_set.append(match)\n",
    "    valid_matches += 1\n",
    "\n",
    "    t.update(1)\n",
    "\n",
    "print(f\"Parsed Test Matches\")\n",
    "_ = gc.collect()"
   ]
  },
  {
   "cell_type": "markdown",
   "id": "c662ccd1",
   "metadata": {
    "papermill": {
     "duration": 0.032281,
     "end_time": "2023-12-11T22:19:35.807542",
     "exception": false,
     "start_time": "2023-12-11T22:19:35.775261",
     "status": "completed"
    },
    "tags": []
   },
   "source": [
    "## Predict Matches using OpenSkill\n",
    "We shall use `predict_win` to try to predict matches in the test set."
   ]
  },
  {
   "cell_type": "code",
   "execution_count": 15,
   "id": "40c2269c",
   "metadata": {
    "execution": {
     "iopub.execute_input": "2023-12-11T22:19:35.872480Z",
     "iopub.status.busy": "2023-12-11T22:19:35.871963Z",
     "iopub.status.idle": "2023-12-11T22:19:36.393036Z",
     "shell.execute_reply": "2023-12-11T22:19:36.391829Z"
    },
    "papermill": {
     "duration": 0.559313,
     "end_time": "2023-12-11T22:19:36.398317",
     "exception": false,
     "start_time": "2023-12-11T22:19:35.839004",
     "status": "completed"
    },
    "tags": []
   },
   "outputs": [
    {
     "name": "stdout",
     "output_type": "stream",
     "text": [
      "Loading Raw Data from Test Set into Memory\n",
      "Predicting Test Data:\n"
     ]
    },
    {
     "data": {
      "application/vnd.jupyter.widget-view+json": {
       "model_id": "8d9c2e3802d247398fc600598c933352",
       "version_major": 2,
       "version_minor": 0
      },
      "text/plain": [
       "  0%|          | 0/635 [00:00<?, ?it/s]"
      ]
     },
     "metadata": {},
     "output_type": "display_data"
    },
    {
     "name": "stdout",
     "output_type": "stream",
     "text": [
      "Predicted Test Matches\n"
     ]
    }
   ],
   "source": [
    "print(\"Loading Raw Data from Test Set into Memory\")\n",
    "\n",
    "# Parse Test Set\n",
    "print(\"Predicting Test Data:\")\n",
    "\n",
    "# Get Unique Matches for Training\n",
    "test_size = len(verified_test_set)\n",
    "\n",
    "# Create a Progress Bar\n",
    "t = tqdm(total=test_size)\n",
    "\n",
    "for match in verified_test_set:\n",
    "    result = match.get(\"result\")\n",
    "    won = True if result == \"WIN\" else False\n",
    "\n",
    "    teams: dict = match.get(\"teams\")\n",
    "    blue_team: dict = teams.get(\"blue\")\n",
    "    red_team: dict = teams.get(\"red\")\n",
    "\n",
    "    os_blue_players = {}\n",
    "    os_red_players = {}\n",
    "\n",
    "    for player in blue_team:\n",
    "        os_blue_players[player] = openskill_players[player]\n",
    "\n",
    "    for player in red_team:\n",
    "        os_red_players[player] = openskill_players[player]\n",
    "\n",
    "    m = model\n",
    "\n",
    "    blue_win_probability, red_win_probability = m.predict_win(\n",
    "        [list(os_blue_players.values()), list(os_red_players.values())]\n",
    "    )\n",
    "    if (blue_win_probability > red_win_probability) == won:\n",
    "        openskill_correct_predictions += 1\n",
    "    else:\n",
    "        openskill_incorrect_predictions += 1\n",
    "\n",
    "    t.update(1)\n",
    "\n",
    "print(f\"Predicted Test Matches\")\n",
    "_ = gc.collect()"
   ]
  },
  {
   "cell_type": "markdown",
   "id": "1052711b",
   "metadata": {
    "papermill": {
     "duration": 0.031513,
     "end_time": "2023-12-11T22:19:36.461383",
     "exception": false,
     "start_time": "2023-12-11T22:19:36.429870",
     "status": "completed"
    },
    "tags": []
   },
   "source": [
    "## Predict Matches using TrueSkill\n",
    "We shall use the`win_probability` function provided in the package's documentation."
   ]
  },
  {
   "cell_type": "code",
   "execution_count": 16,
   "id": "c5638dde",
   "metadata": {
    "execution": {
     "iopub.execute_input": "2023-12-11T22:19:36.528650Z",
     "iopub.status.busy": "2023-12-11T22:19:36.528213Z",
     "iopub.status.idle": "2023-12-11T22:19:37.048171Z",
     "shell.execute_reply": "2023-12-11T22:19:37.046274Z"
    },
    "papermill": {
     "duration": 0.559452,
     "end_time": "2023-12-11T22:19:37.053761",
     "exception": false,
     "start_time": "2023-12-11T22:19:36.494309",
     "status": "completed"
    },
    "tags": []
   },
   "outputs": [
    {
     "name": "stdout",
     "output_type": "stream",
     "text": [
      "Loading Raw Data from Test Set into Memory\n",
      "Predicting Test Data:\n"
     ]
    },
    {
     "data": {
      "application/vnd.jupyter.widget-view+json": {
       "model_id": "3f39d3bfa7874f70b06c2f4ebb29e862",
       "version_major": 2,
       "version_minor": 0
      },
      "text/plain": [
       "  0%|          | 0/635 [00:00<?, ?it/s]"
      ]
     },
     "metadata": {},
     "output_type": "display_data"
    },
    {
     "name": "stdout",
     "output_type": "stream",
     "text": [
      "Predicted Test Matches\n"
     ]
    }
   ],
   "source": [
    "def win_probability(team1, team2):\n",
    "    delta_mu = sum(r.mu for r in team1) - sum(r.mu for r in team2)\n",
    "    sum_sigma = sum(r.sigma**2 for r in itertools.chain(team1, team2))\n",
    "    size = len(team1) + len(team2)\n",
    "    denom = math.sqrt(size * (trueskill.BETA * trueskill.BETA) + sum_sigma)\n",
    "    ts = trueskill.global_env()\n",
    "    return ts.cdf(delta_mu / denom)\n",
    "\n",
    "\n",
    "print(\"Loading Raw Data from Test Set into Memory\")\n",
    "\n",
    "# Parse Test Set\n",
    "print(\"Predicting Test Data:\")\n",
    "\n",
    "# Get Unique Matches for Training\n",
    "test_size = len(verified_test_set)\n",
    "\n",
    "# Create a Progress Bar\n",
    "t = tqdm(total=test_size)\n",
    "\n",
    "for match in verified_test_set:\n",
    "    result = match.get(\"result\")\n",
    "    won = True if result == \"WIN\" else False\n",
    "\n",
    "    teams: dict = match.get(\"teams\")\n",
    "    blue_team: dict = teams.get(\"blue\")\n",
    "    red_team: dict = teams.get(\"red\")\n",
    "\n",
    "    ts_blue_players = {}\n",
    "    ts_red_players = {}\n",
    "\n",
    "    for player in blue_team:\n",
    "        ts_blue_players[player] = trueskill_players[player]\n",
    "\n",
    "    for player in red_team:\n",
    "        ts_red_players[player] = trueskill_players[player]\n",
    "\n",
    "    blue_win_probability = win_probability(\n",
    "        list(ts_blue_players.values()), list(ts_red_players.values())\n",
    "    )\n",
    "    red_win_probability = abs(1 - blue_win_probability)\n",
    "    if (blue_win_probability > red_win_probability) == won:\n",
    "        trueskill_correct_predictions += 1\n",
    "    else:\n",
    "        trueskill_incorrect_predictions += 1\n",
    "\n",
    "    t.update(1)\n",
    "\n",
    "print(f\"Predicted Test Matches\")\n",
    "_ = gc.collect()"
   ]
  },
  {
   "cell_type": "markdown",
   "id": "7b59e1d2",
   "metadata": {
    "papermill": {
     "duration": 0.03278,
     "end_time": "2023-12-11T22:19:37.119102",
     "exception": false,
     "start_time": "2023-12-11T22:19:37.086322",
     "status": "completed"
    },
    "tags": []
   },
   "source": [
    "## Results\n",
    "Let's print out the result and interpret it."
   ]
  },
  {
   "cell_type": "code",
   "execution_count": 17,
   "id": "abfe7e96",
   "metadata": {
    "execution": {
     "iopub.execute_input": "2023-12-11T22:19:37.186409Z",
     "iopub.status.busy": "2023-12-11T22:19:37.185925Z",
     "iopub.status.idle": "2023-12-11T22:19:37.242648Z",
     "shell.execute_reply": "2023-12-11T22:19:37.241220Z"
    },
    "papermill": {
     "duration": 0.093958,
     "end_time": "2023-12-11T22:19:37.245575",
     "exception": false,
     "start_time": "2023-12-11T22:19:37.151617",
     "status": "completed"
    },
    "tags": []
   },
   "outputs": [
    {
     "data": {
      "text/html": [
       "<pre style=\"white-space:pre;overflow-x:auto;line-height:normal;font-family:Menlo,'DejaVu Sans Mono',consolas,'Courier New',monospace\"><span style=\"font-style: italic\">              Benchmark Results               </span>\n",
       "┏━━━━━━━━━━━━━━━━━━━━━━━┳━━━━━━━━━━━━━━━━━━━━┓\n",
       "┃<span style=\"font-weight: bold\">           Information </span>┃<span style=\"font-weight: bold\"> Value              </span>┃\n",
       "┡━━━━━━━━━━━━━━━━━━━━━━━╇━━━━━━━━━━━━━━━━━━━━┩\n",
       "│<span style=\"color: #008080; text-decoration-color: #008080\">     Available Matches </span>│<span style=\"color: #800080; text-decoration-color: #800080\"> 5661               </span>│\n",
       "│<span style=\"color: #008080; text-decoration-color: #008080\">         Valid Matches </span>│<span style=\"color: #800080; text-decoration-color: #800080\"> 635                </span>│\n",
       "│<span style=\"color: #008080; text-decoration-color: #008080\"> PlackettLuce Accuracy </span>│<span style=\"color: #800080; text-decoration-color: #800080\"> 583/52 [ 91.81%]   </span>│\n",
       "│<span style=\"color: #008080; text-decoration-color: #008080\">    OpenSkill Duration </span>│<span style=\"color: #800080; text-decoration-color: #800080\"> 1.6394069194793701 </span>│\n",
       "│<span style=\"color: #008080; text-decoration-color: #008080\">    TrueSkill Accuracy </span>│<span style=\"color: #800080; text-decoration-color: #800080\"> 593/42 [ 93.39%]   </span>│\n",
       "│<span style=\"color: #008080; text-decoration-color: #008080\">    TrueSkill Duration </span>│<span style=\"color: #800080; text-decoration-color: #800080\"> 5.139376878738403  </span>│\n",
       "│<span style=\"color: #008080; text-decoration-color: #008080\">           Speedup (%) </span>│<span style=\"color: #800080; text-decoration-color: #800080\">  213.49            </span>│\n",
       "│<span style=\"color: #008080; text-decoration-color: #008080\">     Accuracy Bump (%) </span>│<span style=\"color: #800080; text-decoration-color: #800080\"> -1.69              </span>│\n",
       "└───────────────────────┴────────────────────┘\n",
       "</pre>\n"
      ],
      "text/plain": [
       "\u001b[3m              Benchmark Results               \u001b[0m\n",
       "┏━━━━━━━━━━━━━━━━━━━━━━━┳━━━━━━━━━━━━━━━━━━━━┓\n",
       "┃\u001b[1m \u001b[0m\u001b[1m          Information\u001b[0m\u001b[1m \u001b[0m┃\u001b[1m \u001b[0m\u001b[1mValue             \u001b[0m\u001b[1m \u001b[0m┃\n",
       "┡━━━━━━━━━━━━━━━━━━━━━━━╇━━━━━━━━━━━━━━━━━━━━┩\n",
       "│\u001b[36m \u001b[0m\u001b[36m    Available Matches\u001b[0m\u001b[36m \u001b[0m│\u001b[35m \u001b[0m\u001b[35m5661              \u001b[0m\u001b[35m \u001b[0m│\n",
       "│\u001b[36m \u001b[0m\u001b[36m        Valid Matches\u001b[0m\u001b[36m \u001b[0m│\u001b[35m \u001b[0m\u001b[35m635               \u001b[0m\u001b[35m \u001b[0m│\n",
       "│\u001b[36m \u001b[0m\u001b[36mPlackettLuce Accuracy\u001b[0m\u001b[36m \u001b[0m│\u001b[35m \u001b[0m\u001b[35m583/52 [ 91.81%]  \u001b[0m\u001b[35m \u001b[0m│\n",
       "│\u001b[36m \u001b[0m\u001b[36m   OpenSkill Duration\u001b[0m\u001b[36m \u001b[0m│\u001b[35m \u001b[0m\u001b[35m1.6394069194793701\u001b[0m\u001b[35m \u001b[0m│\n",
       "│\u001b[36m \u001b[0m\u001b[36m   TrueSkill Accuracy\u001b[0m\u001b[36m \u001b[0m│\u001b[35m \u001b[0m\u001b[35m593/42 [ 93.39%]  \u001b[0m\u001b[35m \u001b[0m│\n",
       "│\u001b[36m \u001b[0m\u001b[36m   TrueSkill Duration\u001b[0m\u001b[36m \u001b[0m│\u001b[35m \u001b[0m\u001b[35m5.139376878738403 \u001b[0m\u001b[35m \u001b[0m│\n",
       "│\u001b[36m \u001b[0m\u001b[36m          Speedup (%)\u001b[0m\u001b[36m \u001b[0m│\u001b[35m \u001b[0m\u001b[35m 213.49           \u001b[0m\u001b[35m \u001b[0m│\n",
       "│\u001b[36m \u001b[0m\u001b[36m    Accuracy Bump (%)\u001b[0m\u001b[36m \u001b[0m│\u001b[35m \u001b[0m\u001b[35m-1.69             \u001b[0m\u001b[35m \u001b[0m│\n",
       "└───────────────────────┴────────────────────┘\n"
      ]
     },
     "metadata": {},
     "output_type": "display_data"
    }
   ],
   "source": [
    "table = Table(title=\"Benchmark Results\")\n",
    "table.add_column(\"Information\", justify=\"right\", style=\"cyan\", no_wrap=True)\n",
    "table.add_column(\"Value\", style=\"magenta\")\n",
    "\n",
    "table.add_row(\"Available Matches\", f\"{available_matches}\")\n",
    "table.add_row(\"Valid Matches\", f\"{valid_matches}\")\n",
    "\n",
    "openskill_accuracy = round(\n",
    "    (\n",
    "        openskill_correct_predictions\n",
    "        / (openskill_incorrect_predictions + openskill_correct_predictions)\n",
    "    )\n",
    "    * 100,\n",
    "    2,\n",
    ")\n",
    "\n",
    "trueskill_accuracy = round(\n",
    "    (\n",
    "        trueskill_correct_predictions\n",
    "        / (trueskill_incorrect_predictions + trueskill_correct_predictions)\n",
    "    )\n",
    "    * 100,\n",
    "    2,\n",
    ")\n",
    "\n",
    "table.add_row(\n",
    "    f\"{model.__class__.__name__} Accuracy\",\n",
    "    f\"{openskill_correct_predictions}/\"\n",
    "    f\"{openskill_incorrect_predictions} \"\n",
    "    f\"[{openskill_accuracy: .2f}%]\",\n",
    ")\n",
    "table.add_row(\"OpenSkill Duration\", f\"{openskill_time}\")\n",
    "\n",
    "table.add_row(\n",
    "    f\"TrueSkill Accuracy\",\n",
    "    f\"{trueskill_correct_predictions}/\"\n",
    "    f\"{trueskill_incorrect_predictions} \"\n",
    "    f\"[{trueskill_accuracy: .2f}%]\",\n",
    ")\n",
    "table.add_row(\"TrueSkill Duration\", f\"{trueskill_time}\")\n",
    "speedup = ((trueskill_time - openskill_time) / openskill_time) * 100\n",
    "table.add_row(f\"Speedup (%)\", f\"{speedup: .2f}\")\n",
    "accuracy_bump = ((openskill_accuracy - trueskill_accuracy) / trueskill_accuracy) * 100\n",
    "table.add_row(f\"Accuracy Bump (%)\", f\"{accuracy_bump: .2f}\")\n",
    "rich.print(table)"
   ]
  }
 ],
 "metadata": {
  "kaggle": {
   "accelerator": "none",
   "dataSources": [],
   "dockerImageVersionId": 30615,
   "isGpuEnabled": false,
   "isInternetEnabled": true,
   "language": "python",
   "sourceType": "notebook"
  },
  "kernelspec": {
   "display_name": "Python 3",
   "language": "python",
   "name": "python3"
  },
  "language_info": {
   "codemirror_mode": {
    "name": "ipython",
    "version": 3
   },
   "file_extension": ".py",
   "mimetype": "text/x-python",
   "name": "python",
   "nbconvert_exporter": "python",
   "pygments_lexer": "ipython3",
   "version": "3.10.12"
  },
  "papermill": {
   "default_parameters": {},
   "duration": 48.422374,
   "end_time": "2023-12-11T22:19:38.506648",
   "environment_variables": {},
   "exception": null,
   "input_path": "__notebook__.ipynb",
   "output_path": "__notebook__.ipynb",
   "parameters": {},
   "start_time": "2023-12-11T22:18:50.084274",
   "version": "2.4.0"
  },
  "widgets": {
   "application/vnd.jupyter.widget-state+json": {
    "state": {
     "00ecf62590ae4211bacfb6d1531bcc65": {
      "model_module": "@jupyter-widgets/base",
      "model_module_version": "1.2.0",
      "model_name": "LayoutModel",
      "state": {
       "_model_module": "@jupyter-widgets/base",
       "_model_module_version": "1.2.0",
       "_model_name": "LayoutModel",
       "_view_count": null,
       "_view_module": "@jupyter-widgets/base",
       "_view_module_version": "1.2.0",
       "_view_name": "LayoutView",
       "align_content": null,
       "align_items": null,
       "align_self": null,
       "border": null,
       "bottom": null,
       "display": null,
       "flex": null,
       "flex_flow": null,
       "grid_area": null,
       "grid_auto_columns": null,
       "grid_auto_flow": null,
       "grid_auto_rows": null,
       "grid_column": null,
       "grid_gap": null,
       "grid_row": null,
       "grid_template_areas": null,
       "grid_template_columns": null,
       "grid_template_rows": null,
       "height": null,
       "justify_content": null,
       "justify_items": null,
       "left": null,
       "margin": null,
       "max_height": null,
       "max_width": null,
       "min_height": null,
       "min_width": null,
       "object_fit": null,
       "object_position": null,
       "order": null,
       "overflow": null,
       "overflow_x": null,
       "overflow_y": null,
       "padding": null,
       "right": null,
       "top": null,
       "visibility": null,
       "width": null
      }
     },
     "07c3bb1b83884ae783b975ec69700245": {
      "model_module": "@jupyter-widgets/base",
      "model_module_version": "1.2.0",
      "model_name": "LayoutModel",
      "state": {
       "_model_module": "@jupyter-widgets/base",
       "_model_module_version": "1.2.0",
       "_model_name": "LayoutModel",
       "_view_count": null,
       "_view_module": "@jupyter-widgets/base",
       "_view_module_version": "1.2.0",
       "_view_name": "LayoutView",
       "align_content": null,
       "align_items": null,
       "align_self": null,
       "border": null,
       "bottom": null,
       "display": null,
       "flex": null,
       "flex_flow": null,
       "grid_area": null,
       "grid_auto_columns": null,
       "grid_auto_flow": null,
       "grid_auto_rows": null,
       "grid_column": null,
       "grid_gap": null,
       "grid_row": null,
       "grid_template_areas": null,
       "grid_template_columns": null,
       "grid_template_rows": null,
       "height": null,
       "justify_content": null,
       "justify_items": null,
       "left": null,
       "margin": null,
       "max_height": null,
       "max_width": null,
       "min_height": null,
       "min_width": null,
       "object_fit": null,
       "object_position": null,
       "order": null,
       "overflow": null,
       "overflow_x": null,
       "overflow_y": null,
       "padding": null,
       "right": null,
       "top": null,
       "visibility": null,
       "width": null
      }
     },
     "17247b346a8c4b3b9125898da136f7eb": {
      "model_module": "@jupyter-widgets/base",
      "model_module_version": "1.2.0",
      "model_name": "LayoutModel",
      "state": {
       "_model_module": "@jupyter-widgets/base",
       "_model_module_version": "1.2.0",
       "_model_name": "LayoutModel",
       "_view_count": null,
       "_view_module": "@jupyter-widgets/base",
       "_view_module_version": "1.2.0",
       "_view_name": "LayoutView",
       "align_content": null,
       "align_items": null,
       "align_self": null,
       "border": null,
       "bottom": null,
       "display": null,
       "flex": null,
       "flex_flow": null,
       "grid_area": null,
       "grid_auto_columns": null,
       "grid_auto_flow": null,
       "grid_auto_rows": null,
       "grid_column": null,
       "grid_gap": null,
       "grid_row": null,
       "grid_template_areas": null,
       "grid_template_columns": null,
       "grid_template_rows": null,
       "height": null,
       "justify_content": null,
       "justify_items": null,
       "left": null,
       "margin": null,
       "max_height": null,
       "max_width": null,
       "min_height": null,
       "min_width": null,
       "object_fit": null,
       "object_position": null,
       "order": null,
       "overflow": null,
       "overflow_x": null,
       "overflow_y": null,
       "padding": null,
       "right": null,
       "top": null,
       "visibility": null,
       "width": null
      }
     },
     "221bb4add14d40008f6a1d2182d1a698": {
      "model_module": "@jupyter-widgets/controls",
      "model_module_version": "1.5.0",
      "model_name": "HTMLModel",
      "state": {
       "_dom_classes": [],
       "_model_module": "@jupyter-widgets/controls",
       "_model_module_version": "1.5.0",
       "_model_name": "HTMLModel",
       "_view_count": null,
       "_view_module": "@jupyter-widgets/controls",
       "_view_module_version": "1.5.0",
       "_view_name": "HTMLView",
       "description": "",
       "description_tooltip": null,
       "layout": "IPY_MODEL_17247b346a8c4b3b9125898da136f7eb",
       "placeholder": "​",
       "style": "IPY_MODEL_e261c7292cab4bf09265654c8d766bbd",
       "value": " 34%"
      }
     },
     "27a6b2c07b0542d3ab9ac945cf5f6975": {
      "model_module": "@jupyter-widgets/base",
      "model_module_version": "1.2.0",
      "model_name": "LayoutModel",
      "state": {
       "_model_module": "@jupyter-widgets/base",
       "_model_module_version": "1.2.0",
       "_model_name": "LayoutModel",
       "_view_count": null,
       "_view_module": "@jupyter-widgets/base",
       "_view_module_version": "1.2.0",
       "_view_name": "LayoutView",
       "align_content": null,
       "align_items": null,
       "align_self": null,
       "border": null,
       "bottom": null,
       "display": null,
       "flex": null,
       "flex_flow": null,
       "grid_area": null,
       "grid_auto_columns": null,
       "grid_auto_flow": null,
       "grid_auto_rows": null,
       "grid_column": null,
       "grid_gap": null,
       "grid_row": null,
       "grid_template_areas": null,
       "grid_template_columns": null,
       "grid_template_rows": null,
       "height": null,
       "justify_content": null,
       "justify_items": null,
       "left": null,
       "margin": null,
       "max_height": null,
       "max_width": null,
       "min_height": null,
       "min_width": null,
       "object_fit": null,
       "object_position": null,
       "order": null,
       "overflow": null,
       "overflow_x": null,
       "overflow_y": null,
       "padding": null,
       "right": null,
       "top": null,
       "visibility": null,
       "width": null
      }
     },
     "300114457d8e4a82ac3a84fa99119a8b": {
      "model_module": "@jupyter-widgets/base",
      "model_module_version": "1.2.0",
      "model_name": "LayoutModel",
      "state": {
       "_model_module": "@jupyter-widgets/base",
       "_model_module_version": "1.2.0",
       "_model_name": "LayoutModel",
       "_view_count": null,
       "_view_module": "@jupyter-widgets/base",
       "_view_module_version": "1.2.0",
       "_view_name": "LayoutView",
       "align_content": null,
       "align_items": null,
       "align_self": null,
       "border": null,
       "bottom": null,
       "display": null,
       "flex": null,
       "flex_flow": null,
       "grid_area": null,
       "grid_auto_columns": null,
       "grid_auto_flow": null,
       "grid_auto_rows": null,
       "grid_column": null,
       "grid_gap": null,
       "grid_row": null,
       "grid_template_areas": null,
       "grid_template_columns": null,
       "grid_template_rows": null,
       "height": null,
       "justify_content": null,
       "justify_items": null,
       "left": null,
       "margin": null,
       "max_height": null,
       "max_width": null,
       "min_height": null,
       "min_width": null,
       "object_fit": null,
       "object_position": null,
       "order": null,
       "overflow": null,
       "overflow_x": null,
       "overflow_y": null,
       "padding": null,
       "right": null,
       "top": null,
       "visibility": null,
       "width": null
      }
     },
     "313915b9bb234050811cd20439de6873": {
      "model_module": "@jupyter-widgets/base",
      "model_module_version": "1.2.0",
      "model_name": "LayoutModel",
      "state": {
       "_model_module": "@jupyter-widgets/base",
       "_model_module_version": "1.2.0",
       "_model_name": "LayoutModel",
       "_view_count": null,
       "_view_module": "@jupyter-widgets/base",
       "_view_module_version": "1.2.0",
       "_view_name": "LayoutView",
       "align_content": null,
       "align_items": null,
       "align_self": null,
       "border": null,
       "bottom": null,
       "display": null,
       "flex": null,
       "flex_flow": null,
       "grid_area": null,
       "grid_auto_columns": null,
       "grid_auto_flow": null,
       "grid_auto_rows": null,
       "grid_column": null,
       "grid_gap": null,
       "grid_row": null,
       "grid_template_areas": null,
       "grid_template_columns": null,
       "grid_template_rows": null,
       "height": null,
       "justify_content": null,
       "justify_items": null,
       "left": null,
       "margin": null,
       "max_height": null,
       "max_width": null,
       "min_height": null,
       "min_width": null,
       "object_fit": null,
       "object_position": null,
       "order": null,
       "overflow": null,
       "overflow_x": null,
       "overflow_y": null,
       "padding": null,
       "right": null,
       "top": null,
       "visibility": null,
       "width": null
      }
     },
     "31b2afec6a21471c894c1d9ccafcf8d3": {
      "model_module": "@jupyter-widgets/base",
      "model_module_version": "1.2.0",
      "model_name": "LayoutModel",
      "state": {
       "_model_module": "@jupyter-widgets/base",
       "_model_module_version": "1.2.0",
       "_model_name": "LayoutModel",
       "_view_count": null,
       "_view_module": "@jupyter-widgets/base",
       "_view_module_version": "1.2.0",
       "_view_name": "LayoutView",
       "align_content": null,
       "align_items": null,
       "align_self": null,
       "border": null,
       "bottom": null,
       "display": null,
       "flex": null,
       "flex_flow": null,
       "grid_area": null,
       "grid_auto_columns": null,
       "grid_auto_flow": null,
       "grid_auto_rows": null,
       "grid_column": null,
       "grid_gap": null,
       "grid_row": null,
       "grid_template_areas": null,
       "grid_template_columns": null,
       "grid_template_rows": null,
       "height": null,
       "justify_content": null,
       "justify_items": null,
       "left": null,
       "margin": null,
       "max_height": null,
       "max_width": null,
       "min_height": null,
       "min_width": null,
       "object_fit": null,
       "object_position": null,
       "order": null,
       "overflow": null,
       "overflow_x": null,
       "overflow_y": null,
       "padding": null,
       "right": null,
       "top": null,
       "visibility": null,
       "width": null
      }
     },
     "35da34c672664fcc9a668fa4172bd791": {
      "model_module": "@jupyter-widgets/controls",
      "model_module_version": "1.5.0",
      "model_name": "FloatProgressModel",
      "state": {
       "_dom_classes": [],
       "_model_module": "@jupyter-widgets/controls",
       "_model_module_version": "1.5.0",
       "_model_name": "FloatProgressModel",
       "_view_count": null,
       "_view_module": "@jupyter-widgets/controls",
       "_view_module_version": "1.5.0",
       "_view_name": "ProgressView",
       "bar_style": "danger",
       "description": "",
       "description_tooltip": null,
       "layout": "IPY_MODEL_cfa45c00e5934001a2e945fce5075c62",
       "max": 61867.0,
       "min": 0.0,
       "orientation": "horizontal",
       "style": "IPY_MODEL_7af3b74ac4f542fca46de828f8afb11e",
       "value": 5661.0
      }
     },
     "363be584285e42adad1cfaa05858f8ca": {
      "model_module": "@jupyter-widgets/base",
      "model_module_version": "1.2.0",
      "model_name": "LayoutModel",
      "state": {
       "_model_module": "@jupyter-widgets/base",
       "_model_module_version": "1.2.0",
       "_model_name": "LayoutModel",
       "_view_count": null,
       "_view_module": "@jupyter-widgets/base",
       "_view_module_version": "1.2.0",
       "_view_name": "LayoutView",
       "align_content": null,
       "align_items": null,
       "align_self": null,
       "border": null,
       "bottom": null,
       "display": null,
       "flex": null,
       "flex_flow": null,
       "grid_area": null,
       "grid_auto_columns": null,
       "grid_auto_flow": null,
       "grid_auto_rows": null,
       "grid_column": null,
       "grid_gap": null,
       "grid_row": null,
       "grid_template_areas": null,
       "grid_template_columns": null,
       "grid_template_rows": null,
       "height": null,
       "justify_content": null,
       "justify_items": null,
       "left": null,
       "margin": null,
       "max_height": null,
       "max_width": null,
       "min_height": null,
       "min_width": null,
       "object_fit": null,
       "object_position": null,
       "order": null,
       "overflow": null,
       "overflow_x": null,
       "overflow_y": null,
       "padding": null,
       "right": null,
       "top": null,
       "visibility": null,
       "width": null
      }
     },
     "3c0e3f0e4dff48fdb162c3273141389b": {
      "model_module": "@jupyter-widgets/controls",
      "model_module_version": "1.5.0",
      "model_name": "DescriptionStyleModel",
      "state": {
       "_model_module": "@jupyter-widgets/controls",
       "_model_module_version": "1.5.0",
       "_model_name": "DescriptionStyleModel",
       "_view_count": null,
       "_view_module": "@jupyter-widgets/base",
       "_view_module_version": "1.2.0",
       "_view_name": "StyleView",
       "description_width": ""
      }
     },
     "3e80b75293a245479e7bff61878e0958": {
      "model_module": "@jupyter-widgets/controls",
      "model_module_version": "1.5.0",
      "model_name": "HTMLModel",
      "state": {
       "_dom_classes": [],
       "_model_module": "@jupyter-widgets/controls",
       "_model_module_version": "1.5.0",
       "_model_name": "HTMLModel",
       "_view_count": null,
       "_view_module": "@jupyter-widgets/controls",
       "_view_module_version": "1.5.0",
       "_view_name": "HTMLView",
       "description": "",
       "description_tooltip": null,
       "layout": "IPY_MODEL_b7a6d4d390d44fa096873a2bbbfaca96",
       "placeholder": "​",
       "style": "IPY_MODEL_9867cffc2bef4f5badf7d5695de3ceef",
       "value": " 3792/3792 [00:07&lt;00:00, 2249.00it/s]"
      }
     },
     "3f39d3bfa7874f70b06c2f4ebb29e862": {
      "model_module": "@jupyter-widgets/controls",
      "model_module_version": "1.5.0",
      "model_name": "HBoxModel",
      "state": {
       "_dom_classes": [],
       "_model_module": "@jupyter-widgets/controls",
       "_model_module_version": "1.5.0",
       "_model_name": "HBoxModel",
       "_view_count": null,
       "_view_module": "@jupyter-widgets/controls",
       "_view_module_version": "1.5.0",
       "_view_name": "HBoxView",
       "box_style": "",
       "children": [
        "IPY_MODEL_bb587041a6294adf8ccae88628f8edd6",
        "IPY_MODEL_49aabc7d641c45d990a50349f3db6e4e",
        "IPY_MODEL_81fe20a84bcc4156a89e2f94564018b1"
       ],
       "layout": "IPY_MODEL_7f60b5945e324bbb82e98bb42ae964ab"
      }
     },
     "433cc4a4e8bc4e28bf4d7eaf076424d5": {
      "model_module": "@jupyter-widgets/controls",
      "model_module_version": "1.5.0",
      "model_name": "HTMLModel",
      "state": {
       "_dom_classes": [],
       "_model_module": "@jupyter-widgets/controls",
       "_model_module_version": "1.5.0",
       "_model_name": "HTMLModel",
       "_view_count": null,
       "_view_module": "@jupyter-widgets/controls",
       "_view_module_version": "1.5.0",
       "_view_name": "HTMLView",
       "description": "",
       "description_tooltip": null,
       "layout": "IPY_MODEL_313915b9bb234050811cd20439de6873",
       "placeholder": "​",
       "style": "IPY_MODEL_68c871342df54ede94d44d845f4a9459",
       "value": " 3792/3792 [00:06&lt;00:00, 725.81it/s]"
      }
     },
     "479d97aae38e4623bcd0275be704bf98": {
      "model_module": "@jupyter-widgets/base",
      "model_module_version": "1.2.0",
      "model_name": "LayoutModel",
      "state": {
       "_model_module": "@jupyter-widgets/base",
       "_model_module_version": "1.2.0",
       "_model_name": "LayoutModel",
       "_view_count": null,
       "_view_module": "@jupyter-widgets/base",
       "_view_module_version": "1.2.0",
       "_view_name": "LayoutView",
       "align_content": null,
       "align_items": null,
       "align_self": null,
       "border": null,
       "bottom": null,
       "display": null,
       "flex": null,
       "flex_flow": null,
       "grid_area": null,
       "grid_auto_columns": null,
       "grid_auto_flow": null,
       "grid_auto_rows": null,
       "grid_column": null,
       "grid_gap": null,
       "grid_row": null,
       "grid_template_areas": null,
       "grid_template_columns": null,
       "grid_template_rows": null,
       "height": null,
       "justify_content": null,
       "justify_items": null,
       "left": null,
       "margin": null,
       "max_height": null,
       "max_width": null,
       "min_height": null,
       "min_width": null,
       "object_fit": null,
       "object_position": null,
       "order": null,
       "overflow": null,
       "overflow_x": null,
       "overflow_y": null,
       "padding": null,
       "right": null,
       "top": null,
       "visibility": null,
       "width": null
      }
     },
     "49aabc7d641c45d990a50349f3db6e4e": {
      "model_module": "@jupyter-widgets/controls",
      "model_module_version": "1.5.0",
      "model_name": "FloatProgressModel",
      "state": {
       "_dom_classes": [],
       "_model_module": "@jupyter-widgets/controls",
       "_model_module_version": "1.5.0",
       "_model_name": "FloatProgressModel",
       "_view_count": null,
       "_view_module": "@jupyter-widgets/controls",
       "_view_module_version": "1.5.0",
       "_view_name": "ProgressView",
       "bar_style": "",
       "description": "",
       "description_tooltip": null,
       "layout": "IPY_MODEL_b91182a1c720424aa3d7c26d3e19e625",
       "max": 635.0,
       "min": 0.0,
       "orientation": "horizontal",
       "style": "IPY_MODEL_cf6de8c5e3cc42c08aaea7a73a81353b",
       "value": 0.0
      }
     },
     "4d72e2a8f77447c9af5cc046820e6e1a": {
      "model_module": "@jupyter-widgets/controls",
      "model_module_version": "1.5.0",
      "model_name": "ProgressStyleModel",
      "state": {
       "_model_module": "@jupyter-widgets/controls",
       "_model_module_version": "1.5.0",
       "_model_name": "ProgressStyleModel",
       "_view_count": null,
       "_view_module": "@jupyter-widgets/base",
       "_view_module_version": "1.2.0",
       "_view_name": "StyleView",
       "bar_color": null,
       "description_width": ""
      }
     },
     "4f88e3eb52e84a7ab18d18e4ed0e94a5": {
      "model_module": "@jupyter-widgets/controls",
      "model_module_version": "1.5.0",
      "model_name": "ProgressStyleModel",
      "state": {
       "_model_module": "@jupyter-widgets/controls",
       "_model_module_version": "1.5.0",
       "_model_name": "ProgressStyleModel",
       "_view_count": null,
       "_view_module": "@jupyter-widgets/base",
       "_view_module_version": "1.2.0",
       "_view_name": "StyleView",
       "bar_color": null,
       "description_width": ""
      }
     },
     "4ffb126fc3de48a29754bb91a84cf821": {
      "model_module": "@jupyter-widgets/controls",
      "model_module_version": "1.5.0",
      "model_name": "HTMLModel",
      "state": {
       "_dom_classes": [],
       "_model_module": "@jupyter-widgets/controls",
       "_model_module_version": "1.5.0",
       "_model_name": "HTMLModel",
       "_view_count": null,
       "_view_module": "@jupyter-widgets/controls",
       "_view_module_version": "1.5.0",
       "_view_name": "HTMLView",
       "description": "",
       "description_tooltip": null,
       "layout": "IPY_MODEL_300114457d8e4a82ac3a84fa99119a8b",
       "placeholder": "​",
       "style": "IPY_MODEL_cab1af9a18134741875bbef047f299eb",
       "value": " 5661/61867 [00:04&lt;00:08, 6895.71it/s]"
      }
     },
     "521628935c7041549b5d119eb63447d5": {
      "model_module": "@jupyter-widgets/controls",
      "model_module_version": "1.5.0",
      "model_name": "HTMLModel",
      "state": {
       "_dom_classes": [],
       "_model_module": "@jupyter-widgets/controls",
       "_model_module_version": "1.5.0",
       "_model_name": "HTMLModel",
       "_view_count": null,
       "_view_module": "@jupyter-widgets/controls",
       "_view_module_version": "1.5.0",
       "_view_name": "HTMLView",
       "description": "",
       "description_tooltip": null,
       "layout": "IPY_MODEL_8a984f6f8c96401da59b95e3ae51e873",
       "placeholder": "​",
       "style": "IPY_MODEL_52a4fb1c2d814af4bb021a67510e2f30",
       "value": "  9%"
      }
     },
     "52a4fb1c2d814af4bb021a67510e2f30": {
      "model_module": "@jupyter-widgets/controls",
      "model_module_version": "1.5.0",
      "model_name": "DescriptionStyleModel",
      "state": {
       "_model_module": "@jupyter-widgets/controls",
       "_model_module_version": "1.5.0",
       "_model_name": "DescriptionStyleModel",
       "_view_count": null,
       "_view_module": "@jupyter-widgets/base",
       "_view_module_version": "1.2.0",
       "_view_name": "StyleView",
       "description_width": ""
      }
     },
     "5a2a78ff838342538da05ea90f2e4756": {
      "model_module": "@jupyter-widgets/controls",
      "model_module_version": "1.5.0",
      "model_name": "HTMLModel",
      "state": {
       "_dom_classes": [],
       "_model_module": "@jupyter-widgets/controls",
       "_model_module_version": "1.5.0",
       "_model_name": "HTMLModel",
       "_view_count": null,
       "_view_module": "@jupyter-widgets/controls",
       "_view_module_version": "1.5.0",
       "_view_name": "HTMLView",
       "description": "",
       "description_tooltip": null,
       "layout": "IPY_MODEL_00ecf62590ae4211bacfb6d1531bcc65",
       "placeholder": "​",
       "style": "IPY_MODEL_7137a12cf5324e3a99dc9c980179885a",
       "value": " 635/635 [00:01&lt;00:00, 546.15it/s]"
      }
     },
     "5c1d3e83890e4c3faaa9be8002952607": {
      "model_module": "@jupyter-widgets/controls",
      "model_module_version": "1.5.0",
      "model_name": "HBoxModel",
      "state": {
       "_dom_classes": [],
       "_model_module": "@jupyter-widgets/controls",
       "_model_module_version": "1.5.0",
       "_model_name": "HBoxModel",
       "_view_count": null,
       "_view_module": "@jupyter-widgets/controls",
       "_view_module_version": "1.5.0",
       "_view_name": "HBoxView",
       "box_style": "",
       "children": [
        "IPY_MODEL_221bb4add14d40008f6a1d2182d1a698",
        "IPY_MODEL_9e7b206c36844e0fa5681802239728a3",
        "IPY_MODEL_c7ea460dd37b41c6a0727c9ce9fe49b3"
       ],
       "layout": "IPY_MODEL_d9fded390fca4a95858fd702f4b6fc29"
      }
     },
     "68c871342df54ede94d44d845f4a9459": {
      "model_module": "@jupyter-widgets/controls",
      "model_module_version": "1.5.0",
      "model_name": "DescriptionStyleModel",
      "state": {
       "_model_module": "@jupyter-widgets/controls",
       "_model_module_version": "1.5.0",
       "_model_name": "DescriptionStyleModel",
       "_view_count": null,
       "_view_module": "@jupyter-widgets/base",
       "_view_module_version": "1.2.0",
       "_view_name": "StyleView",
       "description_width": ""
      }
     },
     "6a9b50d97c4c4be8a7d846424ea835a5": {
      "model_module": "@jupyter-widgets/controls",
      "model_module_version": "1.5.0",
      "model_name": "HBoxModel",
      "state": {
       "_dom_classes": [],
       "_model_module": "@jupyter-widgets/controls",
       "_model_module_version": "1.5.0",
       "_model_name": "HBoxModel",
       "_view_count": null,
       "_view_module": "@jupyter-widgets/controls",
       "_view_module_version": "1.5.0",
       "_view_name": "HBoxView",
       "box_style": "",
       "children": [
        "IPY_MODEL_de65cdde986e46d082634e9355e92498",
        "IPY_MODEL_8a63a57193864102a8bf6ebeb2312dde",
        "IPY_MODEL_3e80b75293a245479e7bff61878e0958"
       ],
       "layout": "IPY_MODEL_f54c182d748745908e35f87b260b2c84"
      }
     },
     "6ae22fed2e50458591f39c61271a589e": {
      "model_module": "@jupyter-widgets/controls",
      "model_module_version": "1.5.0",
      "model_name": "ProgressStyleModel",
      "state": {
       "_model_module": "@jupyter-widgets/controls",
       "_model_module_version": "1.5.0",
       "_model_name": "ProgressStyleModel",
       "_view_count": null,
       "_view_module": "@jupyter-widgets/base",
       "_view_module_version": "1.2.0",
       "_view_name": "StyleView",
       "bar_color": null,
       "description_width": ""
      }
     },
     "6febae9812534b709a58736689d7aa4e": {
      "model_module": "@jupyter-widgets/controls",
      "model_module_version": "1.5.0",
      "model_name": "DescriptionStyleModel",
      "state": {
       "_model_module": "@jupyter-widgets/controls",
       "_model_module_version": "1.5.0",
       "_model_name": "DescriptionStyleModel",
       "_view_count": null,
       "_view_module": "@jupyter-widgets/base",
       "_view_module_version": "1.2.0",
       "_view_name": "StyleView",
       "description_width": ""
      }
     },
     "7137a12cf5324e3a99dc9c980179885a": {
      "model_module": "@jupyter-widgets/controls",
      "model_module_version": "1.5.0",
      "model_name": "DescriptionStyleModel",
      "state": {
       "_model_module": "@jupyter-widgets/controls",
       "_model_module_version": "1.5.0",
       "_model_name": "DescriptionStyleModel",
       "_view_count": null,
       "_view_module": "@jupyter-widgets/base",
       "_view_module_version": "1.2.0",
       "_view_name": "StyleView",
       "description_width": ""
      }
     },
     "718c7e1be3094080b562cf9659e08bd4": {
      "model_module": "@jupyter-widgets/controls",
      "model_module_version": "1.5.0",
      "model_name": "FloatProgressModel",
      "state": {
       "_dom_classes": [],
       "_model_module": "@jupyter-widgets/controls",
       "_model_module_version": "1.5.0",
       "_model_name": "FloatProgressModel",
       "_view_count": null,
       "_view_module": "@jupyter-widgets/controls",
       "_view_module_version": "1.5.0",
       "_view_name": "ProgressView",
       "bar_style": "success",
       "description": "",
       "description_tooltip": null,
       "layout": "IPY_MODEL_363be584285e42adad1cfaa05858f8ca",
       "max": 635.0,
       "min": 0.0,
       "orientation": "horizontal",
       "style": "IPY_MODEL_4f88e3eb52e84a7ab18d18e4ed0e94a5",
       "value": 635.0
      }
     },
     "7af3b74ac4f542fca46de828f8afb11e": {
      "model_module": "@jupyter-widgets/controls",
      "model_module_version": "1.5.0",
      "model_name": "ProgressStyleModel",
      "state": {
       "_model_module": "@jupyter-widgets/controls",
       "_model_module_version": "1.5.0",
       "_model_name": "ProgressStyleModel",
       "_view_count": null,
       "_view_module": "@jupyter-widgets/base",
       "_view_module_version": "1.2.0",
       "_view_name": "StyleView",
       "bar_color": null,
       "description_width": ""
      }
     },
     "7d15c5e51e0547a5b9b733f69b4d838b": {
      "model_module": "@jupyter-widgets/controls",
      "model_module_version": "1.5.0",
      "model_name": "HBoxModel",
      "state": {
       "_dom_classes": [],
       "_model_module": "@jupyter-widgets/controls",
       "_model_module_version": "1.5.0",
       "_model_name": "HBoxModel",
       "_view_count": null,
       "_view_module": "@jupyter-widgets/controls",
       "_view_module_version": "1.5.0",
       "_view_name": "HBoxView",
       "box_style": "",
       "children": [
        "IPY_MODEL_9fbeb697845648c897be6af7cbd68005",
        "IPY_MODEL_b31d68650e164e06b82ae67541bc5e88",
        "IPY_MODEL_433cc4a4e8bc4e28bf4d7eaf076424d5"
       ],
       "layout": "IPY_MODEL_479d97aae38e4623bcd0275be704bf98"
      }
     },
     "7f60b5945e324bbb82e98bb42ae964ab": {
      "model_module": "@jupyter-widgets/base",
      "model_module_version": "1.2.0",
      "model_name": "LayoutModel",
      "state": {
       "_model_module": "@jupyter-widgets/base",
       "_model_module_version": "1.2.0",
       "_model_name": "LayoutModel",
       "_view_count": null,
       "_view_module": "@jupyter-widgets/base",
       "_view_module_version": "1.2.0",
       "_view_name": "LayoutView",
       "align_content": null,
       "align_items": null,
       "align_self": null,
       "border": null,
       "bottom": null,
       "display": null,
       "flex": null,
       "flex_flow": null,
       "grid_area": null,
       "grid_auto_columns": null,
       "grid_auto_flow": null,
       "grid_auto_rows": null,
       "grid_column": null,
       "grid_gap": null,
       "grid_row": null,
       "grid_template_areas": null,
       "grid_template_columns": null,
       "grid_template_rows": null,
       "height": null,
       "justify_content": null,
       "justify_items": null,
       "left": null,
       "margin": null,
       "max_height": null,
       "max_width": null,
       "min_height": null,
       "min_width": null,
       "object_fit": null,
       "object_position": null,
       "order": null,
       "overflow": null,
       "overflow_x": null,
       "overflow_y": null,
       "padding": null,
       "right": null,
       "top": null,
       "visibility": null,
       "width": null
      }
     },
     "8027952a27454fae9fbb23b27a7f2a5b": {
      "model_module": "@jupyter-widgets/base",
      "model_module_version": "1.2.0",
      "model_name": "LayoutModel",
      "state": {
       "_model_module": "@jupyter-widgets/base",
       "_model_module_version": "1.2.0",
       "_model_name": "LayoutModel",
       "_view_count": null,
       "_view_module": "@jupyter-widgets/base",
       "_view_module_version": "1.2.0",
       "_view_name": "LayoutView",
       "align_content": null,
       "align_items": null,
       "align_self": null,
       "border": null,
       "bottom": null,
       "display": null,
       "flex": null,
       "flex_flow": null,
       "grid_area": null,
       "grid_auto_columns": null,
       "grid_auto_flow": null,
       "grid_auto_rows": null,
       "grid_column": null,
       "grid_gap": null,
       "grid_row": null,
       "grid_template_areas": null,
       "grid_template_columns": null,
       "grid_template_rows": null,
       "height": null,
       "justify_content": null,
       "justify_items": null,
       "left": null,
       "margin": null,
       "max_height": null,
       "max_width": null,
       "min_height": null,
       "min_width": null,
       "object_fit": null,
       "object_position": null,
       "order": null,
       "overflow": null,
       "overflow_x": null,
       "overflow_y": null,
       "padding": null,
       "right": null,
       "top": null,
       "visibility": null,
       "width": null
      }
     },
     "813522aa9d6e42e88c682f58640c6442": {
      "model_module": "@jupyter-widgets/base",
      "model_module_version": "1.2.0",
      "model_name": "LayoutModel",
      "state": {
       "_model_module": "@jupyter-widgets/base",
       "_model_module_version": "1.2.0",
       "_model_name": "LayoutModel",
       "_view_count": null,
       "_view_module": "@jupyter-widgets/base",
       "_view_module_version": "1.2.0",
       "_view_name": "LayoutView",
       "align_content": null,
       "align_items": null,
       "align_self": null,
       "border": null,
       "bottom": null,
       "display": null,
       "flex": null,
       "flex_flow": null,
       "grid_area": null,
       "grid_auto_columns": null,
       "grid_auto_flow": null,
       "grid_auto_rows": null,
       "grid_column": null,
       "grid_gap": null,
       "grid_row": null,
       "grid_template_areas": null,
       "grid_template_columns": null,
       "grid_template_rows": null,
       "height": null,
       "justify_content": null,
       "justify_items": null,
       "left": null,
       "margin": null,
       "max_height": null,
       "max_width": null,
       "min_height": null,
       "min_width": null,
       "object_fit": null,
       "object_position": null,
       "order": null,
       "overflow": null,
       "overflow_x": null,
       "overflow_y": null,
       "padding": null,
       "right": null,
       "top": null,
       "visibility": null,
       "width": null
      }
     },
     "81fe20a84bcc4156a89e2f94564018b1": {
      "model_module": "@jupyter-widgets/controls",
      "model_module_version": "1.5.0",
      "model_name": "HTMLModel",
      "state": {
       "_dom_classes": [],
       "_model_module": "@jupyter-widgets/controls",
       "_model_module_version": "1.5.0",
       "_model_name": "HTMLModel",
       "_view_count": null,
       "_view_module": "@jupyter-widgets/controls",
       "_view_module_version": "1.5.0",
       "_view_name": "HTMLView",
       "description": "",
       "description_tooltip": null,
       "layout": "IPY_MODEL_dac12f6cce264527a4e165da55216e33",
       "placeholder": "​",
       "style": "IPY_MODEL_e83b8b9507fd47d09002e7a066b52394",
       "value": " 0/635 [00:00&lt;?, ?it/s]"
      }
     },
     "8a63a57193864102a8bf6ebeb2312dde": {
      "model_module": "@jupyter-widgets/controls",
      "model_module_version": "1.5.0",
      "model_name": "FloatProgressModel",
      "state": {
       "_dom_classes": [],
       "_model_module": "@jupyter-widgets/controls",
       "_model_module_version": "1.5.0",
       "_model_name": "FloatProgressModel",
       "_view_count": null,
       "_view_module": "@jupyter-widgets/controls",
       "_view_module_version": "1.5.0",
       "_view_name": "ProgressView",
       "bar_style": "success",
       "description": "",
       "description_tooltip": null,
       "layout": "IPY_MODEL_eb70dd5438254b1797f18f3332cf8174",
       "max": 3792.0,
       "min": 0.0,
       "orientation": "horizontal",
       "style": "IPY_MODEL_6ae22fed2e50458591f39c61271a589e",
       "value": 3792.0
      }
     },
     "8a984f6f8c96401da59b95e3ae51e873": {
      "model_module": "@jupyter-widgets/base",
      "model_module_version": "1.2.0",
      "model_name": "LayoutModel",
      "state": {
       "_model_module": "@jupyter-widgets/base",
       "_model_module_version": "1.2.0",
       "_model_name": "LayoutModel",
       "_view_count": null,
       "_view_module": "@jupyter-widgets/base",
       "_view_module_version": "1.2.0",
       "_view_name": "LayoutView",
       "align_content": null,
       "align_items": null,
       "align_self": null,
       "border": null,
       "bottom": null,
       "display": null,
       "flex": null,
       "flex_flow": null,
       "grid_area": null,
       "grid_auto_columns": null,
       "grid_auto_flow": null,
       "grid_auto_rows": null,
       "grid_column": null,
       "grid_gap": null,
       "grid_row": null,
       "grid_template_areas": null,
       "grid_template_columns": null,
       "grid_template_rows": null,
       "height": null,
       "justify_content": null,
       "justify_items": null,
       "left": null,
       "margin": null,
       "max_height": null,
       "max_width": null,
       "min_height": null,
       "min_width": null,
       "object_fit": null,
       "object_position": null,
       "order": null,
       "overflow": null,
       "overflow_x": null,
       "overflow_y": null,
       "padding": null,
       "right": null,
       "top": null,
       "visibility": null,
       "width": null
      }
     },
     "8d9c2e3802d247398fc600598c933352": {
      "model_module": "@jupyter-widgets/controls",
      "model_module_version": "1.5.0",
      "model_name": "HBoxModel",
      "state": {
       "_dom_classes": [],
       "_model_module": "@jupyter-widgets/controls",
       "_model_module_version": "1.5.0",
       "_model_name": "HBoxModel",
       "_view_count": null,
       "_view_module": "@jupyter-widgets/controls",
       "_view_module_version": "1.5.0",
       "_view_name": "HBoxView",
       "box_style": "",
       "children": [
        "IPY_MODEL_a005e09ac1ab4de89e1590b6f2069040",
        "IPY_MODEL_718c7e1be3094080b562cf9659e08bd4",
        "IPY_MODEL_5a2a78ff838342538da05ea90f2e4756"
       ],
       "layout": "IPY_MODEL_d131e0213dc64357ac7fc5dd61701961"
      }
     },
     "94129b680d6e45139de671aeea9ea59b": {
      "model_module": "@jupyter-widgets/controls",
      "model_module_version": "1.5.0",
      "model_name": "DescriptionStyleModel",
      "state": {
       "_model_module": "@jupyter-widgets/controls",
       "_model_module_version": "1.5.0",
       "_model_name": "DescriptionStyleModel",
       "_view_count": null,
       "_view_module": "@jupyter-widgets/base",
       "_view_module_version": "1.2.0",
       "_view_name": "StyleView",
       "description_width": ""
      }
     },
     "9867cffc2bef4f5badf7d5695de3ceef": {
      "model_module": "@jupyter-widgets/controls",
      "model_module_version": "1.5.0",
      "model_name": "DescriptionStyleModel",
      "state": {
       "_model_module": "@jupyter-widgets/controls",
       "_model_module_version": "1.5.0",
       "_model_name": "DescriptionStyleModel",
       "_view_count": null,
       "_view_module": "@jupyter-widgets/base",
       "_view_module_version": "1.2.0",
       "_view_name": "StyleView",
       "description_width": ""
      }
     },
     "9e7b206c36844e0fa5681802239728a3": {
      "model_module": "@jupyter-widgets/controls",
      "model_module_version": "1.5.0",
      "model_name": "FloatProgressModel",
      "state": {
       "_dom_classes": [],
       "_model_module": "@jupyter-widgets/controls",
       "_model_module_version": "1.5.0",
       "_model_name": "FloatProgressModel",
       "_view_count": null,
       "_view_module": "@jupyter-widgets/controls",
       "_view_module_version": "1.5.0",
       "_view_name": "ProgressView",
       "bar_style": "danger",
       "description": "",
       "description_tooltip": null,
       "layout": "IPY_MODEL_07c3bb1b83884ae783b975ec69700245",
       "max": 1869.0,
       "min": 0.0,
       "orientation": "horizontal",
       "style": "IPY_MODEL_e0f9c9721e77419f85ab7499b43eafdb",
       "value": 635.0
      }
     },
     "9fbeb697845648c897be6af7cbd68005": {
      "model_module": "@jupyter-widgets/controls",
      "model_module_version": "1.5.0",
      "model_name": "HTMLModel",
      "state": {
       "_dom_classes": [],
       "_model_module": "@jupyter-widgets/controls",
       "_model_module_version": "1.5.0",
       "_model_name": "HTMLModel",
       "_view_count": null,
       "_view_module": "@jupyter-widgets/controls",
       "_view_module_version": "1.5.0",
       "_view_name": "HTMLView",
       "description": "",
       "description_tooltip": null,
       "layout": "IPY_MODEL_e260173a9bc24ffab26d31b152b50fd8",
       "placeholder": "​",
       "style": "IPY_MODEL_fa3b9c5d1331404bb6cab0b275b0bcb0",
       "value": "100%"
      }
     },
     "a005e09ac1ab4de89e1590b6f2069040": {
      "model_module": "@jupyter-widgets/controls",
      "model_module_version": "1.5.0",
      "model_name": "HTMLModel",
      "state": {
       "_dom_classes": [],
       "_model_module": "@jupyter-widgets/controls",
       "_model_module_version": "1.5.0",
       "_model_name": "HTMLModel",
       "_view_count": null,
       "_view_module": "@jupyter-widgets/controls",
       "_view_module_version": "1.5.0",
       "_view_name": "HTMLView",
       "description": "",
       "description_tooltip": null,
       "layout": "IPY_MODEL_31b2afec6a21471c894c1d9ccafcf8d3",
       "placeholder": "​",
       "style": "IPY_MODEL_6febae9812534b709a58736689d7aa4e",
       "value": "100%"
      }
     },
     "a260df42e4ea4ce1b7e6f48437a76942": {
      "model_module": "@jupyter-widgets/controls",
      "model_module_version": "1.5.0",
      "model_name": "DescriptionStyleModel",
      "state": {
       "_model_module": "@jupyter-widgets/controls",
       "_model_module_version": "1.5.0",
       "_model_name": "DescriptionStyleModel",
       "_view_count": null,
       "_view_module": "@jupyter-widgets/base",
       "_view_module_version": "1.2.0",
       "_view_name": "StyleView",
       "description_width": ""
      }
     },
     "a6eb13706837430583a1829626c093c0": {
      "model_module": "@jupyter-widgets/base",
      "model_module_version": "1.2.0",
      "model_name": "LayoutModel",
      "state": {
       "_model_module": "@jupyter-widgets/base",
       "_model_module_version": "1.2.0",
       "_model_name": "LayoutModel",
       "_view_count": null,
       "_view_module": "@jupyter-widgets/base",
       "_view_module_version": "1.2.0",
       "_view_name": "LayoutView",
       "align_content": null,
       "align_items": null,
       "align_self": null,
       "border": null,
       "bottom": null,
       "display": null,
       "flex": null,
       "flex_flow": null,
       "grid_area": null,
       "grid_auto_columns": null,
       "grid_auto_flow": null,
       "grid_auto_rows": null,
       "grid_column": null,
       "grid_gap": null,
       "grid_row": null,
       "grid_template_areas": null,
       "grid_template_columns": null,
       "grid_template_rows": null,
       "height": null,
       "justify_content": null,
       "justify_items": null,
       "left": null,
       "margin": null,
       "max_height": null,
       "max_width": null,
       "min_height": null,
       "min_width": null,
       "object_fit": null,
       "object_position": null,
       "order": null,
       "overflow": null,
       "overflow_x": null,
       "overflow_y": null,
       "padding": null,
       "right": null,
       "top": null,
       "visibility": null,
       "width": null
      }
     },
     "b1f4c4b024a74e918167ca51db89c6c4": {
      "model_module": "@jupyter-widgets/base",
      "model_module_version": "1.2.0",
      "model_name": "LayoutModel",
      "state": {
       "_model_module": "@jupyter-widgets/base",
       "_model_module_version": "1.2.0",
       "_model_name": "LayoutModel",
       "_view_count": null,
       "_view_module": "@jupyter-widgets/base",
       "_view_module_version": "1.2.0",
       "_view_name": "LayoutView",
       "align_content": null,
       "align_items": null,
       "align_self": null,
       "border": null,
       "bottom": null,
       "display": null,
       "flex": null,
       "flex_flow": null,
       "grid_area": null,
       "grid_auto_columns": null,
       "grid_auto_flow": null,
       "grid_auto_rows": null,
       "grid_column": null,
       "grid_gap": null,
       "grid_row": null,
       "grid_template_areas": null,
       "grid_template_columns": null,
       "grid_template_rows": null,
       "height": null,
       "justify_content": null,
       "justify_items": null,
       "left": null,
       "margin": null,
       "max_height": null,
       "max_width": null,
       "min_height": null,
       "min_width": null,
       "object_fit": null,
       "object_position": null,
       "order": null,
       "overflow": null,
       "overflow_x": null,
       "overflow_y": null,
       "padding": null,
       "right": null,
       "top": null,
       "visibility": null,
       "width": null
      }
     },
     "b31d68650e164e06b82ae67541bc5e88": {
      "model_module": "@jupyter-widgets/controls",
      "model_module_version": "1.5.0",
      "model_name": "FloatProgressModel",
      "state": {
       "_dom_classes": [],
       "_model_module": "@jupyter-widgets/controls",
       "_model_module_version": "1.5.0",
       "_model_name": "FloatProgressModel",
       "_view_count": null,
       "_view_module": "@jupyter-widgets/controls",
       "_view_module_version": "1.5.0",
       "_view_name": "ProgressView",
       "bar_style": "success",
       "description": "",
       "description_tooltip": null,
       "layout": "IPY_MODEL_cad84fea118d4440a198a3d57ee648a8",
       "max": 3792.0,
       "min": 0.0,
       "orientation": "horizontal",
       "style": "IPY_MODEL_4d72e2a8f77447c9af5cc046820e6e1a",
       "value": 3792.0
      }
     },
     "b7a6d4d390d44fa096873a2bbbfaca96": {
      "model_module": "@jupyter-widgets/base",
      "model_module_version": "1.2.0",
      "model_name": "LayoutModel",
      "state": {
       "_model_module": "@jupyter-widgets/base",
       "_model_module_version": "1.2.0",
       "_model_name": "LayoutModel",
       "_view_count": null,
       "_view_module": "@jupyter-widgets/base",
       "_view_module_version": "1.2.0",
       "_view_name": "LayoutView",
       "align_content": null,
       "align_items": null,
       "align_self": null,
       "border": null,
       "bottom": null,
       "display": null,
       "flex": null,
       "flex_flow": null,
       "grid_area": null,
       "grid_auto_columns": null,
       "grid_auto_flow": null,
       "grid_auto_rows": null,
       "grid_column": null,
       "grid_gap": null,
       "grid_row": null,
       "grid_template_areas": null,
       "grid_template_columns": null,
       "grid_template_rows": null,
       "height": null,
       "justify_content": null,
       "justify_items": null,
       "left": null,
       "margin": null,
       "max_height": null,
       "max_width": null,
       "min_height": null,
       "min_width": null,
       "object_fit": null,
       "object_position": null,
       "order": null,
       "overflow": null,
       "overflow_x": null,
       "overflow_y": null,
       "padding": null,
       "right": null,
       "top": null,
       "visibility": null,
       "width": null
      }
     },
     "b91182a1c720424aa3d7c26d3e19e625": {
      "model_module": "@jupyter-widgets/base",
      "model_module_version": "1.2.0",
      "model_name": "LayoutModel",
      "state": {
       "_model_module": "@jupyter-widgets/base",
       "_model_module_version": "1.2.0",
       "_model_name": "LayoutModel",
       "_view_count": null,
       "_view_module": "@jupyter-widgets/base",
       "_view_module_version": "1.2.0",
       "_view_name": "LayoutView",
       "align_content": null,
       "align_items": null,
       "align_self": null,
       "border": null,
       "bottom": null,
       "display": null,
       "flex": null,
       "flex_flow": null,
       "grid_area": null,
       "grid_auto_columns": null,
       "grid_auto_flow": null,
       "grid_auto_rows": null,
       "grid_column": null,
       "grid_gap": null,
       "grid_row": null,
       "grid_template_areas": null,
       "grid_template_columns": null,
       "grid_template_rows": null,
       "height": null,
       "justify_content": null,
       "justify_items": null,
       "left": null,
       "margin": null,
       "max_height": null,
       "max_width": null,
       "min_height": null,
       "min_width": null,
       "object_fit": null,
       "object_position": null,
       "order": null,
       "overflow": null,
       "overflow_x": null,
       "overflow_y": null,
       "padding": null,
       "right": null,
       "top": null,
       "visibility": null,
       "width": null
      }
     },
     "bb587041a6294adf8ccae88628f8edd6": {
      "model_module": "@jupyter-widgets/controls",
      "model_module_version": "1.5.0",
      "model_name": "HTMLModel",
      "state": {
       "_dom_classes": [],
       "_model_module": "@jupyter-widgets/controls",
       "_model_module_version": "1.5.0",
       "_model_name": "HTMLModel",
       "_view_count": null,
       "_view_module": "@jupyter-widgets/controls",
       "_view_module_version": "1.5.0",
       "_view_name": "HTMLView",
       "description": "",
       "description_tooltip": null,
       "layout": "IPY_MODEL_b1f4c4b024a74e918167ca51db89c6c4",
       "placeholder": "​",
       "style": "IPY_MODEL_a260df42e4ea4ce1b7e6f48437a76942",
       "value": "  0%"
      }
     },
     "bca0363394da4b518a18fa61037eb19e": {
      "model_module": "@jupyter-widgets/controls",
      "model_module_version": "1.5.0",
      "model_name": "HBoxModel",
      "state": {
       "_dom_classes": [],
       "_model_module": "@jupyter-widgets/controls",
       "_model_module_version": "1.5.0",
       "_model_name": "HBoxModel",
       "_view_count": null,
       "_view_module": "@jupyter-widgets/controls",
       "_view_module_version": "1.5.0",
       "_view_name": "HBoxView",
       "box_style": "",
       "children": [
        "IPY_MODEL_521628935c7041549b5d119eb63447d5",
        "IPY_MODEL_35da34c672664fcc9a668fa4172bd791",
        "IPY_MODEL_4ffb126fc3de48a29754bb91a84cf821"
       ],
       "layout": "IPY_MODEL_27a6b2c07b0542d3ab9ac945cf5f6975"
      }
     },
     "c42c7c43ffae437aaec18b736465cb76": {
      "model_module": "@jupyter-widgets/controls",
      "model_module_version": "1.5.0",
      "model_name": "DescriptionStyleModel",
      "state": {
       "_model_module": "@jupyter-widgets/controls",
       "_model_module_version": "1.5.0",
       "_model_name": "DescriptionStyleModel",
       "_view_count": null,
       "_view_module": "@jupyter-widgets/base",
       "_view_module_version": "1.2.0",
       "_view_name": "StyleView",
       "description_width": ""
      }
     },
     "c7ea460dd37b41c6a0727c9ce9fe49b3": {
      "model_module": "@jupyter-widgets/controls",
      "model_module_version": "1.5.0",
      "model_name": "HTMLModel",
      "state": {
       "_dom_classes": [],
       "_model_module": "@jupyter-widgets/controls",
       "_model_module_version": "1.5.0",
       "_model_name": "HTMLModel",
       "_view_count": null,
       "_view_module": "@jupyter-widgets/controls",
       "_view_module_version": "1.5.0",
       "_view_name": "HTMLView",
       "description": "",
       "description_tooltip": null,
       "layout": "IPY_MODEL_8027952a27454fae9fbb23b27a7f2a5b",
       "placeholder": "​",
       "style": "IPY_MODEL_c42c7c43ffae437aaec18b736465cb76",
       "value": " 635/1869 [00:01&lt;00:02, 547.49it/s]"
      }
     },
     "cab1af9a18134741875bbef047f299eb": {
      "model_module": "@jupyter-widgets/controls",
      "model_module_version": "1.5.0",
      "model_name": "DescriptionStyleModel",
      "state": {
       "_model_module": "@jupyter-widgets/controls",
       "_model_module_version": "1.5.0",
       "_model_name": "DescriptionStyleModel",
       "_view_count": null,
       "_view_module": "@jupyter-widgets/base",
       "_view_module_version": "1.2.0",
       "_view_name": "StyleView",
       "description_width": ""
      }
     },
     "cad84fea118d4440a198a3d57ee648a8": {
      "model_module": "@jupyter-widgets/base",
      "model_module_version": "1.2.0",
      "model_name": "LayoutModel",
      "state": {
       "_model_module": "@jupyter-widgets/base",
       "_model_module_version": "1.2.0",
       "_model_name": "LayoutModel",
       "_view_count": null,
       "_view_module": "@jupyter-widgets/base",
       "_view_module_version": "1.2.0",
       "_view_name": "LayoutView",
       "align_content": null,
       "align_items": null,
       "align_self": null,
       "border": null,
       "bottom": null,
       "display": null,
       "flex": null,
       "flex_flow": null,
       "grid_area": null,
       "grid_auto_columns": null,
       "grid_auto_flow": null,
       "grid_auto_rows": null,
       "grid_column": null,
       "grid_gap": null,
       "grid_row": null,
       "grid_template_areas": null,
       "grid_template_columns": null,
       "grid_template_rows": null,
       "height": null,
       "justify_content": null,
       "justify_items": null,
       "left": null,
       "margin": null,
       "max_height": null,
       "max_width": null,
       "min_height": null,
       "min_width": null,
       "object_fit": null,
       "object_position": null,
       "order": null,
       "overflow": null,
       "overflow_x": null,
       "overflow_y": null,
       "padding": null,
       "right": null,
       "top": null,
       "visibility": null,
       "width": null
      }
     },
     "cf6de8c5e3cc42c08aaea7a73a81353b": {
      "model_module": "@jupyter-widgets/controls",
      "model_module_version": "1.5.0",
      "model_name": "ProgressStyleModel",
      "state": {
       "_model_module": "@jupyter-widgets/controls",
       "_model_module_version": "1.5.0",
       "_model_name": "ProgressStyleModel",
       "_view_count": null,
       "_view_module": "@jupyter-widgets/base",
       "_view_module_version": "1.2.0",
       "_view_name": "StyleView",
       "bar_color": null,
       "description_width": ""
      }
     },
     "cfa45c00e5934001a2e945fce5075c62": {
      "model_module": "@jupyter-widgets/base",
      "model_module_version": "1.2.0",
      "model_name": "LayoutModel",
      "state": {
       "_model_module": "@jupyter-widgets/base",
       "_model_module_version": "1.2.0",
       "_model_name": "LayoutModel",
       "_view_count": null,
       "_view_module": "@jupyter-widgets/base",
       "_view_module_version": "1.2.0",
       "_view_name": "LayoutView",
       "align_content": null,
       "align_items": null,
       "align_self": null,
       "border": null,
       "bottom": null,
       "display": null,
       "flex": null,
       "flex_flow": null,
       "grid_area": null,
       "grid_auto_columns": null,
       "grid_auto_flow": null,
       "grid_auto_rows": null,
       "grid_column": null,
       "grid_gap": null,
       "grid_row": null,
       "grid_template_areas": null,
       "grid_template_columns": null,
       "grid_template_rows": null,
       "height": null,
       "justify_content": null,
       "justify_items": null,
       "left": null,
       "margin": null,
       "max_height": null,
       "max_width": null,
       "min_height": null,
       "min_width": null,
       "object_fit": null,
       "object_position": null,
       "order": null,
       "overflow": null,
       "overflow_x": null,
       "overflow_y": null,
       "padding": null,
       "right": null,
       "top": null,
       "visibility": null,
       "width": null
      }
     },
     "d131e0213dc64357ac7fc5dd61701961": {
      "model_module": "@jupyter-widgets/base",
      "model_module_version": "1.2.0",
      "model_name": "LayoutModel",
      "state": {
       "_model_module": "@jupyter-widgets/base",
       "_model_module_version": "1.2.0",
       "_model_name": "LayoutModel",
       "_view_count": null,
       "_view_module": "@jupyter-widgets/base",
       "_view_module_version": "1.2.0",
       "_view_name": "LayoutView",
       "align_content": null,
       "align_items": null,
       "align_self": null,
       "border": null,
       "bottom": null,
       "display": null,
       "flex": null,
       "flex_flow": null,
       "grid_area": null,
       "grid_auto_columns": null,
       "grid_auto_flow": null,
       "grid_auto_rows": null,
       "grid_column": null,
       "grid_gap": null,
       "grid_row": null,
       "grid_template_areas": null,
       "grid_template_columns": null,
       "grid_template_rows": null,
       "height": null,
       "justify_content": null,
       "justify_items": null,
       "left": null,
       "margin": null,
       "max_height": null,
       "max_width": null,
       "min_height": null,
       "min_width": null,
       "object_fit": null,
       "object_position": null,
       "order": null,
       "overflow": null,
       "overflow_x": null,
       "overflow_y": null,
       "padding": null,
       "right": null,
       "top": null,
       "visibility": null,
       "width": null
      }
     },
     "d81b74a0950d4e869ef3e9efc03e1043": {
      "model_module": "@jupyter-widgets/controls",
      "model_module_version": "1.5.0",
      "model_name": "SelectModel",
      "state": {
       "_dom_classes": [],
       "_model_module": "@jupyter-widgets/controls",
       "_model_module_version": "1.5.0",
       "_model_name": "SelectModel",
       "_options_labels": [
        "BradleyTerryFull",
        "BradleyTerryPart",
        "PlackettLuce",
        "ThurstoneMostellerFull",
        "ThurstoneMostellerPart"
       ],
       "_view_count": null,
       "_view_module": "@jupyter-widgets/controls",
       "_view_module_version": "1.5.0",
       "_view_name": "SelectView",
       "description": "Model:",
       "description_tooltip": null,
       "disabled": false,
       "index": 2,
       "layout": "IPY_MODEL_a6eb13706837430583a1829626c093c0",
       "rows": 5,
       "style": "IPY_MODEL_3c0e3f0e4dff48fdb162c3273141389b"
      }
     },
     "d9fded390fca4a95858fd702f4b6fc29": {
      "model_module": "@jupyter-widgets/base",
      "model_module_version": "1.2.0",
      "model_name": "LayoutModel",
      "state": {
       "_model_module": "@jupyter-widgets/base",
       "_model_module_version": "1.2.0",
       "_model_name": "LayoutModel",
       "_view_count": null,
       "_view_module": "@jupyter-widgets/base",
       "_view_module_version": "1.2.0",
       "_view_name": "LayoutView",
       "align_content": null,
       "align_items": null,
       "align_self": null,
       "border": null,
       "bottom": null,
       "display": null,
       "flex": null,
       "flex_flow": null,
       "grid_area": null,
       "grid_auto_columns": null,
       "grid_auto_flow": null,
       "grid_auto_rows": null,
       "grid_column": null,
       "grid_gap": null,
       "grid_row": null,
       "grid_template_areas": null,
       "grid_template_columns": null,
       "grid_template_rows": null,
       "height": null,
       "justify_content": null,
       "justify_items": null,
       "left": null,
       "margin": null,
       "max_height": null,
       "max_width": null,
       "min_height": null,
       "min_width": null,
       "object_fit": null,
       "object_position": null,
       "order": null,
       "overflow": null,
       "overflow_x": null,
       "overflow_y": null,
       "padding": null,
       "right": null,
       "top": null,
       "visibility": null,
       "width": null
      }
     },
     "dac12f6cce264527a4e165da55216e33": {
      "model_module": "@jupyter-widgets/base",
      "model_module_version": "1.2.0",
      "model_name": "LayoutModel",
      "state": {
       "_model_module": "@jupyter-widgets/base",
       "_model_module_version": "1.2.0",
       "_model_name": "LayoutModel",
       "_view_count": null,
       "_view_module": "@jupyter-widgets/base",
       "_view_module_version": "1.2.0",
       "_view_name": "LayoutView",
       "align_content": null,
       "align_items": null,
       "align_self": null,
       "border": null,
       "bottom": null,
       "display": null,
       "flex": null,
       "flex_flow": null,
       "grid_area": null,
       "grid_auto_columns": null,
       "grid_auto_flow": null,
       "grid_auto_rows": null,
       "grid_column": null,
       "grid_gap": null,
       "grid_row": null,
       "grid_template_areas": null,
       "grid_template_columns": null,
       "grid_template_rows": null,
       "height": null,
       "justify_content": null,
       "justify_items": null,
       "left": null,
       "margin": null,
       "max_height": null,
       "max_width": null,
       "min_height": null,
       "min_width": null,
       "object_fit": null,
       "object_position": null,
       "order": null,
       "overflow": null,
       "overflow_x": null,
       "overflow_y": null,
       "padding": null,
       "right": null,
       "top": null,
       "visibility": null,
       "width": null
      }
     },
     "de65cdde986e46d082634e9355e92498": {
      "model_module": "@jupyter-widgets/controls",
      "model_module_version": "1.5.0",
      "model_name": "HTMLModel",
      "state": {
       "_dom_classes": [],
       "_model_module": "@jupyter-widgets/controls",
       "_model_module_version": "1.5.0",
       "_model_name": "HTMLModel",
       "_view_count": null,
       "_view_module": "@jupyter-widgets/controls",
       "_view_module_version": "1.5.0",
       "_view_name": "HTMLView",
       "description": "",
       "description_tooltip": null,
       "layout": "IPY_MODEL_813522aa9d6e42e88c682f58640c6442",
       "placeholder": "​",
       "style": "IPY_MODEL_94129b680d6e45139de671aeea9ea59b",
       "value": "100%"
      }
     },
     "e0f9c9721e77419f85ab7499b43eafdb": {
      "model_module": "@jupyter-widgets/controls",
      "model_module_version": "1.5.0",
      "model_name": "ProgressStyleModel",
      "state": {
       "_model_module": "@jupyter-widgets/controls",
       "_model_module_version": "1.5.0",
       "_model_name": "ProgressStyleModel",
       "_view_count": null,
       "_view_module": "@jupyter-widgets/base",
       "_view_module_version": "1.2.0",
       "_view_name": "StyleView",
       "bar_color": null,
       "description_width": ""
      }
     },
     "e260173a9bc24ffab26d31b152b50fd8": {
      "model_module": "@jupyter-widgets/base",
      "model_module_version": "1.2.0",
      "model_name": "LayoutModel",
      "state": {
       "_model_module": "@jupyter-widgets/base",
       "_model_module_version": "1.2.0",
       "_model_name": "LayoutModel",
       "_view_count": null,
       "_view_module": "@jupyter-widgets/base",
       "_view_module_version": "1.2.0",
       "_view_name": "LayoutView",
       "align_content": null,
       "align_items": null,
       "align_self": null,
       "border": null,
       "bottom": null,
       "display": null,
       "flex": null,
       "flex_flow": null,
       "grid_area": null,
       "grid_auto_columns": null,
       "grid_auto_flow": null,
       "grid_auto_rows": null,
       "grid_column": null,
       "grid_gap": null,
       "grid_row": null,
       "grid_template_areas": null,
       "grid_template_columns": null,
       "grid_template_rows": null,
       "height": null,
       "justify_content": null,
       "justify_items": null,
       "left": null,
       "margin": null,
       "max_height": null,
       "max_width": null,
       "min_height": null,
       "min_width": null,
       "object_fit": null,
       "object_position": null,
       "order": null,
       "overflow": null,
       "overflow_x": null,
       "overflow_y": null,
       "padding": null,
       "right": null,
       "top": null,
       "visibility": null,
       "width": null
      }
     },
     "e261c7292cab4bf09265654c8d766bbd": {
      "model_module": "@jupyter-widgets/controls",
      "model_module_version": "1.5.0",
      "model_name": "DescriptionStyleModel",
      "state": {
       "_model_module": "@jupyter-widgets/controls",
       "_model_module_version": "1.5.0",
       "_model_name": "DescriptionStyleModel",
       "_view_count": null,
       "_view_module": "@jupyter-widgets/base",
       "_view_module_version": "1.2.0",
       "_view_name": "StyleView",
       "description_width": ""
      }
     },
     "e83b8b9507fd47d09002e7a066b52394": {
      "model_module": "@jupyter-widgets/controls",
      "model_module_version": "1.5.0",
      "model_name": "DescriptionStyleModel",
      "state": {
       "_model_module": "@jupyter-widgets/controls",
       "_model_module_version": "1.5.0",
       "_model_name": "DescriptionStyleModel",
       "_view_count": null,
       "_view_module": "@jupyter-widgets/base",
       "_view_module_version": "1.2.0",
       "_view_name": "StyleView",
       "description_width": ""
      }
     },
     "eb70dd5438254b1797f18f3332cf8174": {
      "model_module": "@jupyter-widgets/base",
      "model_module_version": "1.2.0",
      "model_name": "LayoutModel",
      "state": {
       "_model_module": "@jupyter-widgets/base",
       "_model_module_version": "1.2.0",
       "_model_name": "LayoutModel",
       "_view_count": null,
       "_view_module": "@jupyter-widgets/base",
       "_view_module_version": "1.2.0",
       "_view_name": "LayoutView",
       "align_content": null,
       "align_items": null,
       "align_self": null,
       "border": null,
       "bottom": null,
       "display": null,
       "flex": null,
       "flex_flow": null,
       "grid_area": null,
       "grid_auto_columns": null,
       "grid_auto_flow": null,
       "grid_auto_rows": null,
       "grid_column": null,
       "grid_gap": null,
       "grid_row": null,
       "grid_template_areas": null,
       "grid_template_columns": null,
       "grid_template_rows": null,
       "height": null,
       "justify_content": null,
       "justify_items": null,
       "left": null,
       "margin": null,
       "max_height": null,
       "max_width": null,
       "min_height": null,
       "min_width": null,
       "object_fit": null,
       "object_position": null,
       "order": null,
       "overflow": null,
       "overflow_x": null,
       "overflow_y": null,
       "padding": null,
       "right": null,
       "top": null,
       "visibility": null,
       "width": null
      }
     },
     "f54c182d748745908e35f87b260b2c84": {
      "model_module": "@jupyter-widgets/base",
      "model_module_version": "1.2.0",
      "model_name": "LayoutModel",
      "state": {
       "_model_module": "@jupyter-widgets/base",
       "_model_module_version": "1.2.0",
       "_model_name": "LayoutModel",
       "_view_count": null,
       "_view_module": "@jupyter-widgets/base",
       "_view_module_version": "1.2.0",
       "_view_name": "LayoutView",
       "align_content": null,
       "align_items": null,
       "align_self": null,
       "border": null,
       "bottom": null,
       "display": null,
       "flex": null,
       "flex_flow": null,
       "grid_area": null,
       "grid_auto_columns": null,
       "grid_auto_flow": null,
       "grid_auto_rows": null,
       "grid_column": null,
       "grid_gap": null,
       "grid_row": null,
       "grid_template_areas": null,
       "grid_template_columns": null,
       "grid_template_rows": null,
       "height": null,
       "justify_content": null,
       "justify_items": null,
       "left": null,
       "margin": null,
       "max_height": null,
       "max_width": null,
       "min_height": null,
       "min_width": null,
       "object_fit": null,
       "object_position": null,
       "order": null,
       "overflow": null,
       "overflow_x": null,
       "overflow_y": null,
       "padding": null,
       "right": null,
       "top": null,
       "visibility": null,
       "width": null
      }
     },
     "fa3b9c5d1331404bb6cab0b275b0bcb0": {
      "model_module": "@jupyter-widgets/controls",
      "model_module_version": "1.5.0",
      "model_name": "DescriptionStyleModel",
      "state": {
       "_model_module": "@jupyter-widgets/controls",
       "_model_module_version": "1.5.0",
       "_model_name": "DescriptionStyleModel",
       "_view_count": null,
       "_view_module": "@jupyter-widgets/base",
       "_view_module_version": "1.2.0",
       "_view_name": "StyleView",
       "description_width": ""
      }
     }
    },
    "version_major": 2,
    "version_minor": 0
   }
  }
 },
 "nbformat": 4,
 "nbformat_minor": 5
}
